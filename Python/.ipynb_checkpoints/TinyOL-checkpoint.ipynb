{
 "cells": [
  {
   "cell_type": "code",
   "execution_count": 1,
   "metadata": {},
   "outputs": [],
   "source": [
    "import os\n",
    "os.environ['TF_CPP_MIN_LOG_LEVEL'] = '2'\n",
    "\n",
    "import pandas as pd\n",
    "import numpy as np\n",
    "import re\n",
    "import random\n",
    "import matplotlib.pyplot as plt\n",
    "import tensorflow as tf\n",
    "from tensorflow import keras\n",
    "from tensorflow.keras.layers import Dense\n",
    "from tensorflow.keras.models import Sequential, Model\n",
    "from tensorflow.keras import optimizers"
   ]
  },
  {
   "cell_type": "code",
   "execution_count": 2,
   "metadata": {},
   "outputs": [],
   "source": [
    "def parseTXT(filename, datasetname):\n",
    "    \n",
    "    folder_path = 'C:/Users/massi/UNI/Magistrale/Anno 5/Semestre 2/Tesi/Code/STM/Letter_dataset/'\n",
    "    log_file_path = folder_path + filename + \".txt\"\n",
    "    dataset_path = folder_path + datasetname + \".txt\"\n",
    "\n",
    "    format = re.compile('\\d+\\,[ABCDEFGHIJKLMNOPQRSTUVWXYZ]\\,-?(\\d+)\\,-?(\\d+)\\,-?(\\d+)')\n",
    "\n",
    "    # Clean txt file and have only numbers\n",
    "    with open(log_file_path,'r') as data_file:\n",
    "        with open(dataset_path,'w') as out_file:\n",
    "            for counter,line in enumerate(data_file):\n",
    "                if re.search(format,line):\n",
    "                    out_file.write(line)\n",
    "\n",
    "    # Now use panda to handle the dataset\n",
    "    columnNames = ['acquisition','letter','ax','ay','az']\n",
    "    dataset = pd.read_csv(dataset_path,header = None, names=columnNames,na_values=',')\n",
    "\n",
    "    # Find the number of tests\n",
    "    last_index = max(np.unique(dataset.acquisition))\n",
    "\n",
    "    second_axis = [];\n",
    "    for acq_index in range(1,last_index):\n",
    "        second_axis.append(dataset[dataset.acquisition == acq_index].shape[0])\n",
    "\n",
    "    dtensor = np.empty((0,3*min(second_axis))) # per definire altezza\n",
    "    labels = np.empty((0))\n",
    "    contains = []\n",
    "\n",
    "    for acq_index in range(2,last_index):\n",
    "        temp = dataset[dataset.acquisition == acq_index]\n",
    "        ax = temp.ax\n",
    "        ay = temp.ay\n",
    "        az = temp.az\n",
    "        timesteps = az.shape[0]\n",
    "        dtensor = np.vstack([dtensor,np.concatenate((ax, ay, az))])\n",
    "        labels = np.append(labels,np.unique(temp.letter))\n",
    "        labels_lett = np.append(labels,np.unique(temp.letter))\n",
    "    contains = np.append(contains, np.unique(labels_lett))\n",
    "\n",
    "    labels = np.asarray(pd.get_dummies(labels),dtype = np.int8)\n",
    "\n",
    "    print(f'******* Dataset for letter {contains}\\n')\n",
    "    print(f'Raw shape        -> {dataset.shape}')\n",
    "    print(f'Columns          -> {columnNames}' )\n",
    "    print()\n",
    "    print(f'Tot samples      -> {last_index}')\n",
    "    print(f'1 Sample is long -> {timesteps}')\n",
    "    print()\n",
    "    \n",
    "    return dtensor, labels_lett"
   ]
  },
  {
   "cell_type": "code",
   "execution_count": 3,
   "metadata": {},
   "outputs": [],
   "source": [
    "def parseTrainValid(dtensor, labels):\n",
    "    \n",
    "    sep = int(0.15*dtensor.shape[0])\n",
    "    \n",
    "    sample_index = list(range(0,dtensor.shape[0]))\n",
    "    shuffled_indexes = np.random.shuffle(sample_index)\n",
    "\n",
    "    train_data = dtensor[sample_index[sep:],:]\n",
    "    #train_labels = labels[sample_index[sep:],:]\n",
    "    train_labels_lett = labels[sample_index[sep:]]\n",
    "\n",
    "    test_data = dtensor[sample_index[:sep],:]\n",
    "    #test_labels = labels[sample_index[:sep],:]\n",
    "    test_labels_lett = labels[sample_index[:sep]]\n",
    "\n",
    "    train_shape = train_data.shape[1]\n",
    "    print('\\n*** Separate train-valid\\n')\n",
    "    print(f\"Train data shape  -> {train_data.shape}\")\n",
    "    print(f\"Train label shape -> {train_labels_lett.shape}\")\n",
    "    print()\n",
    "    print(f\"Test data shape   -> {test_data.shape}\")\n",
    "    print(f\"Test label shape  -> {test_labels_lett.shape}\")\n",
    "    \n",
    "    return train_data, train_labels_lett, test_data, test_labels_lett"
   ]
  },
  {
   "cell_type": "markdown",
   "metadata": {},
   "source": [
    "## Parse datasets"
   ]
  },
  {
   "cell_type": "code",
   "execution_count": 4,
   "metadata": {},
   "outputs": [
    {
     "name": "stdout",
     "output_type": "stream",
     "text": [
      "******* Dataset for letter ['A' 'E' 'I' 'O' 'U']\n",
      "\n",
      "Raw shape        -> (60000, 5)\n",
      "Columns          -> ['acquisition', 'letter', 'ax', 'ay', 'az']\n",
      "\n",
      "Tot samples      -> 300\n",
      "1 Sample is long -> 200\n",
      "\n",
      "\n",
      "*** Separate train-valid\n",
      "\n",
      "Train data shape  -> (254, 600)\n",
      "Train label shape -> (254,)\n",
      "\n",
      "Test data shape   -> (44, 600)\n",
      "Test label shape  -> (44,)\n"
     ]
    }
   ],
   "source": [
    "vowels_data, vowels_label = parseTXT('raw_vowels', 'dataset_vowels')\n",
    "train_data, train_label, test_data, test_label = parseTrainValid(vowels_data, vowels_label)"
   ]
  },
  {
   "cell_type": "code",
   "execution_count": 5,
   "metadata": {},
   "outputs": [
    {
     "name": "stdout",
     "output_type": "stream",
     "text": [
      "******* Dataset for letter ['B']\n",
      "\n",
      "Raw shape        -> (5400, 5)\n",
      "Columns          -> ['acquisition', 'letter', 'ax', 'ay', 'az']\n",
      "\n",
      "Tot samples      -> 27\n",
      "1 Sample is long -> 200\n",
      "\n",
      "\n",
      "*** Separate train-valid\n",
      "\n",
      "Train data shape  -> (22, 600)\n",
      "Train label shape -> (22,)\n",
      "\n",
      "Test data shape   -> (3, 600)\n",
      "Test label shape  -> (3,)\n"
     ]
    }
   ],
   "source": [
    "B_data, B_label = parseTXT('raw_b', 'dataset_b')\n",
    "B_train_data, B_train_label, B_test_data, B_test_label = parseTrainValid(B_data, B_label)"
   ]
  },
  {
   "cell_type": "code",
   "execution_count": 6,
   "metadata": {},
   "outputs": [
    {
     "name": "stdout",
     "output_type": "stream",
     "text": [
      "******* Dataset for letter ['M']\n",
      "\n",
      "Raw shape        -> (5000, 5)\n",
      "Columns          -> ['acquisition', 'letter', 'ax', 'ay', 'az']\n",
      "\n",
      "Tot samples      -> 25\n",
      "1 Sample is long -> 200\n",
      "\n",
      "\n",
      "*** Separate train-valid\n",
      "\n",
      "Train data shape  -> (20, 600)\n",
      "Train label shape -> (20,)\n",
      "\n",
      "Test data shape   -> (3, 600)\n",
      "Test label shape  -> (3,)\n"
     ]
    }
   ],
   "source": [
    "M_data, M_label = parseTXT('raw_m', 'dataset_m')\n",
    "M_train_data, M_train_label, M_test_data, M_test_label = parseTrainValid(M_data, M_label)"
   ]
  },
  {
   "cell_type": "code",
   "execution_count": 7,
   "metadata": {},
   "outputs": [
    {
     "name": "stdout",
     "output_type": "stream",
     "text": [
      "******* Dataset for letter ['R']\n",
      "\n",
      "Raw shape        -> (5000, 5)\n",
      "Columns          -> ['acquisition', 'letter', 'ax', 'ay', 'az']\n",
      "\n",
      "Tot samples      -> 25\n",
      "1 Sample is long -> 200\n",
      "\n",
      "\n",
      "*** Separate train-valid\n",
      "\n",
      "Train data shape  -> (20, 600)\n",
      "Train label shape -> (20,)\n",
      "\n",
      "Test data shape   -> (3, 600)\n",
      "Test label shape  -> (3,)\n"
     ]
    }
   ],
   "source": [
    "R_data, R_label = parseTXT('raw_r', 'dataset_r')\n",
    "R_train_data, R_train_label, R_test_data, R_test_label = parseTrainValid(R_data, R_label)"
   ]
  },
  {
   "cell_type": "markdown",
   "metadata": {},
   "source": [
    "###  Dataset of all letters"
   ]
  },
  {
   "cell_type": "code",
   "execution_count": 8,
   "metadata": {},
   "outputs": [
    {
     "name": "stdout",
     "output_type": "stream",
     "text": [
      "\n",
      "New dataset of mixed data has shape (316, 600)\n",
      "New dataset of mixed label has shape(316,)\n"
     ]
    }
   ],
   "source": [
    "# Create a matrix that contains all the train data\n",
    "\n",
    "order_data_all = train_data\n",
    "order_data_all = np.vstack(( order_data_all, B_train_data))\n",
    "order_data_all = np.vstack(( order_data_all, R_train_data))\n",
    "order_data_all = np.vstack(( order_data_all, M_train_data))\n",
    "\n",
    "order_label_all = train_label\n",
    "order_label_all = np.hstack(( order_label_all, B_train_label))\n",
    "order_label_all = np.hstack(( order_label_all, R_train_label))\n",
    "order_label_all = np.hstack(( order_label_all, M_train_label))\n",
    "\n",
    "print('\\nNew dataset of mixed data has shape ' + str(order_data_all.shape))\n",
    "print('New dataset of mixed label has shape' + str(order_label_all.shape))"
   ]
  },
  {
   "cell_type": "code",
   "execution_count": 9,
   "metadata": {},
   "outputs": [],
   "source": [
    "# Shuffle the matrix of all letters\n",
    "mixed_data_all = np.zeros(order_data_all.shape)\n",
    "mixed_label_all = np.empty(order_label_all.shape, dtype=str) \n",
    "\n",
    "index_ary = list(range(0, order_data_all.shape[0]))\n",
    "index_ary = random.sample(index_ary, len(index_ary)) \n",
    "\n",
    "for i in range(0, order_data_all.shape[0]):\n",
    "    mixed_data_all[i,:] = order_data_all[index_ary[i],:]\n",
    "    mixed_label_all[i]  = order_label_all[index_ary[i]]"
   ]
  },
  {
   "cell_type": "markdown",
   "metadata": {},
   "source": [
    "###  Dataset of only new letters"
   ]
  },
  {
   "cell_type": "code",
   "execution_count": 10,
   "metadata": {},
   "outputs": [
    {
     "name": "stdout",
     "output_type": "stream",
     "text": [
      "\n",
      "New dataset of mixed data has shape (62, 600)\n",
      "New dataset of mixed label has shape(62,)\n"
     ]
    }
   ],
   "source": [
    "# Create a matrix that contains all the train data\n",
    "\n",
    "order_data_new = B_train_data\n",
    "order_data_new = np.vstack(( order_data_new, R_train_data))\n",
    "order_data_new = np.vstack(( order_data_new, M_train_data))\n",
    "\n",
    "order_label_new = B_train_label\n",
    "order_label_new = np.hstack(( order_label_new, R_train_label))\n",
    "order_label_new = np.hstack(( order_label_new, M_train_label))\n",
    "\n",
    "print('\\nNew dataset of mixed data has shape ' + str(order_data_new.shape))\n",
    "print('New dataset of mixed label has shape' + str(order_label_new.shape))"
   ]
  },
  {
   "cell_type": "code",
   "execution_count": 11,
   "metadata": {},
   "outputs": [],
   "source": [
    "# Shuffle the matrix of all letters\n",
    "mixed_data_new = np.zeros(order_data_new.shape)\n",
    "mixed_label_new = np.empty(order_label_new.shape, dtype=str) \n",
    "\n",
    "index_ary = list(range(0, order_data_new.shape[0]))\n",
    "index_ary = random.sample(index_ary, len(index_ary)) \n",
    "\n",
    "for i in range(0, order_data_new.shape[0]):\n",
    "    mixed_data_new[i,:] = order_data_new[index_ary[i],:]\n",
    "    mixed_label_new[i]  = order_label_new[index_ary[i]]"
   ]
  },
  {
   "cell_type": "markdown",
   "metadata": {},
   "source": [
    "## Define ML model"
   ]
  },
  {
   "cell_type": "code",
   "execution_count": 12,
   "metadata": {},
   "outputs": [],
   "source": [
    "def lettToSoft(ary, labels):\n",
    "    ret_ary = np.zeros([len(ary), len(labels)])\n",
    "    \n",
    "    for i in range(0, len(ary)):\n",
    "        for j in range(0, len(labels)):\n",
    "            if(ary[i]==labels[j]):\n",
    "                ret_ary[i,j] = 1\n",
    "\n",
    "            \n",
    "    return ret_ary   "
   ]
  },
  {
   "cell_type": "code",
   "execution_count": 13,
   "metadata": {},
   "outputs": [],
   "source": [
    "# Basic parameters\n",
    "optimizer = 'Adam'\n",
    "loss    = 'categorical_crossentropy'\n",
    "metrics = ['accuracy']\n",
    "vowels = ['A', 'E', 'I', 'O', 'U']\n",
    "\n",
    "epochs = 25\n",
    "batch_size = 32"
   ]
  },
  {
   "cell_type": "code",
   "execution_count": 14,
   "metadata": {},
   "outputs": [],
   "source": [
    "# Model structure\n",
    "model = Sequential()\n",
    "model.add(Dense(128, activation = 'relu', input_shape =(train_data.shape[1],),name='input_layer'))\n",
    "model.add(Dense(128, activation = 'relu', name='hidden1'))\n",
    "#model.add(Dense(128, activation = 'relu', name='hidden2'))\n",
    "model.add(Dense(5, activation='softmax' , name = 'output_layer'))"
   ]
  },
  {
   "cell_type": "code",
   "execution_count": 15,
   "metadata": {},
   "outputs": [
    {
     "name": "stdout",
     "output_type": "stream",
     "text": [
      "Model: \"sequential\"\n",
      "_________________________________________________________________\n",
      "Layer (type)                 Output Shape              Param #   \n",
      "=================================================================\n",
      "input_layer (Dense)          (None, 128)               76928     \n",
      "_________________________________________________________________\n",
      "hidden1 (Dense)              (None, 128)               16512     \n",
      "_________________________________________________________________\n",
      "output_layer (Dense)         (None, 5)                 645       \n",
      "=================================================================\n",
      "Total params: 94,085\n",
      "Trainable params: 94,085\n",
      "Non-trainable params: 0\n",
      "_________________________________________________________________\n"
     ]
    }
   ],
   "source": [
    "model.compile(optimizer= optimizer, loss=loss, metrics=metrics) #use sparse is each letter is an integer (es a->1 b->2 c->3 ..)\n",
    "model.summary()"
   ]
  },
  {
   "cell_type": "markdown",
   "metadata": {},
   "source": [
    "### Train"
   ]
  },
  {
   "cell_type": "code",
   "execution_count": 16,
   "metadata": {
    "scrolled": true
   },
   "outputs": [
    {
     "name": "stdout",
     "output_type": "stream",
     "text": [
      "Epoch 1/25\n",
      "7/7 - 0s - loss: 246.9465 - accuracy: 0.4631 - val_loss: 141.1454 - val_accuracy: 0.5882\n",
      "Epoch 2/25\n",
      "7/7 - 0s - loss: 58.9783 - accuracy: 0.7931 - val_loss: 56.1925 - val_accuracy: 0.7647\n",
      "Epoch 3/25\n",
      "7/7 - 0s - loss: 15.0128 - accuracy: 0.9113 - val_loss: 15.5323 - val_accuracy: 0.9608\n",
      "Epoch 4/25\n",
      "7/7 - 0s - loss: 6.3470 - accuracy: 0.9409 - val_loss: 31.3508 - val_accuracy: 0.8627\n",
      "Epoch 5/25\n",
      "7/7 - 0s - loss: 4.2715 - accuracy: 0.9803 - val_loss: 27.7363 - val_accuracy: 0.9020\n",
      "Epoch 6/25\n",
      "7/7 - 0s - loss: 6.5557 - accuracy: 0.9557 - val_loss: 17.6142 - val_accuracy: 0.9608\n",
      "Epoch 7/25\n",
      "7/7 - 0s - loss: 4.3702 - accuracy: 0.9557 - val_loss: 9.6527 - val_accuracy: 0.9804\n",
      "Epoch 8/25\n",
      "7/7 - 0s - loss: 2.1966 - accuracy: 0.9704 - val_loss: 7.9686 - val_accuracy: 0.9608\n",
      "Epoch 9/25\n",
      "7/7 - 0s - loss: 0.6627 - accuracy: 0.9901 - val_loss: 10.4096 - val_accuracy: 0.9412\n",
      "Epoch 10/25\n",
      "7/7 - 0s - loss: 0.4996 - accuracy: 0.9754 - val_loss: 7.5159 - val_accuracy: 0.9804\n",
      "Epoch 11/25\n",
      "7/7 - 0s - loss: 0.5930 - accuracy: 0.9852 - val_loss: 8.5635 - val_accuracy: 0.9608\n",
      "Epoch 12/25\n",
      "7/7 - 0s - loss: 1.0479 - accuracy: 0.9704 - val_loss: 8.5788 - val_accuracy: 0.9804\n",
      "Epoch 13/25\n",
      "7/7 - 0s - loss: 1.3840 - accuracy: 0.9754 - val_loss: 8.2481 - val_accuracy: 0.9608\n",
      "Epoch 14/25\n",
      "7/7 - 0s - loss: 1.3379 - accuracy: 0.9704 - val_loss: 16.9025 - val_accuracy: 0.9412\n",
      "Epoch 15/25\n",
      "7/7 - 0s - loss: 2.7826 - accuracy: 0.9655 - val_loss: 16.9364 - val_accuracy: 0.9608\n",
      "Epoch 16/25\n",
      "7/7 - 0s - loss: 2.3503 - accuracy: 0.9754 - val_loss: 10.2907 - val_accuracy: 0.9804\n",
      "Epoch 17/25\n",
      "7/7 - 0s - loss: 0.3083 - accuracy: 0.9951 - val_loss: 9.5585 - val_accuracy: 0.9804\n",
      "Epoch 18/25\n",
      "7/7 - 0s - loss: 2.0358 - accuracy: 0.9754 - val_loss: 21.2350 - val_accuracy: 0.9608\n",
      "Epoch 19/25\n",
      "7/7 - 0s - loss: 0.8867 - accuracy: 0.9852 - val_loss: 17.1311 - val_accuracy: 0.9412\n",
      "Epoch 20/25\n",
      "7/7 - 0s - loss: 1.6321 - accuracy: 0.9852 - val_loss: 21.6285 - val_accuracy: 0.9412\n",
      "Epoch 21/25\n",
      "7/7 - 0s - loss: 0.6460 - accuracy: 0.9852 - val_loss: 15.7770 - val_accuracy: 0.9804\n",
      "Epoch 22/25\n",
      "7/7 - 0s - loss: 1.7301 - accuracy: 0.9852 - val_loss: 9.5724 - val_accuracy: 0.9608\n",
      "Epoch 23/25\n",
      "7/7 - 0s - loss: 0.3485 - accuracy: 0.9901 - val_loss: 24.0763 - val_accuracy: 0.9020\n",
      "Epoch 24/25\n",
      "7/7 - 0s - loss: 1.8184 - accuracy: 0.9704 - val_loss: 24.1801 - val_accuracy: 0.9804\n",
      "Epoch 25/25\n",
      "7/7 - 0s - loss: 0.0000e+00 - accuracy: 1.0000 - val_loss: 36.5242 - val_accuracy: 0.8824\n",
      "\n",
      "Evaluation:\n",
      "2/2 - 0s - loss: 26.3675 - accuracy: 0.8409\n"
     ]
    }
   ],
   "source": [
    "# Perform training\n",
    "train_hist = model.fit(train_data, lettToSoft(train_label, vowels), epochs=epochs, batch_size=batch_size, validation_split=0.2 , verbose=2)\n",
    "print('\\nEvaluation:')\n",
    "results = model.evaluate(test_data, lettToSoft(test_label, vowels), verbose=2)"
   ]
  },
  {
   "cell_type": "code",
   "execution_count": 17,
   "metadata": {},
   "outputs": [
    {
     "data": {
      "image/png": "[encoded data removed]",
      "text/plain": [
       "<Figure size 432x288 with 1 Axes>"
      ]
     },
     "metadata": {
      "needs_background": "light"
     },
     "output_type": "display_data"
    }
   ],
   "source": [
    "hist_loss = train_hist.history['loss']\n",
    "hist_val_loss = train_hist.history['val_loss']\n",
    "epoch_list = list(range(epochs))\n",
    "plt.figure(1)\n",
    "plt.plot(epoch_list, hist_loss, 'bo', label='Training loss')\n",
    "plt.plot(epoch_list, hist_val_loss, 'r', label='Validation loss')\n",
    "plt.title('Training and validation loss')\n",
    "plt.legend()\n",
    "plt.show()"
   ]
  },
  {
   "cell_type": "markdown",
   "metadata": {},
   "source": [
    "### Test"
   ]
  },
  {
   "cell_type": "code",
   "execution_count": 18,
   "metadata": {},
   "outputs": [
    {
     "name": "stdout",
     "output_type": "stream",
     "text": [
      "True       -> A\n",
      "Prediction -> A\n"
     ]
    }
   ],
   "source": [
    "rand_n = int(random.uniform(0, test_data.shape[0]))\n",
    "sample_data = test_data[rand_n,:].reshape(1,test_data.shape[1])\n",
    "sample_label = test_label[rand_n]\n",
    "\n",
    "pred = model.predict(sample_data)\n",
    "print(f'True       -> {sample_label}')\n",
    "print(f'Prediction -> {vowels[np.argmax(pred)]}' )"
   ]
  },
  {
   "cell_type": "markdown",
   "metadata": {},
   "source": [
    "## Plot functions"
   ]
  },
  {
   "cell_type": "code",
   "execution_count": 19,
   "metadata": {},
   "outputs": [],
   "source": [
    "def plotTest(data, label, model, letters):\n",
    "    \n",
    "    correct = 0\n",
    "    mistaken = 0\n",
    "    \n",
    "    label = lettToSoft(label, letters)\n",
    "\n",
    "    total = data.shape[0]\n",
    "\n",
    "    for i in range(0, data.shape[0]):\n",
    "        pred = model.predict(data[i,:].reshape(1,data.shape[1]))\n",
    "\n",
    "        if (np.argmax(pred) == np.argmax(label[i])):\n",
    "            correct +=1\n",
    "        else:\n",
    "            mistaken +=1\n",
    "\n",
    "    fig = plt.figure()\n",
    "    ax = fig.add_axes([0,0,1,1])\n",
    "    ax.set_title('Test performance')\n",
    "\n",
    "    langs = ['Correct', 'Error']\n",
    "    langs.reverse\n",
    "    bars = [correct,mistaken]\n",
    "    bars.reverse\n",
    "    ax.bar(langs,bars)\n",
    "    plt.show()\n",
    "\n",
    "    print(f\"Total correct guesses {correct}  -> {round(correct/total,2)*100}%\")\n",
    "    print(f\"Total mistaken guesses {mistaken} -> {round(mistaken/total,2)*100}%\")"
   ]
  },
  {
   "cell_type": "code",
   "execution_count": 50,
   "metadata": {},
   "outputs": [],
   "source": [
    "def testOL(model):\n",
    "\n",
    "    corr_ary = np.zeros([8])\n",
    "    err_ary = np.zeros([8])\n",
    "    tot_ary = np.zeros([8])\n",
    "\n",
    "    for j in range(0,4):\n",
    "\n",
    "        if(j==0):\n",
    "            data = test_data\n",
    "            label = test_label\n",
    "        elif(j==1):\n",
    "            data = B_train_data\n",
    "            label = B_train_label\n",
    "        elif(j==2):\n",
    "            data = R_train_data\n",
    "            label = R_train_label\n",
    "        elif(j==3):\n",
    "            data = M_train_data\n",
    "            label = M_train_label\n",
    "\n",
    "        correct = 0\n",
    "        mistaken = 0\n",
    "        label_soft = lettToSoft(label,model.label)\n",
    "\n",
    "        total = data.shape[0]\n",
    "\n",
    "        for i in range(0, data.shape[0]):          \n",
    "            ML_out = model.ML_frozen.predict(data[i,:].reshape(1,data.shape[1]))\n",
    "            y_pred = model.predict(ML_out)\n",
    "\n",
    "            \n",
    "            # Find the max for borh the true label and the inference\n",
    "            k = np.argmax(label_soft[i,:])\n",
    "\n",
    "            max_true = 0\n",
    "            max_i_true = 0\n",
    "            \n",
    "            max_pred = 0\n",
    "            max_i_pred = 0\n",
    "            for r in range(0, y_pred.shape[1]):\n",
    "                if(max_true < label_soft[i,r]):\n",
    "                    max_true = label_soft[i,r]\n",
    "                    max_i_true = r\n",
    "                if(max_pred < y_pred[0,r]):\n",
    "                    max_pred = y_pred[0,r]\n",
    "                    max_i_pred = r\n",
    "            if (max_i_pred == max_i_true):\n",
    "                correct +=1\n",
    "                if(j==0):\n",
    "                    corr_ary[k] += 1\n",
    "                    tot_ary[k] += 1  \n",
    "            else:\n",
    "                mistaken +=1\n",
    "                if(j==0):\n",
    "                    err_ary[k] += 1  \n",
    "                    tot_ary[k] += 1  \n",
    "                \n",
    "        if(j!=0):\n",
    "            corr_ary[4+j] = correct\n",
    "            err_ary[4+j] = mistaken\n",
    "            tot_ary[4+j] = total\n",
    "        \n",
    "    return corr_ary, err_ary, tot_ary"
   ]
  },
  {
   "cell_type": "code",
   "execution_count": 51,
   "metadata": {},
   "outputs": [],
   "source": [
    "def testOL_v2(model):\n",
    "\n",
    "    corr_ary = np.zeros([8])\n",
    "    err_ary = np.zeros([8])\n",
    "    tot_ary = np.zeros([8])\n",
    "\n",
    "    for j in range(0,4):\n",
    "\n",
    "        if(j==0):\n",
    "            data = test_data\n",
    "            label = test_label\n",
    "        elif(j==1):\n",
    "            data = B_train_data\n",
    "            label = B_train_label\n",
    "        elif(j==2):\n",
    "            data = R_train_data\n",
    "            label = R_train_label\n",
    "        elif(j==3):\n",
    "            data = M_train_data\n",
    "            label = M_train_label\n",
    "\n",
    "        correct = 0\n",
    "        mistaken = 0\n",
    "        label_soft = lettToSoft(label,['A', 'E', 'I', 'O', 'U', 'B', 'R', 'M'])\n",
    "\n",
    "        total = data.shape[0]\n",
    "\n",
    "        for i in range(0, data.shape[0]):          \n",
    "            y_pred = model.predict(data[i,:].reshape(1,data.shape[1]))\n",
    "            \n",
    "            k = np.argmax(label_soft[i,:])\n",
    "            \n",
    "            if (np.argmax(y_pred) == np.argmax(label_soft[i,:])):\n",
    "                correct +=1\n",
    "                if(j==0):\n",
    "                    corr_ary[k] += 1\n",
    "                    tot_ary[k] += 1\n",
    "            else:\n",
    "                mistaken +=1\n",
    "                if(j==0):\n",
    "                    err_ary[k] += 1\n",
    "                    tot_ary[k] += 1\n",
    "\n",
    "        if(j!=0):\n",
    "            corr_ary[4+j] = correct\n",
    "            err_ary[4+j] = mistaken\n",
    "            tot_ary[4+j] = total\n",
    "        \n",
    "    return corr_ary, err_ary, tot_ary"
   ]
  },
  {
   "cell_type": "code",
   "execution_count": 56,
   "metadata": {},
   "outputs": [],
   "source": [
    "def plotTestOL(corr_ary, err_ary, tot_ary, title):\n",
    "    \n",
    "    for i in range(0, len(corr_ary)):\n",
    "        corr_ary[i] = int(round(corr_ary[i]/tot_ary[i], 2)*100)\n",
    "        err_ary[i] = int(round(err_ary[i]/tot_ary[i], 2)*100)\n",
    "    \n",
    "    width = 0.25\n",
    "    fig = plt.subplots(figsize =(12, 8))\n",
    "    \n",
    "    # Set position of bar on X axis\n",
    "    br1 = np.arange(len(corr_ary))\n",
    "    br2 = [x + width for x in br1]\n",
    "    \n",
    "    # Make the plot\n",
    "    plt.bar(br1, corr_ary, color ='g', width = width, edgecolor ='grey', label ='Correct prediction')\n",
    "    plt.bar(br2, err_ary, color ='r', width = width, edgecolor ='grey', label ='Wrong prediction')\n",
    "\n",
    "    # Adding Xticks\n",
    "    plt.ylabel('%', fontweight ='bold', fontsize = 15)\n",
    "    plt.xticks([r + width for r in range(len(corr_ary))], ['A', 'E', 'I', 'O', 'U', 'B', 'R', 'M'],fontweight ='bold', fontsize = 15)\n",
    "    plt.title(title)\n",
    "\n",
    "\n",
    "    plt.legend()\n",
    "    plt.show()"
   ]
  },
  {
   "cell_type": "code",
   "execution_count": 54,
   "metadata": {},
   "outputs": [],
   "source": [
    "def tableTestOL(corr_ary, err_ary, tot_ary, title):\n",
    "\n",
    "    val = np.zeros([2,len(corr_ary)])\n",
    "    val[0,:] = np.round(np.round(corr_ary/tot_ary,2)*100,2)\n",
    "    val[1,:] = np.round(np.round(err_ary/tot_ary,2)*100,2)\n",
    "\n",
    "    fig, ax = plt.subplots() \n",
    "    ax.set_axis_off() \n",
    "    \n",
    "    table = ax.table( \n",
    "        cellText = val,  \n",
    "        rowLabels = ['Correct', 'Error'],  \n",
    "        colLabels = ['A', 'E', 'I', 'O', 'U', 'B', 'R', 'M'], \n",
    "        rowColours =[\"palegreen\"] * 200,  \n",
    "        colColours =[\"palegreen\"] * 200, \n",
    "        cellLoc ='center',  \n",
    "        loc ='upper left')         \n",
    "\n",
    "    ax.set_title(title, fontweight =\"bold\") \n",
    "\n",
    "    plt.show() "
   ]
  },
  {
   "cell_type": "code",
   "execution_count": 24,
   "metadata": {},
   "outputs": [
    {
     "data": {
      "image/png": "[encoded data removed]",
      "text/plain": [
       "<Figure size 432x288 with 1 Axes>"
      ]
     },
     "metadata": {
      "needs_background": "light"
     },
     "output_type": "display_data"
    },
    {
     "name": "stdout",
     "output_type": "stream",
     "text": [
      "Total correct guesses 233  -> 92.0%\n",
      "Total mistaken guesses 21 -> 8.0%\n"
     ]
    }
   ],
   "source": [
    "plotTest(train_data, train_label, model, vowels)"
   ]
  },
  {
   "cell_type": "markdown",
   "metadata": {},
   "source": [
    "### Save model"
   ]
  },
  {
   "cell_type": "code",
   "execution_count": 25,
   "metadata": {},
   "outputs": [],
   "source": [
    "def saveParams(SAVE_MODEL_PATH, model):\n",
    "    \n",
    "    new_file = open(SAVE_MODEL_PATH + '/params.txt', \"w\")\n",
    "\n",
    "    new_file.write(\"PARAMETERS SAVED FROM THE TRAINING\")\n",
    "    new_file.write(\"\\n Batch size: \" + str(batch_size))\n",
    "    new_file.write(\"\\n Epochs: \" + str(epochs))\n",
    "    new_file.write(\"\\n Validation split: \" + str(0.2))\n",
    "    new_file.write(\"\\n Metrics: \" + str(metrics))\n",
    "    new_file.write(\"\\n Optimizer: \" + optimizer)\n",
    "    new_file.write(\"\\n Loss: \" + loss + \"\\n\\n\")\n",
    "\n",
    "    model.summary(print_fn=lambda x: new_file.write(x + '\\n'))"
   ]
  },
  {
   "cell_type": "code",
   "execution_count": 26,
   "metadata": {},
   "outputs": [],
   "source": [
    "SAVE_MODEL_PATH = \"C:/Users/massi/UNI/Magistrale/Anno 5/Semestre 2/Tesi/Code/Python/Saved_models/model/\"\n",
    "model.save(SAVE_MODEL_PATH + \"model.h5\")\n",
    "saveParams(SAVE_MODEL_PATH, model)"
   ]
  },
  {
   "cell_type": "markdown",
   "metadata": {},
   "source": [
    "#  ------------------------------------------------------------------------"
   ]
  },
  {
   "cell_type": "markdown",
   "metadata": {},
   "source": [
    "# TinyOL"
   ]
  },
  {
   "cell_type": "markdown",
   "metadata": {},
   "source": [
    "### Functions"
   ]
  },
  {
   "cell_type": "code",
   "execution_count": 27,
   "metadata": {},
   "outputs": [],
   "source": [
    "class Custom_Layer(object):\n",
    "    def __init__(self, model):\n",
    "\n",
    "        self.ML_frozen = keras.models.Sequential(model.layers[:-1])\n",
    "        self.ML_frozen.compile()\n",
    "        self.W = np.array(model.layers[-1].get_weights()[0])\n",
    "        self.b = np.array(model.layers[-1].get_weights()[1])\n",
    "        self.label = ['A', 'E', 'I', 'O', 'U']\n",
    "        \n",
    "        self.width = self.W.shape[0]\n",
    "\n",
    "    def predict(self, x):\n",
    "        mat_prod = np.matmul(x, self.W) + self.b\n",
    "        return tf.nn.softmax(mat_prod)      "
   ]
  },
  {
   "cell_type": "code",
   "execution_count": 28,
   "metadata": {},
   "outputs": [],
   "source": [
    "def gradientDescent(y_true, y_pred, x, model, l_rate):\n",
    "  \n",
    "    cost = y_pred-y_true\n",
    "\n",
    "    for j in range(0,128):\n",
    "        # Update weights\n",
    "        deltaW = np.multiply(cost, x[0,j])\n",
    "        dW = np.multiply(deltaW, l_rate)\n",
    "        model.W[j,:] = model.W[j,:]-dW\n",
    "\n",
    "        # Update biases\n",
    "        db = np.multiply(cost, l_rate)\n",
    "        model.b = model.b-db"
   ]
  },
  {
   "cell_type": "code",
   "execution_count": 29,
   "metadata": {},
   "outputs": [],
   "source": [
    "def trainOneEpochOL(model, x, y_true, learn_rate):\n",
    "    \n",
    "    print('**********************************')\n",
    "    print('Performing training with OL METHOD')\n",
    "    print()\n",
    "    \n",
    "    \n",
    "    \n",
    "    cntr=1\n",
    "    tot_samples = x.shape[0]\n",
    "    # Transform the true label letters in softmax\n",
    "    y_true_soft = lettToSoft(y_true, model.label)\n",
    "        \n",
    "        \n",
    "    # For every sample in the dataset given\n",
    "    for i in range(0, tot_samples):\n",
    "        \n",
    "        # Check if letter is new\n",
    "        found = 0\n",
    "        for k in range(0, len(model.label)):\n",
    "            if (y_true[i] == model.label[k]):\n",
    "                found = 1\n",
    "\n",
    "        # If first time seeing this letter\n",
    "        if (found == 0):\n",
    "\n",
    "            model.label.append(y_true[i])   # Add new letter to label\n",
    "\n",
    "            print(f'\\n\\n    New letter detected -> letter \\033[1m{y_true[i]}\\033[0m \\n')\n",
    "\n",
    "            model.W = np.hstack((model.W, np.zeros([model.width,1])))\n",
    "            model.b = np.hstack((model.b, np.zeros([1])))\n",
    "\n",
    "            print(f'    Now W is -> {model.W.shape}              and b is -> {model.b.shape}')\n",
    "            print()\n",
    "            print()\n",
    "            \n",
    "            y_true_soft = lettToSoft(y_true, model.label)\n",
    "        \n",
    "\n",
    "        # Prediction from ML frozen model\n",
    "        y_ML = model.ML_frozen.predict(x[i,:].reshape(1,x.shape[1]))\n",
    "        # Prediction from TinyOL layer\n",
    "        y_pred = model.predict(y_ML[0,:])\n",
    "        \n",
    "        for r in range(0, len(model.label)):\n",
    "            if(y_pred[r] != y_true_soft[i,r]):\n",
    "        \n",
    "                # Apply backpropagation\n",
    "                gradientDescent(y_true_soft[i,:], y_pred, y_ML, model, learn_rate)\n",
    "                break\n",
    "        \n",
    "        print(f\"\\r    Currently at {np.round(np.round(cntr/x.shape[0],2)*100,2)}% of dataset                         \", end=\"\")\n",
    "        cntr +=1\n",
    "        "
   ]
  },
  {
   "cell_type": "code",
   "execution_count": 30,
   "metadata": {},
   "outputs": [],
   "source": [
    "def ML_predict(ML_model, data, OL_model):\n",
    "\n",
    "    # Has shape [n samples, 128]\n",
    "    data_mat = np.zeros([data.shape[0], OL_model.W.shape[0]])\n",
    "    \n",
    "    cntr = 1\n",
    "\n",
    "    # Cycle over all samples\n",
    "    for j in range(0, data.shape[0]):\n",
    "        data_mat[j,:] = ML_model.predict(data[j,:].reshape(1,600))\n",
    "        \n",
    "        print(f'\\rInferencing data ...     Now at:{cntr}/{data.shape[0]} ', end=\"\")\n",
    "        cntr += 1\n",
    "\n",
    "    return data_mat"
   ]
  },
  {
   "cell_type": "markdown",
   "metadata": {},
   "source": [
    "### Create ML model (cut model)"
   ]
  },
  {
   "cell_type": "code",
   "execution_count": 31,
   "metadata": {},
   "outputs": [
    {
     "name": "stdout",
     "output_type": "stream",
     "text": [
      "Model: \"sequential_1\"\n",
      "_________________________________________________________________\n",
      "Layer (type)                 Output Shape              Param #   \n",
      "=================================================================\n",
      "input_layer (Dense)          (None, 128)               76928     \n",
      "_________________________________________________________________\n",
      "hidden1 (Dense)              (None, 128)               16512     \n",
      "=================================================================\n",
      "Total params: 93,440\n",
      "Trainable params: 93,440\n",
      "Non-trainable params: 0\n",
      "_________________________________________________________________\n"
     ]
    }
   ],
   "source": [
    "ML_model = keras.models.Sequential(model.layers[:-1])\n",
    "ML_model.summary()\n",
    "ML_model.compile()"
   ]
  },
  {
   "cell_type": "code",
   "execution_count": 32,
   "metadata": {},
   "outputs": [],
   "source": [
    "SAVE_MODEL_CUT_PATH = \"C:/Users/massi/UNI/Magistrale/Anno 5/Semestre 2/Tesi/Code/Python/Saved_models/ML_model/\"\n",
    "ML_model.save(SAVE_MODEL_CUT_PATH + \"model.h5\")\n",
    "saveParams(SAVE_MODEL_CUT_PATH, ML_model)"
   ]
  },
  {
   "cell_type": "markdown",
   "metadata": {},
   "source": [
    "### TinyOL train parameters"
   ]
  },
  {
   "cell_type": "code",
   "execution_count": 33,
   "metadata": {},
   "outputs": [],
   "source": [
    "num_epochs = 1\n",
    "learn_rate = 0.001"
   ]
  },
  {
   "cell_type": "markdown",
   "metadata": {},
   "source": [
    "# Trainings"
   ]
  },
  {
   "cell_type": "markdown",
   "metadata": {},
   "source": [
    "### Train only vowels"
   ]
  },
  {
   "cell_type": "code",
   "execution_count": 34,
   "metadata": {},
   "outputs": [
    {
     "name": "stdout",
     "output_type": "stream",
     "text": [
      "**********************************\n",
      "Performing training with OL METHOD\n",
      "\n",
      "    Currently at 100.0% of dataset                                      "
     ]
    }
   ],
   "source": [
    "Model_OL_vowels = Custom_Layer(model)\n",
    "for i in range(0, num_epochs):\n",
    "    trainOneEpochOL(Model_OL_vowels, train_data, train_label, learn_rate)"
   ]
  },
  {
   "cell_type": "markdown",
   "metadata": {},
   "source": [
    "### Train on all letters ordered"
   ]
  },
  {
   "cell_type": "code",
   "execution_count": 35,
   "metadata": {
    "scrolled": true
   },
   "outputs": [
    {
     "name": "stdout",
     "output_type": "stream",
     "text": [
      "**********************************\n",
      "Performing training with OL METHOD\n",
      "\n",
      "    Currently at 80.0% of dataset                                       \n",
      "\n",
      "    New letter detected -> letter \u001b[1mB\u001b[0m \n",
      "\n",
      "    Now W is -> (128, 6)              and b is -> (6,)\n",
      "\n",
      "\n",
      "    Currently at 87.0% of dataset                         \n",
      "\n",
      "    New letter detected -> letter \u001b[1mR\u001b[0m \n",
      "\n",
      "    Now W is -> (128, 7)              and b is -> (7,)\n",
      "\n",
      "\n",
      "    Currently at 94.0% of dataset                         \n",
      "\n",
      "    New letter detected -> letter \u001b[1mM\u001b[0m \n",
      "\n",
      "    Now W is -> (128, 8)              and b is -> (8,)\n",
      "\n",
      "\n",
      "    Currently at 100.0% of dataset                         "
     ]
    }
   ],
   "source": [
    "Model_OL_all_order = Custom_Layer(model)\n",
    "for i in range(0, num_epochs):\n",
    "    trainOneEpochOL(Model_OL_all_order, order_data_all, order_label_all, learn_rate)"
   ]
  },
  {
   "cell_type": "markdown",
   "metadata": {},
   "source": [
    "### Train on all letters mixed"
   ]
  },
  {
   "cell_type": "code",
   "execution_count": 36,
   "metadata": {
    "scrolled": true
   },
   "outputs": [
    {
     "name": "stdout",
     "output_type": "stream",
     "text": [
      "**********************************\n",
      "Performing training with OL METHOD\n",
      "\n",
      "    Currently at 0.0% of dataset                         \n",
      "\n",
      "    New letter detected -> letter \u001b[1mB\u001b[0m \n",
      "\n",
      "    Now W is -> (128, 6)              and b is -> (6,)\n",
      "\n",
      "\n",
      "    Currently at 5.0% of dataset                         \n",
      "\n",
      "    New letter detected -> letter \u001b[1mM\u001b[0m \n",
      "\n",
      "    Now W is -> (128, 7)              and b is -> (7,)\n",
      "\n",
      "\n",
      "    Currently at 8.0% of dataset                                       \n",
      "\n",
      "    New letter detected -> letter \u001b[1mR\u001b[0m \n",
      "\n",
      "    Now W is -> (128, 8)              and b is -> (8,)\n",
      "\n",
      "\n",
      "    Currently at 100.0% of dataset                                      "
     ]
    }
   ],
   "source": [
    "Model_OL_all_mixed = Custom_Layer(model)\n",
    "for i in range(0, num_epochs):\n",
    "    trainOneEpochOL(Model_OL_all_mixed, mixed_data_all, mixed_label_all, learn_rate)"
   ]
  },
  {
   "cell_type": "markdown",
   "metadata": {},
   "source": [
    "### Train on new letters ordered"
   ]
  },
  {
   "cell_type": "code",
   "execution_count": 37,
   "metadata": {
    "scrolled": true
   },
   "outputs": [
    {
     "name": "stdout",
     "output_type": "stream",
     "text": [
      "**********************************\n",
      "Performing training with OL METHOD\n",
      "\n",
      "\n",
      "\n",
      "    New letter detected -> letter \u001b[1mB\u001b[0m \n",
      "\n",
      "    Now W is -> (128, 6)              and b is -> (6,)\n",
      "\n",
      "\n",
      "    Currently at 35.0% of dataset                                       \n",
      "\n",
      "    New letter detected -> letter \u001b[1mR\u001b[0m \n",
      "\n",
      "    Now W is -> (128, 7)              and b is -> (7,)\n",
      "\n",
      "\n",
      "    Currently at 68.0% of dataset                                      \n",
      "\n",
      "    New letter detected -> letter \u001b[1mM\u001b[0m \n",
      "\n",
      "    Now W is -> (128, 8)              and b is -> (8,)\n",
      "\n",
      "\n",
      "    Currently at 100.0% of dataset                         "
     ]
    }
   ],
   "source": [
    "Model_OL_new_order = Custom_Layer(model)\n",
    "for i in range(0, num_epochs):\n",
    "    trainOneEpochOL(Model_OL_new_order, order_data_new, order_label_new, learn_rate)"
   ]
  },
  {
   "cell_type": "markdown",
   "metadata": {},
   "source": [
    "### Train on new letters mixed"
   ]
  },
  {
   "cell_type": "code",
   "execution_count": 38,
   "metadata": {
    "scrolled": true
   },
   "outputs": [
    {
     "name": "stdout",
     "output_type": "stream",
     "text": [
      "**********************************\n",
      "Performing training with OL METHOD\n",
      "\n",
      "\n",
      "\n",
      "    New letter detected -> letter \u001b[1mB\u001b[0m \n",
      "\n",
      "    Now W is -> (128, 6)              and b is -> (6,)\n",
      "\n",
      "\n",
      "    Currently at 5.0% of dataset                         \n",
      "\n",
      "    New letter detected -> letter \u001b[1mM\u001b[0m \n",
      "\n",
      "    Now W is -> (128, 7)              and b is -> (7,)\n",
      "\n",
      "\n",
      "    Currently at 6.0% of dataset                         \n",
      "\n",
      "    New letter detected -> letter \u001b[1mR\u001b[0m \n",
      "\n",
      "    Now W is -> (128, 8)              and b is -> (8,)\n",
      "\n",
      "\n",
      "    Currently at 100.0% of dataset                                      "
     ]
    }
   ],
   "source": [
    "Model_OL_new_mixed = Custom_Layer(model)\n",
    "for i in range(0, 1):\n",
    "    trainOneEpochOL(Model_OL_new_mixed, mixed_data_new, mixed_label_new, 1)"
   ]
  },
  {
   "cell_type": "markdown",
   "metadata": {},
   "source": [
    "# PLOTS"
   ]
  },
  {
   "cell_type": "markdown",
   "metadata": {},
   "source": [
    "### Original model"
   ]
  },
  {
   "cell_type": "code",
   "execution_count": 55,
   "metadata": {
    "scrolled": false
   },
   "outputs": [
    {
     "data": {
      "image/png": "[encoded data removed]",
      "text/plain": [
       "<Figure size 432x288 with 1 Axes>"
      ]
     },
     "metadata": {
      "needs_background": "light"
     },
     "output_type": "display_data"
    },
    {
     "data": {
      "image/png": "[encoded data removed]",
      "text/plain": [
       "<Figure size 864x576 with 1 Axes>"
      ]
     },
     "metadata": {
      "needs_background": "light"
     },
     "output_type": "display_data"
    }
   ],
   "source": [
    "tmp1, tmp2, tmp3 = testOL_v2(model)\n",
    "tableTestOL(tmp1, tmp2, tmp3, 'Original model - trained with Keras')\n",
    "plotTestOL(tmp1, tmp2, tmp3, 'Original model - trained with Keras')"
   ]
  },
  {
   "cell_type": "markdown",
   "metadata": {},
   "source": [
    "### Only vowels"
   ]
  },
  {
   "cell_type": "code",
   "execution_count": 57,
   "metadata": {
    "scrolled": false
   },
   "outputs": [
    {
     "data": {
      "image/png": "[encoded data removed]",
      "text/plain": [
       "<Figure size 432x288 with 1 Axes>"
      ]
     },
     "metadata": {
      "needs_background": "light"
     },
     "output_type": "display_data"
    },
    {
     "data": {
      "image/png": "[encoded data removed]",
      "text/plain": [
       "<Figure size 864x576 with 1 Axes>"
      ]
     },
     "metadata": {
      "needs_background": "light"
     },
     "output_type": "display_data"
    }
   ],
   "source": [
    "tmp1, tmp2, tmp3 = testOL(Model_OL_vowels)\n",
    "tableTestOL(tmp1, tmp2, tmp3, 'OL model - trained only on vowels')\n",
    "plotTestOL(tmp1, tmp2, tmp3, 'OL model - trained only on vowels')"
   ]
  },
  {
   "cell_type": "markdown",
   "metadata": {},
   "source": [
    "### All and ordered"
   ]
  },
  {
   "cell_type": "code",
   "execution_count": null,
   "metadata": {
    "scrolled": false
   },
   "outputs": [],
   "source": [
    "tmp1, tmp2, tmp3 = testOL(Model_OL_all_order)\n",
    "tableTestOL(tmp1, tmp2, tmp3, 'OL model - trained on entire ORDERED dataset')\n",
    "plotTestOL(tmp1, tmp2, tmp3, 'OL model - trained on entire ORDERED dataset')"
   ]
  },
  {
   "cell_type": "markdown",
   "metadata": {},
   "source": [
    "### All and mixed"
   ]
  },
  {
   "cell_type": "code",
   "execution_count": null,
   "metadata": {
    "scrolled": false
   },
   "outputs": [],
   "source": [
    "tmp1, tmp2, tmp3 = testOL(Model_OL_all_mixed)\n",
    "tableTestOL(tmp1, tmp2, tmp3, 'OL model - trained on entire MIXED dataset')\n",
    "plotTestOL(tmp1, tmp2, tmp3, 'OL model - trained on entire MIXED dataset')"
   ]
  },
  {
   "cell_type": "markdown",
   "metadata": {},
   "source": [
    "### New and ordered"
   ]
  },
  {
   "cell_type": "code",
   "execution_count": null,
   "metadata": {
    "scrolled": false
   },
   "outputs": [],
   "source": [
    "tmp1, tmp2, tmp3 = testOL(Model_OL_new_order)\n",
    "tableTestOL(tmp1, tmp2, tmp3, 'OL model - trained on new letters ORDERED')\n",
    "plotTestOL(tmp1, tmp2, tmp3, 'OL model - trained on new letters ORDERED')"
   ]
  },
  {
   "cell_type": "markdown",
   "metadata": {},
   "source": [
    "### New and mixed"
   ]
  },
  {
   "cell_type": "code",
   "execution_count": null,
   "metadata": {
    "scrolled": false
   },
   "outputs": [],
   "source": [
    "tmp1, tmp2, tmp3 = testOL(Model_OL_new_mixed)\n",
    "tableTestOL(tmp1, tmp2, tmp3, 'OL model - trained on new letters MIXED')\n",
    "plotTestOL(tmp1, tmp2, tmp3, 'OL model - trained on new letters MIXED')"
   ]
  },
  {
   "cell_type": "markdown",
   "metadata": {},
   "source": [
    "# Scripts for generating libraries for the STM code"
   ]
  },
  {
   "cell_type": "code",
   "execution_count": null,
   "metadata": {},
   "outputs": [],
   "source": [
    "# WRITE THE VOWELS ON A TXT FILE\n",
    "\n",
    "SAMPLE_LETTER_PATH = \"C:/Users/massi/UNI/Magistrale/Anno 5/Semestre 2/Tesi/Code/Python/Other/\"\n",
    "\n",
    "new_file = open(SAMPLE_LETTER_PATH + '/sample_input.h', \"w\")\n",
    "\n",
    "sample_A = test_data[1,:]\n",
    "\n",
    "sample_E = test_data[9,:]\n",
    "sample_I = test_data[4,:]\n",
    "sample_O = test_data[0,:]\n",
    "sample_U = test_data[3,:]\n",
    "\n",
    "new_file.write(\"#include \\\"main.h\\\" \\n\\n\\n\")\n",
    "\n",
    "\n",
    "new_file.write('int sample_A[600] = {')\n",
    "for j in range(0, 600):\n",
    "        new_file.write(str(int(sample_A[j])))\n",
    "        \n",
    "        if(j!=599):\n",
    "            new_file.write(',')\n",
    "        if((j%20==0) and (j!=0)):\n",
    "            new_file.write('\\n                     ')\n",
    "new_file.write('};')\n",
    "\n",
    "new_file.write('\\n\\n\\n')\n",
    "\n",
    "new_file.write('int sample_E[600] = {')\n",
    "for j in range(0, 600):\n",
    "        new_file.write(str(int(sample_E[j])))\n",
    "        \n",
    "        if(j!=599):\n",
    "            new_file.write(',')\n",
    "        if((j%20==0) and (j!=0)):\n",
    "            new_file.write('\\n                     ')\n",
    "new_file.write('};')\n",
    "\n",
    "new_file.write('\\n\\n\\n')\n",
    "\n",
    "new_file.write('int sample_I[600] = {')\n",
    "for j in range(0, 600):\n",
    "        new_file.write(str(int(sample_I[j])))\n",
    "        \n",
    "        if(j!=599):\n",
    "            new_file.write(',')\n",
    "        if((j%20==0) and (j!=0)):\n",
    "            new_file.write('\\n                     ')\n",
    "new_file.write('};')\n",
    "\n",
    "new_file.write('\\n\\n\\n')\n",
    "\n",
    "new_file.write('int sample_O[600] = {')\n",
    "for j in range(0, 600):\n",
    "        new_file.write(str(int(sample_O[j])))\n",
    "        \n",
    "        if(j!=599):\n",
    "            new_file.write(',')\n",
    "        if((j%20==0) and (j!=0)):\n",
    "            new_file.write('\\n                     ')\n",
    "new_file.write('};')\n",
    "\n",
    "new_file.write('\\n\\n\\n')\n",
    "\n",
    "new_file.write('int sample_U[600] = {')\n",
    "for j in range(0, 600):\n",
    "        new_file.write(str(int(sample_U[j])))\n",
    "        \n",
    "        if(j!=599):\n",
    "            new_file.write(',')\n",
    "        if((j%20==0) and (j!=0)):\n",
    "            new_file.write('\\n                     ')\n",
    "new_file.write('};')\n"
   ]
  },
  {
   "cell_type": "code",
   "execution_count": null,
   "metadata": {},
   "outputs": [],
   "source": [
    "# WRITE THE LETTER B\n",
    "\n",
    "SAMPLE_B_PATH = \"C:/Users/massi/UNI/Magistrale/Anno 5/Semestre 2/Tesi/Code/Python/Other/\"\n",
    "\n",
    "new_file = open(SAMPLE_B_PATH + '/letter_B.h', \"w\")\n",
    "\n",
    "\n",
    "\n",
    "new_file.write(\"#include \\\"main.h\\\" \\n\\n\\n\")\n",
    "\n",
    "\n",
    "new_file.write('int sample_B['+str(B_train_data.shape[0])+'][600] = {')\n",
    "for i in range(0, B_train_data.shape[0]):\n",
    "    new_file.write('\\n          {')\n",
    "    for j in range(0, 600):\n",
    "            new_file.write(str(int(B_train_data[i,j])))\n",
    "            if(j!=599):\n",
    "                new_file.write(',')\n",
    "            \n",
    "\n",
    "    new_file.write('},')\n",
    "\n"
   ]
  },
  {
   "cell_type": "code",
   "execution_count": null,
   "metadata": {},
   "outputs": [],
   "source": [
    "# WRITE A MIX OF LETTERS IN A TXT FILE\n",
    "\n",
    "SAMPLE_LETTERS_PATH = \"C:/Users/massi/UNI/Magistrale/Anno 5/Semestre 2/Tesi/Code/Python/Other/\"\n",
    "\n",
    "new_file = open(SAMPLE_LETTERS_PATH + '/letters.h', \"w\")\n",
    "\n",
    "mix_of_letters = B_train_data[:12,:]\n",
    "mix_of_letters = np.vstack(( mix_of_letters, test_data[:12,:]))\n",
    "\n",
    "mix_of_labels = B_train_label[:12]\n",
    "mix_of_labels = np.hstack(( mix_of_labels, test_label[:12]))\n",
    "\n",
    "new_file.write(\"#include \\\"main.h\\\" \\n\\n\\n\")\n",
    "\n",
    "\n",
    "new_file.write('int rand_letters['+str(mix_of_letters.shape[0])+'][600] = {')\n",
    "for i in range(0, mix_of_letters.shape[0]):\n",
    "    new_file.write('\\n          {')\n",
    "    for j in range(0, 600):\n",
    "            new_file.write(str(int(mix_of_letters[i,j])))\n",
    "            if(j!=599):\n",
    "                new_file.write(',')\n",
    "            \n",
    "    if(i!=mix_of_letters.shape[0]-1):\n",
    "        new_file.write('},')\n",
    "    else:\n",
    "        new_file.write('} };')\n",
    "        \n",
    "        \n",
    "        \n",
    "new_file.write('\\n\\n\\n')\n",
    "new_file.write('char rand_labels['+str(mix_of_labels.shape[0])+'] = {')\n",
    "for i in range(0, mix_of_labels.shape[0]):\n",
    "    \n",
    "    new_file.write('\\''+str(mix_of_labels[i])+'\\'')\n",
    "            \n",
    "    if(i!=mix_of_labels.shape[0]-1):\n",
    "        new_file.write(',')\n",
    "    else:\n",
    "        new_file.write('};')\n"
   ]
  },
  {
   "cell_type": "code",
   "execution_count": null,
   "metadata": {},
   "outputs": [],
   "source": [
    "# SAVE LAST LAYER OF MODEL IN .H FILE\n",
    "\n",
    "LAST_LAYER_PATH = \"C:/Users/massi/UNI/Magistrale/Anno 5/Semestre 2/Tesi/Code/Python/Saved_models/ML_model/\"\n",
    "\n",
    "new_file = open(LAST_LAYER_PATH + '/layer_weights.h', \"w\")\n",
    "\n",
    "weights = np.array(model.layers[-1].get_weights()[0])\n",
    "biases  = np.array(model.layers[-1].get_weights()[1])\n",
    "\n",
    "\n",
    "\n",
    "new_file.write('float saved_weights['+str(weights.shape[0]*weights.shape[1])+'] = {')\n",
    "\n",
    "for j in range(0, weights.shape[1]):\n",
    "    new_file.write('\\n                       ')\n",
    "    \n",
    "    for i in range(0, weights.shape[0]):     \n",
    "        new_file.write(str(weights[i,j])+',')\n",
    "        if(i%32==0 and i!=0):\n",
    "            new_file.write('\\n                       ')\n",
    "            \n",
    "new_file.write('}; \\n\\n\\n\\n')\n",
    "\n",
    "\n",
    "\n",
    "new_file.write('float saved_biases['+str(biases.shape[0])+'] = {')\n",
    "    \n",
    "for i in range(0, biases.shape[0]):     \n",
    "    new_file.write(str(biases[i]))   \n",
    "    if(i != biases.shape[0]-1):\n",
    "        new_file.write(',')\n",
    "new_file.write('};')\n"
   ]
  },
  {
   "cell_type": "code",
   "execution_count": null,
   "metadata": {},
   "outputs": [],
   "source": []
  }
 ],
 "metadata": {
  "kernelspec": {
   "display_name": "Python 3 (ipykernel)",
   "language": "python",
   "name": "python3"
  },
  "language_info": {
   "codemirror_mode": {
    "name": "ipython",
    "version": 3
   },
   "file_extension": ".py",
   "mimetype": "text/x-python",
   "name": "python",
   "nbconvert_exporter": "python",
   "pygments_lexer": "ipython3",
   "version": "3.8.11"
  }
 },
 "nbformat": 4,
 "nbformat_minor": 2
}
