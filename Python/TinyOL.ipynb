{
 "cells": [
  {
   "cell_type": "code",
   "execution_count": 1,
   "metadata": {},
   "outputs": [],
   "source": [
    "import os\n",
    "os.environ['TF_CPP_MIN_LOG_LEVEL'] = '2'\n",
    "\n",
    "import pandas as pd\n",
    "import numpy as np\n",
    "import re\n",
    "import random\n",
    "import matplotlib.pyplot as plt\n",
    "import matplotlib.image as mpimg\n",
    "import tensorflow as tf\n",
    "from tensorflow import keras\n",
    "from tensorflow.keras.layers import Dense\n",
    "from tensorflow.keras.models import Sequential, Model\n",
    "from tensorflow.keras import optimizers\n",
    "from PIL import Image\n",
    "from sklearn.metrics import confusion_matrix\n",
    "import seaborn as sns\n",
    "\n",
    "import myTestingPlot as myPlotT\n",
    "import myDatasetPlot as myPlotD\n",
    "import myDatasetParse as myParse\n",
    "import myWriteFile as myWrite"
   ]
  },
  {
   "cell_type": "markdown",
   "metadata": {},
   "source": [
    "## Parse datasets"
   ]
  },
  {
   "cell_type": "code",
   "execution_count": 2,
   "metadata": {
    "scrolled": true
   },
   "outputs": [
    {
     "name": "stdout",
     "output_type": "stream",
     "text": [
      "******* Dataset for letter ['A' 'E' 'I' 'O' 'U']\n",
      "\n",
      "Raw shape        -> (180000, 5)\n",
      "Columns          -> ['acquisition', 'letter', 'ax', 'ay', 'az']\n",
      "\n",
      "Tot samples      -> 900\n",
      "1 Sample is long -> 200\n",
      "\n",
      "\n",
      "**** OL data\n",
      "\n",
      "*** Separate train-valid\n",
      "\n",
      "Train data shape  -> (189, 600)\n",
      "Train label shape -> (189,)\n",
      "\n",
      "Test data shape   -> (80, 600)\n",
      "Test label shape  -> (80,)\n",
      "\n",
      "**** TF data\n",
      "\n",
      "*** Separate train-valid\n",
      "\n",
      "Train data shape  -> (441, 600)\n",
      "Train label shape -> (441,)\n",
      "\n",
      "Test data shape   -> (188, 600)\n",
      "Test label shape  -> (188,)\n"
     ]
    }
   ],
   "source": [
    "tmp1, tmp2 = myParse.loadDataFromTxt('augmented_vowels')\n",
    "\n",
    "# Shuffle the matrix of all letters\n",
    "vowels_data = np.zeros(tmp1.shape)\n",
    "vowels_label = np.empty(tmp2.shape, dtype=str) \n",
    "\n",
    "index_ary = list(range(0, tmp1.shape[0]))\n",
    "index_ary = random.sample(index_ary, len(index_ary)) \n",
    "\n",
    "for i in range(0, tmp1.shape[0]):\n",
    "    vowels_data[i,:] = tmp1[index_ary[i],:]\n",
    "    vowels_label[i]  = tmp2[index_ary[i]]\n",
    "    \n",
    "# Separate in 60% and 40% for training the TF model and the OL model\n",
    "sep = int((vowels_data.shape[0])*0.30)\n",
    "\n",
    "print('\\n**** OL data')\n",
    "OL_data  = vowels_data[:sep, :]\n",
    "OL_label = vowels_label[:sep]\n",
    "OL_data_train_vow, OL_label_train_vow, OL_data_test_vow, OL_label_test_vow = myParse.parseTrainValid(OL_data, OL_label)\n",
    "\n",
    "\n",
    "print('\\n**** TF data')\n",
    "TF_data  = vowels_data[sep:, :]\n",
    "TF_label = vowels_label[sep:]\n",
    "TF_data_train, TF_label_train, TF_data_test, TF_label_test = myParse.parseTrainValid(TF_data, TF_label)\n"
   ]
  },
  {
   "cell_type": "code",
   "execution_count": 3,
   "metadata": {
    "scrolled": true
   },
   "outputs": [
    {
     "name": "stdout",
     "output_type": "stream",
     "text": [
      "******* Dataset for letter ['B']\n",
      "\n",
      "Raw shape        -> (29400, 5)\n",
      "Columns          -> ['acquisition', 'letter', 'ax', 'ay', 'az']\n",
      "\n",
      "Tot samples      -> 147\n",
      "1 Sample is long -> 200\n",
      "\n",
      "\n",
      "*** Separate train-valid\n",
      "\n",
      "Train data shape  -> (102, 600)\n",
      "Train label shape -> (102,)\n",
      "\n",
      "Test data shape   -> (43, 600)\n",
      "Test label shape  -> (43,)\n"
     ]
    }
   ],
   "source": [
    "B_data, B_label = myParse.loadDataFromTxt('B_dataset')\n",
    "B_train_data, B_train_label, B_test_data, B_test_label = myParse.parseTrainValid(B_data, B_label)"
   ]
  },
  {
   "cell_type": "code",
   "execution_count": 4,
   "metadata": {
    "scrolled": true
   },
   "outputs": [
    {
     "name": "stdout",
     "output_type": "stream",
     "text": [
      "******* Dataset for letter ['M']\n",
      "\n",
      "Raw shape        -> (29000, 5)\n",
      "Columns          -> ['acquisition', 'letter', 'ax', 'ay', 'az']\n",
      "\n",
      "Tot samples      -> 145\n",
      "1 Sample is long -> 200\n",
      "\n",
      "\n",
      "*** Separate train-valid\n",
      "\n",
      "Train data shape  -> (101, 600)\n",
      "Train label shape -> (101,)\n",
      "\n",
      "Test data shape   -> (42, 600)\n",
      "Test label shape  -> (42,)\n"
     ]
    }
   ],
   "source": [
    "M_data, M_label = myParse.loadDataFromTxt('M_dataset')\n",
    "M_train_data, M_train_label, M_test_data, M_test_label = myParse.parseTrainValid(M_data, M_label)"
   ]
  },
  {
   "cell_type": "code",
   "execution_count": 5,
   "metadata": {
    "scrolled": true
   },
   "outputs": [
    {
     "name": "stdout",
     "output_type": "stream",
     "text": [
      "******* Dataset for letter ['R']\n",
      "\n",
      "Raw shape        -> (29000, 5)\n",
      "Columns          -> ['acquisition', 'letter', 'ax', 'ay', 'az']\n",
      "\n",
      "Tot samples      -> 145\n",
      "1 Sample is long -> 200\n",
      "\n",
      "\n",
      "*** Separate train-valid\n",
      "\n",
      "Train data shape  -> (101, 600)\n",
      "Train label shape -> (101,)\n",
      "\n",
      "Test data shape   -> (42, 600)\n",
      "Test label shape  -> (42,)\n"
     ]
    }
   ],
   "source": [
    "R_data, R_label = myParse.loadDataFromTxt('R_dataset')\n",
    "R_train_data, R_train_label, R_test_data, R_test_label = myParse.parseTrainValid(R_data, R_label)"
   ]
  },
  {
   "cell_type": "markdown",
   "metadata": {},
   "source": [
    "###  Dataset of all letters"
   ]
  },
  {
   "cell_type": "code",
   "execution_count": 6,
   "metadata": {},
   "outputs": [
    {
     "name": "stdout",
     "output_type": "stream",
     "text": [
      "\n",
      "New dataset of ordered data has shape (493, 600)\n",
      "New dataset of ordered label has shape(493,)\n"
     ]
    }
   ],
   "source": [
    "# Create a matrix that contains all the train data\n",
    "\n",
    "order_data_all = OL_data_train_vow\n",
    "order_data_all = np.vstack(( order_data_all, B_train_data))\n",
    "order_data_all = np.vstack(( order_data_all, R_train_data))\n",
    "order_data_all = np.vstack(( order_data_all, M_train_data))\n",
    "\n",
    "order_label_all = OL_label_train_vow\n",
    "order_label_all = np.hstack(( order_label_all, B_train_label))\n",
    "order_label_all = np.hstack(( order_label_all, R_train_label))\n",
    "order_label_all = np.hstack(( order_label_all, M_train_label))\n",
    "\n",
    "print('\\nNew dataset of ordered data has shape ' + str(order_data_all.shape))\n",
    "print('New dataset of ordered label has shape' + str(order_label_all.shape))"
   ]
  },
  {
   "cell_type": "code",
   "execution_count": 7,
   "metadata": {},
   "outputs": [],
   "source": [
    "# Shuffle the matrix of all letters\n",
    "mixed_data_all = np.zeros(order_data_all.shape)\n",
    "mixed_label_all = np.empty(order_label_all.shape, dtype=str) \n",
    "\n",
    "index_ary = list(range(0, order_data_all.shape[0]))\n",
    "index_ary = random.sample(index_ary, len(index_ary)) \n",
    "\n",
    "for i in range(0, order_data_all.shape[0]):\n",
    "    mixed_data_all[i,:] = order_data_all[index_ary[i],:]\n",
    "    mixed_label_all[i]  = order_label_all[index_ary[i]]"
   ]
  },
  {
   "cell_type": "markdown",
   "metadata": {},
   "source": [
    "###  Dataset of only new letters"
   ]
  },
  {
   "cell_type": "code",
   "execution_count": 8,
   "metadata": {},
   "outputs": [
    {
     "name": "stdout",
     "output_type": "stream",
     "text": [
      "\n",
      "New dataset of mixed data has shape (304, 600)\n",
      "New dataset of mixed label has shape(304,)\n"
     ]
    }
   ],
   "source": [
    "# Create a matrix that contains all the train data\n",
    "\n",
    "order_data_new = B_train_data\n",
    "order_data_new = np.vstack(( order_data_new, R_train_data))\n",
    "order_data_new = np.vstack(( order_data_new, M_train_data))\n",
    "\n",
    "order_label_new = B_train_label\n",
    "order_label_new = np.hstack(( order_label_new, R_train_label))\n",
    "order_label_new = np.hstack(( order_label_new, M_train_label))\n",
    "\n",
    "print('\\nNew dataset of mixed data has shape ' + str(order_data_new.shape))\n",
    "print('New dataset of mixed label has shape' + str(order_label_new.shape))"
   ]
  },
  {
   "cell_type": "code",
   "execution_count": 9,
   "metadata": {},
   "outputs": [],
   "source": [
    "# Shuffle the matrix of all letters\n",
    "mixed_data_new = np.zeros(order_data_new.shape)\n",
    "mixed_label_new = np.empty(order_label_new.shape, dtype=str) \n",
    "\n",
    "index_ary = list(range(0, order_data_new.shape[0]))\n",
    "index_ary = random.sample(index_ary, len(index_ary)) \n",
    "\n",
    "for i in range(0, order_data_new.shape[0]):\n",
    "    mixed_data_new[i,:] = order_data_new[index_ary[i],:]\n",
    "    mixed_label_new[i]  = order_label_new[index_ary[i]]"
   ]
  },
  {
   "cell_type": "code",
   "execution_count": 10,
   "metadata": {},
   "outputs": [],
   "source": [
    "class Data_Container(object):\n",
    "    def __init__(self):\n",
    "\n",
    "        self.R_test_data       = R_test_data\n",
    "        self.R_test_label      = R_test_label\n",
    "        self.B_test_data       = B_test_data\n",
    "        self.B_test_label      = B_test_label\n",
    "        self.M_test_data       = M_test_data\n",
    "        self.M_test_label      = M_test_label\n",
    "        self.R_test_data       = R_test_data\n",
    "        self.OL_data_test_vow  = OL_data_test_vow\n",
    "        self.OL_label_test_vow = OL_label_test_vow\n",
    "        \n",
    "OL_testing_data = Data_Container()"
   ]
  },
  {
   "cell_type": "markdown",
   "metadata": {},
   "source": [
    "## Define ML model"
   ]
  },
  {
   "cell_type": "code",
   "execution_count": 11,
   "metadata": {},
   "outputs": [],
   "source": [
    "def lettToSoft(ary, labels):\n",
    "    ret_ary = np.zeros([len(ary), len(labels)])\n",
    "    \n",
    "    for i in range(0, len(ary)):\n",
    "        for j in range(0, len(labels)):\n",
    "            if(ary[i]==labels[j]):\n",
    "                ret_ary[i,j] = 1\n",
    "\n",
    "            \n",
    "    return ret_ary   "
   ]
  },
  {
   "cell_type": "code",
   "execution_count": 12,
   "metadata": {},
   "outputs": [],
   "source": [
    "# Basic parameters\n",
    "optimizer = 'Adam'\n",
    "loss    = 'categorical_crossentropy'\n",
    "metrics = ['accuracy']\n",
    "vowels = ['A', 'E', 'I', 'O', 'U']\n",
    "\n",
    "epochs = 20         # 20\n",
    "batch_size = 16    # 16"
   ]
  },
  {
   "cell_type": "code",
   "execution_count": 13,
   "metadata": {},
   "outputs": [],
   "source": [
    "# Model structure\n",
    "\n",
    "# Buoni risultati con 3 layer da 300\n",
    "\n",
    "model = Sequential()\n",
    "model.add(Dense(128, activation = 'relu', input_shape =(TF_data_train.shape[1],),name='input_layer'))\n",
    "model.add(Dense(300, activation = 'relu', name='hidden1'))   # 300 ERA MOLTO BUONO\n",
    "model.add(Dense(5, activation='softmax' , name = 'output_layer'))"
   ]
  },
  {
   "cell_type": "code",
   "execution_count": 14,
   "metadata": {},
   "outputs": [
    {
     "name": "stdout",
     "output_type": "stream",
     "text": [
      "Model: \"sequential\"\n",
      "_________________________________________________________________\n",
      "Layer (type)                 Output Shape              Param #   \n",
      "=================================================================\n",
      "input_layer (Dense)          (None, 128)               76928     \n",
      "_________________________________________________________________\n",
      "hidden1 (Dense)              (None, 300)               38700     \n",
      "_________________________________________________________________\n",
      "output_layer (Dense)         (None, 5)                 1505      \n",
      "=================================================================\n",
      "Total params: 117,133\n",
      "Trainable params: 117,133\n",
      "Non-trainable params: 0\n",
      "_________________________________________________________________\n"
     ]
    }
   ],
   "source": [
    "model.compile(optimizer= optimizer, loss=loss, metrics=metrics) #use sparse is each letter is an integer (es a->1 b->2 c->3 ..)\n",
    "model.summary()"
   ]
  },
  {
   "cell_type": "markdown",
   "metadata": {},
   "source": [
    "### Train"
   ]
  },
  {
   "cell_type": "code",
   "execution_count": 15,
   "metadata": {
    "scrolled": true
   },
   "outputs": [
    {
     "name": "stdout",
     "output_type": "stream",
     "text": [
      "Epoch 1/20\n",
      "22/22 - 0s - loss: 168.9684 - accuracy: 0.4659 - val_loss: 43.2979 - val_accuracy: 0.7753\n",
      "Epoch 2/20\n",
      "22/22 - 0s - loss: 20.9540 - accuracy: 0.7983 - val_loss: 19.3974 - val_accuracy: 0.8315\n",
      "Epoch 3/20\n",
      "22/22 - 0s - loss: 10.2720 - accuracy: 0.8636 - val_loss: 16.8361 - val_accuracy: 0.8539\n",
      "Epoch 4/20\n",
      "22/22 - 0s - loss: 8.6522 - accuracy: 0.8778 - val_loss: 13.9545 - val_accuracy: 0.8764\n",
      "Epoch 5/20\n",
      "22/22 - 0s - loss: 7.1067 - accuracy: 0.8977 - val_loss: 11.4947 - val_accuracy: 0.8202\n",
      "Epoch 6/20\n",
      "22/22 - 0s - loss: 8.7695 - accuracy: 0.8977 - val_loss: 3.5303 - val_accuracy: 0.9438\n",
      "Epoch 7/20\n",
      "22/22 - 0s - loss: 3.1357 - accuracy: 0.9489 - val_loss: 12.2660 - val_accuracy: 0.8539\n",
      "Epoch 8/20\n",
      "22/22 - 0s - loss: 3.3566 - accuracy: 0.9176 - val_loss: 8.0429 - val_accuracy: 0.8539\n",
      "Epoch 9/20\n",
      "22/22 - 0s - loss: 2.4954 - accuracy: 0.9489 - val_loss: 13.8656 - val_accuracy: 0.9101\n",
      "Epoch 10/20\n",
      "22/22 - 0s - loss: 4.8878 - accuracy: 0.9403 - val_loss: 7.8251 - val_accuracy: 0.8989\n",
      "Epoch 11/20\n",
      "22/22 - 0s - loss: 1.7927 - accuracy: 0.9517 - val_loss: 9.1654 - val_accuracy: 0.9213\n",
      "Epoch 12/20\n",
      "22/22 - 0s - loss: 2.8743 - accuracy: 0.9574 - val_loss: 3.6135 - val_accuracy: 0.9551\n",
      "Epoch 13/20\n",
      "22/22 - 0s - loss: 2.2297 - accuracy: 0.9659 - val_loss: 2.9577 - val_accuracy: 0.9663\n",
      "Epoch 14/20\n",
      "22/22 - 0s - loss: 1.5308 - accuracy: 0.9659 - val_loss: 1.8177 - val_accuracy: 0.9663\n",
      "Epoch 15/20\n",
      "22/22 - 0s - loss: 1.2258 - accuracy: 0.9574 - val_loss: 4.1084 - val_accuracy: 0.9551\n",
      "Epoch 16/20\n",
      "22/22 - 0s - loss: 7.7366 - accuracy: 0.9261 - val_loss: 22.7167 - val_accuracy: 0.8652\n",
      "Epoch 17/20\n",
      "22/22 - 0s - loss: 10.0458 - accuracy: 0.9006 - val_loss: 10.9007 - val_accuracy: 0.8764\n",
      "Epoch 18/20\n",
      "22/22 - 0s - loss: 3.4599 - accuracy: 0.9574 - val_loss: 10.4157 - val_accuracy: 0.9101\n",
      "Epoch 19/20\n",
      "22/22 - 0s - loss: 2.6124 - accuracy: 0.9602 - val_loss: 13.2190 - val_accuracy: 0.8764\n",
      "Epoch 20/20\n",
      "22/22 - 0s - loss: 3.2642 - accuracy: 0.9460 - val_loss: 3.8893 - val_accuracy: 0.9213\n",
      "\n",
      "Evaluation:\n",
      "WARNING:tensorflow:Callbacks method `on_test_batch_end` is slow compared to the batch time (batch time: 0.0000s vs `on_test_batch_end` time: 0.0010s). Check your callbacks.\n",
      "6/6 - 0s - loss: 9.5092 - accuracy: 0.9255\n"
     ]
    }
   ],
   "source": [
    "# Perform training\n",
    "train_hist = model.fit(TF_data_train, lettToSoft(TF_label_train, vowels), epochs=epochs, batch_size=batch_size, validation_split=0.2 , verbose=2)\n",
    "print('\\nEvaluation:')\n",
    "results = model.evaluate(TF_data_test, lettToSoft(TF_label_test, vowels), verbose=2)"
   ]
  },
  {
   "cell_type": "code",
   "execution_count": 16,
   "metadata": {},
   "outputs": [
    {
     "data": {
      "image/png": "[encoded data removed]",
      "text/plain": [
       "<Figure size 432x288 with 1 Axes>"
      ]
     },
     "metadata": {
      "needs_background": "light"
     },
     "output_type": "display_data"
    }
   ],
   "source": [
    "hist_loss = train_hist.history['loss']\n",
    "hist_val_loss = train_hist.history['val_loss']\n",
    "epoch_list = list(range(epochs))\n",
    "plt.figure(1)\n",
    "plt.plot(epoch_list, hist_loss, 'bo', label='Training loss')\n",
    "plt.plot(epoch_list, hist_val_loss, 'r', label='Validation loss')\n",
    "plt.title('Training and validation loss')\n",
    "plt.legend()\n",
    "plt.show()"
   ]
  },
  {
   "cell_type": "markdown",
   "metadata": {},
   "source": [
    "### Test on random vowel"
   ]
  },
  {
   "cell_type": "code",
   "execution_count": 17,
   "metadata": {},
   "outputs": [
    {
     "name": "stdout",
     "output_type": "stream",
     "text": [
      "True       -> O\n",
      "Prediction -> O\n"
     ]
    }
   ],
   "source": [
    "rand_n = int(random.uniform(0, TF_data_test.shape[0]))\n",
    "sample_data = TF_data_test[rand_n,:].reshape(1,TF_data_test.shape[1])\n",
    "sample_label = TF_label_test[rand_n]\n",
    "\n",
    "pred = model.predict(sample_data)\n",
    "print(f'True       -> {sample_label}')\n",
    "print(f'Prediction -> {vowels[np.argmax(pred)]}' )"
   ]
  },
  {
   "cell_type": "markdown",
   "metadata": {},
   "source": [
    "### Plot performance of model"
   ]
  },
  {
   "cell_type": "code",
   "execution_count": 18,
   "metadata": {
    "scrolled": false
   },
   "outputs": [],
   "source": [
    "#myPlotT.plotTest(TF_data_test, TF_label_test, model, vowels)"
   ]
  },
  {
   "cell_type": "markdown",
   "metadata": {},
   "source": [
    "### Save model"
   ]
  },
  {
   "cell_type": "code",
   "execution_count": 19,
   "metadata": {},
   "outputs": [],
   "source": [
    "def saveParams(SAVE_MODEL_PATH, model):\n",
    "    \n",
    "    new_file = open(SAVE_MODEL_PATH + '/params.txt', \"w\")\n",
    "\n",
    "    new_file.write(\"PARAMETERS SAVED FROM THE TRAINING\")\n",
    "    new_file.write(\"\\n Batch size: \" + str(batch_size))\n",
    "    new_file.write(\"\\n Epochs: \" + str(epochs))\n",
    "    new_file.write(\"\\n Validation split: \" + str(0.2))\n",
    "    new_file.write(\"\\n Metrics: \" + str(metrics))\n",
    "    new_file.write(\"\\n Optimizer: \" + optimizer)\n",
    "    new_file.write(\"\\n Loss: \" + loss + \"\\n\\n\")\n",
    "\n",
    "    model.summary(print_fn=lambda x: new_file.write(x + '\\n'))"
   ]
  },
  {
   "cell_type": "code",
   "execution_count": 20,
   "metadata": {},
   "outputs": [],
   "source": [
    "SAVE_MODEL_PATH = \"C:/Users/massi/UNI/Magistrale/Anno 5/Semestre 2/Tesi/Code/Python/Saved_models/model/\"\n",
    "model.save(SAVE_MODEL_PATH + \"model.h5\")\n",
    "saveParams(SAVE_MODEL_PATH, model)"
   ]
  },
  {
   "cell_type": "markdown",
   "metadata": {},
   "source": [
    "#  ------------------------------------------------------------------------"
   ]
  },
  {
   "cell_type": "markdown",
   "metadata": {},
   "source": [
    "# TinyOL"
   ]
  },
  {
   "cell_type": "markdown",
   "metadata": {},
   "source": [
    "### Functions"
   ]
  },
  {
   "cell_type": "code",
   "execution_count": 21,
   "metadata": {},
   "outputs": [],
   "source": [
    "class Custom_Layer(object):\n",
    "    def __init__(self, model):\n",
    "\n",
    "        # Related to the layer\n",
    "        self.ML_frozen = keras.models.Sequential(model.layers[:-1])\n",
    "        self.ML_frozen.compile()\n",
    "        self.W = np.array(model.layers[-1].get_weights()[0])\n",
    "        self.b = np.array(model.layers[-1].get_weights()[1])\n",
    "        self.label = ['A', 'E', 'I', 'O', 'U']\n",
    "        self.l_rate = 0\n",
    "        \n",
    "        self.width = self.W.shape[0]\n",
    "        \n",
    "        \n",
    "        # Related to the results fo the model\n",
    "        self.confusion_matrix = []\n",
    "        self.correct_ary = []\n",
    "        self.mistake_ary = []\n",
    "        self.totals_ary = []\n",
    "        \n",
    "        self.macro_avrg_precision = 0\n",
    "        self.macro_avrg_recall = 0\n",
    "        self.macro_avrg_F1score = 0\n",
    "        \n",
    "        self.title = ''\n",
    "        self.filename = ''\n",
    "        \n",
    "        \n",
    "\n",
    "    def predict(self, x):\n",
    "        mat_prod = np.matmul(x, self.W) + self.b\n",
    "        return tf.nn.softmax(mat_prod)      "
   ]
  },
  {
   "cell_type": "code",
   "execution_count": 22,
   "metadata": {},
   "outputs": [],
   "source": [
    "def checkNewClass(model, y_true, y_true_soft, i, gauss):\n",
    "    \n",
    "    # Check if letter is new\n",
    "    found = 0\n",
    "    for k in range(0, len(model.label)):\n",
    "        if (y_true[i] == model.label[k]):\n",
    "            found = 1\n",
    "\n",
    "    # If first time seeing this letter\n",
    "    if (found == 0):\n",
    "\n",
    "        model.label.append(y_true[i])   # Add new letter to label\n",
    "        print(f'\\n\\n    New letter detected -> letter \\033[1m{y_true[i]}\\033[0m \\n')\n",
    "    \n",
    "        if(gauss==0):\n",
    "            model.W = np.hstack((model.W, np.zeros([model.width,1])))\n",
    "            model.b = np.hstack((model.b, np.zeros([1])))\n",
    "        elif(gauss==1):\n",
    "            gaussW = np.zeros([model.width,1])\n",
    "            for i in range(0,model.width):\n",
    "                gaussW[i,0] = random.gauss(0, 0.01)\n",
    "            gaussB = random.gauss(0, 0.01)\n",
    "            model.W = np.hstack((model.W, gaussW))\n",
    "            model.b = np.hstack((model.b, gaussB))\n",
    "        elif(gauss==2):  # sporcariaper far funzionare LWF\n",
    "            model.W = np.hstack((model.W, np.zeros([model.width,1])))\n",
    "            model.b = np.hstack((model.b, np.zeros([1])))\n",
    "            \n",
    "                   \n",
    "        print(f'    Now W is -> {model.W.shape}              and b is -> {model.b.shape}\\n\\n')\n",
    "\n",
    "        y_true_soft = lettToSoft(y_true, model.label)\n",
    "                \n",
    "    return y_true_soft"
   ]
  },
  {
   "cell_type": "markdown",
   "metadata": {},
   "source": [
    "### OL"
   ]
  },
  {
   "cell_type": "code",
   "execution_count": 23,
   "metadata": {},
   "outputs": [],
   "source": [
    "def trainOneEpoch_OL(model, x, y_true):\n",
    "    \n",
    "    print('**********************************\\nPerforming training with OL METHOD - STOCHASTICH\\n')\n",
    "   \n",
    "    cntr=1\n",
    "    learn_rate = model.l_rate\n",
    "    tot_samples = x.shape[0]\n",
    "    \n",
    "    y_true_soft = lettToSoft(y_true, model.label)  # Transform the true label letters in softmax\n",
    "        \n",
    "    # Cycle over all samples\n",
    "    for i in range(0, tot_samples):\n",
    "        \n",
    "        y_true_soft = checkNewClass(model, y_true, y_true_soft, i, 0)   # Check if letter is new\n",
    "        \n",
    "        # PPREDICTION\n",
    "        y_ML = model.ML_frozen.predict(x[i,:].reshape(1,x.shape[1]))\n",
    "        y_pred = model.predict(y_ML[0,:])        \n",
    "          \n",
    "        # BACKPROPAGATION\n",
    "        cost = y_pred-y_true_soft[i,:]\n",
    "\n",
    "        for j in range(0,model.W.shape[0]):\n",
    "            # Update weights\n",
    "            deltaW = np.multiply(cost, y_ML[0,j])\n",
    "            dW = np.multiply(deltaW, learn_rate)\n",
    "            model.W[j,:] = model.W[j,:]-dW\n",
    "\n",
    "        # Update biases\n",
    "        db = np.multiply(cost, learn_rate)\n",
    "        model.b = model.b-db\n",
    "        \n",
    "        print(f\"\\r    Currently at {np.round(np.round(cntr/x.shape[0],4)*100,2)}% of dataset\", end=\"\")\n",
    "        cntr +=1"
   ]
  },
  {
   "cell_type": "code",
   "execution_count": 24,
   "metadata": {},
   "outputs": [],
   "source": [
    "def trainOneEpoch_OL_miniBatch(model, x, y_true, batch_size):\n",
    "    \n",
    "    print('**********************************\\nPerforming training with OL METHOD - MINI BATCH\\n')\n",
    "    \n",
    "    cntr=1\n",
    "    learn_rate = model.l_rate\n",
    "    tot_samples = x.shape[0]\n",
    "    sum_gradW = np.zeros([model.W.shape[0], 8])\n",
    "    sum_gradB = np.zeros([1, 8])\n",
    "    \n",
    "    y_true_soft = lettToSoft(y_true, model.label)     # Transform the true label letters in softmax array\n",
    "        \n",
    "    # Cycle over all samples\n",
    "    for i in range(0, tot_samples):\n",
    "        \n",
    "        y_true_soft = checkNewClass(model, y_true, y_true_soft, i, 0)   # Check if letter is new\n",
    "        \n",
    "        h = model.W.shape[0]\n",
    "        w = model.W.shape[1]\n",
    "        \n",
    "        if(i%batch_size==0):\n",
    "                model.W = model.W - np.multiply(sum_gradW, 1/batch_size*learn_rate)[:h,:w]\n",
    "                model.b = model.b - np.multiply(sum_gradB, 1/batch_size*learn_rate)[0,:w]\n",
    "\n",
    "                sum_gradW = np.zeros([h, 8])  #reset each batch  \n",
    "                sum_gradB = np.zeros([1, 8])  #reset each batch   \n",
    "        \n",
    "        # PREDICTION\n",
    "        y_ML = model.ML_frozen.predict(x[i,:].reshape(1,x.shape[1]))\n",
    "        y_pred = model.predict(y_ML[0,:])\n",
    "\n",
    "        # BACKPROPAGATION\n",
    "        cost = y_pred-y_true_soft[i,:]\n",
    "\n",
    "        for j in range(0,h): \n",
    "            # Update weights\n",
    "            tmp = np.multiply(cost, y_ML[0,j]) \n",
    "            deltaW = np.zeros([1,8])\n",
    "            deltaW[0,:w] = tmp  \n",
    "            sum_gradW[j,:] += deltaW[0,:]\n",
    "\n",
    "        # Update biases\n",
    "        deltaB = np.zeros([1,8])\n",
    "        deltaB[0,:w] = cost\n",
    "        sum_gradB += deltaB\n",
    "\n",
    "        # If last iteration\n",
    "        if(i==tot_samples-1):\n",
    "            model.W = model.W - np.multiply(sum_gradW, 1/batch_size*learn_rate)[:h,:w]\n",
    "            model.b = model.b - np.multiply(sum_gradB, 1/batch_size*learn_rate)[0,:w]\n",
    "        \n",
    "        print(f\"\\r    Currently at {np.round(np.round(cntr/x.shape[0],4)*100,2)}% of dataset\", end=\"\")\n",
    "        cntr +=1"
   ]
  },
  {
   "cell_type": "markdown",
   "metadata": {},
   "source": [
    "### OL v2"
   ]
  },
  {
   "cell_type": "code",
   "execution_count": 25,
   "metadata": {},
   "outputs": [],
   "source": [
    "  def trainOneEpoch_OL_v2(model, x, y_true):\n",
    "    \n",
    "    print('**********************************\\nPerforming training with CWR METHOD - STOCASTICH \\n')\n",
    "    \n",
    "    cntr=1\n",
    "    learn_rate = model.l_rate\n",
    "    tot_samples = x.shape[0]\n",
    "    \n",
    "    y_true_soft = lettToSoft(y_true, model.label)    # Transform the true label letters in softmax\n",
    "            \n",
    "    # Cycle over every sample\n",
    "    for i in range(0, tot_samples):\n",
    "        y_true_soft = checkNewClass(model, y_true, y_true_soft, i, 1)    # Check if letter is new\n",
    "        \n",
    "        # PREDICTION\n",
    "        y_ML = model.ML_frozen.predict(x[i,:].reshape(1,x.shape[1]))\n",
    "        y_pred = model.predict(y_ML[0,:])\n",
    "\n",
    "        # BACKPROPAGATION\n",
    "        cost = y_pred-y_true_soft[i,:]  \n",
    "\n",
    "        for j in range(0,model.W.shape[0]):\n",
    "            # Update weights\n",
    "            deltaW = np.multiply(cost, y_ML[0,j])\n",
    "            dW = np.multiply(deltaW, learn_rate)\n",
    "            model.W[j,5:] = model.W[j,5:]-dW[5:]\n",
    "\n",
    "        # Update biases\n",
    "        db = np.multiply(cost, learn_rate)\n",
    "        model.b[5:] = model.b[5:]-db[5:]\n",
    "        \n",
    "        print(f\"\\r    Currently at {np.round(np.round(cntr/x.shape[0],4)*100,2)}% of dataset\", end=\"\")\n",
    "        cntr +=1"
   ]
  },
  {
   "cell_type": "code",
   "execution_count": 55,
   "metadata": {},
   "outputs": [],
   "source": [
    "def trainOneEpoch_OL_v2_miniBatch(model, x, y_true, batch_size):\n",
    "    \n",
    "    print('**********************************\\nPerforming training with CWR - MINI BATCH \\n ')  \n",
    "\n",
    "    cntr=1\n",
    "    learn_rate = model.l_rate\n",
    "    tot_samples = x.shape[0]\n",
    "    sum_gradW = np.zeros([model.W.shape[0], 8])\n",
    "    sum_gradB = np.zeros([1, 8])\n",
    "    \n",
    "    # Transform the true label letters in softmax array\n",
    "    y_true_soft = lettToSoft(y_true, model.label)\n",
    "           \n",
    "    # Cycle over all input samples\n",
    "    for i in range(0, tot_samples):\n",
    "        \n",
    "        y_true_soft = checkNewClass(model, y_true, y_true_soft, i, 0) # Check if letter is new\n",
    "        \n",
    "        h = model.W.shape[0]\n",
    "        w = model.W.shape[1]\n",
    "        \n",
    "        # If beginning of batch\n",
    "        if(i%batch_size==0):\n",
    "                model.W[:,5:] = model.W[:,5:] - np.multiply(sum_gradW, 1/batch_size*learn_rate)[:h,5:w]\n",
    "                model.b[5:]   = model.b[5:]   - np.multiply(sum_gradB, 1/batch_size*learn_rate)[0,5:w]\n",
    "                sum_gradW = np.zeros([h, 8])  # reset\n",
    "                sum_gradB = np.zeros([1, 8])  # reset\n",
    "            \n",
    "        # PREDICTION\n",
    "        y_ML = model.ML_frozen.predict(x[i,:].reshape(1,x.shape[1]))\n",
    "        y_pred = model.predict(y_ML[0,:])\n",
    "\n",
    "        # BACKPROPAGATION\n",
    "        cost = y_pred-y_true_soft[i,:]\n",
    "\n",
    "        for j in range(0,h):  \n",
    "            # Update weights\n",
    "            tmp = np.multiply(cost, y_ML[0,j]) \n",
    "            deltaW = np.zeros([1,8])\n",
    "            deltaW[0,:tmp.shape[0]] = tmp  \n",
    "            sum_gradW[j,:] += deltaW[0,:]\n",
    "\n",
    "        # Update biases\n",
    "        deltaB = np.zeros([1,8])\n",
    "        deltaB[0,:cost.shape[0]] = cost\n",
    "        sum_gradB += deltaB\n",
    "\n",
    "        # If last iteration\n",
    "        if(i==tot_samples-1):\n",
    "            model.W[:,5:] = model.W[:,5:] - np.multiply(sum_gradW, 1/batch_size*learn_rate)[:h,5:w]\n",
    "            model.b[5:]   = model.b[5:]   - np.multiply(sum_gradB, 1/batch_size*learn_rate)[0,5:w]\n",
    "        \n",
    "        print(f\"\\r    Currently at {np.round(np.round(cntr/x.shape[0],4)*100,2)}% of dataset\", end=\"\")\n",
    "        cntr +=1"
   ]
  },
  {
   "cell_type": "markdown",
   "metadata": {},
   "source": [
    "### LWF"
   ]
  },
  {
   "cell_type": "code",
   "execution_count": 103,
   "metadata": {},
   "outputs": [],
   "source": [
    "def trainOneEpochOL_LWF(model, x, y_true):\n",
    "    \n",
    "    print('**********************************\\nPerforming training with LWF - STOCHASTIC\\n ') \n",
    "    \n",
    "    lam  = 0\n",
    "    cntr = 1\n",
    "    learn_rate = model.l_rate\n",
    "    tot_samples = x.shape[0]\n",
    "    y_LWF = np.zeros([1, 8])    # Define container for LWF\n",
    "\n",
    "    # DEFINE ORIGINAL WEIGHTS AND BIASES\n",
    "    LWF_w = model.W\n",
    "    LWF_b = model.b\n",
    "    \n",
    "    y_true_soft = lettToSoft(y_true, model.label)    # Transform the true label letters in softmax\n",
    "         \n",
    "    # Cycle over every sample\n",
    "    for i in range(0, tot_samples):\n",
    "        \n",
    "        y_true_soft = checkNewClass(model, y_true, y_true_soft, i, 2)   # Check if letter is new\n",
    "        \n",
    "        w = model.W.shape[1]\n",
    "        h = model.W.shape[0]\n",
    "        \n",
    "        # va da 1 a 0\n",
    "        lam = 100/(100+cntr)    #1-i/493    #  1/(20+cntr)        #\n",
    "             \n",
    "        # PREDICTIONS\n",
    "        y_ML = model.ML_frozen.predict(x[i,:].reshape(1,x.shape[1]))\n",
    "        y_pred = model.predict(y_ML[0,:])\n",
    "        y_LWF[0,:5] = tf.nn.softmax(np.matmul(y_ML, LWF_w) + LWF_b)           \n",
    "          \n",
    "        \n",
    "        # BACKPROPAGATION        \n",
    "        cost_norm = y_pred-y_true_soft[i,:]\n",
    "        cost_LWF  = y_pred-y_LWF[0,:w]\n",
    "\n",
    "        for j in range(0,h):\n",
    "            # Update weights\n",
    "            deltaW_norm = np.multiply(cost_norm,1-lam)\n",
    "            deltaW_LWF  = np.multiply(cost_LWF, lam)\n",
    "            deltaW      = np.multiply(deltaW_norm+deltaW_LWF, y_ML[0,j])\n",
    "            dW          = np.multiply(deltaW, learn_rate)\n",
    "            model.W[j,:] = model.W[j,:]-dW\n",
    "\n",
    "        # Update biases\n",
    "        db_norm = np.multiply(cost_norm, 1-lam)\n",
    "        db_LWF  = np.multiply(cost_LWF, lam)\n",
    "        db      = np.multiply(db_norm+db_LWF, learn_rate)\n",
    "        model.b = model.b-db\n",
    "        \n",
    "        print(f\"\\r    Currently at {np.round(np.round(cntr/x.shape[0],4)*100,2)}% of dataset\", end=\"\")\n",
    "        cntr +=1"
   ]
  },
  {
   "cell_type": "code",
   "execution_count": 104,
   "metadata": {},
   "outputs": [],
   "source": [
    "def trainOneEpochOL_LWF_v2_VECCHIO(model, x, y_true, batch_size):\n",
    "    \n",
    "    print('**********************************\\nPerforming training with LWF - MINI BATCH\\n')\n",
    "    \n",
    "    lam  = 0\n",
    "    cntr = 1\n",
    "    learn_rate = model.l_rate\n",
    "    tot_samples = x.shape[0]\n",
    "    \n",
    "    y_true_soft = lettToSoft(y_true, model.label)  # Transform the true label letters in softmax array\n",
    "        \n",
    "    # Initialize now and then reset it once every batch_size\n",
    "    sum_gradW = np.zeros([model.W.shape[0], 8])\n",
    "    sum_gradB = np.zeros([1, 8])\n",
    "    \n",
    "    LWF_w   = np.zeros([model.W.shape[0], 8]) \n",
    "    LWF_w[:model.W.shape[0], :model.W.shape[1]] = model.W\n",
    "    LWF_b   = np.zeros([1, 8]) \n",
    "    LWF_b[0, :model.W.shape[1]] = model.b\n",
    "    \n",
    "    # Define a matrix that I can then fill with the initial inference\n",
    "    y_LWF = np.zeros([ x.shape[0], 8])\n",
    "    \n",
    "    # For every sample in the dataset given\n",
    "    for i in range(0, tot_samples):\n",
    "        \n",
    "        y_true_soft = checkNewClass(model, y_true, y_true_soft, i, 0)   # Check if letter is new\n",
    "        \n",
    "        h = model.W.shape[0]\n",
    "        w = model.W.shape[1]\n",
    "        \n",
    "        # END OF BATCH\n",
    "        if(i%batch_size==0):\n",
    "            model.W = model.W - np.multiply(sum_gradW, 1/batch_size*learn_rate)[:h, :w]\n",
    "            model.b = model.b - np.multiply(sum_gradB, 1/batch_size*learn_rate)[0,:w]\n",
    "\n",
    "            sum_gradW = np.zeros([h, 8])  # reset\n",
    "            sum_gradB = np.zeros([1, 8])  # reset\n",
    "            \n",
    "            LWF_w[:,:w] = np.copy(model.W)\n",
    "            LWF_b[0,:w] = np.copy(model.b)\n",
    "                \n",
    "        if(cntr<batch_size):\n",
    "            lam = 0\n",
    "        else:\n",
    "            lam = 1-batch_size/cntr  #(cntr/493)   va da 0 a 1\n",
    "        #lam = cntr/493 va  da 0 a 1\n",
    "    \n",
    "        # PREDICTION - Frozen + OL\n",
    "        y_ML = model.ML_frozen.predict(x[i,:].reshape(1,x.shape[1]))\n",
    "        y_pred = model.predict(y_ML[0,:])        \n",
    "        y_LWF[0,:w] = tf.nn.softmax(np.matmul(y_ML, LWF_w[:,:w]) + LWF_b[0,:w])\n",
    "         \n",
    "        # ---- BACKPROPAGATION | MINI BATCH + LWF\n",
    "        cost_norm = y_pred-y_true_soft[i,:]\n",
    "        cost_LWF  = y_pred-y_LWF[0,:w]\n",
    "        \n",
    "        tmp_d_cost_norm = np.multiply(cost_norm, 1-lam)\n",
    "        tmp_d_cost_LWF  = np.multiply(cost_LWF,  lam)\n",
    "\n",
    "        for j in range(0,h):\n",
    "\n",
    "            # Update weights\n",
    "            tmp_tot      = np.multiply(tmp_d_cost_norm+tmp_d_cost_LWF, y_ML[0,j])\n",
    "            deltaW       = np.zeros([1,8])\n",
    "            deltaW[0,:w] = tmp_tot \n",
    "            sum_gradW[j,:] += deltaW[0,:] \n",
    "            \n",
    "            \n",
    "\n",
    "        # Update biases  \n",
    "        deltaB       = np.zeros([1,8])\n",
    "        deltaB[0,:w] = tmp_d_cost_norm+tmp_d_cost_LWF\n",
    "        sum_gradB += deltaB\n",
    "            \n",
    "        # if is last iteration , update the matrix\n",
    "        if(i==tot_samples-1):\n",
    "            model.W = model.W - np.multiply(sum_gradW, 1/batch_size*learn_rate)[:h, :w]\n",
    "            model.b = model.b - np.multiply(sum_gradB, 1/batch_size*learn_rate)[0,:w]\n",
    "        \n",
    "        print(f\"\\r    Currently at {np.round(np.round(cntr/x.shape[0],4)*100,2)}% of dataset\", end=\"\")\n",
    "        cntr +=1"
   ]
  },
  {
   "cell_type": "markdown",
   "metadata": {},
   "source": [
    "### CWR"
   ]
  },
  {
   "cell_type": "code",
   "execution_count": 58,
   "metadata": {},
   "outputs": [],
   "source": [
    "def trainOneEpoch_CWR(model, x, y_true, batch_size):\n",
    "        \n",
    "    print('**********************************\\nPerforming training CWR \\n ')  \n",
    "\n",
    "    cntr=1\n",
    "    learn_rate = model.l_rate\n",
    "    tot_samples = x.shape[0]\n",
    "    TW = np.zeros([model.W.shape[0], 8])\n",
    "    TB = np.zeros([1, 8])\n",
    "    found_lett = np.zeros([1,8])\n",
    "    \n",
    "    y_true_soft = lettToSoft(y_true, model.label)    # Transform the true label letters in softmax array\n",
    "           \n",
    "    # Cycle over all input samples\n",
    "    for i in range(0, tot_samples):\n",
    "        \n",
    "        y_true_soft = checkNewClass(model, y_true, y_true_soft, i, 0) # Check if letter is new\n",
    "        \n",
    "        h = model.W.shape[0]\n",
    "        w = model.W.shape[1]\n",
    "        \n",
    "        dummy = 0\n",
    "        \n",
    "        # If beginning of batch\n",
    "        if(i%batch_size==0 and i!=0): \n",
    "            for k in range(0, w):\n",
    "                if(found_lett[0,k]==0):\n",
    "                    dummy = 0\n",
    "                    #model.W[:,k] = np.copy(TW[:,k])\n",
    "                    #model.b[k]   = np.copy(TB[0,k])\n",
    "                else:\n",
    "                    tempW = np.multiply(model.W[:,k], found_lett[0,k])\n",
    "                    tempB = np.multiply(model.b[k]  , found_lett[0,k])\n",
    "                    model.W[:,k] = np.multiply(tempW+TW[:,k], 1/(found_lett[0,k]+1))\n",
    "                    model.b[k]   = np.multiply(tempB+TB[0,k], 1/(found_lett[0,k]+1))\n",
    "                    \n",
    "            TW[:h,:w]  = np.copy(model.W)\n",
    "            TB[0,:w]   = np.copy(model.b)\n",
    "            found_lett = np.zeros([1,8])  # reset\n",
    "        elif(i==0):\n",
    "            TW = np.zeros([h, 8])         # reset  \n",
    "            TB = np.zeros([1, 8])         # reset  \n",
    "            found_lett = np.zeros([1,8])  # reset\n",
    "                \n",
    "        found_lett[0,np.argmax(y_true_soft[i,:])] += 1  # update the letter counter\n",
    "            \n",
    "        # PREDICTION\n",
    "        y_ML = model.ML_frozen.predict(x[i,:].reshape(1,x.shape[1]))\n",
    "        y_pred = tf.nn.softmax(np.matmul(y_ML, TW) + TB)\n",
    "\n",
    "        # BACKPROPAGATION\n",
    "        cost = y_pred[0,:w]-y_true_soft[i,:]\n",
    "\n",
    "        # Update weights\n",
    "        for j in range(0,h):\n",
    "            deltaW = np.multiply(cost, y_ML[0,j])\n",
    "            dW = np.multiply(deltaW, learn_rate)\n",
    "            TW[j,:w] = TW[j,:w] - dW\n",
    "\n",
    "        # Update biases\n",
    "        db = np.multiply(cost, learn_rate)\n",
    "        TB[0,:w] = TB[0,:w]-db\n",
    "\n",
    "        # If last iteration\n",
    "        if(i==tot_samples-1):\n",
    "            for k in range(5, w):\n",
    "                if(found_lett[0,k]==0):\n",
    "                    dummy = 0\n",
    "                    #model.W[:,k] = np.copy(TW[:,k])\n",
    "                    #model.b[k]   = np.copy(TB[0,k])\n",
    "                else:\n",
    "                    tempW = np.multiply(model.W[:,k], found_lett[0,k])\n",
    "                    tempB = np.multiply(model.b[k]  , found_lett[0,k])\n",
    "                    model.W[:,k] = np.multiply(tempW+TW[:,k], 1/(found_lett[0,k]+1))\n",
    "                    model.b[k]   = np.multiply(tempB+TB[0,k], 1/(found_lett[0,k]+1))\n",
    "        \n",
    "        print(f\"\\r    Currently at {np.round(np.round(cntr/x.shape[0],4)*100,2)}% of dataset\", end=\"\")\n",
    "        cntr +=1\n",
    "        "
   ]
  },
  {
   "cell_type": "markdown",
   "metadata": {},
   "source": [
    "### Create ML model (cut model)"
   ]
  },
  {
   "cell_type": "code",
   "execution_count": 59,
   "metadata": {},
   "outputs": [
    {
     "name": "stdout",
     "output_type": "stream",
     "text": [
      "Model: \"sequential_5\"\n",
      "_________________________________________________________________\n",
      "Layer (type)                 Output Shape              Param #   \n",
      "=================================================================\n",
      "input_layer (Dense)          (None, 128)               76928     \n",
      "_________________________________________________________________\n",
      "hidden1 (Dense)              (None, 300)               38700     \n",
      "=================================================================\n",
      "Total params: 115,628\n",
      "Trainable params: 115,628\n",
      "Non-trainable params: 0\n",
      "_________________________________________________________________\n"
     ]
    }
   ],
   "source": [
    "ML_model = keras.models.Sequential(model.layers[:-1])\n",
    "ML_model.summary()\n",
    "ML_model.compile()"
   ]
  },
  {
   "cell_type": "code",
   "execution_count": 60,
   "metadata": {},
   "outputs": [],
   "source": [
    "SAVE_MODEL_CUT_PATH = \"C:/Users/massi/UNI/Magistrale/Anno 5/Semestre 2/Tesi/Code/Python/Saved_models/Frozen_model/\"\n",
    "ML_model.save(SAVE_MODEL_CUT_PATH + \"model.h5\")\n",
    "saveParams(SAVE_MODEL_CUT_PATH, ML_model)"
   ]
  },
  {
   "cell_type": "markdown",
   "metadata": {},
   "source": [
    "# Trainings"
   ]
  },
  {
   "cell_type": "code",
   "execution_count": 61,
   "metadata": {},
   "outputs": [],
   "source": [
    "num_epochs = 1\n",
    "batch_size_new = 10"
   ]
  },
  {
   "cell_type": "code",
   "execution_count": 62,
   "metadata": {},
   "outputs": [],
   "source": [
    "# DEFINE WHICH TRAINING AND PLOTS TO SHOW\n",
    "\n",
    "KERAS      = 1\n",
    "OL_vowels  = 0\n",
    "OL         = 0\n",
    "OL_mini    = 0\n",
    "LWF        = 1\n",
    "LWF_mini   = 1\n",
    "OL_v2      = 0\n",
    "OL_v2_mini = 0\n",
    "CWR        = 0"
   ]
  },
  {
   "cell_type": "markdown",
   "metadata": {},
   "source": [
    "### Define KERAS model"
   ]
  },
  {
   "cell_type": "code",
   "execution_count": 63,
   "metadata": {},
   "outputs": [],
   "source": [
    "if(KERAS==1):\n",
    "    Model_KERAS = Custom_Layer(model)\n",
    "    Model_KERAS.title = 'KERAS'\n",
    "    Model_KERAS.filename = 'origModel'\n",
    "    Model_KERAS.label = ['A','E','I','O','U','B','R','M']\n",
    "    # DO NOT PERFORM TRAINING, KEEP IT AS IT IS, IT'S THE ORIGINAL MODEL"
   ]
  },
  {
   "cell_type": "markdown",
   "metadata": {},
   "source": [
    "### Train with OL only on vowels"
   ]
  },
  {
   "cell_type": "code",
   "execution_count": 64,
   "metadata": {},
   "outputs": [],
   "source": [
    "if(OL_vowels==1):\n",
    "    Model_OL_vowels = Custom_Layer(model)\n",
    "    Model_OL_vowels.title = 'VOWELS'\n",
    "    Model_OL_vowels.filename = 'trainVowels'\n",
    "    Model_OL_vowels.l_rate = 0.000005\n",
    "    for i in range(0, num_epochs):\n",
    "        trainOneEpoch_OL(Model_OL_vowels, OL_data_train_vow, OL_label_train_vow)"
   ]
  },
  {
   "cell_type": "markdown",
   "metadata": {},
   "source": [
    "### Train with OL method"
   ]
  },
  {
   "cell_type": "code",
   "execution_count": 65,
   "metadata": {
    "scrolled": true
   },
   "outputs": [],
   "source": [
    "if(OL==1):\n",
    "    Model_OL_all_mixed = Custom_Layer(model)\n",
    "    Model_OL_all_mixed.title = 'OL' \n",
    "    Model_OL_all_mixed.filename = 'trainOL'\n",
    "    Model_OL_all_mixed.l_rate = 0.000005  \n",
    "    for i in range(0, num_epochs):\n",
    "        trainOneEpoch_OL(Model_OL_all_mixed, mixed_data_all, mixed_label_all)"
   ]
  },
  {
   "cell_type": "markdown",
   "metadata": {},
   "source": [
    "### Train with OL + mini batch"
   ]
  },
  {
   "cell_type": "code",
   "execution_count": 66,
   "metadata": {
    "scrolled": true
   },
   "outputs": [],
   "source": [
    "if(OL_mini==1):\n",
    "    Model_OL_mini = Custom_Layer(model)\n",
    "    Model_OL_mini.title = 'OL + mini batch'\n",
    "    Model_OL_mini.filename = 'trainOL_mini'\n",
    "    Model_OL_mini.l_rate = 0.0005  #0.0005\n",
    "    for i in range(0, num_epochs):\n",
    "        trainOneEpoch_OL_miniBatch(Model_OL_mini, mixed_data_all, mixed_label_all, batch_size_new)"
   ]
  },
  {
   "cell_type": "markdown",
   "metadata": {},
   "source": [
    "### Train with LWF"
   ]
  },
  {
   "cell_type": "code",
   "execution_count": 105,
   "metadata": {
    "scrolled": true
   },
   "outputs": [
    {
     "name": "stdout",
     "output_type": "stream",
     "text": [
      "**********************************\n",
      "Performing training with LWF - STOCHASTIC\n",
      " \n",
      "\n",
      "\n",
      "    New letter detected -> letter \u001b[1mB\u001b[0m \n",
      "\n",
      "    Now W is -> (300, 6)              and b is -> (6,)\n",
      "\n",
      "\n",
      "    Currently at 0.61% of dataset\n",
      "\n",
      "    New letter detected -> letter \u001b[1mR\u001b[0m \n",
      "\n",
      "    Now W is -> (300, 7)              and b is -> (7,)\n",
      "\n",
      "\n",
      "    Currently at 2.23% of dataset\n",
      "\n",
      "    New letter detected -> letter \u001b[1mM\u001b[0m \n",
      "\n",
      "    Now W is -> (300, 8)              and b is -> (8,)\n",
      "\n",
      "\n",
      "    Currently at 100.0% of dataset"
     ]
    }
   ],
   "source": [
    "if(LWF==1):\n",
    "    Model_LWF_1 = Custom_Layer(model)\n",
    "    Model_LWF_1.title = 'LWF'\n",
    "    Model_LWF_1.filename = 'trainLWF_v1'   \n",
    "    Model_LWF_1.l_rate = 0.0001\n",
    "    for i in range(0, num_epochs):\n",
    "        trainOneEpochOL_LWF(Model_LWF_1, mixed_data_all, mixed_label_all)   "
   ]
  },
  {
   "cell_type": "markdown",
   "metadata": {},
   "source": [
    "### Train LWF + mini batches"
   ]
  },
  {
   "cell_type": "code",
   "execution_count": 99,
   "metadata": {},
   "outputs": [],
   "source": [
    "def trainOneEpochOL_LWF_v2(model, x, y_true, batch_size):\n",
    "    \n",
    "    print('**********************************\\nPerforming training with LWF - MINI BATCH\\n')\n",
    "    \n",
    "    lam  = 0\n",
    "    cntr = 1\n",
    "    learn_rate = model.l_rate\n",
    "    tot_samples = x.shape[0]\n",
    "    \n",
    "    y_true_soft = lettToSoft(y_true, model.label)  # Transform the true label letters in softmax array\n",
    "        \n",
    "    w = model.W.shape[1]\n",
    "        \n",
    "    LWF_w = np.zeros([model.W.shape[0], 8]) # alocate\n",
    "    LWF_b = np.zeros([1, 8]) \n",
    "    y_LWF = np.zeros([1, 8])\n",
    "    \n",
    "    LWF_w[:,:w] = model.W   # copy from TF\n",
    "    LWF_b[0,:w] = model.b\n",
    "    \n",
    "    # For every sample in the dataset given\n",
    "    for i in range(0, tot_samples):\n",
    "        \n",
    "        y_true_soft = checkNewClass(model, y_true, y_true_soft, i, 0)   # Check if letter is new\n",
    "        \n",
    "        h = model.W.shape[0]\n",
    "        w = model.W.shape[1]\n",
    "        \n",
    "        # END OF BATCH\n",
    "        if(i%batch_size==0 and i!=0):            \n",
    "            LWF_w[:,:w] = np.copy(model.W)    # update the LWF w matrix\n",
    "            LWF_b[0,:w] = np.copy(model.b)    # update the LWF b matrix\n",
    "                \n",
    "        #lam = 1/(2+cntr)\n",
    "        if(cntr<batch_size):\n",
    "            lam = 1\n",
    "        else:\n",
    "            lam = batch_size/cntr  #(cntr/493)   va da 0 a 1\n",
    "    \n",
    "        # PREDICTION - Frozen + OL\n",
    "        y_ML = model.ML_frozen.predict(x[i,:].reshape(1,x.shape[1]))\n",
    "        y_pred = model.predict(y_ML[0,:])        \n",
    "        y_LWF[0,:w] = tf.nn.softmax(np.matmul(y_ML, LWF_w[:,:w]) + LWF_b[0,:w])\n",
    "\n",
    "         \n",
    "        # ---- BACKPROPAGATION | MINI BATCH + LWF        \n",
    "        cost_norm = y_pred-y_true_soft[i,:]\n",
    "        cost_LWF  = y_pred-y_LWF[0,:w]\n",
    "        \n",
    "        lam_cost_norm = np.multiply(cost_norm, 1-lam)\n",
    "        lam_cost_LWF  = np.multiply(cost_LWF,  lam)\n",
    "\n",
    "        for j in range(0,h):\n",
    "\n",
    "            # Update weights\n",
    "            deltaW = np.multiply(lam_cost_norm+lam_cost_LWF, y_ML[0,j])\n",
    "            dW = np.multiply(deltaW, learn_rate)\n",
    "            model.W[j,:] = model.W[j,:]-dW          \n",
    "            \n",
    "        # Update biases \n",
    "        db = np.multiply(lam_cost_norm+lam_cost_LWF, learn_rate)\n",
    "        model.b = model.b-db   \n",
    "                        \n",
    "        print(f\"\\r    Currently at {np.round(np.round(cntr/x.shape[0],4)*100,2)}% of dataset\", end=\"\")\n",
    "        cntr +=1"
   ]
  },
  {
   "cell_type": "code",
   "execution_count": 100,
   "metadata": {
    "scrolled": true
   },
   "outputs": [
    {
     "name": "stdout",
     "output_type": "stream",
     "text": [
      "**********************************\n",
      "Performing training with LWF - MINI BATCH\n",
      "\n",
      "\n",
      "\n",
      "    New letter detected -> letter \u001b[1mB\u001b[0m \n",
      "\n",
      "    Now W is -> (300, 6)              and b is -> (6,)\n",
      "\n",
      "\n",
      "    Currently at 0.61% of dataset\n",
      "\n",
      "    New letter detected -> letter \u001b[1mR\u001b[0m \n",
      "\n",
      "    Now W is -> (300, 7)              and b is -> (7,)\n",
      "\n",
      "\n",
      "    Currently at 2.23% of dataset\n",
      "\n",
      "    New letter detected -> letter \u001b[1mM\u001b[0m \n",
      "\n",
      "    Now W is -> (300, 8)              and b is -> (8,)\n",
      "\n",
      "\n",
      "    Currently at 100.0% of dataset"
     ]
    }
   ],
   "source": [
    "if(LWF_mini==1):\n",
    "    Model_LWF_2 = Custom_Layer(model)\n",
    "    Model_LWF_2.title = 'LWF + mini batch'\n",
    "    Model_LWF_2.filename = 'trainLWF_v2'\n",
    "    Model_LWF_2.l_rate = 0.0005 \n",
    "    for i in range(0, num_epochs):\n",
    "        trainOneEpochOL_LWF_v2(Model_LWF_2, mixed_data_all, mixed_label_all, batch_size_new)"
   ]
  },
  {
   "cell_type": "markdown",
   "metadata": {},
   "source": [
    "### Train with OL v2 "
   ]
  },
  {
   "cell_type": "code",
   "execution_count": 70,
   "metadata": {
    "scrolled": true
   },
   "outputs": [],
   "source": [
    "if(OL_v2==1):\n",
    "    Model_OL_v2 = Custom_Layer(model)\n",
    "    Model_OL_v2.title = 'OL v2' \n",
    "    Model_OL_v2.filename = 'trainOL_v2'\n",
    "    Model_OL_v2.l_rate = 0.0005\n",
    "    for i in range(0, num_epochs):\n",
    "        trainOneEpoch_OL_v2(Model_OL_v2, mixed_data_all, mixed_label_all)"
   ]
  },
  {
   "cell_type": "markdown",
   "metadata": {},
   "source": [
    "### Train with OL v2 + mini batch"
   ]
  },
  {
   "cell_type": "code",
   "execution_count": 71,
   "metadata": {
    "scrolled": true
   },
   "outputs": [],
   "source": [
    "if(OL_v2_mini==1):\n",
    "    Model_OL_v2_miniBatch = Custom_Layer(model)\n",
    "    Model_OL_v2_miniBatch.title = 'OL v2 + mini batch'\n",
    "    Model_OL_v2_miniBatch.filename = 'trainOL_v2_mini'\n",
    "    Model_OL_v2_miniBatch.l_rate = 0.0007\n",
    "    for i in range(0, num_epochs):\n",
    "        trainOneEpoch_OL_v2_miniBatch(Model_OL_v2_miniBatch, mixed_data_all, mixed_label_all, batch_size_new)"
   ]
  },
  {
   "cell_type": "markdown",
   "metadata": {},
   "source": [
    "### Train with CWR"
   ]
  },
  {
   "cell_type": "code",
   "execution_count": 72,
   "metadata": {
    "scrolled": true
   },
   "outputs": [],
   "source": [
    "if(CWR==1):\n",
    "    Model_CWR = Custom_Layer(model) \n",
    "    Model_CWR.title = 'CWR'\n",
    "    Model_CWR.filename = 'trainCWR'\n",
    "    Model_CWR.l_rate = 0.00005\n",
    "    for i in range(0, num_epochs):\n",
    "        trainOneEpoch_CWR(Model_CWR, mixed_data_all, mixed_label_all, 10)\n",
    "        # GOOD l rate 0.00005  - batch size 10"
   ]
  },
  {
   "cell_type": "markdown",
   "metadata": {},
   "source": [
    "# SIMULATION PLOTS"
   ]
  },
  {
   "cell_type": "markdown",
   "metadata": {},
   "source": [
    "### Original model"
   ]
  },
  {
   "cell_type": "code",
   "execution_count": 73,
   "metadata": {
    "scrolled": false
   },
   "outputs": [
    {
     "data": {
      "image/png": "[encoded data removed]",
      "text/plain": [
       "<Figure size 864x576 with 1 Axes>"
      ]
     },
     "metadata": {
      "needs_background": "light"
     },
     "output_type": "display_data"
    },
    {
     "data": {
      "image/png": "[encoded data removed]",
      "text/plain": [
       "<Figure size 720x432 with 2 Axes>"
      ]
     },
     "metadata": {
      "needs_background": "light"
     },
     "output_type": "display_data"
    },
    {
     "data": {
      "image/png": "[encoded data removed]",
      "text/plain": [
       "<Figure size 432x288 with 1 Axes>"
      ]
     },
     "metadata": {
      "needs_background": "light"
     },
     "output_type": "display_data"
    }
   ],
   "source": [
    "if(KERAS==1):\n",
    "    myPlotT.testOL(Model_KERAS, OL_testing_data)\n",
    "    myPlotT.plotTestOL(Model_KERAS)   \n",
    "    "
   ]
  },
  {
   "cell_type": "markdown",
   "metadata": {},
   "source": [
    "### Only vowels"
   ]
  },
  {
   "cell_type": "code",
   "execution_count": 74,
   "metadata": {
    "scrolled": false
   },
   "outputs": [],
   "source": [
    "if(OL_vowels==1):\n",
    "    myPlotT.testOL(Model_OL_vowels, OL_testing_data)\n",
    "    myPlotT.plotTestOL(Model_OL_vowels)"
   ]
  },
  {
   "cell_type": "markdown",
   "metadata": {},
   "source": [
    "### OL"
   ]
  },
  {
   "cell_type": "code",
   "execution_count": 75,
   "metadata": {
    "scrolled": false
   },
   "outputs": [],
   "source": [
    "if(OL==1):\n",
    "    myPlotT.testOL(Model_OL_all_mixed, OL_testing_data)\n",
    "    myPlotT.plotTestOL(Model_OL_all_mixed)"
   ]
  },
  {
   "cell_type": "markdown",
   "metadata": {},
   "source": [
    "### OL + mini batch"
   ]
  },
  {
   "cell_type": "code",
   "execution_count": 76,
   "metadata": {},
   "outputs": [],
   "source": [
    "if(OL_mini==1):\n",
    "    myPlotT.testOL(Model_OL_mini, OL_testing_data)\n",
    "    myPlotT.plotTestOL(Model_OL_mini)"
   ]
  },
  {
   "cell_type": "markdown",
   "metadata": {},
   "source": [
    "### LWF"
   ]
  },
  {
   "cell_type": "code",
   "execution_count": 106,
   "metadata": {
    "scrolled": false
   },
   "outputs": [
    {
     "data": {
      "image/png": "[encoded data removed]",
      "text/plain": [
       "<Figure size 864x576 with 1 Axes>"
      ]
     },
     "metadata": {
      "needs_background": "light"
     },
     "output_type": "display_data"
    },
    {
     "data": {
      "image/png": "[encoded data removed]",
      "text/plain": [
       "<Figure size 720x432 with 2 Axes>"
      ]
     },
     "metadata": {
      "needs_background": "light"
     },
     "output_type": "display_data"
    },
    {
     "data": {
      "image/png": "[encoded data removed]",
      "text/plain": [
       "<Figure size 432x288 with 1 Axes>"
      ]
     },
     "metadata": {
      "needs_background": "light"
     },
     "output_type": "display_data"
    }
   ],
   "source": [
    "if(LWF==1):\n",
    "    myPlotT.testOL(Model_LWF_1, OL_testing_data)\n",
    "    myPlotT.plotTestOL(Model_LWF_1)"
   ]
  },
  {
   "cell_type": "markdown",
   "metadata": {},
   "source": [
    "### LWF + mini batch"
   ]
  },
  {
   "cell_type": "code",
   "execution_count": 102,
   "metadata": {},
   "outputs": [
    {
     "data": {
      "image/png": "[encoded data removed]",
      "text/plain": [
       "<Figure size 864x576 with 1 Axes>"
      ]
     },
     "metadata": {
      "needs_background": "light"
     },
     "output_type": "display_data"
    },
    {
     "data": {
      "image/png": "[encoded data removed]",
      "text/plain": [
       "<Figure size 720x432 with 2 Axes>"
      ]
     },
     "metadata": {
      "needs_background": "light"
     },
     "output_type": "display_data"
    },
    {
     "data": {
      "image/png": "[encoded data removed]",
      "text/plain": [
       "<Figure size 432x288 with 1 Axes>"
      ]
     },
     "metadata": {
      "needs_background": "light"
     },
     "output_type": "display_data"
    }
   ],
   "source": [
    "if(LWF_mini==1):\n",
    "    myPlotT.testOL(Model_LWF_2, OL_testing_data)\n",
    "    myPlotT.plotTestOL(Model_LWF_2)"
   ]
  },
  {
   "cell_type": "markdown",
   "metadata": {},
   "source": [
    "### OL v2"
   ]
  },
  {
   "cell_type": "code",
   "execution_count": 79,
   "metadata": {},
   "outputs": [],
   "source": [
    "if(OL_v2==1):\n",
    "    myPlotT.testOL(Model_OL_v2, OL_testing_data)\n",
    "    myPlotT.plotTestOL(Model_OL_v2)"
   ]
  },
  {
   "cell_type": "markdown",
   "metadata": {},
   "source": [
    "### OL v2 + mini batch"
   ]
  },
  {
   "cell_type": "code",
   "execution_count": 80,
   "metadata": {
    "scrolled": false
   },
   "outputs": [],
   "source": [
    "if(OL_v2_mini==1):\n",
    "    myPlotT.testOL(Model_OL_v2_miniBatch, OL_testing_data)\n",
    "    myPlotT.plotTestOL(Model_OL_v2_miniBatch)"
   ]
  },
  {
   "cell_type": "markdown",
   "metadata": {},
   "source": [
    "### CWR"
   ]
  },
  {
   "cell_type": "code",
   "execution_count": 81,
   "metadata": {},
   "outputs": [],
   "source": [
    "if(CWR==1):\n",
    "    myPlotT.testOL(Model_CWR, OL_testing_data)\n",
    "    myPlotT.plotTestOL(Model_CWR)"
   ]
  },
  {
   "cell_type": "markdown",
   "metadata": {},
   "source": [
    "## All plots"
   ]
  },
  {
   "cell_type": "code",
   "execution_count": 82,
   "metadata": {},
   "outputs": [
    {
     "data": {
      "image/png": "[encoded data removed]",
      "text/plain": [
       "<Figure size 1224x1944 with 8 Axes>"
      ]
     },
     "metadata": {
      "needs_background": "light"
     },
     "output_type": "display_data"
    }
   ],
   "source": [
    "myPlotT.plotAllTEst()"
   ]
  },
  {
   "cell_type": "code",
   "execution_count": 83,
   "metadata": {},
   "outputs": [
    {
     "ename": "NameError",
     "evalue": "name 'Model_OL_vowels' is not defined",
     "output_type": "error",
     "traceback": [
      "\u001b[1;31m---------------------------------------------------------------------------\u001b[0m",
      "\u001b[1;31mNameError\u001b[0m                                 Traceback (most recent call last)",
      "\u001b[1;32m~\\AppData\\Local\\Temp/ipykernel_23336/3735905269.py\u001b[0m in \u001b[0;36m<module>\u001b[1;34m\u001b[0m\n\u001b[1;32m----> 1\u001b[1;33m myPlotT.summaryResults(Model_KERAS, Model_OL_vowels, Model_OL_all_mixed, Model_OL_mini, \n\u001b[0m\u001b[0;32m      2\u001b[0m                Model_LWF_1, Model_LWF_2, Model_OL_v2, Model_OL_v2_miniBatch, Model_CWR)\n",
      "\u001b[1;31mNameError\u001b[0m: name 'Model_OL_vowels' is not defined"
     ]
    }
   ],
   "source": [
    "myPlotT.summaryResults(Model_KERAS, Model_OL_vowels, Model_OL_all_mixed, Model_OL_mini, \n",
    "               Model_LWF_1, Model_LWF_2, Model_OL_v2, Model_OL_v2_miniBatch, Model_CWR)"
   ]
  },
  {
   "cell_type": "markdown",
   "metadata": {},
   "source": [
    "# GENERAL PLOTS"
   ]
  },
  {
   "cell_type": "code",
   "execution_count": null,
   "metadata": {},
   "outputs": [],
   "source": [
    "# Write down in txt files all the results across 10 or so simulations          \n",
    "WRITE_SIMU_RES = 0\n",
    "                \n",
    "if(WRITE_SIMU_RES==1):\n",
    "    myWrite.writeSimuRes('orig',      res00, res01, res02)\n",
    "    myWrite.writeSimuRes('vowels',    res10, res11, res12)\n",
    "    myWrite.writeSimuRes('OL',        res20, res21, res22)\n",
    "    myWrite.writeSimuRes('OL_mini',   res30, res31, res32)\n",
    "    myWrite.writeSimuRes('LWF',       res40, res41, res42)\n",
    "    myWrite.writeSimuRes('LWF_mini',  res50, res51, res52)\n",
    "    myWrite.writeSimuRes('OL_v2',     res60, res61, res62)\n",
    "    myWrite.writeSimuRes('OL_v2_min', res70, res71, res72)\n",
    "    myWrite.writeSimuRes('CWR',       res80, res81, res82)"
   ]
  },
  {
   "cell_type": "code",
   "execution_count": null,
   "metadata": {},
   "outputs": [],
   "source": [
    "#myPlotD.plotSimuRes(1)\n",
    "\n",
    "\n",
    "ENABLE_PLOTS = 0\n",
    "if(ENABLE_PLOTS==1):\n",
    "\n",
    "\n",
    "    # Plot of the pie chart of the dataset TF e OL\n",
    "    myPlotD.plotDatasetStructure(TF_data_train,TF_data_test,\n",
    "                                 OL_data_train_vow,OL_data_test_vow,\n",
    "                                 B_train_data,B_test_data,\n",
    "                                 R_train_data,R_test_data,\n",
    "                                 M_train_data,M_test_data)\n",
    "\n",
    "    # Plot of the pie chart of the dataset OL\n",
    "    myPlotD.plotDatasetOL(OL_data_train_vow,OL_data_test_vow,\n",
    "                          B_train_data,B_test_data,\n",
    "                          R_train_data,R_test_data,\n",
    "                          M_train_data,M_test_data)\n",
    "\n",
    "    # Plot of the pie chart of the dataset TF\n",
    "    myPlotD.plotDatasetTF(TF_data_train,TF_data_test)"
   ]
  },
  {
   "cell_type": "markdown",
   "metadata": {},
   "source": [
    "\n",
    "\n",
    "\n",
    "\n",
    "\n",
    "\n",
    "\n",
    "\n",
    "\n",
    "\n",
    "\n",
    "\n",
    "\n",
    "### ----------------------------------------------------------------------------------------------------------"
   ]
  },
  {
   "cell_type": "markdown",
   "metadata": {},
   "source": [
    "# Scripts for generating libraries for the STM code"
   ]
  },
  {
   "cell_type": "code",
   "execution_count": null,
   "metadata": {},
   "outputs": [],
   "source": [
    "myWrite.writeLastLayer(model)\n",
    "\n",
    "\n",
    "\n",
    "WRITE_STM_FILES = 0\n",
    "\n",
    "#if(WRITE_STM_FILES==0):\n",
    "#    myWrite.writeSampleB()\n",
    "#    myWrite.writeSampleMix()\n",
    "#    myWrite.writeSampleVowels()"
   ]
  },
  {
   "cell_type": "code",
   "execution_count": null,
   "metadata": {},
   "outputs": [],
   "source": []
  },
  {
   "cell_type": "code",
   "execution_count": null,
   "metadata": {},
   "outputs": [],
   "source": []
  },
  {
   "cell_type": "code",
   "execution_count": null,
   "metadata": {},
   "outputs": [],
   "source": []
  },
  {
   "cell_type": "code",
   "execution_count": null,
   "metadata": {},
   "outputs": [],
   "source": []
  },
  {
   "cell_type": "code",
   "execution_count": null,
   "metadata": {},
   "outputs": [],
   "source": []
  },
  {
   "cell_type": "code",
   "execution_count": null,
   "metadata": {},
   "outputs": [],
   "source": []
  }
 ],
 "metadata": {
  "kernelspec": {
   "display_name": "Python 3 (ipykernel)",
   "language": "python",
   "name": "python3"
  },
  "language_info": {
   "codemirror_mode": {
    "name": "ipython",
    "version": 3
   },
   "file_extension": ".py",
   "mimetype": "text/x-python",
   "name": "python",
   "nbconvert_exporter": "python",
   "pygments_lexer": "ipython3",
   "version": "3.8.11"
  }
 },
 "nbformat": 4,
 "nbformat_minor": 2
}
