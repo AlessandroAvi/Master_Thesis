{
 "cells": [
  {
   "cell_type": "code",
   "execution_count": 1,
   "metadata": {},
   "outputs": [],
   "source": [
    "import os\n",
    "os.environ['TF_CPP_MIN_LOG_LEVEL'] = '2'\n",
    "\n",
    "import pandas as pd\n",
    "import numpy as np\n",
    "import re\n",
    "import random\n",
    "import matplotlib.pyplot as plt\n",
    "import matplotlib.image as mpimg\n",
    "import tensorflow as tf\n",
    "from tensorflow import keras\n",
    "from tensorflow.keras.layers import Dense\n",
    "from tensorflow.keras.models import Sequential, Model\n",
    "from tensorflow.keras import optimizers\n",
    "from PIL import Image"
   ]
  },
  {
   "cell_type": "code",
   "execution_count": 2,
   "metadata": {},
   "outputs": [],
   "source": [
    "def loadDataFromTxt(filename):\n",
    "    folder_path = 'C:/Users/massi/UNI/Magistrale/Anno 5/Semestre 2/Tesi/Code/STM/Letter_dataset/'\n",
    "    dataset_path = folder_path + 'Clean_dataset/' + filename + \".txt\"\n",
    "\n",
    "    columnNames = ['acquisition','letter','ax','ay','az']\n",
    "    dataset = pd.read_csv(dataset_path,header = None, names=columnNames,na_values=',')\n",
    "\n",
    "    last_index = max(np.unique(dataset.acquisition)) # Find the number of tests\n",
    "\n",
    "    second_axis = [];\n",
    "    for acq_index in range(1,last_index):\n",
    "        second_axis.append(dataset[dataset.acquisition == acq_index].shape[0])\n",
    "\n",
    "    dtensor = np.empty((0,3*min(second_axis))) # per definire altezza\n",
    "    labels = np.empty((0))\n",
    "    contains = []\n",
    "\n",
    "    for acq_index in range(2,last_index):\n",
    "        temp = dataset[dataset.acquisition == acq_index]\n",
    "        ax = temp.ax\n",
    "        ay = temp.ay\n",
    "        az = temp.az\n",
    "        dtensor = np.vstack([dtensor,np.concatenate((ax, ay, az))])\n",
    "        labels = np.append(labels,np.unique(temp.letter))\n",
    "        labels_lett = np.append(labels,np.unique(temp.letter))\n",
    "    contains = np.append(contains, np.unique(labels_lett))\n",
    "\n",
    "    print(f'******* Dataset for letter {contains}\\n')\n",
    "    print(f'Raw shape        -> {dataset.shape}')\n",
    "    print(f'Columns          -> {columnNames}' )\n",
    "    print()\n",
    "    print(f'Tot samples      -> {last_index}')\n",
    "    print(f'1 Sample is long -> {az.shape[0]}')\n",
    "    print()\n",
    "\n",
    "    return dtensor, labels_lett"
   ]
  },
  {
   "cell_type": "code",
   "execution_count": 3,
   "metadata": {},
   "outputs": [],
   "source": [
    "def parseTrainValid(dtensor, labels):\n",
    "    \n",
    "    sep = int(0.30*dtensor.shape[0])\n",
    "    \n",
    "    sample_index = list(range(0,dtensor.shape[0]))\n",
    "    shuffled_indexes = np.random.shuffle(sample_index)\n",
    "\n",
    "    train_data = dtensor[sample_index[sep:],:]\n",
    "    #train_labels = labels[sample_index[sep:],:]\n",
    "    train_labels_lett = labels[sample_index[sep:]]\n",
    "\n",
    "    test_data = dtensor[sample_index[:sep],:]\n",
    "    #test_labels = labels[sample_index[:sep],:]\n",
    "    test_labels_lett = labels[sample_index[:sep]]\n",
    "\n",
    "    train_shape = train_data.shape[1]\n",
    "    print('\\n*** Separate train-valid\\n')\n",
    "    print(f\"Train data shape  -> {train_data.shape}\")\n",
    "    print(f\"Train label shape -> {train_labels_lett.shape}\")\n",
    "    print()\n",
    "    print(f\"Test data shape   -> {test_data.shape}\")\n",
    "    print(f\"Test label shape  -> {test_labels_lett.shape}\")\n",
    "    \n",
    "    return train_data, train_labels_lett, test_data, test_labels_lett"
   ]
  },
  {
   "cell_type": "markdown",
   "metadata": {},
   "source": [
    "## Parse datasets"
   ]
  },
  {
   "cell_type": "code",
   "execution_count": 4,
   "metadata": {},
   "outputs": [
    {
     "name": "stdout",
     "output_type": "stream",
     "text": [
      "******* Dataset for letter ['A' 'E' 'I' 'O' 'U']\n",
      "\n",
      "Raw shape        -> (180000, 5)\n",
      "Columns          -> ['acquisition', 'letter', 'ax', 'ay', 'az']\n",
      "\n",
      "Tot samples      -> 900\n",
      "1 Sample is long -> 200\n",
      "\n",
      "\n",
      "**** OL data\n",
      "\n",
      "*** Separate train-valid\n",
      "\n",
      "Train data shape  -> (101, 600)\n",
      "Train label shape -> (101,)\n",
      "\n",
      "Test data shape   -> (42, 600)\n",
      "Test label shape  -> (42,)\n",
      "\n",
      "**** TF data\n",
      "\n",
      "*** Separate train-valid\n",
      "\n",
      "Train data shape  -> (529, 600)\n",
      "Train label shape -> (529,)\n",
      "\n",
      "Test data shape   -> (226, 600)\n",
      "Test label shape  -> (226,)\n"
     ]
    }
   ],
   "source": [
    "tmp1, tmp2 = loadDataFromTxt('augmented_vowels')\n",
    "\n",
    "# Shuffle the matrix of all letters\n",
    "vowels_data = np.zeros(tmp1.shape)\n",
    "vowels_label = np.empty(tmp2.shape, dtype=str) \n",
    "\n",
    "index_ary = list(range(0, tmp1.shape[0]))\n",
    "index_ary = random.sample(index_ary, len(index_ary)) \n",
    "\n",
    "for i in range(0, tmp1.shape[0]):\n",
    "    vowels_data[i,:] = tmp1[index_ary[i],:]\n",
    "    vowels_label[i]  = tmp2[index_ary[i]]\n",
    "    \n",
    "# Separate in 60% and 40% for training the TF model and the OL model\n",
    "sep = int((vowels_data.shape[0])*0.16)\n",
    "\n",
    "print('\\n**** OL data')\n",
    "OL_data  = vowels_data[:sep, :]\n",
    "OL_label = vowels_label[:sep]\n",
    "OL_data_train_vow, OL_label_train_vow, OL_data_test_vow, OL_label_test_vow = parseTrainValid(OL_data, OL_label)\n",
    "\n",
    "\n",
    "print('\\n**** TF data')\n",
    "TF_data  = vowels_data[sep:, :]\n",
    "TF_label = vowels_label[sep:]\n",
    "TF_data_train, TF_label_train, TF_data_test, TF_label_test = parseTrainValid(TF_data, TF_label)\n"
   ]
  },
  {
   "cell_type": "code",
   "execution_count": 5,
   "metadata": {},
   "outputs": [
    {
     "name": "stdout",
     "output_type": "stream",
     "text": [
      "******* Dataset for letter ['B']\n",
      "\n",
      "Raw shape        -> (29400, 5)\n",
      "Columns          -> ['acquisition', 'letter', 'ax', 'ay', 'az']\n",
      "\n",
      "Tot samples      -> 147\n",
      "1 Sample is long -> 200\n",
      "\n",
      "\n",
      "*** Separate train-valid\n",
      "\n",
      "Train data shape  -> (102, 600)\n",
      "Train label shape -> (102,)\n",
      "\n",
      "Test data shape   -> (43, 600)\n",
      "Test label shape  -> (43,)\n"
     ]
    }
   ],
   "source": [
    "B_data, B_label = loadDataFromTxt('B_dataset')\n",
    "B_train_data, B_train_label, B_test_data, B_test_label = parseTrainValid(B_data, B_label)"
   ]
  },
  {
   "cell_type": "code",
   "execution_count": 6,
   "metadata": {},
   "outputs": [
    {
     "name": "stdout",
     "output_type": "stream",
     "text": [
      "******* Dataset for letter ['M']\n",
      "\n",
      "Raw shape        -> (29000, 5)\n",
      "Columns          -> ['acquisition', 'letter', 'ax', 'ay', 'az']\n",
      "\n",
      "Tot samples      -> 145\n",
      "1 Sample is long -> 200\n",
      "\n",
      "\n",
      "*** Separate train-valid\n",
      "\n",
      "Train data shape  -> (101, 600)\n",
      "Train label shape -> (101,)\n",
      "\n",
      "Test data shape   -> (42, 600)\n",
      "Test label shape  -> (42,)\n"
     ]
    }
   ],
   "source": [
    "M_data, M_label = loadDataFromTxt('M_dataset')\n",
    "M_train_data, M_train_label, M_test_data, M_test_label = parseTrainValid(M_data, M_label)"
   ]
  },
  {
   "cell_type": "code",
   "execution_count": 7,
   "metadata": {},
   "outputs": [
    {
     "name": "stdout",
     "output_type": "stream",
     "text": [
      "******* Dataset for letter ['R']\n",
      "\n",
      "Raw shape        -> (29000, 5)\n",
      "Columns          -> ['acquisition', 'letter', 'ax', 'ay', 'az']\n",
      "\n",
      "Tot samples      -> 145\n",
      "1 Sample is long -> 200\n",
      "\n",
      "\n",
      "*** Separate train-valid\n",
      "\n",
      "Train data shape  -> (101, 600)\n",
      "Train label shape -> (101,)\n",
      "\n",
      "Test data shape   -> (42, 600)\n",
      "Test label shape  -> (42,)\n"
     ]
    }
   ],
   "source": [
    "R_data, R_label = loadDataFromTxt('R_dataset')\n",
    "R_train_data, R_train_label, R_test_data, R_test_label = parseTrainValid(R_data, R_label)"
   ]
  },
  {
   "cell_type": "markdown",
   "metadata": {},
   "source": [
    "###  Dataset of all letters"
   ]
  },
  {
   "cell_type": "code",
   "execution_count": 8,
   "metadata": {},
   "outputs": [
    {
     "name": "stdout",
     "output_type": "stream",
     "text": [
      "\n",
      "New dataset of ordered data has shape (405, 600)\n",
      "New dataset of ordered label has shape(405,)\n"
     ]
    }
   ],
   "source": [
    "# Create a matrix that contains all the train data\n",
    "\n",
    "order_data_all = OL_data_train_vow\n",
    "order_data_all = np.vstack(( order_data_all, B_train_data))\n",
    "order_data_all = np.vstack(( order_data_all, R_train_data))\n",
    "order_data_all = np.vstack(( order_data_all, M_train_data))\n",
    "\n",
    "order_label_all = OL_label_train_vow\n",
    "order_label_all = np.hstack(( order_label_all, B_train_label))\n",
    "order_label_all = np.hstack(( order_label_all, R_train_label))\n",
    "order_label_all = np.hstack(( order_label_all, M_train_label))\n",
    "\n",
    "print('\\nNew dataset of ordered data has shape ' + str(order_data_all.shape))\n",
    "print('New dataset of ordered label has shape' + str(order_label_all.shape))"
   ]
  },
  {
   "cell_type": "code",
   "execution_count": 9,
   "metadata": {},
   "outputs": [],
   "source": [
    "# Shuffle the matrix of all letters\n",
    "mixed_data_all = np.zeros(order_data_all.shape)\n",
    "mixed_label_all = np.empty(order_label_all.shape, dtype=str) \n",
    "\n",
    "index_ary = list(range(0, order_data_all.shape[0]))\n",
    "index_ary = random.sample(index_ary, len(index_ary)) \n",
    "\n",
    "for i in range(0, order_data_all.shape[0]):\n",
    "    mixed_data_all[i,:] = order_data_all[index_ary[i],:]\n",
    "    mixed_label_all[i]  = order_label_all[index_ary[i]]"
   ]
  },
  {
   "cell_type": "markdown",
   "metadata": {},
   "source": [
    "###  Dataset of only new letters"
   ]
  },
  {
   "cell_type": "code",
   "execution_count": 10,
   "metadata": {},
   "outputs": [
    {
     "name": "stdout",
     "output_type": "stream",
     "text": [
      "\n",
      "New dataset of mixed data has shape (304, 600)\n",
      "New dataset of mixed label has shape(304,)\n"
     ]
    }
   ],
   "source": [
    "# Create a matrix that contains all the train data\n",
    "\n",
    "order_data_new = B_train_data\n",
    "order_data_new = np.vstack(( order_data_new, R_train_data))\n",
    "order_data_new = np.vstack(( order_data_new, M_train_data))\n",
    "\n",
    "order_label_new = B_train_label\n",
    "order_label_new = np.hstack(( order_label_new, R_train_label))\n",
    "order_label_new = np.hstack(( order_label_new, M_train_label))\n",
    "\n",
    "print('\\nNew dataset of mixed data has shape ' + str(order_data_new.shape))\n",
    "print('New dataset of mixed label has shape' + str(order_label_new.shape))"
   ]
  },
  {
   "cell_type": "code",
   "execution_count": 11,
   "metadata": {},
   "outputs": [],
   "source": [
    "# Shuffle the matrix of all letters\n",
    "mixed_data_new = np.zeros(order_data_new.shape)\n",
    "mixed_label_new = np.empty(order_label_new.shape, dtype=str) \n",
    "\n",
    "index_ary = list(range(0, order_data_new.shape[0]))\n",
    "index_ary = random.sample(index_ary, len(index_ary)) \n",
    "\n",
    "for i in range(0, order_data_new.shape[0]):\n",
    "    mixed_data_new[i,:] = order_data_new[index_ary[i],:]\n",
    "    mixed_label_new[i]  = order_label_new[index_ary[i]]"
   ]
  },
  {
   "cell_type": "markdown",
   "metadata": {},
   "source": [
    "## Define ML model"
   ]
  },
  {
   "cell_type": "code",
   "execution_count": 12,
   "metadata": {},
   "outputs": [],
   "source": [
    "def lettToSoft(ary, labels):\n",
    "    ret_ary = np.zeros([len(ary), len(labels)])\n",
    "    \n",
    "    for i in range(0, len(ary)):\n",
    "        for j in range(0, len(labels)):\n",
    "            if(ary[i]==labels[j]):\n",
    "                ret_ary[i,j] = 1\n",
    "\n",
    "            \n",
    "    return ret_ary   "
   ]
  },
  {
   "cell_type": "code",
   "execution_count": 13,
   "metadata": {},
   "outputs": [],
   "source": [
    "# Basic parameters\n",
    "optimizer = 'Adam'\n",
    "loss    = 'categorical_crossentropy'\n",
    "metrics = ['accuracy']\n",
    "vowels = ['A', 'E', 'I', 'O', 'U']\n",
    "\n",
    "epochs = 20\n",
    "batch_size = 16"
   ]
  },
  {
   "cell_type": "code",
   "execution_count": 14,
   "metadata": {},
   "outputs": [],
   "source": [
    "# Model structure\n",
    "\n",
    "# Buoni risultati con 3 layer da 300\n",
    "\n",
    "model = Sequential()\n",
    "model.add(Dense(128, activation = 'relu', input_shape =(TF_data_train.shape[1],),name='input_layer'))\n",
    "#model.add(Dense(128, activation = 'relu', name='hidden1'))\n",
    "model.add(Dense(300, activation = 'relu', name='hidden2'))\n",
    "model.add(Dense(5, activation='softmax' , name = 'output_layer'))"
   ]
  },
  {
   "cell_type": "code",
   "execution_count": 15,
   "metadata": {},
   "outputs": [
    {
     "name": "stdout",
     "output_type": "stream",
     "text": [
      "Model: \"sequential\"\n",
      "_________________________________________________________________\n",
      "Layer (type)                 Output Shape              Param #   \n",
      "=================================================================\n",
      "input_layer (Dense)          (None, 128)               76928     \n",
      "_________________________________________________________________\n",
      "hidden2 (Dense)              (None, 300)               38700     \n",
      "_________________________________________________________________\n",
      "output_layer (Dense)         (None, 5)                 1505      \n",
      "=================================================================\n",
      "Total params: 117,133\n",
      "Trainable params: 117,133\n",
      "Non-trainable params: 0\n",
      "_________________________________________________________________\n"
     ]
    }
   ],
   "source": [
    "model.compile(optimizer= optimizer, loss=loss, metrics=metrics) #use sparse is each letter is an integer (es a->1 b->2 c->3 ..)\n",
    "model.summary()"
   ]
  },
  {
   "cell_type": "markdown",
   "metadata": {},
   "source": [
    "### Train"
   ]
  },
  {
   "cell_type": "code",
   "execution_count": 16,
   "metadata": {
    "scrolled": true
   },
   "outputs": [
    {
     "name": "stdout",
     "output_type": "stream",
     "text": [
      "Epoch 1/20\n",
      "27/27 - 1s - loss: 151.7292 - accuracy: 0.5296 - val_loss: 20.2477 - val_accuracy: 0.7736\n",
      "Epoch 2/20\n",
      "27/27 - 0s - loss: 22.3844 - accuracy: 0.8132 - val_loss: 27.0057 - val_accuracy: 0.7830\n",
      "Epoch 3/20\n",
      "27/27 - 0s - loss: 12.3592 - accuracy: 0.8558 - val_loss: 15.8080 - val_accuracy: 0.8302\n",
      "Epoch 4/20\n",
      "27/27 - 0s - loss: 6.5696 - accuracy: 0.9125 - val_loss: 17.6223 - val_accuracy: 0.8774\n",
      "Epoch 5/20\n",
      "27/27 - 0s - loss: 3.1995 - accuracy: 0.9551 - val_loss: 8.3072 - val_accuracy: 0.8585\n",
      "Epoch 6/20\n",
      "27/27 - 0s - loss: 2.9143 - accuracy: 0.9551 - val_loss: 10.6052 - val_accuracy: 0.9151\n",
      "Epoch 7/20\n",
      "27/27 - 0s - loss: 1.7430 - accuracy: 0.9527 - val_loss: 10.7884 - val_accuracy: 0.8679\n",
      "Epoch 8/20\n",
      "27/27 - 0s - loss: 1.9037 - accuracy: 0.9598 - val_loss: 7.2643 - val_accuracy: 0.9245\n",
      "Epoch 9/20\n",
      "27/27 - 0s - loss: 1.8030 - accuracy: 0.9669 - val_loss: 3.7293 - val_accuracy: 0.9528\n",
      "Epoch 10/20\n",
      "27/27 - 0s - loss: 4.2947 - accuracy: 0.9409 - val_loss: 5.3088 - val_accuracy: 0.9151\n",
      "Epoch 11/20\n",
      "27/27 - 0s - loss: 4.0080 - accuracy: 0.9362 - val_loss: 8.4066 - val_accuracy: 0.9057\n",
      "Epoch 12/20\n",
      "27/27 - 0s - loss: 2.4414 - accuracy: 0.9527 - val_loss: 14.0810 - val_accuracy: 0.8868\n",
      "Epoch 13/20\n",
      "27/27 - 0s - loss: 1.7019 - accuracy: 0.9645 - val_loss: 6.0502 - val_accuracy: 0.9340\n",
      "Epoch 14/20\n",
      "27/27 - 0s - loss: 1.2513 - accuracy: 0.9787 - val_loss: 9.8519 - val_accuracy: 0.9057\n",
      "Epoch 15/20\n",
      "27/27 - 0s - loss: 0.1917 - accuracy: 0.9929 - val_loss: 4.2038 - val_accuracy: 0.9623\n",
      "Epoch 16/20\n",
      "27/27 - 0s - loss: 0.9694 - accuracy: 0.9764 - val_loss: 4.1608 - val_accuracy: 0.9151\n",
      "Epoch 17/20\n",
      "27/27 - 0s - loss: 0.7070 - accuracy: 0.9787 - val_loss: 11.4192 - val_accuracy: 0.9057\n",
      "Epoch 18/20\n",
      "27/27 - 0s - loss: 3.3563 - accuracy: 0.9456 - val_loss: 8.8062 - val_accuracy: 0.9434\n",
      "Epoch 19/20\n",
      "27/27 - 0s - loss: 2.9108 - accuracy: 0.9504 - val_loss: 9.6906 - val_accuracy: 0.8868\n",
      "Epoch 20/20\n",
      "27/27 - 0s - loss: 4.9219 - accuracy: 0.9196 - val_loss: 21.2807 - val_accuracy: 0.7736\n",
      "\n",
      "Evaluation:\n",
      "8/8 - 0s - loss: 21.9203 - accuracy: 0.8097\n"
     ]
    }
   ],
   "source": [
    "# Perform training\n",
    "train_hist = model.fit(TF_data_train, lettToSoft(TF_label_train, vowels), epochs=epochs, batch_size=batch_size, validation_split=0.2 , verbose=2)\n",
    "print('\\nEvaluation:')\n",
    "results = model.evaluate(TF_data_test, lettToSoft(TF_label_test, vowels), verbose=2)"
   ]
  },
  {
   "cell_type": "code",
   "execution_count": 17,
   "metadata": {},
   "outputs": [
    {
     "data": {
      "image/png": "[encoded data removed]",
      "text/plain": [
       "<Figure size 432x288 with 1 Axes>"
      ]
     },
     "metadata": {
      "needs_background": "light"
     },
     "output_type": "display_data"
    }
   ],
   "source": [
    "hist_loss = train_hist.history['loss']\n",
    "hist_val_loss = train_hist.history['val_loss']\n",
    "epoch_list = list(range(epochs))\n",
    "plt.figure(1)\n",
    "plt.plot(epoch_list, hist_loss, 'bo', label='Training loss')\n",
    "plt.plot(epoch_list, hist_val_loss, 'r', label='Validation loss')\n",
    "plt.title('Training and validation loss')\n",
    "plt.legend()\n",
    "plt.show()"
   ]
  },
  {
   "cell_type": "markdown",
   "metadata": {},
   "source": [
    "### Test on random vowel"
   ]
  },
  {
   "cell_type": "code",
   "execution_count": 18,
   "metadata": {},
   "outputs": [
    {
     "name": "stdout",
     "output_type": "stream",
     "text": [
      "True       -> E\n",
      "Prediction -> E\n"
     ]
    }
   ],
   "source": [
    "rand_n = int(random.uniform(0, TF_data_test.shape[0]))\n",
    "sample_data = TF_data_test[rand_n,:].reshape(1,TF_data_test.shape[1])\n",
    "sample_label = TF_label_test[rand_n]\n",
    "\n",
    "pred = model.predict(sample_data)\n",
    "print(f'True       -> {sample_label}')\n",
    "print(f'Prediction -> {vowels[np.argmax(pred)]}' )"
   ]
  },
  {
   "cell_type": "markdown",
   "metadata": {},
   "source": [
    "## Plot functions"
   ]
  },
  {
   "cell_type": "code",
   "execution_count": 19,
   "metadata": {},
   "outputs": [],
   "source": [
    "def plotTest(data, label, model, letters):\n",
    "    \n",
    "    correct = 0\n",
    "    mistaken = 0\n",
    "    \n",
    "    label = lettToSoft(label, letters)\n",
    "\n",
    "    total = data.shape[0]\n",
    "\n",
    "    for i in range(0, data.shape[0]):\n",
    "        pred = model.predict(data[i,:].reshape(1,data.shape[1]))\n",
    "\n",
    "        if (np.argmax(pred) == np.argmax(label[i])):\n",
    "            correct +=1\n",
    "        else:\n",
    "            mistaken +=1\n",
    "\n",
    "    fig = plt.figure()\n",
    "    ax = fig.add_axes([0,0,1,1])\n",
    "    ax.set_title('Test performance')\n",
    "\n",
    "    langs = ['Correct', 'Error']\n",
    "    langs.reverse\n",
    "    bars = [correct,mistaken]\n",
    "    bars.reverse\n",
    "    ax.bar(langs,bars)\n",
    "    plt.show()\n",
    "\n",
    "    print(f\"Total correct guesses {correct}  -> {round(correct/total,2)*100}%\")\n",
    "    print(f\"Total mistaken guesses {mistaken} -> {round(mistaken/total,2)*100}%\")"
   ]
  },
  {
   "cell_type": "code",
   "execution_count": 20,
   "metadata": {},
   "outputs": [],
   "source": [
    "def testOL(model):\n",
    "\n",
    "    corr_ary = np.zeros([8])\n",
    "    err_ary = np.zeros([8])\n",
    "    tot_ary = np.zeros([8])\n",
    "\n",
    "    for j in range(0,4):\n",
    "\n",
    "        if(j==0):\n",
    "            data = OL_data_test_vow\n",
    "            label = OL_label_test_vow\n",
    "        elif(j==1):\n",
    "            data = B_test_data\n",
    "            label = B_test_label\n",
    "        elif(j==2):\n",
    "            data = R_test_data\n",
    "            label = R_test_label\n",
    "        elif(j==3):\n",
    "            data = M_test_data\n",
    "            label = M_test_label\n",
    "        \n",
    "\n",
    "        correct = 0\n",
    "        mistaken = 0\n",
    "        label_soft = lettToSoft(label,model.label)\n",
    "        \n",
    "        total = data.shape[0]\n",
    "\n",
    "        for i in range(0, total):          \n",
    "            ML_out = model.ML_frozen.predict(data[i,:].reshape(1,data.shape[1]))\n",
    "            y_pred = model.predict(ML_out)\n",
    "\n",
    "            # Find the max for borh the true label and the inference\n",
    "            k = np.argmax(label_soft[i,:])\n",
    "            \n",
    "\n",
    "            max_i_true = -1\n",
    "            max_i_pred = -1\n",
    "            \n",
    "            # Find the max iter for both true label and prediction\n",
    "            if(np.amax(label_soft[i,:]) != 0):\n",
    "                max_i_true = np.argmax(label_soft[i,:])\n",
    "                \n",
    "            if(np.amax(y_pred[0,:]) != 0):\n",
    "                max_i_pred = np.argmax(y_pred[0,:])\n",
    "                              \n",
    "            if (max_i_pred == max_i_true):\n",
    "                correct +=1\n",
    "                if(j==0):\n",
    "                    corr_ary[k] += 1\n",
    "                    tot_ary[k] += 1  \n",
    "            else:\n",
    "                mistaken +=1\n",
    "                if(j==0):\n",
    "                    err_ary[k] += 1  \n",
    "                    tot_ary[k] += 1  \n",
    "                \n",
    "        if(j!=0):\n",
    "            corr_ary[4+j] = correct\n",
    "            err_ary[4+j] = mistaken\n",
    "            tot_ary[4+j] = total\n",
    "        \n",
    "    return corr_ary, err_ary, tot_ary"
   ]
  },
  {
   "cell_type": "code",
   "execution_count": 21,
   "metadata": {},
   "outputs": [],
   "source": [
    "def testOL_v2(model):\n",
    "\n",
    "    corr_ary = np.zeros([8])\n",
    "    err_ary = np.zeros([8])\n",
    "    tot_ary = np.zeros([8])\n",
    "\n",
    "    for j in range(0,4):\n",
    "\n",
    "        if(j==0):\n",
    "            data = OL_data_test_vow\n",
    "            label = OL_label_test_vow\n",
    "        elif(j==1):\n",
    "            data = B_train_data\n",
    "            label = B_train_label\n",
    "        elif(j==2):\n",
    "            data = R_train_data\n",
    "            label = R_train_label\n",
    "        elif(j==3):\n",
    "            data = M_train_data\n",
    "            label = M_train_label\n",
    "\n",
    "        correct = 0\n",
    "        mistaken = 0\n",
    "        label_soft = lettToSoft(label,['A', 'E', 'I', 'O', 'U', 'B', 'R', 'M'])\n",
    "\n",
    "        total = data.shape[0]\n",
    "\n",
    "        for i in range(0, data.shape[0]):          \n",
    "            y_pred = model.predict(data[i,:].reshape(1,data.shape[1]))\n",
    "            \n",
    "            k = np.argmax(label_soft[i,:])      \n",
    "            \n",
    "            if (np.argmax(y_pred) == np.argmax(label_soft[i,:])):\n",
    "                correct +=1\n",
    "                if(j==0):\n",
    "                    corr_ary[k] += 1\n",
    "                    tot_ary[k] += 1\n",
    "            else:\n",
    "                mistaken +=1\n",
    "                if(j==0):\n",
    "                    err_ary[k] += 1\n",
    "                    tot_ary[k] += 1\n",
    "\n",
    "        if(j!=0):\n",
    "            corr_ary[4+j] = correct\n",
    "            err_ary[4+j] = mistaken\n",
    "            tot_ary[4+j] = total\n",
    "        \n",
    "    return corr_ary, err_ary, tot_ary"
   ]
  },
  {
   "cell_type": "code",
   "execution_count": 22,
   "metadata": {},
   "outputs": [],
   "source": [
    "def plotTestOL(corr_ary, err_ary, tot_ary, title, filename):\n",
    "    \n",
    "    corr_ary_2 = np.copy(corr_ary)\n",
    "    err_ary_2 = np.copy(err_ary)\n",
    "    \n",
    "    for i in range(0, len(corr_ary)):\n",
    "        corr_ary_2[i] = int(round(corr_ary[i]/tot_ary[i], 2)*100)\n",
    "        err_ary_2[i] = int(round(err_ary[i]/tot_ary[i], 2)*100)\n",
    "    \n",
    "    width = 0.25\n",
    "    fig = plt.subplots(figsize =(12, 8))\n",
    "    \n",
    "    # Set position of bar on X axis\n",
    "    br1 = np.arange(len(corr_ary_2))\n",
    "    br2 = [x + width for x in br1]\n",
    "    \n",
    "    # Make the plot\n",
    "    plt.bar(br1, corr_ary_2, color ='g', width = width, edgecolor ='grey', label ='Correct prediction')\n",
    "    plt.bar(br2, err_ary_2, color ='r', width = width, edgecolor ='grey', label ='Wrong prediction')\n",
    "\n",
    "    # Adding Xticks\n",
    "    plt.ylabel('%', fontweight ='bold', fontsize = 15)\n",
    "    plt.xticks([r + width for r in range(len(corr_ary))], ['A', 'E', 'I', 'O', 'U', 'B', 'R', 'M'],fontweight ='bold', fontsize = 15)\n",
    "    plt.title(title,fontweight ='bold', fontsize = 15)\n",
    "\n",
    "    PLOT_PATH = 'C:/Users/massi/UNI/Magistrale/Anno 5/Semestre 2/Tesi/Code/Python/Plots/'\n",
    "    plt.savefig(PLOT_PATH + filename + '.jpg')"
   ]
  },
  {
   "cell_type": "code",
   "execution_count": 23,
   "metadata": {},
   "outputs": [],
   "source": [
    "def tableTestOL(corr_ary, err_ary, tot_ary, title):\n",
    "\n",
    "    val = np.zeros([2,len(corr_ary)])\n",
    "    val[0,:] = np.round(np.round(corr_ary/tot_ary,2)*100,2)\n",
    "    val[1,:] = np.round(np.round(err_ary/tot_ary,2)*100,2)\n",
    "\n",
    "    fig, ax = plt.subplots() \n",
    "    ax.set_axis_off() \n",
    "    \n",
    "    table = ax.table( \n",
    "        cellText = val,  \n",
    "        rowLabels = ['Correct', 'Error'],  \n",
    "        colLabels = ['A', 'E', 'I', 'O', 'U', 'B', 'R', 'M'], \n",
    "        rowColours =[\"palegreen\"] * 200,  \n",
    "        colColours =[\"palegreen\"] * 200, \n",
    "        cellLoc ='center',  \n",
    "        loc ='upper left')         \n",
    "\n",
    "    ax.set_title(title, fontweight =\"bold\") \n",
    "\n",
    "    plt.show() "
   ]
  },
  {
   "cell_type": "code",
   "execution_count": 24,
   "metadata": {
    "scrolled": false
   },
   "outputs": [
    {
     "data": {
      "image/png": "[encoded data removed]",
      "text/plain": [
       "<Figure size 432x288 with 1 Axes>"
      ]
     },
     "metadata": {
      "needs_background": "light"
     },
     "output_type": "display_data"
    },
    {
     "name": "stdout",
     "output_type": "stream",
     "text": [
      "Total correct guesses 183  -> 81.0%\n",
      "Total mistaken guesses 43 -> 19.0%\n"
     ]
    }
   ],
   "source": [
    "plotTest(TF_data_test, TF_label_test, model, vowels)"
   ]
  },
  {
   "cell_type": "markdown",
   "metadata": {},
   "source": [
    "### Save model"
   ]
  },
  {
   "cell_type": "code",
   "execution_count": 25,
   "metadata": {},
   "outputs": [],
   "source": [
    "def saveParams(SAVE_MODEL_PATH, model):\n",
    "    \n",
    "    new_file = open(SAVE_MODEL_PATH + '/params.txt', \"w\")\n",
    "\n",
    "    new_file.write(\"PARAMETERS SAVED FROM THE TRAINING\")\n",
    "    new_file.write(\"\\n Batch size: \" + str(batch_size))\n",
    "    new_file.write(\"\\n Epochs: \" + str(epochs))\n",
    "    new_file.write(\"\\n Validation split: \" + str(0.2))\n",
    "    new_file.write(\"\\n Metrics: \" + str(metrics))\n",
    "    new_file.write(\"\\n Optimizer: \" + optimizer)\n",
    "    new_file.write(\"\\n Loss: \" + loss + \"\\n\\n\")\n",
    "\n",
    "    model.summary(print_fn=lambda x: new_file.write(x + '\\n'))"
   ]
  },
  {
   "cell_type": "code",
   "execution_count": 26,
   "metadata": {},
   "outputs": [],
   "source": [
    "SAVE_MODEL_PATH = \"C:/Users/massi/UNI/Magistrale/Anno 5/Semestre 2/Tesi/Code/Python/Saved_models/model/\"\n",
    "model.save(SAVE_MODEL_PATH + \"model.h5\")\n",
    "saveParams(SAVE_MODEL_PATH, model)"
   ]
  },
  {
   "cell_type": "markdown",
   "metadata": {},
   "source": [
    "#  ------------------------------------------------------------------------"
   ]
  },
  {
   "cell_type": "markdown",
   "metadata": {},
   "source": [
    "# TinyOL"
   ]
  },
  {
   "cell_type": "code",
   "execution_count": 27,
   "metadata": {},
   "outputs": [],
   "source": [
    "num_epochs = 1\n",
    "learn_rate = 0.0003\n",
    "lam = 0.4\n",
    "batch_size_new = 16"
   ]
  },
  {
   "cell_type": "markdown",
   "metadata": {},
   "source": [
    "### Functions"
   ]
  },
  {
   "cell_type": "code",
   "execution_count": 28,
   "metadata": {},
   "outputs": [],
   "source": [
    "class Custom_Layer(object):\n",
    "    def __init__(self, model):\n",
    "\n",
    "        self.ML_frozen = keras.models.Sequential(model.layers[:-1])\n",
    "        self.ML_frozen.compile()\n",
    "        self.W = np.array(model.layers[-1].get_weights()[0])\n",
    "        self.b = np.array(model.layers[-1].get_weights()[1])\n",
    "        self.label = ['A', 'E', 'I', 'O', 'U']\n",
    "        \n",
    "        self.width = self.W.shape[0]\n",
    "\n",
    "    def predict(self, x):\n",
    "        mat_prod = np.matmul(x, self.W) + self.b\n",
    "        return tf.nn.softmax(mat_prod)      "
   ]
  },
  {
   "cell_type": "code",
   "execution_count": 29,
   "metadata": {},
   "outputs": [],
   "source": [
    "def checkNewClass(model, y_true, y_true_soft, i, gauss):\n",
    "    \n",
    "    # Check if letter is new\n",
    "    found = 0\n",
    "    for k in range(0, len(model.label)):\n",
    "        if (y_true[i] == model.label[k]):\n",
    "            found = 1\n",
    "\n",
    "    # If first time seeing this letter\n",
    "    if (found == 0):\n",
    "\n",
    "        model.label.append(y_true[i])   # Add new letter to label\n",
    "        print(f'\\n\\n    New letter detected -> letter \\033[1m{y_true[i]}\\033[0m \\n')\n",
    "    \n",
    "        if(gauss==0):\n",
    "            model.W = np.hstack((model.W, np.zeros([model.width,1])))\n",
    "            model.b = np.hstack((model.b, np.zeros([1])))\n",
    "        elif(gauss==1):\n",
    "            gaussW = np.zeros([model.width,1])\n",
    "            for i in range(0,model.width):\n",
    "                gaussW[i,0] = random.gauss(0, 0.01)\n",
    "            gaussB = random.gauss(0, 0.01)\n",
    "            model.W = np.hstack((model.W, gaussW))\n",
    "            model.b = np.hstack((model.b, gaussB))\n",
    "        elif(gauss==2):  # sporcariaper far funzionare LWF\n",
    "            model.W = np.hstack((model.W, np.zeros([model.width,1])))\n",
    "            model.b = np.hstack((model.b, np.zeros([1])))\n",
    "            \n",
    "                   \n",
    "        print(f'    Now W is -> {model.W.shape}              and b is -> {model.b.shape}\\n\\n')\n",
    "\n",
    "        y_true_soft = lettToSoft(y_true, model.label)\n",
    "                \n",
    "    return y_true_soft"
   ]
  },
  {
   "cell_type": "markdown",
   "metadata": {},
   "source": [
    "### OL"
   ]
  },
  {
   "cell_type": "code",
   "execution_count": 30,
   "metadata": {},
   "outputs": [],
   "source": [
    "def trainOneEpoch_OL(model, x, y_true, learn_rate):\n",
    "    \n",
    "    print('**********************************\\nPerforming training with OL METHOD - STOCHASTICH\\n')\n",
    "   \n",
    "    cntr=1\n",
    "    tot_samples = x.shape[0]\n",
    "    \n",
    "    y_true_soft = lettToSoft(y_true, model.label)  # Transform the true label letters in softmax\n",
    "        \n",
    "    # Cycle over all samples\n",
    "    for i in range(0, tot_samples):\n",
    "        \n",
    "        y_true_soft = checkNewClass(model, y_true, y_true_soft, i, 0)   # Check if letter is new\n",
    "        \n",
    "        # PPREDICTION\n",
    "        y_ML = model.ML_frozen.predict(x[i,:].reshape(1,x.shape[1]))\n",
    "        y_pred = model.predict(y_ML[0,:])        \n",
    "          \n",
    "        # BACKPROPAGATION\n",
    "        cost = y_pred-y_true_soft[i,:]\n",
    "\n",
    "        for j in range(0,model.W.shape[0]):\n",
    "            # Update weights\n",
    "            deltaW = np.multiply(cost, y_ML[0,j])\n",
    "            dW = np.multiply(deltaW, learn_rate)\n",
    "            model.W[j,:] = model.W[j,:]-dW\n",
    "\n",
    "        # Update biases\n",
    "        db = np.multiply(cost, learn_rate)\n",
    "        model.b = model.b-db\n",
    "        \n",
    "        print(f\"\\r    Currently at {np.round(np.round(cntr/x.shape[0],4)*100,2)}% of dataset\", end=\"\")\n",
    "        cntr +=1"
   ]
  },
  {
   "cell_type": "code",
   "execution_count": 31,
   "metadata": {},
   "outputs": [],
   "source": [
    "def trainOneEpoch_OL_miniBatch(model, x, y_true, learn_rate, batch_size):\n",
    "    \n",
    "    print('**********************************\\nPerforming training with OL METHOD - MINI BATCH\\n')\n",
    "    \n",
    "    cntr=1\n",
    "    tot_samples = x.shape[0]\n",
    "    sum_gradW = np.zeros([model.W.shape[0], 8])\n",
    "    sum_gradB = np.zeros([1, 8])\n",
    "    \n",
    "    y_true_soft = lettToSoft(y_true, model.label)     # Transform the true label letters in softmax array\n",
    "        \n",
    "    # Cycle over all samples\n",
    "    for i in range(0, tot_samples):\n",
    "        \n",
    "        y_true_soft = checkNewClass(model, y_true, y_true_soft, i, 0)   # Check if letter is new\n",
    "        \n",
    "        h = model.W.shape[0]\n",
    "        w = model.W.shape[1]\n",
    "        \n",
    "        if(i%batch_size==0):\n",
    "                model.W = model.W - np.multiply(sum_gradW, 1/batch_size*learn_rate)[:h,:w]\n",
    "                model.b = model.b - np.multiply(sum_gradB, 1/batch_size*learn_rate)[0,:w]\n",
    "\n",
    "                sum_gradW = np.zeros([h, 8])  #reset each batch  \n",
    "                sum_gradB = np.zeros([1, 8])  #reset each batch   \n",
    "        \n",
    "        # PREDICTION\n",
    "        y_ML = model.ML_frozen.predict(x[i,:].reshape(1,x.shape[1]))\n",
    "        y_pred = model.predict(y_ML[0,:])\n",
    "\n",
    "        # BACKPROPAGATION\n",
    "        cost = y_pred-y_true_soft[i,:]\n",
    "\n",
    "        for j in range(0,h): \n",
    "            # Update weights\n",
    "            tmp = np.multiply(cost, y_ML[0,j]) \n",
    "            deltaW = np.zeros([1,8])\n",
    "            deltaW[0,:w] = tmp  \n",
    "            sum_gradW[j,:] += deltaW[0,:]\n",
    "\n",
    "        # Update biases\n",
    "        deltaB = np.zeros([1,8])\n",
    "        deltaB[0,:w] = cost\n",
    "        sum_gradB += deltaB\n",
    "\n",
    "        # If last iteration\n",
    "        if(i==tot_samples-1):\n",
    "            model.W = model.W - np.multiply(sum_gradW, 1/batch_size*learn_rate)[:h,:w]\n",
    "            model.b = model.b - np.multiply(sum_gradB, 1/batch_size*learn_rate)[0,:w]\n",
    "        \n",
    "        print(f\"\\r    Currently at {np.round(np.round(cntr/x.shape[0],4)*100,2)}% of dataset\", end=\"\")\n",
    "        cntr +=1"
   ]
  },
  {
   "cell_type": "markdown",
   "metadata": {},
   "source": [
    "### OL v2"
   ]
  },
  {
   "cell_type": "code",
   "execution_count": 32,
   "metadata": {},
   "outputs": [],
   "source": [
    "  def trainOneEpoch_OL_v2(model, x, y_true, learn_rate):\n",
    "    \n",
    "    print('**********************************\\nPerforming training with CWR METHOD - STOCASTICH \\n')\n",
    "    \n",
    "    cntr=1\n",
    "    tot_samples = x.shape[0]\n",
    "    \n",
    "    y_true_soft = lettToSoft(y_true, model.label)    # Transform the true label letters in softmax\n",
    "            \n",
    "    # Cycle over every sample\n",
    "    for i in range(0, tot_samples):\n",
    "        y_true_soft = checkNewClass(model, y_true, y_true_soft, i, 1)    # Check if letter is new\n",
    "        \n",
    "        # PREDICTION\n",
    "        y_ML = model.ML_frozen.predict(x[i,:].reshape(1,x.shape[1]))\n",
    "        y_pred = model.predict(y_ML[0,:])\n",
    "\n",
    "        # BACKPROPAGATION\n",
    "        cost = y_pred-y_true_soft[i,:]  \n",
    "\n",
    "        for j in range(0,model.W.shape[0]):\n",
    "            # Update weights\n",
    "            deltaW = np.multiply(cost, y_ML[0,j])\n",
    "            dW = np.multiply(deltaW, learn_rate)\n",
    "            model.W[j,5:] = model.W[j,5:]-dW[5:]\n",
    "\n",
    "        # Update biases\n",
    "        db = np.multiply(cost, learn_rate)\n",
    "        model.b[5:] = model.b[5:]-db[5:]\n",
    "        \n",
    "        print(f\"\\r    Currently at {np.round(np.round(cntr/x.shape[0],4)*100,2)}% of dataset\", end=\"\")\n",
    "        cntr +=1"
   ]
  },
  {
   "cell_type": "code",
   "execution_count": 33,
   "metadata": {},
   "outputs": [],
   "source": [
    "def trainOneEpoch_OL_v2_miniBatch(model, x, y_true, learn_rate, batch_size):\n",
    "    \n",
    "    print('**********************************\\nPerforming training with CWR - MINI BATCH \\n ')  \n",
    "\n",
    "    cntr=1\n",
    "    tot_samples = x.shape[0]\n",
    "    sum_gradW = np.zeros([model.W.shape[0], 8])\n",
    "    sum_gradB = np.zeros([1, 8])\n",
    "    \n",
    "    # Transform the true label letters in softmax array\n",
    "    y_true_soft = lettToSoft(y_true, model.label)\n",
    "           \n",
    "    # Cycle over all input samples\n",
    "    for i in range(0, tot_samples):\n",
    "        \n",
    "        y_true_soft = checkNewClass(model, y_true, y_true_soft, i, 0) # Check if letter is new\n",
    "        \n",
    "        h = model.W.shape[0]\n",
    "        w = model.W.shape[1]\n",
    "        \n",
    "        # If beginning of batch\n",
    "        if(i%batch_size==0):\n",
    "                model.W[:,5:] = model.W[:,5:] - np.multiply(sum_gradW, 1/batch_size*learn_rate)[:h,5:w]\n",
    "                model.b[5:]   = model.b[5:]   - np.multiply(sum_gradB, 1/batch_size*learn_rate)[0,5:w]\n",
    "                sum_gradW = np.zeros([h, 8])  # reset\n",
    "                sum_gradB = np.zeros([1, 8])  # reset\n",
    "            \n",
    "        # PREDICTION\n",
    "        y_ML = model.ML_frozen.predict(x[i,:].reshape(1,x.shape[1]))\n",
    "        y_pred = model.predict(y_ML[0,:])\n",
    "\n",
    "        # BACKPROPAGATION\n",
    "        cost = y_pred-y_true_soft[i,:]\n",
    "\n",
    "        for j in range(0,h):  \n",
    "            # Update weights\n",
    "            tmp = np.multiply(cost, y_ML[0,j]) \n",
    "            deltaW = np.zeros([1,8])\n",
    "            deltaW[0,:tmp.shape[0]] = tmp  \n",
    "            sum_gradW[j,:] += deltaW[0,:]\n",
    "\n",
    "        # Update biases\n",
    "        deltaB = np.zeros([1,8])\n",
    "        deltaB[0,:cost.shape[0]] = cost\n",
    "        sum_gradB += deltaB\n",
    "\n",
    "        # If last iteration\n",
    "        if(i==tot_samples-1):\n",
    "            model.W[:,5:] = model.W[:,5:] - np.multiply(sum_gradW, 1/batch_size*learn_rate)[:h,5:w]\n",
    "            model.b[5:]   = model.b[5:]   - np.multiply(sum_gradB, 1/batch_size*learn_rate)[0,5:w]\n",
    "        \n",
    "        print(f\"\\r    Currently at {np.round(np.round(cntr/x.shape[0],4)*100,2)}% of dataset\", end=\"\")\n",
    "        cntr +=1"
   ]
  },
  {
   "cell_type": "markdown",
   "metadata": {},
   "source": [
    "### CWR"
   ]
  },
  {
   "cell_type": "code",
   "execution_count": 34,
   "metadata": {},
   "outputs": [],
   "source": [
    "def trainOneEpoch_CWR(model, x, y_true, learn_rate, batch_size):\n",
    "        \n",
    "    print('**********************************\\nPerforming training CWR \\n ')  \n",
    "\n",
    "    cntr=1\n",
    "    tot_samples = x.shape[0]\n",
    "    TW = np.zeros([model.W.shape[0], 8])\n",
    "    TB = np.zeros([1, 8])\n",
    "    found_lett = np.zeros([1,8])\n",
    "    \n",
    "    y_true_soft = lettToSoft(y_true, model.label)    # Transform the true label letters in softmax array\n",
    "           \n",
    "    # Cycle over all input samples\n",
    "    for i in range(0, tot_samples):\n",
    "        \n",
    "        y_true_soft = checkNewClass(model, y_true, y_true_soft, i, 0) # Check if letter is new\n",
    "        \n",
    "        h = model.W.shape[0]\n",
    "        w = model.W.shape[1]\n",
    "        \n",
    "        # If beginning of batch\n",
    "        if(i%batch_size==0 and i!=0): \n",
    "            for k in range(5, w):\n",
    "                if(found_lett[0,k]==0):\n",
    "                    model.W[:,k] = TW[:,k]\n",
    "                    model.b[k]   = TB[0,k]\n",
    "                else:\n",
    "                    tempW = np.multiply(model.W[:,k], found_lett[0,k])\n",
    "                    tempB = np.multiply(model.b[k], found_lett[0,k])\n",
    "                    model.W[:,k] = np.multiply(tempW+TW[:,k], 1/(found_lett[0,k]+1))\n",
    "                    model.b[k]   = np.multiply(tempB+TB[0,k], 1/(found_lett[0,k]+1))\n",
    "                \n",
    "            TW = np.zeros([h, 8])        # reset\n",
    "            TB = np.zeros([1, 8])        # reset\n",
    "            found_lett = np.zeros([1,8]) # reset\n",
    "        elif(i==0):\n",
    "            TW = np.zeros([h, 8]) \n",
    "            TB = np.zeros([1, 8])        # reset\n",
    "            for u in range(0,5):\n",
    "                for p in range(0, h):\n",
    "                    TW[p,u] = model.W[p,u]\n",
    "                TB[0,u] = model.b[u]     \n",
    "                \n",
    "        found_lett[0,np.argmax(y_true_soft[i,:])] += 1\n",
    "            \n",
    "        # PREDICTION\n",
    "        y_ML = model.ML_frozen.predict(x[i,:].reshape(1,x.shape[1]))\n",
    "        y_pred = tf.nn.softmax(np.matmul(y_ML, TW) + TB)\n",
    "\n",
    "        # BACKPROPAGATION\n",
    "        cost = y_pred[0,:w]-y_true_soft[i,:]\n",
    "\n",
    "        for j in range(0,h):  # da 0 a 300\n",
    "            deltaW = np.multiply(cost, y_ML[0,j])\n",
    "            dW = np.multiply(deltaW, learn_rate)\n",
    "            TW[j,:w] = TW[j,:w] - dW\n",
    "\n",
    "        # Update biase\n",
    "        db = np.multiply(cost, learn_rate)\n",
    "        TB[0,:w] = TB[0,:w]-db\n",
    "\n",
    "        # If last iteration\n",
    "        if(i==tot_samples-1):\n",
    "            for k in range(5, w):\n",
    "                if(found_lett[0,k]==0):\n",
    "                    model.W[:,k] = TW[:,k]\n",
    "                    model.b[k]   = TB[0,k]\n",
    "                else:\n",
    "                    tempW = np.multiply(model.W[:,k], found_lett[0,k])\n",
    "                    tempB = np.multiply(model.b[k], found_lett[0,k])\n",
    "                    model.W[:,k] = np.multiply(tempW+TW[:,k], 1/(found_lett[0,k]+1))\n",
    "                    model.b[k]   = np.multiply(tempB+TB[0,k], 1/(found_lett[0,k]+1))\n",
    "        \n",
    "        print(f\"\\r    Currently at {np.round(np.round(cntr/x.shape[0],4)*100,2)}% of dataset\", end=\"\")\n",
    "        cntr +=1\n",
    "        "
   ]
  },
  {
   "cell_type": "markdown",
   "metadata": {},
   "source": [
    "### LWF"
   ]
  },
  {
   "cell_type": "code",
   "execution_count": 35,
   "metadata": {},
   "outputs": [],
   "source": [
    "def trainOneEpochOL_LWF(model, x, y_true, learn_rate):\n",
    "    \n",
    "    print('**********************************')\n",
    "    print('Performing training with OL METHOD - LWF')\n",
    "    print()\n",
    "    \n",
    "    lam  = 0\n",
    "    cntr = 1\n",
    "    tot_samples = x.shape[0]\n",
    "    y_LWF = np.zeros([tot_samples, 8])    # Define container for LWF\n",
    "\n",
    "    # Perform nitial prediciton for LWF\n",
    "    print('   Performing prediction of all dataset')\n",
    "    for u in range(0, x.shape[0]):\n",
    "        y_ML = model.ML_frozen.predict(x[u,:].reshape(1,x.shape[1]))\n",
    "        y_LWF[u,:5] = model.predict(y_ML[0,:])\n",
    "    \n",
    "    \n",
    "    y_true_soft = lettToSoft(y_true, model.label)    # Transform the true label letters in softmax\n",
    "         \n",
    "    # Cycle over every sample\n",
    "    for i in range(0, tot_samples):\n",
    "        \n",
    "        y_true_soft = checkNewClass(model, y_true, y_true_soft, i, 2)   # Check if letter is new\n",
    "        \n",
    "        w = model.W.shape[1]\n",
    "        h = model.W.shape[0]\n",
    "        if(w==6):\n",
    "            lam = 2/3\n",
    "        elif(w==7):\n",
    "            lam = 3/4\n",
    "        elif(w==8):\n",
    "            lam = 4/5\n",
    "            \n",
    "             \n",
    "        # PREDICTION\n",
    "        y_ML = model.ML_frozen.predict(x[i,:].reshape(1,x.shape[1]))\n",
    "        y_pred = model.predict(y_ML[0,:])\n",
    "      \n",
    "        \n",
    "        # BACKPROPAGATION        \n",
    "        cost_norm = y_pred-y_true_soft[i,:]\n",
    "        cost_LWF  = y_pred-y_LWF[i,:w]\n",
    "\n",
    "        for j in range(0,h):\n",
    "            # Update weights\n",
    "            deltaW_norm = np.multiply(cost_norm,1-lam)\n",
    "            deltaW_LWF  = np.multiply(cost_LWF, lam)\n",
    "            deltaW      = np.multiply(deltaW_norm+deltaW_LWF, y_ML[0,j])\n",
    "            dW          = np.multiply(deltaW, learn_rate)\n",
    "\n",
    "            model.W[j,:] = model.W[j,:]-dW\n",
    "\n",
    "            # Update biases\n",
    "            db_norm = np.multiply(cost_norm, 1-lam)\n",
    "            db_LWF  = np.multiply(cost_LWF, lam)\n",
    "            db      = np.multiply(db_norm+db_LWF, learn_rate)\n",
    "            model.b = model.b-db\n",
    "        \n",
    "        print(f\"\\r    Currently at {np.round(np.round(cntr/x.shape[0],4)*100,2)}% of dataset\", end=\"\")\n",
    "        cntr +=1"
   ]
  },
  {
   "cell_type": "code",
   "execution_count": 36,
   "metadata": {},
   "outputs": [],
   "source": [
    "def trainOneEpochOL_LWF_v2(model, x, y_true, learn_rate, batch_size):\n",
    "    \n",
    "    print('**********************************\\nPerforming training with OL METHOD - LWF with MINI BATCH\\n')\n",
    "    \n",
    "    lam  = 0\n",
    "    cntr = 1\n",
    "    tot_samples = x.shape[0]\n",
    "    # Transform the true label letters in softmax array\n",
    "    y_true_soft = lettToSoft(y_true, model.label)\n",
    "        \n",
    "        \n",
    "    # Initialize now and then reset it once every batch_size\n",
    "    sum_gradW = np.zeros([model.W.shape[0], 8])\n",
    "    sum_gradB = np.zeros([1, 8])\n",
    "    \n",
    "    # Define a matrix that I can then fill with the initial inference\n",
    "    y_LWF = np.zeros([ x.shape[0], 8])\n",
    "    \n",
    "    # For every sample in the dataset given\n",
    "    for i in range(0, tot_samples):\n",
    "        \n",
    "        \n",
    "        # Check if letter is new\n",
    "        y_true_soft = checkNewClass(model, y_true, y_true_soft, i, 0)\n",
    "        \n",
    "        h = model.W.shape[0]\n",
    "        w = model.W.shape[1]\n",
    "        if(w==6):\n",
    "            lam = 2/3\n",
    "        elif(w==7):\n",
    "            lam = 3/4\n",
    "        elif(w==8):\n",
    "            lam = 4/5\n",
    "        \n",
    "        # Reset the matrices that keep track of the summation of gradient\n",
    "        if(i%batch_size==0):\n",
    "                model.W = model.W - np.multiply(sum_gradW, 1/batch_size*learn_rate)[:h, :w]\n",
    "                model.b = model.b - np.multiply(sum_gradB, 1/batch_size*learn_rate)[0,:w]\n",
    "            \n",
    "                sum_gradW = np.zeros([h, 8])\n",
    "                sum_gradB = np.zeros([1, 8])\n",
    "                \n",
    "                # Value that avoids the last prediction of LWF to be outside of dataset dimension\n",
    "                limit = 0\n",
    "                if(i+batch_size > tot_samples):\n",
    "                    limit = i+batch_size-tot_samples\n",
    "                    \n",
    "                \n",
    "                for k in range(0, batch_size-limit):\n",
    "                    # Prediction from ML frozen model\n",
    "                    y_ML = model.ML_frozen.predict(x[i+k,:].reshape(1,x.shape[1]))\n",
    "                    # Prediction from LWF \n",
    "                    y_LWF[k,:w] = model.predict(y_ML[0,:])\n",
    "      \n",
    "        # Prediction from ML frozen model\n",
    "        y_ML = model.ML_frozen.predict(x[i,:].reshape(1,x.shape[1]))\n",
    "        # Prediction from TinyOL layer\n",
    "        y_pred = model.predict(y_ML[0,:])\n",
    "         \n",
    "        # ---- BACKPROPAGATION | MINI BATCH + LWF\n",
    "        cost_norm = y_pred-y_true_soft[i,:]\n",
    "        cost_LWF  = y_pred-y_LWF[i,:w]\n",
    "\n",
    "        \n",
    "\n",
    "        for j in range(0,h):  # da 0 a 300\n",
    "\n",
    "            # Update weights\n",
    "            tmp_norm     = np.multiply(cost_norm, 1-lam)\n",
    "            tmp_LWF      = np.multiply(cost_LWF,  lam)\n",
    "            if(len(tmp_LWF)>5):\n",
    "                tmp_LWF[5] = 0\n",
    "            elif(len(tmp_LWF)>6):\n",
    "                tmp_LWF[6] = 0\n",
    "            elif(len(tmp_LWF)>7):\n",
    "                tmp_LWF[7] = 0\n",
    "            tmp_tot      = np.multiply(tmp_norm+tmp_LWF, y_ML[0,j])\n",
    "            deltaW       = deltaW = np.zeros([1,8])\n",
    "            deltaW[0,:w] = tmp_tot \n",
    "            \n",
    "            sum_gradW[j,:] += deltaW[0,:]            \n",
    "            \n",
    "\n",
    "\n",
    "            # Update biases\n",
    "            db_norm = np.multiply(cost_norm, 1-lam)\n",
    "            db_LWF  = np.multiply(cost_LWF,  lam)    \n",
    "            deltaB = np.zeros([1,8])\n",
    "            deltaB[0,:w] = db_norm+db_LWF\n",
    "            \n",
    "            sum_gradB += deltaB\n",
    "            \n",
    "        # if is last iteration , update the matrix\n",
    "        if(i==tot_samples-1):\n",
    "            model.W = model.W - np.multiply(sum_gradW, 1/batch_size*learn_rate)[:h, :w]\n",
    "            model.b = model.b - np.multiply(sum_gradB, 1/batch_size*learn_rate)[0,:w]\n",
    "        \n",
    "        print(f\"\\r    Currently at {np.round(np.round(cntr/x.shape[0],4)*100,2)}% of dataset\", end=\"\")\n",
    "        cntr +=1"
   ]
  },
  {
   "cell_type": "markdown",
   "metadata": {},
   "source": [
    "### Create ML model (cut model)"
   ]
  },
  {
   "cell_type": "code",
   "execution_count": 37,
   "metadata": {},
   "outputs": [
    {
     "name": "stdout",
     "output_type": "stream",
     "text": [
      "Model: \"sequential_1\"\n",
      "_________________________________________________________________\n",
      "Layer (type)                 Output Shape              Param #   \n",
      "=================================================================\n",
      "input_layer (Dense)          (None, 128)               76928     \n",
      "_________________________________________________________________\n",
      "hidden2 (Dense)              (None, 300)               38700     \n",
      "=================================================================\n",
      "Total params: 115,628\n",
      "Trainable params: 115,628\n",
      "Non-trainable params: 0\n",
      "_________________________________________________________________\n"
     ]
    }
   ],
   "source": [
    "ML_model = keras.models.Sequential(model.layers[:-1])\n",
    "ML_model.summary()\n",
    "ML_model.compile()"
   ]
  },
  {
   "cell_type": "code",
   "execution_count": 38,
   "metadata": {},
   "outputs": [],
   "source": [
    "SAVE_MODEL_CUT_PATH = \"C:/Users/massi/UNI/Magistrale/Anno 5/Semestre 2/Tesi/Code/Python/Saved_models/Frozen_model/\"\n",
    "ML_model.save(SAVE_MODEL_CUT_PATH + \"model.h5\")\n",
    "saveParams(SAVE_MODEL_CUT_PATH, ML_model)"
   ]
  },
  {
   "cell_type": "markdown",
   "metadata": {},
   "source": [
    "# Trainings"
   ]
  },
  {
   "cell_type": "markdown",
   "metadata": {},
   "source": [
    "### Train with OL only on vowels"
   ]
  },
  {
   "cell_type": "code",
   "execution_count": 519,
   "metadata": {},
   "outputs": [
    {
     "name": "stdout",
     "output_type": "stream",
     "text": [
      "**********************************\n",
      "Performing training with OL METHOD - STOCHASTICH\n",
      "\n",
      "    Currently at 100.0% of dataset"
     ]
    }
   ],
   "source": [
    "Model_OL_vowels = Custom_Layer(model)\n",
    "for i in range(0, num_epochs):\n",
    "    trainOneEpoch_OL(Model_OL_vowels, OL_data_train_vow, OL_label_train_vow, learn_rate)"
   ]
  },
  {
   "cell_type": "markdown",
   "metadata": {},
   "source": [
    "### Train with LWF"
   ]
  },
  {
   "cell_type": "code",
   "execution_count": 520,
   "metadata": {
    "scrolled": true
   },
   "outputs": [
    {
     "name": "stdout",
     "output_type": "stream",
     "text": [
      "**********************************\n",
      "Performing training with OL METHOD - LWF\n",
      "\n",
      "   Performing prediction of all dataset\n",
      "    Currently at 0.49% of dataset\n",
      "\n",
      "    New letter detected -> letter \u001b[1mB\u001b[0m \n",
      "\n",
      "    Now W is -> (300, 6)              and b is -> (6,)\n",
      "\n",
      "\n",
      "    Currently at 0.99% of dataset\n",
      "\n",
      "    New letter detected -> letter \u001b[1mM\u001b[0m \n",
      "\n",
      "    Now W is -> (300, 7)              and b is -> (7,)\n",
      "\n",
      "\n",
      "    Currently at 1.73% of dataset\n",
      "\n",
      "    New letter detected -> letter \u001b[1mR\u001b[0m \n",
      "\n",
      "    Now W is -> (300, 8)              and b is -> (8,)\n",
      "\n",
      "\n",
      "    Currently at 100.0% of dataset"
     ]
    }
   ],
   "source": [
    "Model_LWF_1 = Custom_Layer(model)\n",
    "for i in range(0, num_epochs):\n",
    "    trainOneEpochOL_LWF(Model_LWF_1, mixed_data_all, mixed_label_all, learn_rate)   "
   ]
  },
  {
   "cell_type": "markdown",
   "metadata": {},
   "source": [
    "### Train LWF + mini batches"
   ]
  },
  {
   "cell_type": "code",
   "execution_count": 521,
   "metadata": {
    "scrolled": true
   },
   "outputs": [
    {
     "name": "stdout",
     "output_type": "stream",
     "text": [
      "**********************************\n",
      "Performing training with OL METHOD - LWF with MINI BATCH\n",
      "\n",
      "    Currently at 0.49% of dataset\n",
      "\n",
      "    New letter detected -> letter \u001b[1mB\u001b[0m \n",
      "\n",
      "    Now W is -> (300, 6)              and b is -> (6,)\n",
      "\n",
      "\n",
      "    Currently at 0.99% of dataset\n",
      "\n",
      "    New letter detected -> letter \u001b[1mM\u001b[0m \n",
      "\n",
      "    Now W is -> (300, 7)              and b is -> (7,)\n",
      "\n",
      "\n",
      "    Currently at 1.73% of dataset\n",
      "\n",
      "    New letter detected -> letter \u001b[1mR\u001b[0m \n",
      "\n",
      "    Now W is -> (300, 8)              and b is -> (8,)\n",
      "\n",
      "\n",
      "    Currently at 100.0% of dataset"
     ]
    }
   ],
   "source": [
    "Model_LWF_2 = Custom_Layer(model)\n",
    "for i in range(0, num_epochs):\n",
    "    trainOneEpochOL_LWF_v2(Model_LWF_2, mixed_data_all, mixed_label_all, learn_rate, batch_size_new)"
   ]
  },
  {
   "cell_type": "markdown",
   "metadata": {},
   "source": [
    "### Train with OL method"
   ]
  },
  {
   "cell_type": "code",
   "execution_count": 522,
   "metadata": {
    "scrolled": true
   },
   "outputs": [
    {
     "name": "stdout",
     "output_type": "stream",
     "text": [
      "**********************************\n",
      "Performing training with OL METHOD - STOCHASTICH\n",
      "\n",
      "    Currently at 0.49% of dataset\n",
      "\n",
      "    New letter detected -> letter \u001b[1mB\u001b[0m \n",
      "\n",
      "    Now W is -> (300, 6)              and b is -> (6,)\n",
      "\n",
      "\n",
      "    Currently at 0.99% of dataset\n",
      "\n",
      "    New letter detected -> letter \u001b[1mM\u001b[0m \n",
      "\n",
      "    Now W is -> (300, 7)              and b is -> (7,)\n",
      "\n",
      "\n",
      "    Currently at 1.73% of dataset\n",
      "\n",
      "    New letter detected -> letter \u001b[1mR\u001b[0m \n",
      "\n",
      "    Now W is -> (300, 8)              and b is -> (8,)\n",
      "\n",
      "\n",
      "    Currently at 100.0% of dataset"
     ]
    }
   ],
   "source": [
    "Model_OL_all_mixed = Custom_Layer(model)\n",
    "for i in range(0, num_epochs):\n",
    "    trainOneEpoch_OL(Model_OL_all_mixed, mixed_data_all, mixed_label_all, learn_rate)"
   ]
  },
  {
   "cell_type": "markdown",
   "metadata": {},
   "source": [
    "### Train with OL + mini batch"
   ]
  },
  {
   "cell_type": "code",
   "execution_count": 523,
   "metadata": {
    "scrolled": true
   },
   "outputs": [
    {
     "name": "stdout",
     "output_type": "stream",
     "text": [
      "**********************************\n",
      "Performing training with OL METHOD - MINI BATCH\n",
      "\n",
      "    Currently at 0.49% of dataset\n",
      "\n",
      "    New letter detected -> letter \u001b[1mB\u001b[0m \n",
      "\n",
      "    Now W is -> (300, 6)              and b is -> (6,)\n",
      "\n",
      "\n",
      "    Currently at 0.99% of dataset\n",
      "\n",
      "    New letter detected -> letter \u001b[1mM\u001b[0m \n",
      "\n",
      "    Now W is -> (300, 7)              and b is -> (7,)\n",
      "\n",
      "\n",
      "    Currently at 1.73% of dataset\n",
      "\n",
      "    New letter detected -> letter \u001b[1mR\u001b[0m \n",
      "\n",
      "    Now W is -> (300, 8)              and b is -> (8,)\n",
      "\n",
      "\n",
      "    Currently at 100.0% of dataset"
     ]
    }
   ],
   "source": [
    "Model_OL_mini = Custom_Layer(model)\n",
    "for i in range(0, num_epochs):\n",
    "    trainOneEpoch_OL_miniBatch(Model_OL_mini, mixed_data_all, mixed_label_all, learn_rate, batch_size_new)"
   ]
  },
  {
   "cell_type": "markdown",
   "metadata": {},
   "source": [
    "### Train with OL v2 "
   ]
  },
  {
   "cell_type": "code",
   "execution_count": 524,
   "metadata": {
    "scrolled": true
   },
   "outputs": [
    {
     "name": "stdout",
     "output_type": "stream",
     "text": [
      "**********************************\n",
      "Performing training with CWR METHOD - STOCASTICH \n",
      "\n",
      "    Currently at 0.49% of dataset\n",
      "\n",
      "    New letter detected -> letter \u001b[1mB\u001b[0m \n",
      "\n",
      "    Now W is -> (300, 6)              and b is -> (6,)\n",
      "\n",
      "\n",
      "    Currently at 0.99% of dataset\n",
      "\n",
      "    New letter detected -> letter \u001b[1mM\u001b[0m \n",
      "\n",
      "    Now W is -> (300, 7)              and b is -> (7,)\n",
      "\n",
      "\n",
      "    Currently at 1.73% of dataset\n",
      "\n",
      "    New letter detected -> letter \u001b[1mR\u001b[0m \n",
      "\n",
      "    Now W is -> (300, 8)              and b is -> (8,)\n",
      "\n",
      "\n",
      "    Currently at 100.0% of dataset"
     ]
    }
   ],
   "source": [
    "Model_OL_v2 = Custom_Layer(model)\n",
    "for i in range(0, num_epochs):\n",
    "    trainOneEpoch_OL_v2(Model_OL_v2, mixed_data_all, mixed_label_all, learn_rate)"
   ]
  },
  {
   "cell_type": "markdown",
   "metadata": {},
   "source": [
    "### Train with OL v2 + mini batch"
   ]
  },
  {
   "cell_type": "code",
   "execution_count": 525,
   "metadata": {
    "scrolled": true
   },
   "outputs": [
    {
     "name": "stdout",
     "output_type": "stream",
     "text": [
      "**********************************\n",
      "Performing training with CWR - MINI BATCH \n",
      " \n",
      "    Currently at 0.49% of dataset\n",
      "\n",
      "    New letter detected -> letter \u001b[1mB\u001b[0m \n",
      "\n",
      "    Now W is -> (300, 6)              and b is -> (6,)\n",
      "\n",
      "\n",
      "    Currently at 0.99% of dataset\n",
      "\n",
      "    New letter detected -> letter \u001b[1mM\u001b[0m \n",
      "\n",
      "    Now W is -> (300, 7)              and b is -> (7,)\n",
      "\n",
      "\n",
      "    Currently at 1.73% of dataset\n",
      "\n",
      "    New letter detected -> letter \u001b[1mR\u001b[0m \n",
      "\n",
      "    Now W is -> (300, 8)              and b is -> (8,)\n",
      "\n",
      "\n",
      "    Currently at 100.0% of dataset"
     ]
    }
   ],
   "source": [
    "Model_OL_v2_miniBatch = Custom_Layer(model)\n",
    "for i in range(0, num_epochs):\n",
    "    trainOneEpoch_OL_v2_miniBatch(Model_OL_v2_miniBatch, mixed_data_all, mixed_label_all, learn_rate, batch_size_new)"
   ]
  },
  {
   "cell_type": "markdown",
   "metadata": {},
   "source": [
    "### Train with CWR"
   ]
  },
  {
   "cell_type": "code",
   "execution_count": 526,
   "metadata": {},
   "outputs": [
    {
     "name": "stdout",
     "output_type": "stream",
     "text": [
      "**********************************\n",
      "Performing training CWR \n",
      " \n",
      "    Currently at 0.49% of dataset\n",
      "\n",
      "    New letter detected -> letter \u001b[1mB\u001b[0m \n",
      "\n",
      "    Now W is -> (300, 6)              and b is -> (6,)\n",
      "\n",
      "\n",
      "    Currently at 0.99% of dataset\n",
      "\n",
      "    New letter detected -> letter \u001b[1mM\u001b[0m \n",
      "\n",
      "    Now W is -> (300, 7)              and b is -> (7,)\n",
      "\n",
      "\n",
      "    Currently at 1.73% of dataset\n",
      "\n",
      "    New letter detected -> letter \u001b[1mR\u001b[0m \n",
      "\n",
      "    Now W is -> (300, 8)              and b is -> (8,)\n",
      "\n",
      "\n",
      "    Currently at 100.0% of dataset"
     ]
    }
   ],
   "source": [
    "Model_CWR = Custom_Layer(model)\n",
    "for i in range(0, num_epochs):\n",
    "    trainOneEpoch_CWR(Model_CWR, mixed_data_all, mixed_label_all, learn_rate, batch_size_new)"
   ]
  },
  {
   "cell_type": "markdown",
   "metadata": {},
   "source": [
    "# PLOTS"
   ]
  },
  {
   "cell_type": "markdown",
   "metadata": {},
   "source": [
    "### Original model"
   ]
  },
  {
   "cell_type": "code",
   "execution_count": 527,
   "metadata": {
    "scrolled": false
   },
   "outputs": [
    {
     "data": {
      "image/png": "[encoded data removed]",
      "text/plain": [
       "<Figure size 864x576 with 1 Axes>"
      ]
     },
     "metadata": {
      "needs_background": "light"
     },
     "output_type": "display_data"
    }
   ],
   "source": [
    "res00, res01, res02 = testOL_v2(model)\n",
    "plotTestOL(res00, res01, res02, 'KERAS', 'origModel')"
   ]
  },
  {
   "cell_type": "markdown",
   "metadata": {},
   "source": [
    "### Only vowels"
   ]
  },
  {
   "cell_type": "code",
   "execution_count": 528,
   "metadata": {
    "scrolled": false
   },
   "outputs": [
    {
     "data": {
      "image/png": "[encoded data removed]",
      "text/plain": [
       "<Figure size 864x576 with 1 Axes>"
      ]
     },
     "metadata": {
      "needs_background": "light"
     },
     "output_type": "display_data"
    }
   ],
   "source": [
    "res10, res11, res12 = testOL(Model_OL_vowels)\n",
    "plotTestOL(res10, res11, res12, 'VOWELS', 'trainVowels')"
   ]
  },
  {
   "cell_type": "markdown",
   "metadata": {},
   "source": [
    "### OL"
   ]
  },
  {
   "cell_type": "code",
   "execution_count": 529,
   "metadata": {
    "scrolled": false
   },
   "outputs": [
    {
     "data": {
      "image/png": "[encoded data removed]",
      "text/plain": [
       "<Figure size 864x576 with 1 Axes>"
      ]
     },
     "metadata": {
      "needs_background": "light"
     },
     "output_type": "display_data"
    }
   ],
   "source": [
    "res20, res21, res22 = testOL(Model_OL_all_mixed)\n",
    "plotTestOL(res20, res21, res22, 'OL', 'trainOL')"
   ]
  },
  {
   "cell_type": "markdown",
   "metadata": {},
   "source": [
    "### OL + mini batch"
   ]
  },
  {
   "cell_type": "code",
   "execution_count": 530,
   "metadata": {},
   "outputs": [
    {
     "data": {
      "image/png": "[encoded data removed]",
      "text/plain": [
       "<Figure size 864x576 with 1 Axes>"
      ]
     },
     "metadata": {
      "needs_background": "light"
     },
     "output_type": "display_data"
    }
   ],
   "source": [
    "res30, res31, res32 = testOL(Model_OL_mini)\n",
    "plotTestOL(res30, res31, res32, 'OL + mini batch', 'trainOL_mini')"
   ]
  },
  {
   "cell_type": "markdown",
   "metadata": {},
   "source": [
    "### LWF"
   ]
  },
  {
   "cell_type": "code",
   "execution_count": 531,
   "metadata": {},
   "outputs": [
    {
     "data": {
      "image/png": "[encoded data removed]",
      "text/plain": [
       "<Figure size 864x576 with 1 Axes>"
      ]
     },
     "metadata": {
      "needs_background": "light"
     },
     "output_type": "display_data"
    }
   ],
   "source": [
    "res40, res41, res42 = testOL(Model_LWF_1)\n",
    "plotTestOL(res40, res41, res42, 'LWF', 'trainLWF_v1')"
   ]
  },
  {
   "cell_type": "markdown",
   "metadata": {},
   "source": [
    "### LWF + mini batch"
   ]
  },
  {
   "cell_type": "code",
   "execution_count": 532,
   "metadata": {},
   "outputs": [
    {
     "data": {
      "image/png": "[encoded data removed]",
      "text/plain": [
       "<Figure size 864x576 with 1 Axes>"
      ]
     },
     "metadata": {
      "needs_background": "light"
     },
     "output_type": "display_data"
    }
   ],
   "source": [
    "res50, res51, res52 = testOL(Model_LWF_2)\n",
    "plotTestOL(res50, res51, res52, 'LWF + mini batch', 'trainLWF_v2')"
   ]
  },
  {
   "cell_type": "markdown",
   "metadata": {},
   "source": [
    "### OL v2"
   ]
  },
  {
   "cell_type": "code",
   "execution_count": 533,
   "metadata": {},
   "outputs": [
    {
     "data": {
      "image/png": "[encoded data removed]",
      "text/plain": [
       "<Figure size 864x576 with 1 Axes>"
      ]
     },
     "metadata": {
      "needs_background": "light"
     },
     "output_type": "display_data"
    }
   ],
   "source": [
    "res60, res61, res62 = testOL(Model_OL_v2)\n",
    "plotTestOL(res60, res61, res62, 'OL v2', 'trainOL_v2')"
   ]
  },
  {
   "cell_type": "markdown",
   "metadata": {},
   "source": [
    "### OL v2 + mini batch"
   ]
  },
  {
   "cell_type": "code",
   "execution_count": 534,
   "metadata": {},
   "outputs": [
    {
     "data": {
      "image/png": "[encoded data removed]",
      "text/plain": [
       "<Figure size 864x576 with 1 Axes>"
      ]
     },
     "metadata": {
      "needs_background": "light"
     },
     "output_type": "display_data"
    }
   ],
   "source": [
    "res70, res71, res72 = testOL(Model_OL_v2_miniBatch)\n",
    "plotTestOL(res70, res71, res72, 'OL v2 + mini batch', 'trainOL_v2_mini')"
   ]
  },
  {
   "cell_type": "code",
   "execution_count": 535,
   "metadata": {},
   "outputs": [
    {
     "data": {
      "image/png": "[encoded data removed]",
      "text/plain": [
       "<Figure size 864x576 with 1 Axes>"
      ]
     },
     "metadata": {
      "needs_background": "light"
     },
     "output_type": "display_data"
    }
   ],
   "source": [
    "res80, res81, res82 = testOL(Model_CWR)\n",
    "plotTestOL(res80, res81, res82, 'CWR', 'trainCWR')\n"
   ]
  },
  {
   "cell_type": "markdown",
   "metadata": {},
   "source": [
    "## All plots"
   ]
  },
  {
   "cell_type": "code",
   "execution_count": 536,
   "metadata": {},
   "outputs": [
    {
     "data": {
      "text/plain": [
       "(-0.5, 863.5, 575.5, -0.5)"
      ]
     },
     "execution_count": 536,
     "metadata": {},
     "output_type": "execute_result"
    },
    {
     "data": {
      "image/png": "[encoded data removed]",
      "text/plain": [
       "<Figure size 2880x2016 with 8 Axes>"
      ]
     },
     "metadata": {
      "needs_background": "light"
     },
     "output_type": "display_data"
    }
   ],
   "source": [
    "rows = 4\n",
    "columns = 2\n",
    "# create figure\n",
    "fig = plt.figure(figsize=(40,28))\n",
    "# Adds a subplot at the 1st position\n",
    "fig.add_subplot(rows, columns, 1)\n",
    "  \n",
    "Image1 = mpimg.imread(r'C:/Users/massi/UNI/Magistrale/Anno 5/Semestre 2/Tesi/Code/Python/Plots/origModel.jpg')\n",
    "Image2 = mpimg.imread(r'C:/Users/massi/UNI/Magistrale/Anno 5/Semestre 2/Tesi/Code/Python/Plots/trainVowels.jpg')\n",
    "Image3 = mpimg.imread(r'C:/Users/massi/UNI/Magistrale/Anno 5/Semestre 2/Tesi/Code/Python/Plots/trainOL.jpg')\n",
    "Image4 = mpimg.imread(r'C:/Users/massi/UNI/Magistrale/Anno 5/Semestre 2/Tesi/Code/Python/Plots/trainOL_mini.jpg')\n",
    "Image5 = mpimg.imread(r'C:/Users/massi/UNI/Magistrale/Anno 5/Semestre 2/Tesi/Code/Python/Plots/trainLWF_v1.jpg')\n",
    "Image6 = mpimg.imread(r'C:/Users/massi/UNI/Magistrale/Anno 5/Semestre 2/Tesi/Code/Python/Plots/trainLWF_v2.jpg')\n",
    "Image7 = mpimg.imread(r'C:/Users/massi/UNI/Magistrale/Anno 5/Semestre 2/Tesi/Code/Python/Plots/trainOL_v2.jpg')\n",
    "Image8 = mpimg.imread(r'C:/Users/massi/UNI/Magistrale/Anno 5/Semestre 2/Tesi/Code/Python/Plots/trainOL_v2_mini.jpg')\n",
    "    \n",
    "# showing image\n",
    "plt.imshow(Image1)\n",
    "plt.axis('off')\n",
    "  \n",
    "# Adds a subplot at the 2nd position\n",
    "fig.add_subplot(rows, columns, 2)\n",
    "  \n",
    "# showing image\n",
    "plt.imshow(Image2)\n",
    "plt.axis('off')\n",
    "  \n",
    "# Adds a subplot at the 3rd position\n",
    "fig.add_subplot(rows, columns, 3)\n",
    "  \n",
    "# showing image\n",
    "plt.imshow(Image3)\n",
    "plt.axis('off')\n",
    "  \n",
    "# Adds a subplot at the 4th position\n",
    "fig.add_subplot(rows, columns, 4)\n",
    "  \n",
    "# showing image\n",
    "plt.imshow(Image4)\n",
    "plt.axis('off')\n",
    "\n",
    "# Adds a subplot at the 4th position\n",
    "fig.add_subplot(rows, columns, 5)\n",
    "  \n",
    "# showing image\n",
    "plt.imshow(Image5)\n",
    "plt.axis('off')\n",
    "\n",
    "# Adds a subplot at the 4th position\n",
    "fig.add_subplot(rows, columns, 6)\n",
    "  \n",
    "# showing image\n",
    "plt.imshow(Image6)\n",
    "plt.axis('off')\n",
    "\n",
    "# Adds a subplot at the 4th position\n",
    "fig.add_subplot(rows, columns, 7)\n",
    "  \n",
    "# showing image\n",
    "plt.imshow(Image7)\n",
    "plt.axis('off')\n",
    "\n",
    "# Adds a subplot at the 4th position\n",
    "fig.add_subplot(rows, columns, 8)\n",
    "  \n",
    "# showing image\n",
    "plt.imshow(Image8)\n",
    "plt.axis('off')"
   ]
  },
  {
   "cell_type": "code",
   "execution_count": 537,
   "metadata": {},
   "outputs": [
    {
     "name": "stdout",
     "output_type": "stream",
     "text": [
      "The best trained model is:\n",
      "[ 8. 14.  8.  8.  4.  0.  0.  0.]\n",
      "[  0.   0.   0.   0.   0. 102. 101. 101.]\n",
      "[  8.  14.   8.   8.   4. 102. 101. 101.]\n",
      "ORIG:       12.139999999999999\n",
      "VOWELS:     17.75\n",
      "OL:         87.57000000000001\n",
      "OL + mini:  91.72\n",
      "LWF:        44.379999999999995\n",
      "LWF + mini: 45.56\n",
      "OL v2:        82.84\n",
      "OL v2 + mini: 84.02\n"
     ]
    }
   ],
   "source": [
    "print('The best trained model is:')\n",
    "\n",
    "print(res00)\n",
    "print(res01)\n",
    "print(res02)\n",
    "\n",
    "print(f'ORIG:       {round(np.sum(res00)/np.sum(res02),4)*100}')\n",
    "print(f'VOWELS:     {round(np.sum(res10)/np.sum(res12),4)*100}')\n",
    "print(f'OL:         {round(np.sum(res20)/np.sum(res22),4)*100}')\n",
    "print(f'OL + mini:  {round(np.sum(res30)/np.sum(res32),4)*100}')\n",
    "print(f'LWF:        {round(np.sum(res40)/np.sum(res42),4)*100}')\n",
    "print(f'LWF + mini: {round(np.sum(res50)/np.sum(res52),4)*100}')\n",
    "print(f'OL v2:        {round(np.sum(res60)/np.sum(res62),4)*100}')\n",
    "print(f'OL v2 + mini: {round(np.sum(res70)/np.sum(res72),4)*100}')\n",
    "    "
   ]
  },
  {
   "cell_type": "code",
   "execution_count": 39,
   "metadata": {},
   "outputs": [
    {
     "ename": "NameError",
     "evalue": "name 'res00' is not defined",
     "output_type": "error",
     "traceback": [
      "\u001b[1;31m---------------------------------------------------------------------------\u001b[0m",
      "\u001b[1;31mNameError\u001b[0m                                 Traceback (most recent call last)",
      "\u001b[1;32m~\\AppData\\Local\\Temp/ipykernel_2552/3320190038.py\u001b[0m in \u001b[0;36m<module>\u001b[1;34m\u001b[0m\n\u001b[0;32m     28\u001b[0m \u001b[1;33m\u001b[0m\u001b[0m\n\u001b[0;32m     29\u001b[0m \u001b[1;33m\u001b[0m\u001b[0m\n\u001b[1;32m---> 30\u001b[1;33m \u001b[0mwriteSimuRes\u001b[0m\u001b[1;33m(\u001b[0m\u001b[1;34m'orig'\u001b[0m\u001b[1;33m,\u001b[0m      \u001b[0mres00\u001b[0m\u001b[1;33m,\u001b[0m \u001b[0mres01\u001b[0m\u001b[1;33m,\u001b[0m \u001b[0mres02\u001b[0m\u001b[1;33m)\u001b[0m\u001b[1;33m\u001b[0m\u001b[1;33m\u001b[0m\u001b[0m\n\u001b[0m\u001b[0;32m     31\u001b[0m \u001b[0mwriteSimuRes\u001b[0m\u001b[1;33m(\u001b[0m\u001b[1;34m'vowels'\u001b[0m\u001b[1;33m,\u001b[0m    \u001b[0mres10\u001b[0m\u001b[1;33m,\u001b[0m \u001b[0mres11\u001b[0m\u001b[1;33m,\u001b[0m \u001b[0mres12\u001b[0m\u001b[1;33m)\u001b[0m\u001b[1;33m\u001b[0m\u001b[1;33m\u001b[0m\u001b[0m\n\u001b[0;32m     32\u001b[0m \u001b[0mwriteSimuRes\u001b[0m\u001b[1;33m(\u001b[0m\u001b[1;34m'OL'\u001b[0m\u001b[1;33m,\u001b[0m        \u001b[0mres20\u001b[0m\u001b[1;33m,\u001b[0m \u001b[0mres21\u001b[0m\u001b[1;33m,\u001b[0m \u001b[0mres22\u001b[0m\u001b[1;33m)\u001b[0m\u001b[1;33m\u001b[0m\u001b[1;33m\u001b[0m\u001b[0m\n",
      "\u001b[1;31mNameError\u001b[0m: name 'res00' is not defined"
     ]
    }
   ],
   "source": [
    "# Write down in txt files all the results across 10 or so simulations\n",
    "\n",
    "def writeSimuRes(filename, res1, res2, res3):\n",
    "    \n",
    "    ROOT_TXT_PATH = 'C:/Users/massi/UNI/Magistrale/Anno 5/Semestre 2/Tesi/Code/Python/SimuRes/'\n",
    "    \n",
    "    with open(ROOT_TXT_PATH + filename +'.txt',\"a\") as f:\n",
    "        for i in range(0, len(res1)):\n",
    "            f.write(str(int(res1[i])))\n",
    "            if(i==len(res1)-1):\n",
    "                f.write('\\n')\n",
    "            else:\n",
    "                f.write(',')\n",
    "                \n",
    "        for i in range(0, len(res2)):\n",
    "            f.write(str(int(res2[i])))\n",
    "            if(i==len(res2)-1):\n",
    "                f.write('\\n')\n",
    "            else:\n",
    "                f.write(',')\n",
    "                \n",
    "        for i in range(0, len(res3)):\n",
    "            f.write(str(int(res3[i])))\n",
    "            if(i==len(res3)-1):\n",
    "                f.write('\\n')\n",
    "            else:\n",
    "                f.write(',')\n",
    "                \n",
    "\n",
    "writeSimuRes('orig',      res00, res01, res02)\n",
    "writeSimuRes('vowels',    res10, res11, res12)\n",
    "writeSimuRes('OL',        res20, res21, res22)\n",
    "writeSimuRes('OL_mini',   res30, res31, res32)\n",
    "writeSimuRes('LWF',       res40, res41, res42)\n",
    "writeSimuRes('LWF_mini',  res50, res51, res52)\n",
    "writeSimuRes('OL_v2',     res60, res61, res62)\n",
    "writeSimuRes('OL_v2_min', res70, res71, res72)\n",
    "writeSimuRes('CWR',       res80, res81, res82)"
   ]
  },
  {
   "cell_type": "code",
   "execution_count": null,
   "metadata": {},
   "outputs": [],
   "source": [
    "def analyzeSimuRes(filename):\n",
    "\n",
    "    ROOT_TXT_PATH = 'C:/Users/massi/UNI/Magistrale/Anno 5/Semestre 2/Tesi/Code/Python/SimuRes/'\n",
    "    \n",
    "    data = np.loadtxt(ROOT_TXT_PATH + filename +'.txt', delimiter=',')\n",
    "\n",
    "    for i in range(0, int(data.shape[0]/3)):\n",
    "        k=i*3\n",
    "        accuracy[i] = np.sum(data[k,:]) / np.sum(data[k+2,:])\n",
    "\n",
    "    avrg_accuracy = round(np.sum(accuracy)/len(accuracy),2)\n",
    "\n",
    "    print(f'Average accuracy for {filename} is: {avrg_accuracy}')\n",
    "        "
   ]
  },
  {
   "cell_type": "code",
   "execution_count": 64,
   "metadata": {},
   "outputs": [
    {
     "name": "stdout",
     "output_type": "stream",
     "text": [
      "Average accuracy for orig is: 11.18\n",
      "Average accuracy for vowels is: 16.57\n",
      "Average accuracy for OL is: 73.55\n",
      "Average accuracy for OL_mini is: 74.79\n",
      "Average accuracy for LWF is: 27.28\n",
      "Average accuracy for LWF_mini is: 38.22\n",
      "Average accuracy for OL_v2 is: 75.74\n",
      "Average accuracy for OL_v2_min is: 74.02\n",
      "Average accuracy for CWR is: 52.9\n"
     ]
    },
    {
     "data": {
      "image/png": "[encoded data removed]",
      "text/plain": [
       "<Figure size 864x576 with 1 Axes>"
      ]
     },
     "metadata": {
      "needs_background": "light"
     },
     "output_type": "display_data"
    }
   ],
   "source": [
    "def plotSimuREs(plotEnable):\n",
    "    \n",
    "    ROOT_TXT_PATH = 'C:/Users/massi/UNI/Magistrale/Anno 5/Semestre 2/Tesi/Code/Python/SimuRes/'\n",
    "    \n",
    "    names_ary = ['orig', 'vowels', 'OL', 'OL_mini', 'LWF', 'LWF_mini', 'OL_v2', 'OL_v2_min', 'CWR']\n",
    "    \n",
    "    avrg_accuracy = np.zeros(len(names_ary))\n",
    "    avrg_err = np.zeros(len(names_ary))\n",
    "\n",
    "    count = 0\n",
    "    for filename in names_ary:\n",
    "        \n",
    "        data = np.loadtxt(ROOT_TXT_PATH + filename +'.txt', delimiter=',')\n",
    "\n",
    "        for i in range(0, int(data.shape[0]/3)):\n",
    "            k=i*3\n",
    "            accuracy[i] = np.sum(data[k,:]) / np.sum(data[k+2,:])\n",
    "\n",
    "        avrg_accuracy[count] = round(round(np.sum(accuracy)/len(accuracy),4)*100,2)\n",
    "        avrg_err[count] = 100-avrg_accuracy[count]\n",
    "\n",
    "\n",
    "        print(f'Average accuracy for {filename} is: {avrg_accuracy[count]}')\n",
    "        count+=1\n",
    "        \n",
    "    if(plotEnable==1):\n",
    "\n",
    "        width = 0.25\n",
    "        fig = plt.subplots(figsize =(12, 8))\n",
    "\n",
    "        # Set position of bar on X axis\n",
    "        br1 = np.arange(len(avrg_accuracy))\n",
    "        br2 = [x + width for x in br1]\n",
    "\n",
    "        # Make the plot\n",
    "        plt.bar(br1, avrg_accuracy, color ='g', width = width, edgecolor ='grey', label ='Correct prediction')\n",
    "        plt.bar(br2, avrg_err, color ='r', width = width, edgecolor ='grey', label ='Wrong prediction')\n",
    "\n",
    "        # Adding Xticks\n",
    "        plt.ylabel('%', fontweight ='bold', fontsize = 15)\n",
    "        plt.xticks([r + width for r in range(len(avrg_accuracy))], ['orig', 'vowels', 'OL', 'OL_mini', 'LWF', 'LWF_mini', 'OL_v2', 'OL_v2_min', 'CWR'],fontweight ='bold', fontsize = 15)\n",
    "        plt.title('Average over 10 simulation',fontweight ='bold', fontsize = 15)\n",
    "\n",
    "        #PLOT_PATH = 'C:/Users/massi/UNI/Magistrale/Anno 5/Semestre 2/Tesi/Code/Python/Plots/'\n",
    "        #plt.savefig(PLOT_PATH + filename + '.jpg')\n",
    "\n",
    "\n",
    "plotSimuREs(1)"
   ]
  },
  {
   "cell_type": "code",
   "execution_count": 56,
   "metadata": {},
   "outputs": [
    {
     "name": "stdout",
     "output_type": "stream",
     "text": [
      "Average accuracy for orig is: 0.11\n",
      "Average accuracy for vowels is: 0.17\n",
      "Average accuracy for OL is: 0.74\n",
      "Average accuracy for OL_mini is: 0.75\n",
      "Average accuracy for LWF is: 0.27\n",
      "Average accuracy for LWF_mini is: 0.38\n",
      "Average accuracy for OL_v2 is: 0.76\n",
      "Average accuracy for OL_v2_min is: 0.74\n",
      "Average accuracy for CWR is: 0.53\n"
     ]
    }
   ],
   "source": [
    "analyzeSimuRes('orig')\n",
    "analyzeSimuRes('vowels')\n",
    "analyzeSimuRes('OL')\n",
    "analyzeSimuRes('OL_mini')\n",
    "analyzeSimuRes('LWF')\n",
    "analyzeSimuRes('LWF_mini')\n",
    "analyzeSimuRes('OL_v2')\n",
    "analyzeSimuRes('OL_v2_min')\n",
    "analyzeSimuRes('CWR')"
   ]
  },
  {
   "cell_type": "markdown",
   "metadata": {},
   "source": [
    "\n",
    "\n",
    "\n",
    "\n",
    "\n",
    "\n",
    "\n",
    "\n",
    "\n",
    "\n",
    "\n",
    "\n",
    "\n",
    "### ----------------------------------------------------------------------------------------------------------"
   ]
  },
  {
   "cell_type": "markdown",
   "metadata": {},
   "source": [
    "# Scripts for generating libraries for the STM code"
   ]
  },
  {
   "cell_type": "code",
   "execution_count": 539,
   "metadata": {},
   "outputs": [
    {
     "ename": "NameError",
     "evalue": "name 'vowels_test_data' is not defined",
     "output_type": "error",
     "traceback": [
      "\u001b[1;31m---------------------------------------------------------------------------\u001b[0m",
      "\u001b[1;31mNameError\u001b[0m                                 Traceback (most recent call last)",
      "\u001b[1;32m~\\AppData\\Local\\Temp/ipykernel_19152/3386793320.py\u001b[0m in \u001b[0;36m<module>\u001b[1;34m\u001b[0m\n\u001b[0;32m      5\u001b[0m \u001b[0mnew_file\u001b[0m \u001b[1;33m=\u001b[0m \u001b[0mopen\u001b[0m\u001b[1;33m(\u001b[0m\u001b[0mSAMPLE_LETTER_PATH\u001b[0m \u001b[1;33m+\u001b[0m \u001b[1;34m'/sample_input.h'\u001b[0m\u001b[1;33m,\u001b[0m \u001b[1;34m\"w\"\u001b[0m\u001b[1;33m)\u001b[0m\u001b[1;33m\u001b[0m\u001b[1;33m\u001b[0m\u001b[0m\n\u001b[0;32m      6\u001b[0m \u001b[1;33m\u001b[0m\u001b[0m\n\u001b[1;32m----> 7\u001b[1;33m \u001b[0msample_A\u001b[0m \u001b[1;33m=\u001b[0m \u001b[0mvowels_test_data\u001b[0m\u001b[1;33m[\u001b[0m\u001b[1;36m1\u001b[0m\u001b[1;33m,\u001b[0m\u001b[1;33m:\u001b[0m\u001b[1;33m]\u001b[0m\u001b[1;33m\u001b[0m\u001b[1;33m\u001b[0m\u001b[0m\n\u001b[0m\u001b[0;32m      8\u001b[0m \u001b[0msample_E\u001b[0m \u001b[1;33m=\u001b[0m \u001b[0mvowels_test_data\u001b[0m\u001b[1;33m[\u001b[0m\u001b[1;36m9\u001b[0m\u001b[1;33m,\u001b[0m\u001b[1;33m:\u001b[0m\u001b[1;33m]\u001b[0m\u001b[1;33m\u001b[0m\u001b[1;33m\u001b[0m\u001b[0m\n\u001b[0;32m      9\u001b[0m \u001b[0msample_I\u001b[0m \u001b[1;33m=\u001b[0m \u001b[0mvowels_test_data\u001b[0m\u001b[1;33m[\u001b[0m\u001b[1;36m4\u001b[0m\u001b[1;33m,\u001b[0m\u001b[1;33m:\u001b[0m\u001b[1;33m]\u001b[0m\u001b[1;33m\u001b[0m\u001b[1;33m\u001b[0m\u001b[0m\n",
      "\u001b[1;31mNameError\u001b[0m: name 'vowels_test_data' is not defined"
     ]
    }
   ],
   "source": [
    "# WRITE THE VOWELS ON A TXT FILE\n",
    "\n",
    "SAMPLE_LETTER_PATH = \"C:/Users/massi/UNI/Magistrale/Anno 5/Semestre 2/Tesi/Code/Python/Other/\"\n",
    "\n",
    "new_file = open(SAMPLE_LETTER_PATH + '/sample_input.h', \"w\")\n",
    "\n",
    "sample_A = vowels_test_data[1,:]\n",
    "sample_E = vowels_test_data[9,:]\n",
    "sample_I = vowels_test_data[4,:]\n",
    "sample_O = vowels_test_data[0,:]\n",
    "sample_U = vowels_test_data[3,:]\n",
    "\n",
    "new_file.write(\"#include \\\"main.h\\\" \\n\\n\\n\")\n",
    "\n",
    "\n",
    "new_file.write('int sample_A[600] = {')\n",
    "for j in range(0, 600):\n",
    "        new_file.write(str(int(sample_A[j])))\n",
    "        \n",
    "        if(j!=599):\n",
    "            new_file.write(',')\n",
    "        if((j%20==0) and (j!=0)):\n",
    "            new_file.write('\\n                     ')\n",
    "new_file.write('};')\n",
    "\n",
    "new_file.write('\\n\\n\\n')\n",
    "\n",
    "new_file.write('int sample_E[600] = {')\n",
    "for j in range(0, 600):\n",
    "        new_file.write(str(int(sample_E[j])))\n",
    "        \n",
    "        if(j!=599):\n",
    "            new_file.write(',')\n",
    "        if((j%20==0) and (j!=0)):\n",
    "            new_file.write('\\n                     ')\n",
    "new_file.write('};')\n",
    "\n",
    "new_file.write('\\n\\n\\n')\n",
    "\n",
    "new_file.write('int sample_I[600] = {')\n",
    "for j in range(0, 600):\n",
    "        new_file.write(str(int(sample_I[j])))\n",
    "        \n",
    "        if(j!=599):\n",
    "            new_file.write(',')\n",
    "        if((j%20==0) and (j!=0)):\n",
    "            new_file.write('\\n                     ')\n",
    "new_file.write('};')\n",
    "\n",
    "new_file.write('\\n\\n\\n')\n",
    "\n",
    "new_file.write('int sample_O[600] = {')\n",
    "for j in range(0, 600):\n",
    "        new_file.write(str(int(sample_O[j])))\n",
    "        \n",
    "        if(j!=599):\n",
    "            new_file.write(',')\n",
    "        if((j%20==0) and (j!=0)):\n",
    "            new_file.write('\\n                     ')\n",
    "new_file.write('};')\n",
    "\n",
    "new_file.write('\\n\\n\\n')\n",
    "\n",
    "new_file.write('int sample_U[600] = {')\n",
    "for j in range(0, 600):\n",
    "        new_file.write(str(int(sample_U[j])))\n",
    "        \n",
    "        if(j!=599):\n",
    "            new_file.write(',')\n",
    "        if((j%20==0) and (j!=0)):\n",
    "            new_file.write('\\n                     ')\n",
    "new_file.write('};')\n"
   ]
  },
  {
   "cell_type": "code",
   "execution_count": null,
   "metadata": {},
   "outputs": [],
   "source": [
    "# WRITE THE LETTER B\n",
    "\n",
    "SAMPLE_B_PATH = \"C:/Users/massi/UNI/Magistrale/Anno 5/Semestre 2/Tesi/Code/Python/Other/\"\n",
    "\n",
    "new_file = open(SAMPLE_B_PATH + '/letter_B.h', \"w\")\n",
    "\n",
    "\n",
    "\n",
    "new_file.write(\"#include \\\"main.h\\\" \\n\\n\\n\")\n",
    "\n",
    "\n",
    "new_file.write('int sample_B['+str(B_train_data.shape[0])+'][600] = {')\n",
    "for i in range(0, B_train_data.shape[0]):\n",
    "    new_file.write('\\n          {')\n",
    "    for j in range(0, 600):\n",
    "            new_file.write(str(int(B_train_data[i,j])))\n",
    "            if(j!=599):\n",
    "                new_file.write(',')\n",
    "            \n",
    "\n",
    "    new_file.write('},')\n",
    "\n"
   ]
  },
  {
   "cell_type": "code",
   "execution_count": null,
   "metadata": {},
   "outputs": [],
   "source": [
    "# WRITE A MIX OF LETTERS IN A TXT FILE\n",
    "\n",
    "SAMPLE_LETTERS_PATH = \"C:/Users/massi/UNI/Magistrale/Anno 5/Semestre 2/Tesi/Code/Python/Other/\"\n",
    "\n",
    "new_file = open(SAMPLE_LETTERS_PATH + '/letters.h', \"w\")\n",
    "\n",
    "mix_of_letters = B_train_data[:12,:]\n",
    "mix_of_letters = np.vstack(( mix_of_letters, vowels_test_data[:12,:]))\n",
    "\n",
    "mix_of_labels = B_train_label[:12]\n",
    "mix_of_labels = np.hstack(( mix_of_labels, vowels_test_label[:12]))\n",
    "\n",
    "new_file.write(\"#include \\\"main.h\\\" \\n\\n\\n\")\n",
    "\n",
    "\n",
    "new_file.write('int rand_letters['+str(mix_of_letters.shape[0])+'][600] = {')\n",
    "for i in range(0, mix_of_letters.shape[0]):\n",
    "    new_file.write('\\n          {')\n",
    "    for j in range(0, 600):\n",
    "            new_file.write(str(int(mix_of_letters[i,j])))\n",
    "            if(j!=599):\n",
    "                new_file.write(',')\n",
    "            \n",
    "    if(i!=mix_of_letters.shape[0]-1):\n",
    "        new_file.write('},')\n",
    "    else:\n",
    "        new_file.write('} };')\n",
    "        \n",
    "        \n",
    "        \n",
    "new_file.write('\\n\\n\\n')\n",
    "new_file.write('char rand_labels['+str(mix_of_labels.shape[0])+'] = {')\n",
    "for i in range(0, mix_of_labels.shape[0]):\n",
    "    \n",
    "    new_file.write('\\''+str(mix_of_labels[i])+'\\'')\n",
    "            \n",
    "    if(i!=mix_of_labels.shape[0]-1):\n",
    "        new_file.write(',')\n",
    "    else:\n",
    "        new_file.write('};')\n"
   ]
  },
  {
   "cell_type": "code",
   "execution_count": null,
   "metadata": {},
   "outputs": [],
   "source": [
    "# SAVE LAST LAYER OF MODEL IN .H FILE\n",
    "\n",
    "LAST_LAYER_PATH = \"C:/Users/massi/UNI/Magistrale/Anno 5/Semestre 2/Tesi/Code/Python/Saved_models/Frozen_model/\"\n",
    "\n",
    "new_file = open(LAST_LAYER_PATH + '/layer_weights.h', \"w\")\n",
    "\n",
    "weights = np.array(model.layers[-1].get_weights()[0])\n",
    "biases  = np.array(model.layers[-1].get_weights()[1])\n",
    "\n",
    "\n",
    "\n",
    "new_file.write('float saved_weights['+str(weights.shape[0]*weights.shape[1])+'] = {')\n",
    "\n",
    "for j in range(0, weights.shape[1]):\n",
    "    new_file.write('\\n                       ')\n",
    "    \n",
    "    for i in range(0, weights.shape[0]):     \n",
    "        new_file.write(str(weights[i,j])+',')\n",
    "        if(i%32==0 and i!=0):\n",
    "            new_file.write('\\n                       ')\n",
    "            \n",
    "new_file.write('}; \\n\\n\\n\\n')\n",
    "\n",
    "\n",
    "\n",
    "new_file.write('float saved_biases['+str(biases.shape[0])+'] = {')\n",
    "    \n",
    "for i in range(0, biases.shape[0]):     \n",
    "    new_file.write(str(biases[i]))   \n",
    "    if(i != biases.shape[0]-1):\n",
    "        new_file.write(',')\n",
    "new_file.write('};')\n"
   ]
  },
  {
   "cell_type": "code",
   "execution_count": null,
   "metadata": {},
   "outputs": [],
   "source": []
  },
  {
   "cell_type": "code",
   "execution_count": null,
   "metadata": {},
   "outputs": [],
   "source": []
  },
  {
   "cell_type": "code",
   "execution_count": null,
   "metadata": {},
   "outputs": [],
   "source": []
  },
  {
   "cell_type": "code",
   "execution_count": null,
   "metadata": {},
   "outputs": [],
   "source": []
  },
  {
   "cell_type": "code",
   "execution_count": null,
   "metadata": {},
   "outputs": [],
   "source": []
  },
  {
   "cell_type": "code",
   "execution_count": null,
   "metadata": {},
   "outputs": [],
   "source": []
  },
  {
   "cell_type": "code",
   "execution_count": null,
   "metadata": {},
   "outputs": [],
   "source": []
  },
  {
   "cell_type": "code",
   "execution_count": null,
   "metadata": {},
   "outputs": [],
   "source": []
  },
  {
   "cell_type": "code",
   "execution_count": null,
   "metadata": {},
   "outputs": [],
   "source": []
  },
  {
   "cell_type": "code",
   "execution_count": null,
   "metadata": {},
   "outputs": [],
   "source": []
  }
 ],
 "metadata": {
  "kernelspec": {
   "display_name": "Python 3 (ipykernel)",
   "language": "python",
   "name": "python3"
  },
  "language_info": {
   "codemirror_mode": {
    "name": "ipython",
    "version": 3
   },
   "file_extension": ".py",
   "mimetype": "text/x-python",
   "name": "python",
   "nbconvert_exporter": "python",
   "pygments_lexer": "ipython3",
   "version": "3.8.11"
  }
 },
 "nbformat": 4,
 "nbformat_minor": 2
}
