{
 "cells": [
  {
   "cell_type": "markdown",
   "metadata": {
    "id": "D8g3_OkUNOuD"
   },
   "source": [
    "## **Import the TensorFlow library**"
   ]
  },
  {
   "cell_type": "code",
   "execution_count": 1,
   "metadata": {
    "id": "XCqcQuaBLNgF"
   },
   "outputs": [],
   "source": [
    "import tensorflow as tf\n",
    "from tensorflow.keras.datasets import mnist\n",
    "from tensorflow.keras.layers import Dropout, Dense, Flatten, Reshape\n",
    "from tensorflow.keras.layers import Conv2D, MaxPooling2D\n",
    "from tensorflow.keras import backend as K\n",
    "import matplotlib.pyplot as plt \n",
    "import numpy as np"
   ]
  },
  {
   "cell_type": "markdown",
   "metadata": {
    "id": "VT8C9aeAMdSE"
   },
   "source": [
    "Load mnist dataset and split in training and test"
   ]
  },
  {
   "cell_type": "code",
   "execution_count": 2,
   "metadata": {
    "id": "mNfeJ2bbNDET"
   },
   "outputs": [],
   "source": [
    "(x_train, y_train),(x_test, y_test) = mnist.load_data() # Load data"
   ]
  },
  {
   "cell_type": "code",
   "execution_count": 3,
   "metadata": {
    "colab": {
     "base_uri": "https://localhost:8080/"
    },
    "id": "wjQCPI7FTr2H",
    "outputId": "14621503-0c28-427b-87e6-5f3c02a1fd07"
   },
   "outputs": [
    {
     "data": {
      "text/plain": [
       "array([5, 0, 4, ..., 5, 6, 8], dtype=uint8)"
      ]
     },
     "execution_count": 3,
     "metadata": {
      "tags": []
     },
     "output_type": "execute_result"
    }
   ],
   "source": [
    "y_train"
   ]
  },
  {
   "cell_type": "markdown",
   "metadata": {
    "id": "MTx7YrtENh3F"
   },
   "source": [
    "## **Preprocess the data**"
   ]
  },
  {
   "cell_type": "code",
   "execution_count": 4,
   "metadata": {
    "colab": {
     "base_uri": "https://localhost:8080/",
     "height": 265
    },
    "id": "fxU6gS-HNmsk",
    "outputId": "d01b404c-38eb-438c-c066-06095783968b"
   },
   "outputs": [
    {
     "data": {
      "image/png": "[encoded data removed]",
      "text/plain": [
       "<Figure size 432x288 with 1 Axes>"
      ]
     },
     "metadata": {
      "needs_background": "light",
      "tags": []
     },
     "output_type": "display_data"
    }
   ],
   "source": [
    "plt.imshow(x_train[0], cmap=\"gray\") # Import the image\n",
    "plt.show() # Plot the image"
   ]
  },
  {
   "cell_type": "code",
   "execution_count": 5,
   "metadata": {
    "colab": {
     "base_uri": "https://localhost:8080/"
    },
    "id": "JCCdQq-1PpLM",
    "outputId": "ee800c8a-aa3a-44ff-81a9-185b372e28c1"
   },
   "outputs": [
    {
     "name": "stdout",
     "output_type": "stream",
     "text": [
      "(60000, 28, 28)\n",
      "(60000,)\n"
     ]
    }
   ],
   "source": [
    "print(x_train.shape)\n",
    "print(y_train.shape)"
   ]
  },
  {
   "cell_type": "code",
   "execution_count": 6,
   "metadata": {
    "id": "lU_tKzkCse1H"
   },
   "outputs": [],
   "source": [
    "# input image dimensions\n",
    "img_rows, img_cols = 28, 28"
   ]
  },
  {
   "cell_type": "code",
   "execution_count": 7,
   "metadata": {
    "id": "c2TsbEYpU-p2"
   },
   "outputs": [],
   "source": [
    "\n",
    "if K.image_data_format() == 'channels_first':\n",
    "  x_train = x_train.reshape(x_train.shape[0], 1, img_rows, img_cols)\n",
    "  x_test = x_test.reshape(x_test.shape[0], 1, img_rows, img_cols)\n",
    "  input_shape = (1, img_rows, img_cols)\n",
    "else:\n",
    "  x_train = x_train.reshape(x_train.shape[0], img_rows, img_cols, 1)\n",
    "  x_test = x_test.reshape(x_test.shape[0], img_rows, img_cols, 1)\n",
    "  input_shape = (img_rows, img_cols, 1)\n",
    "\n"
   ]
  },
  {
   "cell_type": "code",
   "execution_count": 8,
   "metadata": {
    "id": "eE5Ju7QbRDBF"
   },
   "outputs": [],
   "source": [
    "# Normalize the dataset\n",
    "x_train = x_train.astype(np.float32) / 255.0\n",
    "x_test = x_test.astype(np.float32) / 255.0\n"
   ]
  },
  {
   "cell_type": "markdown",
   "metadata": {
    "id": "TNaCD_O0RPDs"
   },
   "source": [
    "## **Build the model**"
   ]
  },
  {
   "cell_type": "code",
   "execution_count": 9,
   "metadata": {
    "id": "8pfF6SCiRUjB"
   },
   "outputs": [],
   "source": [
    "# Define the model architecture\n",
    "model = tf.keras.Sequential([\n",
    "  tf.keras.layers.InputLayer(input_shape=input_shape),\n",
    "  tf.keras.layers.Conv2D(filters=12, kernel_size=(3, 3), activation='relu'),\n",
    "  tf.keras.layers.MaxPooling2D(pool_size=(2, 2)),\n",
    "  tf.keras.layers.Flatten(),\n",
    "  tf.keras.layers.Dense(10, activation = \"softmax\")\n",
    "])\n",
    "\n",
    "# Train the digit classification model\n",
    "model.compile(optimizer='adam',\n",
    "              loss=tf.keras.losses.SparseCategoricalCrossentropy(\n",
    "                  from_logits=True),\n",
    "              metrics=['accuracy'])"
   ]
  },
  {
   "cell_type": "code",
   "execution_count": 10,
   "metadata": {
    "colab": {
     "base_uri": "https://localhost:8080/"
    },
    "id": "0EKyP8kozgSe",
    "outputId": "a597153c-90ac-44f2-de40-b40bf6324e98"
   },
   "outputs": [
    {
     "name": "stdout",
     "output_type": "stream",
     "text": [
      "Model: \"sequential\"\n",
      "_________________________________________________________________\n",
      "Layer (type)                 Output Shape              Param #   \n",
      "=================================================================\n",
      "conv2d (Conv2D)              (None, 26, 26, 12)        120       \n",
      "_________________________________________________________________\n",
      "max_pooling2d (MaxPooling2D) (None, 13, 13, 12)        0         \n",
      "_________________________________________________________________\n",
      "flatten (Flatten)            (None, 2028)              0         \n",
      "_________________________________________________________________\n",
      "dense (Dense)                (None, 10)                20290     \n",
      "=================================================================\n",
      "Total params: 20,410\n",
      "Trainable params: 20,410\n",
      "Non-trainable params: 0\n",
      "_________________________________________________________________\n"
     ]
    }
   ],
   "source": [
    "# Display the model's architecture\n",
    "model.summary()\n"
   ]
  },
  {
   "cell_type": "markdown",
   "metadata": {
    "id": "IKHIDyQMS1LC"
   },
   "source": [
    "##**Train the model**\n",
    "\n",
    "\n",
    "*   Epochs = 30\n",
    "*   Batch size = 512\n",
    "\n"
   ]
  },
  {
   "cell_type": "code",
   "execution_count": 11,
   "metadata": {
    "colab": {
     "base_uri": "https://localhost:8080/"
    },
    "id": "ZRk1oPJmTCM2",
    "outputId": "943f0a74-123e-48ca-ba36-51af8fe0a892"
   },
   "outputs": [
    {
     "name": "stdout",
     "output_type": "stream",
     "text": [
      "Epoch 1/30\n",
      "118/118 [==============================] - 2s 7ms/step - loss: 1.4652 - accuracy: 0.6435 - val_loss: 0.3373 - val_accuracy: 0.9091\n",
      "Epoch 2/30\n",
      "118/118 [==============================] - 0s 4ms/step - loss: 0.3164 - accuracy: 0.9116 - val_loss: 0.2324 - val_accuracy: 0.9369\n",
      "Epoch 3/30\n",
      "118/118 [==============================] - 0s 4ms/step - loss: 0.2317 - accuracy: 0.9339 - val_loss: 0.1790 - val_accuracy: 0.9497\n",
      "Epoch 4/30\n",
      "118/118 [==============================] - 0s 4ms/step - loss: 0.1762 - accuracy: 0.9506 - val_loss: 0.1472 - val_accuracy: 0.9600\n",
      "Epoch 5/30\n",
      "118/118 [==============================] - 0s 4ms/step - loss: 0.1445 - accuracy: 0.9603 - val_loss: 0.1266 - val_accuracy: 0.9638\n",
      "Epoch 6/30\n",
      "118/118 [==============================] - 0s 4ms/step - loss: 0.1257 - accuracy: 0.9654 - val_loss: 0.1115 - val_accuracy: 0.9683\n",
      "Epoch 7/30\n",
      "118/118 [==============================] - 0s 4ms/step - loss: 0.1080 - accuracy: 0.9710 - val_loss: 0.0989 - val_accuracy: 0.9718\n",
      "Epoch 8/30\n",
      "118/118 [==============================] - 0s 4ms/step - loss: 0.0982 - accuracy: 0.9731 - val_loss: 0.0907 - val_accuracy: 0.9731\n",
      "Epoch 9/30\n",
      "118/118 [==============================] - 0s 4ms/step - loss: 0.0891 - accuracy: 0.9761 - val_loss: 0.0833 - val_accuracy: 0.9758\n",
      "Epoch 10/30\n",
      "118/118 [==============================] - 0s 4ms/step - loss: 0.0827 - accuracy: 0.9768 - val_loss: 0.0799 - val_accuracy: 0.9752\n",
      "Epoch 11/30\n",
      "118/118 [==============================] - 0s 4ms/step - loss: 0.0749 - accuracy: 0.9795 - val_loss: 0.0744 - val_accuracy: 0.9773\n",
      "Epoch 12/30\n",
      "118/118 [==============================] - 0s 4ms/step - loss: 0.0725 - accuracy: 0.9806 - val_loss: 0.0735 - val_accuracy: 0.9778\n",
      "Epoch 13/30\n",
      "118/118 [==============================] - 0s 4ms/step - loss: 0.0696 - accuracy: 0.9811 - val_loss: 0.0667 - val_accuracy: 0.9781\n",
      "Epoch 14/30\n",
      "118/118 [==============================] - 0s 4ms/step - loss: 0.0614 - accuracy: 0.9832 - val_loss: 0.0653 - val_accuracy: 0.9794\n",
      "Epoch 15/30\n",
      "118/118 [==============================] - 0s 4ms/step - loss: 0.0582 - accuracy: 0.9839 - val_loss: 0.0661 - val_accuracy: 0.9790\n",
      "Epoch 16/30\n",
      "118/118 [==============================] - 0s 4ms/step - loss: 0.0585 - accuracy: 0.9831 - val_loss: 0.0631 - val_accuracy: 0.9803\n",
      "Epoch 17/30\n",
      "118/118 [==============================] - 0s 4ms/step - loss: 0.0557 - accuracy: 0.9837 - val_loss: 0.0607 - val_accuracy: 0.9800\n",
      "Epoch 18/30\n",
      "118/118 [==============================] - 0s 4ms/step - loss: 0.0504 - accuracy: 0.9861 - val_loss: 0.0595 - val_accuracy: 0.9801\n",
      "Epoch 19/30\n",
      "118/118 [==============================] - 0s 4ms/step - loss: 0.0520 - accuracy: 0.9855 - val_loss: 0.0597 - val_accuracy: 0.9800\n",
      "Epoch 20/30\n",
      "118/118 [==============================] - 0s 4ms/step - loss: 0.0513 - accuracy: 0.9858 - val_loss: 0.0576 - val_accuracy: 0.9800\n",
      "Epoch 21/30\n",
      "118/118 [==============================] - 0s 4ms/step - loss: 0.0478 - accuracy: 0.9867 - val_loss: 0.0570 - val_accuracy: 0.9809\n",
      "Epoch 22/30\n",
      "118/118 [==============================] - 0s 4ms/step - loss: 0.0467 - accuracy: 0.9869 - val_loss: 0.0578 - val_accuracy: 0.9804\n",
      "Epoch 23/30\n",
      "118/118 [==============================] - 0s 4ms/step - loss: 0.0452 - accuracy: 0.9876 - val_loss: 0.0567 - val_accuracy: 0.9807\n",
      "Epoch 24/30\n",
      "118/118 [==============================] - 0s 4ms/step - loss: 0.0440 - accuracy: 0.9872 - val_loss: 0.0562 - val_accuracy: 0.9807\n",
      "Epoch 25/30\n",
      "118/118 [==============================] - 1s 5ms/step - loss: 0.0432 - accuracy: 0.9880 - val_loss: 0.0565 - val_accuracy: 0.9819\n",
      "Epoch 26/30\n",
      "118/118 [==============================] - 0s 4ms/step - loss: 0.0404 - accuracy: 0.9887 - val_loss: 0.0549 - val_accuracy: 0.9824\n",
      "Epoch 27/30\n",
      "118/118 [==============================] - 0s 4ms/step - loss: 0.0388 - accuracy: 0.9889 - val_loss: 0.0554 - val_accuracy: 0.9805\n",
      "Epoch 28/30\n",
      "118/118 [==============================] - 0s 4ms/step - loss: 0.0380 - accuracy: 0.9898 - val_loss: 0.0555 - val_accuracy: 0.9818\n",
      "Epoch 29/30\n",
      "118/118 [==============================] - 0s 4ms/step - loss: 0.0389 - accuracy: 0.9896 - val_loss: 0.0553 - val_accuracy: 0.9811\n",
      "Epoch 30/30\n",
      "118/118 [==============================] - 0s 4ms/step - loss: 0.0365 - accuracy: 0.9901 - val_loss: 0.0583 - val_accuracy: 0.9813\n"
     ]
    },
    {
     "data": {
      "text/plain": [
       "<tensorflow.python.keras.callbacks.History at 0x7f0a93b67278>"
      ]
     },
     "execution_count": 11,
     "metadata": {
      "tags": []
     },
     "output_type": "execute_result"
    }
   ],
   "source": [
    "model.fit(\n",
    "  x_train,\n",
    "  y_train,\n",
    "  epochs=30,\n",
    "  batch_size = 512,\n",
    "  validation_data=(x_test, y_test)\n",
    ")"
   ]
  },
  {
   "cell_type": "code",
   "execution_count": 12,
   "metadata": {
    "colab": {
     "base_uri": "https://localhost:8080/"
    },
    "id": "mq9bBd-3pfgL",
    "outputId": "4c2838c9-d9d0-4d5b-ad7c-905b5eb7b053"
   },
   "outputs": [
    {
     "name": "stdout",
     "output_type": "stream",
     "text": [
      "313/313 [==============================] - 1s 2ms/step - loss: 0.0583 - accuracy: 0.9813\n",
      "\n",
      "Test accuracy: 0.9812999963760376\n"
     ]
    }
   ],
   "source": [
    "# Evaluate the model performance\n",
    "test_loss, test_acc = model.evaluate(x_test, y_test)\n",
    "# Print out the model accuracy \n",
    "print('\\nTest accuracy:', test_acc)"
   ]
  },
  {
   "cell_type": "markdown",
   "metadata": {
    "id": "tI3aR1l4pqhS"
   },
   "source": [
    "# **Make predictions**"
   ]
  },
  {
   "cell_type": "code",
   "execution_count": 13,
   "metadata": {
    "colab": {
     "base_uri": "https://localhost:8080/"
    },
    "id": "BjC8enS5SIX_",
    "outputId": "70362272-70d7-4595-cc22-2ca5c8f9cba0"
   },
   "outputs": [
    {
     "data": {
      "text/plain": [
       "(28, 28, 1)"
      ]
     },
     "execution_count": 13,
     "metadata": {
      "tags": []
     },
     "output_type": "execute_result"
    }
   ],
   "source": [
    "x_train[1].shape"
   ]
  },
  {
   "cell_type": "code",
   "execution_count": 14,
   "metadata": {
    "id": "piwc0fbspvlc"
   },
   "outputs": [],
   "source": [
    "predictions = model.predict(x_test) # Make prediction"
   ]
  },
  {
   "cell_type": "code",
   "execution_count": 15,
   "metadata": {
    "colab": {
     "base_uri": "https://localhost:8080/"
    },
    "id": "8_KUg-wi0KiV",
    "outputId": "163f7394-457e-47d7-8166-a371974a7d9f"
   },
   "outputs": [
    {
     "data": {
      "text/plain": [
       "array([1.3865591e-09, 1.5786390e-09, 5.0380219e-08, 1.9733315e-08,\n",
       "       8.9539640e-08, 5.3578706e-06, 9.9999416e-01, 1.9217357e-11,\n",
       "       2.3111072e-07, 3.4162575e-12], dtype=float32)"
      ]
     },
     "execution_count": 15,
     "metadata": {
      "tags": []
     },
     "output_type": "execute_result"
    }
   ],
   "source": [
    "predictions[600]"
   ]
  },
  {
   "cell_type": "code",
   "execution_count": 16,
   "metadata": {
    "colab": {
     "base_uri": "https://localhost:8080/"
    },
    "id": "Y9R_XtjSrO2g",
    "outputId": "65ccb08e-3a79-4cc4-af35-9b32e71850f8"
   },
   "outputs": [
    {
     "name": "stdout",
     "output_type": "stream",
     "text": [
      "Prediction =  6\n",
      "True label =  6\n"
     ]
    }
   ],
   "source": [
    "print(\"Prediction = \" , np.argmax(predictions[600]))\n",
    "print(\"True label = \" , y_test[600])"
   ]
  },
  {
   "cell_type": "code",
   "execution_count": 17,
   "metadata": {
    "colab": {
     "base_uri": "https://localhost:8080/"
    },
    "id": "3rSeA_0sfWWB",
    "outputId": "dfa5b888-d37d-4f2a-c9ae-9cf63f17c684"
   },
   "outputs": [
    {
     "name": "stdout",
     "output_type": "stream",
     "text": [
      "(28, 28, 1)\n"
     ]
    }
   ],
   "source": [
    "img = x_test[99]\n",
    "\n",
    "print(img.shape)"
   ]
  },
  {
   "cell_type": "code",
   "execution_count": 17,
   "metadata": {
    "id": "ztnbQwj5jB1j"
   },
   "outputs": [],
   "source": []
  },
  {
   "cell_type": "code",
   "execution_count": 18,
   "metadata": {
    "id": "2Uj_jf6-jCGj"
   },
   "outputs": [],
   "source": [
    "class_names = ['0', '1', '2', '3', '4',\n",
    "               '5', '6', '7', '8', '9']\n",
    "\n",
    "\n",
    "def plot_image(i, predictions_array, true_label, img):\n",
    "  predictions_array, true_label, img = predictions_array, true_label[i], img[i]\n",
    "  plt.grid(False)\n",
    "  plt.xticks([])\n",
    "  plt.yticks([])\n",
    "  img = (np.squeeze(img))## you have to delete the channel information (if grayscale) to plot the image\n",
    "  plt.imshow(img, cmap=\"gray\")\n",
    "\n",
    "  predicted_label = np.argmax(predictions_array)\n",
    "  if predicted_label == true_label:\n",
    "    color = 'blue'\n",
    "  else:\n",
    "    color = 'red'\n",
    "\n",
    "  plt.xlabel(\"{} {:2.0f}% ({})\".format(class_names[predicted_label],\n",
    "                                100*np.max(predictions_array),\n",
    "                                class_names[true_label]),\n",
    "                                color=color)              \n",
    "def plot_value_array(i, predictions_array, true_label):\n",
    "  predictions_array, true_label = predictions_array, true_label[i]\n",
    "  plt.grid(False)\n",
    "  plt.xticks(range(10))\n",
    "  plt.yticks([])\n",
    "  thisplot = plt.bar(range(10), predictions_array, color=\"#777777\")\n",
    "  plt.ylim([0, 1])\n",
    "  predicted_label = np.argmax(predictions_array)\n",
    "\n",
    "  thisplot[predicted_label].set_color('red')\n",
    "  thisplot[true_label].set_color('blue')"
   ]
  },
  {
   "cell_type": "code",
   "execution_count": 19,
   "metadata": {
    "colab": {
     "base_uri": "https://localhost:8080/",
     "height": 211
    },
    "id": "_L_MP6pejCGk",
    "outputId": "5b7ad13f-4ed8-488e-b228-10d83a2a6e89"
   },
   "outputs": [
    {
     "data": {
      "image/png": "[encoded data removed]",
      "text/plain": [
       "<Figure size 432x216 with 2 Axes>"
      ]
     },
     "metadata": {
      "needs_background": "light",
      "tags": []
     },
     "output_type": "display_data"
    }
   ],
   "source": [
    "i = 10\n",
    "plt.figure(figsize=(6,3))\n",
    "plt.subplot(1,2,1)\n",
    "plot_image(i, predictions[i], y_test, x_test)\n",
    "plt.subplot(1,2,2)\n",
    "plot_value_array(i, predictions[i], y_test)\n",
    "plt.show()"
   ]
  },
  {
   "cell_type": "code",
   "execution_count": 20,
   "metadata": {
    "colab": {
     "base_uri": "https://localhost:8080/"
    },
    "id": "HNoN4lcmfoLh",
    "outputId": "719fd0ea-3959-4012-e005-b8d6272591a6"
   },
   "outputs": [
    {
     "name": "stdout",
     "output_type": "stream",
     "text": [
      "(1, 28, 28, 1)\n"
     ]
    }
   ],
   "source": [
    "# Add the image to a batch where it's the only member.\n",
    "img = (np.expand_dims(img,0))\n",
    "\n",
    "print(img.shape)"
   ]
  },
  {
   "cell_type": "code",
   "execution_count": 21,
   "metadata": {
    "colab": {
     "base_uri": "https://localhost:8080/"
    },
    "id": "y5m4EO7ifhBV",
    "outputId": "8b6ce422-3f9d-49f9-aea8-17748377793f"
   },
   "outputs": [
    {
     "name": "stdout",
     "output_type": "stream",
     "text": [
      "[[1.8073494e-10 5.4900333e-13 1.3688446e-09 4.4843514e-06 1.6167755e-07\n",
      "  1.5096951e-08 1.5927299e-11 1.9097702e-06 7.6515263e-08 9.9999332e-01]]\n"
     ]
    }
   ],
   "source": [
    "predictions_single = model.predict(img)\n",
    "\n",
    "print(predictions_single)"
   ]
  },
  {
   "cell_type": "code",
   "execution_count": 22,
   "metadata": {
    "colab": {
     "base_uri": "https://localhost:8080/",
     "height": 267
    },
    "id": "iUT0YHmJjack",
    "outputId": "20c54602-96d1-4d7a-c9bf-c3fa39764fcc"
   },
   "outputs": [
    {
     "data": {
      "image/png": "[encoded data removed]",
      "text/plain": [
       "<Figure size 432x288 with 1 Axes>"
      ]
     },
     "metadata": {
      "needs_background": "light",
      "tags": []
     },
     "output_type": "display_data"
    }
   ],
   "source": [
    "plot_value_array(1, predictions_single[0], y_test)\n",
    "_ = plt.xticks(range(10), class_names, rotation=45)"
   ]
  },
  {
   "cell_type": "markdown",
   "metadata": {
    "id": "ye7xyl_-vkkk"
   },
   "source": [
    "## **Save model**"
   ]
  },
  {
   "cell_type": "code",
   "execution_count": 23,
   "metadata": {
    "colab": {
     "base_uri": "https://localhost:8080/"
    },
    "id": "rjFdtesdvqzf",
    "outputId": "6e63baba-94f1-4d20-d5d4-a4340ba2b0ea"
   },
   "outputs": [
    {
     "name": "stdout",
     "output_type": "stream",
     "text": [
      "Test loss: 0.05831589177250862\n",
      "Test accuracy: 0.9812999963760376\n",
      "Save model as mnist_cnn.h5\n"
     ]
    }
   ],
   "source": [
    "print('Test loss:', test_loss)\n",
    "print('Test accuracy:', test_acc)\n",
    "print('Save model as mnist_cnn.h5')\n",
    "model.save('mnist_cnn.h5')"
   ]
  },
  {
   "cell_type": "markdown",
   "metadata": {
    "id": "9jSSceEYKsHX"
   },
   "source": [
    "## **Quantization**"
   ]
  },
  {
   "cell_type": "markdown",
   "metadata": {
    "id": "i1Txju54d6yY"
   },
   "source": [
    "**Full integer quantization**\n",
    "\n",
    "For full integer quantization, you need to calibrate or estimate the range, i.e, (min, max) of all floating-point tensors in the model. Unlike constant tensors such as weights and biases, variable tensors such as model input, activations (outputs of intermediate layers) and model output cannot be calibrated unless we run a few inference cycles. As a result, the converter requires a representative dataset to calibrate them. This dataset can be a small subset (around ~100-500 samples) of the training or validation data."
   ]
  },
  {
   "cell_type": "code",
   "execution_count": 24,
   "metadata": {
    "colab": {
     "base_uri": "https://localhost:8080/"
    },
    "id": "C1VewrfEKpwW",
    "outputId": "79cc8df7-7f81-4ce8-8c65-17934fac77e4"
   },
   "outputs": [
    {
     "name": "stdout",
     "output_type": "stream",
     "text": [
      "INFO:tensorflow:Assets written to: /tmp/tmp3u2b0_xm/assets\n"
     ]
    }
   ],
   "source": [
    "def representative_data_gen():\n",
    "  for input_value in tf.data.Dataset.from_tensor_slices(x_train).batch(1).take(100):\n",
    "    yield [input_value]\n",
    "\n",
    "converter = tf.lite.TFLiteConverter.from_keras_model(model)\n",
    "converter.optimizations = [tf.lite.Optimize.DEFAULT]\n",
    "converter.representative_dataset = representative_data_gen\n",
    "\n",
    "# Ensure that if any ops can't be quantized, the converter throws an error\n",
    "converter.target_spec.supported_ops = [tf.lite.OpsSet.TFLITE_BUILTINS_INT8]\n",
    "# Set the input and output tensors to uint8 (APIs added in r2.3)\n",
    "converter.inference_input_type = tf.uint8\n",
    "converter.inference_output_type = tf.uint8\n",
    "\n",
    "tflite_model_quant_io = converter.convert()\n",
    "with open(\"mnist_quant_io.tflite\", 'wb') as f:\n",
    "  f.write(tflite_model_quant_io)"
   ]
  },
  {
   "cell_type": "markdown",
   "metadata": {
    "id": "SkJY45mABi6w"
   },
   "source": [
    "**Integer with float fallback (using default float input/output)**"
   ]
  },
  {
   "cell_type": "code",
   "execution_count": 25,
   "metadata": {
    "colab": {
     "base_uri": "https://localhost:8080/"
    },
    "id": "-KhP_3Y8NK6f",
    "outputId": "5d255012-2a71-4685-ae7d-696ea16d2dd9"
   },
   "outputs": [
    {
     "name": "stdout",
     "output_type": "stream",
     "text": [
      "INFO:tensorflow:Assets written to: /tmp/tmpad0ffgbu/assets\n"
     ]
    },
    {
     "name": "stderr",
     "output_type": "stream",
     "text": [
      "INFO:tensorflow:Assets written to: /tmp/tmpad0ffgbu/assets\n"
     ]
    }
   ],
   "source": [
    "def representative_data_gen():\n",
    "  for input_value in tf.data.Dataset.from_tensor_slices(x_train).batch(1).take(100):\n",
    "    yield [input_value]\n",
    "\n",
    "converter = tf.lite.TFLiteConverter.from_keras_model(model)\n",
    "converter.optimizations = [tf.lite.Optimize.DEFAULT]\n",
    "converter.representative_dataset = representative_data_gen\n",
    "\n",
    "tflite_model_quant = converter.convert()\n",
    "with open(\"mnist_quant.tflite\", 'wb') as f:\n",
    "  f.write(tflite_model_quant)"
   ]
  }
 ],
 "metadata": {
  "accelerator": "GPU",
  "colab": {
   "collapsed_sections": [],
   "name": "Mnist.ipynb",
   "provenance": [],
   "toc_visible": true
  },
  "kernelspec": {
   "display_name": "Python 3",
   "language": "python",
   "name": "python3"
  },
  "language_info": {
   "codemirror_mode": {
    "name": "ipython",
    "version": 3
   },
   "file_extension": ".py",
   "mimetype": "text/x-python",
   "name": "python",
   "nbconvert_exporter": "python",
   "pygments_lexer": "ipython3",
   "version": "3.8.11"
  }
 },
 "nbformat": 4,
 "nbformat_minor": 1
}
