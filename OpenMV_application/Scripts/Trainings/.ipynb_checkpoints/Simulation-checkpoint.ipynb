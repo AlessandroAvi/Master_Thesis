{
 "cells": [
  {
   "cell_type": "markdown",
   "metadata": {
    "id": "D8g3_OkUNOuD"
   },
   "source": [
    "## **Import the TensorFlow library**"
   ]
  },
  {
   "cell_type": "markdown",
   "metadata": {
    "id": "UKk-D3IZkkbE"
   },
   "source": [
    "This code contains a small script that is ised for generating a folder full of images. The idea is to show these images to the OpenMV camera when the training with the OL methos is required. Since the idea is to apply a supervised training is required to have a ground truth forthe computation of the error that the model is doing. This script fills a directory with images of digits and creates a txt file in which all the labels are saved. "
   ]
  },
  {
   "cell_type": "code",
   "execution_count": 1,
   "metadata": {
    "executionInfo": {
     "elapsed": 1674,
     "status": "ok",
     "timestamp": 1636125291944,
     "user": {
      "displayName": "Alessandro_Avi",
      "photoUrl": "https://lh3.googleusercontent.com/a-/AOh14Gh3g3OBoR2thMDg3ykM6pXzOuBTEcJePGTDW3_DNw=s64",
      "userId": "02552590181762893039"
     },
     "user_tz": -60
    },
    "id": "XCqcQuaBLNgF"
   },
   "outputs": [],
   "source": [
    "import tensorflow as tf\n",
    "from tensorflow import keras\n",
    "from tensorflow.keras.datasets import mnist\n",
    "from tensorflow.keras.layers import Dropout, Dense, Flatten, Reshape\n",
    "from tensorflow.keras.layers import Conv2D, MaxPooling2D\n",
    "from tensorflow.keras.models import Sequential\n",
    "from tensorflow.keras import backend as K\n",
    "import matplotlib.pyplot as plt \n",
    "import numpy as np\n",
    "import random\n",
    "import os\n",
    "import csv \n",
    "import pandas as pd\n",
    "import re\n",
    "import random\n",
    "import matplotlib.image as mpimg\n",
    "from tensorflow.keras import optimizers\n",
    "from PIL import Image\n",
    "import seaborn as sns\n",
    "\n",
    "from myLib import *"
   ]
  },
  {
   "cell_type": "markdown",
   "metadata": {},
   "source": [
    "# LOAD DATASETS"
   ]
  },
  {
   "cell_type": "code",
   "execution_count": 2,
   "metadata": {},
   "outputs": [
    {
     "name": "stdout",
     "output_type": "stream",
     "text": [
      "The original dataset shapes from MNIST are\n",
      "    Train dataset shape: (60000, 28, 28)\n",
      "    Test dataset shape:  (10000, 28, 28)\n"
     ]
    }
   ],
   "source": [
    "(data_train, label_train),(data_test, label_test) = mnist.load_data() # Load data\n",
    "print('The original dataset shapes from MNIST are')\n",
    "print(f'    Train dataset shape: {data_train.shape}')\n",
    "print(f'    Test dataset shape:  {data_test.shape}')"
   ]
  },
  {
   "cell_type": "code",
   "execution_count": 3,
   "metadata": {},
   "outputs": [],
   "source": [
    "train_samples = label_train.shape[0]\n",
    "test_samples  = label_test.shape[0]\n",
    "img_rows, img_cols = 28, 28\n",
    "\n",
    "trainLow_samples = np.sum(np.where(label_train < 6, 1, 0))\n",
    "testLow_samples  = np.sum(np.where(label_test  < 6, 1, 0))\n",
    "\n",
    "# separate in containers data that is lower and higer than 6\n",
    "# TRAIN - LOW\n",
    "data_low_train   = np.zeros([trainLow_samples,28,28])\n",
    "label_low_train  = np.zeros(trainLow_samples)\n",
    "#       - HIGH\n",
    "data_high_train  = np.zeros([train_samples-trainLow_samples,28,28])\n",
    "label_high_train = np.zeros(train_samples-trainLow_samples)\n",
    "\n",
    "# TEST - LOW\n",
    "data_low_test   = np.zeros([testLow_samples,28,28])\n",
    "label_low_test  = np.zeros(testLow_samples)\n",
    "#      - HIGH\n",
    "data_high_test  = np.zeros([test_samples-testLow_samples,28,28])\n",
    "label_high_test = np.zeros(test_samples-testLow_samples)\n",
    "\n",
    "j,k = 0,0\n",
    "for i in range(0,train_samples):  \n",
    "    if(label_train[i]<6):\n",
    "        data_low_train[j,:,:] = data_train[i,:,:]\n",
    "        label_low_train[j]    = label_train[i]\n",
    "        j+=1\n",
    "    else:\n",
    "        data_high_train[k,:,:] = data_train[i,:,:]\n",
    "        label_high_train[k]    = label_train[i]\n",
    "        k+=1\n",
    "\n",
    "j,k = 0,0\n",
    "for i in range(0,test_samples):  \n",
    "    if(label_test[i]<6):\n",
    "        data_low_test[j,:,:] = data_test[i,:,:]\n",
    "        label_low_test[j]    = label_test[i]\n",
    "        j+=1\n",
    "    else:\n",
    "        data_high_test[k,:,:] = data_test[i,:,:]\n",
    "        label_high_test[k]    = label_test[i]\n",
    "        k+=1"
   ]
  },
  {
   "cell_type": "code",
   "execution_count": 4,
   "metadata": {},
   "outputs": [
    {
     "name": "stdout",
     "output_type": "stream",
     "text": [
      "After the separation of the dataset in groups higer and lower/equal than 6 the datasets are:\n",
      "     Train dataset lower than 6 has shape:  (36017, 28, 28, 1)\n",
      "     Train dataset higher than 6 has shape: (23983, 28, 28, 1)\n",
      "\n",
      "     Test dataset lower than 6 has shape:  (6031, 28, 28, 1)\n",
      "     Test dataset higher than 6 has shape: (3969, 28, 28, 1)\n"
     ]
    }
   ],
   "source": [
    "# Does something I don't know\n",
    "if K.image_data_format() == 'channels_first':\n",
    "    data_low_train  = data_low_train.reshape(data_low_train.shape[0], 1, img_rows, img_cols)\n",
    "    data_high_train = data_high_train.reshape(data_high_train.shape[0], 1, img_rows, img_cols)\n",
    "    data_low_test   = data_low_test.reshape(data_low_test.shape[0], 1, img_rows, img_cols)\n",
    "    data_high_test  = data_high_test.reshape(data_high_test.shape[0], 1, img_rows, img_cols)\n",
    "    input_shape = (1, img_rows, img_cols)\n",
    "else:\n",
    "    data_low_train  = data_low_train.reshape(data_low_train.shape[0], img_rows, img_cols, 1)\n",
    "    data_high_train = data_high_train.reshape(data_high_train.shape[0], img_rows, img_cols, 1)\n",
    "    data_low_test   = data_low_test.reshape(data_low_test.shape[0], img_rows, img_cols, 1)\n",
    "    data_high_test  = data_high_test.reshape(data_high_test.shape[0], img_rows, img_cols, 1)\n",
    "    input_shape = (img_rows, img_cols, 1)\n",
    "    \n",
    "    \n",
    "print('After the separation of the dataset in groups higer and lower/equal than 6 the datasets are:')\n",
    "print(f'     Train dataset lower than 6 has shape:  {data_low_train.shape}')\n",
    "print(f'     Train dataset higher than 6 has shape: {data_high_train.shape}')\n",
    "print()\n",
    "print(f'     Test dataset lower than 6 has shape:  {data_low_test.shape}')\n",
    "print(f'     Test dataset higher than 6 has shape: {data_high_test.shape}')"
   ]
  },
  {
   "cell_type": "code",
   "execution_count": 5,
   "metadata": {},
   "outputs": [],
   "source": [
    "# Normalize the colors from 0-255 to 0-1\n",
    "data_low_train  = data_low_train.astype(np.float32) / 255.0\n",
    "data_high_train = data_high_train.astype(np.float32) / 255.0\n",
    "data_low_test   = data_low_test.astype(np.float32) / 255.0\n",
    "data_high_test  = data_high_test.astype(np.float32) / 255.0"
   ]
  },
  {
   "cell_type": "code",
   "execution_count": 6,
   "metadata": {},
   "outputs": [
    {
     "name": "stdout",
     "output_type": "stream",
     "text": [
      "Digits train shape is (500, 28, 28, 1)\n",
      "Digits test shape is (500, 28, 28, 1)\n"
     ]
    }
   ],
   "source": [
    "# EXTRACT SOME SAMPLES FROM THE BIG DATASETS TO CREATE OL TRAINIGN AND TESTING DATASET\n",
    "digits_train, labels_train = extract_tot_samples(data_low_train, data_high_train, label_low_train, label_high_train,50)\n",
    "digits_test, labels_test   = extract_tot_samples(data_low_train, data_high_train, label_low_train, label_high_train,50)\n",
    "\n",
    "\n",
    "print(f'Digits train shape is {digits_train.shape}')\n",
    "print(f'Digits test shape is {digits_test.shape}')"
   ]
  },
  {
   "cell_type": "code",
   "execution_count": 7,
   "metadata": {},
   "outputs": [],
   "source": [
    "# SHUFFLE THE DATASETS\n",
    "digits_train, labels_train = shuffleDataset(digits_train, labels_train)\n",
    "digits_test, labels_test   = shuffleDataset(digits_test, labels_test)\n"
   ]
  },
  {
   "cell_type": "markdown",
   "metadata": {},
   "source": [
    "# LOAD TF TRAINED MODEL"
   ]
  },
  {
   "cell_type": "code",
   "execution_count": 8,
   "metadata": {},
   "outputs": [],
   "source": [
    "ROOT_PATH = os.path.abspath('')\n",
    "MODEL_PATH = ROOT_PATH + \"/Saved_models/\""
   ]
  },
  {
   "cell_type": "code",
   "execution_count": 9,
   "metadata": {},
   "outputs": [],
   "source": [
    "model = keras.models.load_model(MODEL_PATH + 'Original_model/mnist_cnn.h5')"
   ]
  },
  {
   "cell_type": "code",
   "execution_count": 10,
   "metadata": {},
   "outputs": [
    {
     "name": "stdout",
     "output_type": "stream",
     "text": [
      "Model: \"sequential_9\"\n",
      "_________________________________________________________________\n",
      "Layer (type)                 Output Shape              Param #   \n",
      "=================================================================\n",
      "conv2d_9 (Conv2D)            (None, 26, 26, 8)         80        \n",
      "_________________________________________________________________\n",
      "max_pooling2d_9 (MaxPooling2 (None, 13, 13, 8)         0         \n",
      "_________________________________________________________________\n",
      "flatten_9 (Flatten)          (None, 1352)              0         \n",
      "_________________________________________________________________\n",
      "dense_10 (Dense)             (None, 6)                 8118      \n",
      "=================================================================\n",
      "Total params: 8,198\n",
      "Trainable params: 8,198\n",
      "Non-trainable params: 0\n",
      "_________________________________________________________________\n"
     ]
    }
   ],
   "source": [
    "model.summary()"
   ]
  },
  {
   "cell_type": "markdown",
   "metadata": {},
   "source": [
    "# FUNCTIONS"
   ]
  },
  {
   "cell_type": "code",
   "execution_count": 11,
   "metadata": {},
   "outputs": [],
   "source": [
    "class Custom_Layer(object):\n",
    "    def __init__(self, model):\n",
    "\n",
    "        # Related to the layer\n",
    "        self.ML_frozen = keras.models.Sequential(model.layers[:-1])  # extract the last layer from the original model\n",
    "        self.ML_frozen.compile()\n",
    "        \n",
    "        self.W = np.array(model.layers[-1].get_weights()[0])    # extract the weights from the last layer\n",
    "        self.b = np.array(model.layers[-1].get_weights()[1])    # extract the biases from the last layer\n",
    "               \n",
    "        self.W_2 = np.zeros(self.W.shape)\n",
    "        self.b_2 = np.zeros(self.b.shape)\n",
    "        \n",
    "        self.label     = ['0','1','2','3','4','5']              \n",
    "        self.std_label = ['0','1','2','3','4','5','6','7','8','9']\n",
    "        \n",
    "        self.l_rate = 0                                         # learning rate that changes depending on the algorithm        \n",
    "\n",
    "        self.batch_size = 0\n",
    "        \n",
    "        # Related to the results fo the model\n",
    "        self.conf_matr = np.zeros((10,10))    # container for the confusion matrix       \n",
    "        self.macro_avrg_precision = 0       \n",
    "        self.macro_avrg_recall = 0\n",
    "        self.macro_avrg_F1score = 0\n",
    "        \n",
    "        self.title = ''       # title that will be displayed on plots\n",
    "        self.filename = ''    # name of the files to be saved (plots, charts, conf matrix)\n",
    "        \n",
    "        \n",
    "    # Function that is used for the prediction of the model saved in this class\n",
    "    def predict(self, x):\n",
    "        mat_prod = np.array(np.matmul(x, self.W) + self.b)\n",
    "        return  myFunc_softmax(mat_prod) # othwerwise do it with keras|also remove np.array()| tf.nn.softmax(mat_prod) "
   ]
  },
  {
   "cell_type": "code",
   "execution_count": 12,
   "metadata": {},
   "outputs": [],
   "source": [
    "def digitToSoftmax(current_label, known_labels):\n",
    "    ret_ary = np.zeros(len(known_labels))\n",
    "\n",
    "    known_labels_2 = [0,1,2,3,4,5]\n",
    "                       \n",
    "    for i in range(0, len(known_labels)):\n",
    "        if(current_label == known_labels_2[i]):\n",
    "            ret_ary[i] = 1\n",
    "\n",
    "    return ret_ary  \n"
   ]
  },
  {
   "cell_type": "code",
   "execution_count": 13,
   "metadata": {},
   "outputs": [],
   "source": [
    "def trainOneEpoch_OL(model, x_train, x_test, y_train, y_test):\n",
    "    \n",
    "    print('**********************************\\nPerforming training with OL METHOD\\n')\n",
    "   \n",
    "    cntr = 1\n",
    "    learn_rate    = model.l_rate\n",
    "    \n",
    "    train_samples = x_train.shape[0]\n",
    "    test_samples = x_test.shape[0]\n",
    "    tot_samples = train_samples+test_samples\n",
    "                \n",
    "    # Cycle over all samples\n",
    "    for i in range(0, tot_samples):\n",
    "        \n",
    "        if(i<train_samples):\n",
    "            current_label = y_train[i]\n",
    "        else:\n",
    "            current_label = y_test[i-train_samples]\n",
    "        \n",
    "        checkLabelKnown(model, current_label)\n",
    "        y_true_soft = letterToSoftmax(current_label, model.label)\n",
    "               \n",
    "        # PPREDICTION\n",
    "        if(i<train_samples):\n",
    "            y_ML = model.ML_frozen.predict(x_train[i].reshape((1,28,28,1)))\n",
    "        else:\n",
    "            y_ML = model.ML_frozen.predict(x_test[i-train_samples].reshape((1,28,28,1)))\n",
    "        y_pred = model.predict(y_ML[0,:])           \n",
    "        \n",
    "        # BACKPROPAGATION\n",
    "        cost = y_pred-y_true_soft\n",
    "        \n",
    "        for j in range(0,model.W.shape[0]):\n",
    "            # Update weights\n",
    "            dW = np.multiply(cost, y_ML[0,j]*learn_rate)\n",
    "            model.W[j,:] = model.W[j,:]-dW\n",
    "\n",
    "        # Update biases\n",
    "        db      = np.multiply(cost, learn_rate)\n",
    "        model.b = model.b-db\n",
    "        \n",
    "\n",
    "        \n",
    "        # if the train data is finished still train the model but save the results\n",
    "        if(i>=train_samples):\n",
    "            \n",
    "            # Find the max iter for both true label and prediction\n",
    "            if(np.amax(y_true_soft) != 0):\n",
    "                max_i_true = np.argmax(y_true_soft)\n",
    "\n",
    "            if(np.amax(y_pred) != 0):\n",
    "                max_i_pred = np.argmax(y_pred)\n",
    "\n",
    "            # Fill up the confusion matrix\n",
    "            for k in range(0,len(model.label)):\n",
    "                if(model.label[max_i_pred] == model.std_label[k]):\n",
    "                    p = np.copy(k)\n",
    "                if(model.label[max_i_true] == model.std_label[k]):\n",
    "                    t = np.copy(k)\n",
    "\n",
    "            model.conf_matr[t,p] += 1    \n",
    "        \n",
    "        print(f\"\\r    Currently at {np.round(np.round(cntr/tot_samples,4)*100,2)}% of dataset\", end=\"\")\n",
    "        cntr +=1"
   ]
  },
  {
   "cell_type": "code",
   "execution_count": 14,
   "metadata": {},
   "outputs": [],
   "source": [
    "def testKerasModel(model, x_test, y_test):\n",
    "    \n",
    "    print('**********************************\\nPerforming training with OL METHOD\\n')\n",
    "   \n",
    "    cntr = 1    \n",
    "    test_samples = x_test.shape[0]\n",
    "                \n",
    "    # Cycle over all samples\n",
    "    for i in range(0, test_samples):\n",
    "        \n",
    "        current_label = y_test[i]\n",
    "        \n",
    "        y_true_soft = digitToSoftmax(current_label, model.label)               \n",
    "        # PPREDICTION\n",
    "        y_ML   = model.ML_frozen.predict(x_test[i].reshape((1,28,28,1)))\n",
    "        y_pred = model.predict(y_ML[0,:])                 \n",
    "\n",
    "\n",
    "        # Find the max iter for both true label and prediction\n",
    "        max_i_true, max_i_pred = 100, 100\n",
    "        if(np.amax(y_true_soft) != 0):\n",
    "            max_i_true = np.argmax(y_true_soft)\n",
    "\n",
    "        if(np.amax(y_pred) != 0):\n",
    "            max_i_pred = np.argmax(y_pred)\n",
    "\n",
    "        # Fill up the confusion matrix\n",
    "        for k in range(0,len(model.label)):\n",
    "            if(model.label[max_i_pred] == model.std_label[k]):\n",
    "                p = np.copy(k)\n",
    "            if(model.label[max_i_true] == model.std_label[k]):\n",
    "                t = np.copy(k)\n",
    "\n",
    "        model.conf_matr[t,p] += 1    \n",
    "        \n",
    "        print(f\"\\r    Currently at {np.round(np.round(cntr/test_samples,4)*100,2)}% of dataset\", end=\"\")\n",
    "        cntr +=1  "
   ]
  },
  {
   "cell_type": "markdown",
   "metadata": {},
   "source": [
    "# TEST THE KERAS MODEL ON THE DIGITS 0-6"
   ]
  },
  {
   "cell_type": "code",
   "execution_count": 15,
   "metadata": {},
   "outputs": [
    {
     "name": "stdout",
     "output_type": "stream",
     "text": [
      "The training dataset for the digits 0-6 has shape (6031, 28, 28, 1)\n"
     ]
    }
   ],
   "source": [
    "print(f'The training dataset for the digits 0-6 has shape {data_low_test.shape}')"
   ]
  },
  {
   "cell_type": "code",
   "execution_count": 16,
   "metadata": {},
   "outputs": [
    {
     "name": "stdout",
     "output_type": "stream",
     "text": [
      "**********************************\n",
      "Performing training with OL METHOD\n",
      "\n",
      "    Currently at 100.0% of dataset"
     ]
    },
    {
     "data": {
      "image/png": "[encoded data removed]",
      "text/plain": [
       "<Figure size 864x576 with 1 Axes>"
      ]
     },
     "metadata": {
      "needs_background": "light"
     },
     "output_type": "display_data"
    },
    {
     "data": {
      "image/png": "[encoded data removed]",
      "text/plain": [
       "<Figure size 432x432 with 2 Axes>"
      ]
     },
     "metadata": {
      "needs_background": "light"
     },
     "output_type": "display_data"
    }
   ],
   "source": [
    "Model_KERAS = Custom_Layer(model)\n",
    "Model_KERAS.title      = 'Keras' \n",
    "Model_KERAS.filename   = 'Keras'\n",
    "\n",
    "testKerasModel(Model_KERAS, data_low_test[:1000], label_low_test[:1000])\n",
    "\n",
    "plot_barChart(Model_KERAS)\n",
    "plot_confMatrix(Model_KERAS)\n",
    "plot_table(Model_KERAS)"
   ]
  },
  {
   "cell_type": "markdown",
   "metadata": {},
   "source": [
    "# TRAIN THE MODEL ON THE DIGITS 6-9 (OL METHOD)"
   ]
  },
  {
   "cell_type": "code",
   "execution_count": 17,
   "metadata": {},
   "outputs": [
    {
     "name": "stdout",
     "output_type": "stream",
     "text": [
      "The dataset on which the model will be TRAINED has shape (500, 28, 28, 1)\n",
      "The dataset on which the model will be TESTED has shape  (500, 28, 28, 1)\n"
     ]
    }
   ],
   "source": [
    "print(f'The dataset on which the model will be TRAINED has shape {digits_train.shape}')\n",
    "print(f'The dataset on which the model will be TESTED has shape  {digits_test.shape}')"
   ]
  },
  {
   "cell_type": "code",
   "execution_count": 18,
   "metadata": {
    "scrolled": false
   },
   "outputs": [
    {
     "name": "stdout",
     "output_type": "stream",
     "text": [
      "**********************************\n",
      "Performing training with OL METHOD\n",
      "\n",
      "    Currently at 0.3% of dataset\n",
      "\n",
      "    New letter detected -> letter \u001b[1m7\u001b[0m \n",
      "\n",
      "    Currently at 0.6% of dataset\n",
      "\n",
      "    New letter detected -> letter \u001b[1m6\u001b[0m \n",
      "\n",
      "    Currently at 0.9% of dataset\n",
      "\n",
      "    New letter detected -> letter \u001b[1m9\u001b[0m \n",
      "\n",
      "    Currently at 1.7% of dataset\n",
      "\n",
      "    New letter detected -> letter \u001b[1m8\u001b[0m \n",
      "\n",
      "    Currently at 100.0% of dataset"
     ]
    },
    {
     "data": {
      "image/png": "[encoded data removed]",
      "text/plain": [
       "<Figure size 864x576 with 1 Axes>"
      ]
     },
     "metadata": {
      "needs_background": "light"
     },
     "output_type": "display_data"
    },
    {
     "data": {
      "image/png": "[encoded data removed]",
      "text/plain": [
       "<Figure size 432x432 with 2 Axes>"
      ]
     },
     "metadata": {
      "needs_background": "light"
     },
     "output_type": "display_data"
    }
   ],
   "source": [
    "Model_OL = Custom_Layer(model)\n",
    "Model_OL.title      = 'OL' \n",
    "Model_OL.filename   = 'OL'\n",
    "Model_OL.l_rate     = 0.01 \n",
    "Model_OL.batch_size = 8\n",
    "\n",
    "trainOneEpoch_OL(Model_OL, digits_train, digits_test, labels_train, labels_test)\n",
    "\n",
    "plot_barChart(Model_OL)\n",
    "plot_confMatrix(Model_OL)\n",
    "plot_table(Model_OL)"
   ]
  },
  {
   "cell_type": "code",
   "execution_count": null,
   "metadata": {
    "executionInfo": {
     "elapsed": 10,
     "status": "ok",
     "timestamp": 1636125293504,
     "user": {
      "displayName": "Alessandro_Avi",
      "photoUrl": "https://lh3.googleusercontent.com/a-/AOh14Gh3g3OBoR2thMDg3ykM6pXzOuBTEcJePGTDW3_DNw=s64",
      "userId": "02552590181762893039"
     },
     "user_tz": -60
    },
    "id": "eE5Ju7QbRDBF"
   },
   "outputs": [],
   "source": []
  },
  {
   "cell_type": "code",
   "execution_count": null,
   "metadata": {},
   "outputs": [],
   "source": []
  },
  {
   "cell_type": "code",
   "execution_count": null,
   "metadata": {},
   "outputs": [],
   "source": []
  }
 ],
 "metadata": {
  "accelerator": "GPU",
  "colab": {
   "collapsed_sections": [],
   "name": "Mnist_half.ipynb",
   "provenance": []
  },
  "kernelspec": {
   "display_name": "Python 3 (ipykernel)",
   "language": "python",
   "name": "python3"
  },
  "language_info": {
   "codemirror_mode": {
    "name": "ipython",
    "version": 3
   },
   "file_extension": ".py",
   "mimetype": "text/x-python",
   "name": "python",
   "nbconvert_exporter": "python",
   "pygments_lexer": "ipython3",
   "version": "3.8.11"
  }
 },
 "nbformat": 4,
 "nbformat_minor": 1
}
