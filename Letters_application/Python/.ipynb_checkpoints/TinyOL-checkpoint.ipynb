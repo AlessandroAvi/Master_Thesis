{
 "cells": [
  {
   "cell_type": "code",
   "execution_count": 1,
   "metadata": {},
   "outputs": [],
   "source": [
    "import os, sys\n",
    "os.environ['TF_CPP_MIN_LOG_LEVEL'] = '2'\n",
    "\n",
    "import pandas as pd\n",
    "import numpy as np\n",
    "import re\n",
    "import random\n",
    "import matplotlib.pyplot as plt\n",
    "import matplotlib.image as mpimg\n",
    "import tensorflow as tf\n",
    "from tensorflow import keras\n",
    "from tensorflow.keras import optimizers\n",
    "from PIL import Image\n",
    "from sklearn.metrics import confusion_matrix\n",
    "import seaborn as sns\n",
    "\n",
    "ROOT_PATH = os.path.abspath('')\n",
    "sys.path.insert(0, ROOT_PATH + '/lib')\n",
    "\n",
    "import myLib_barChart as myBar\n",
    "import myLib_confMatrix as myMatrix\n",
    "import myLib_parseData as myParse\n",
    "import myLib_pieChart as myPie\n",
    "import myLib_table as myTable\n",
    "import myLib_testModel as myTest\n",
    "from myLib_testModel import letterToSoftmax\n",
    "import myLib_writeFile as myWrite\n",
    "import myLib_debugFiles as myDebug\n",
    "\n",
    "np.set_printoptions(suppress=True)"
   ]
  },
  {
   "cell_type": "code",
   "execution_count": 2,
   "metadata": {},
   "outputs": [],
   "source": [
    "# Definition of string values for the bold print\n",
    "S_BOLD = '\\033[1m'\n",
    "E_BOLD = '\\033[0m'"
   ]
  },
  {
   "cell_type": "markdown",
   "metadata": {},
   "source": [
    "# LOAD DATASET AND PREPARE TRAIN - TEST"
   ]
  },
  {
   "cell_type": "markdown",
   "metadata": {},
   "source": [
    "In this section the functions loadDataFromTxt and parseTrainTest are called. These allow to load the dataset from the txt files into matrices and then separate them in smaller matrices for testing and training. "
   ]
  },
  {
   "cell_type": "markdown",
   "metadata": {},
   "source": [
    "Set DEBUG_HISTORY to 1 if you want to compare teh evolution of the STM and simulation. Set it to 0 if you don't want to use it."
   ]
  },
  {
   "cell_type": "code",
   "execution_count": 3,
   "metadata": {},
   "outputs": [],
   "source": [
    "DEBUG_HISTORY = 0      # 0 for no debug          | 1 for yes debug"
   ]
  },
  {
   "cell_type": "markdown",
   "metadata": {},
   "source": [
    "Load the dataset used for testing the Keras model. Contains only vowels."
   ]
  },
  {
   "cell_type": "code",
   "execution_count": 4,
   "metadata": {
    "scrolled": true
   },
   "outputs": [
    {
     "name": "stdout",
     "output_type": "stream",
     "text": [
      "******* Dataset for letter ['A' 'E' 'I' 'O' 'U']\n",
      "\n",
      "Raw shape        -> (103600, 5)\n",
      "Tot samples      -> 518\n",
      "\n",
      "\n",
      "*** Separate train-valid\n",
      "\n",
      "Train data shape  -> (361, 600)\n",
      "Test data shape   -> (155, 600)\n"
     ]
    }
   ],
   "source": [
    "vowels_data, vowels_label = myParse.loadDataFromTxt('vowels_OL')\n",
    "OL_data_train_vow, OL_label_train_vow, OL_data_test_vow, OL_label_test_vow = myParse.parseTrainTest(vowels_data, vowels_label, 0.7)"
   ]
  },
  {
   "cell_type": "markdown",
   "metadata": {},
   "source": [
    "Load the dataset used for trainin the OL system with any algorithm."
   ]
  },
  {
   "cell_type": "code",
   "execution_count": 5,
   "metadata": {},
   "outputs": [
    {
     "name": "stdout",
     "output_type": "stream",
     "text": [
      "******* Dataset for letter ['A' 'B' 'E' 'I' 'M' 'O' 'R' 'U']\n",
      "\n",
      "Raw shape        -> (858800, 5)\n",
      "Tot samples      -> 4294\n",
      "\n",
      "\n",
      "*** Separate train-valid\n",
      "\n",
      "Train data shape  -> (3476, 600)\n",
      "Test data shape   -> (816, 600)\n"
     ]
    }
   ],
   "source": [
    "data, label = myParse.loadDataFromTxt('training_file_0')\n",
    "data_train, label_train, data_test, label_test = myParse.parseTrainTest(data, label, 0.81)"
   ]
  },
  {
   "cell_type": "markdown",
   "metadata": {},
   "source": [
    "### Check the content of the dataset"
   ]
  },
  {
   "cell_type": "markdown",
   "metadata": {},
   "source": [
    "This block is used only to check the letters that are inside the datasets that is imported. It's used in order to see if the datasets are created and saved correctly."
   ]
  },
  {
   "cell_type": "code",
   "execution_count": 6,
   "metadata": {},
   "outputs": [
    {
     "name": "stdout",
     "output_type": "stream",
     "text": [
      "\n",
      "TRAIN DATASET SANITY CHECK\n",
      "    The letters found are:              ['R', 'O', 'B', 'I', 'A', 'E', 'M', 'U']\n",
      "    And for each letter the counter is: [603. 319. 644. 337. 334. 327. 588. 323.   1.]\n",
      "\n",
      "TEST DATASET SANITY CHECK\n",
      "    The letters found are:              ['A', 'M', 'I', 'O', 'R', 'B', 'E', 'U']\n",
      "    And for each letter the counter is: [ 70. 142.  69.  87. 163. 124.  78.  82.   1.]\n"
     ]
    }
   ],
   "source": [
    "print('\\nTRAIN DATASET SANITY CHECK')\n",
    "myParse.sanityCheckDataset(label_train)\n",
    "print('\\nTEST DATASET SANITY CHECK')\n",
    "myParse.sanityCheckDataset(label_test)"
   ]
  },
  {
   "cell_type": "markdown",
   "metadata": {},
   "source": [
    "#  ------------------------------------------------------------------------"
   ]
  },
  {
   "cell_type": "markdown",
   "metadata": {},
   "source": [
    "# LOAD TF TRAINED MODEL"
   ]
  },
  {
   "cell_type": "markdown",
   "metadata": {},
   "source": [
    "In this section the frozen model is loaded. The frozen model is the NN that has been trained with keras on the PC. The script that trains this model is called \"run_trainFroznModel.py\""
   ]
  },
  {
   "cell_type": "code",
   "execution_count": 7,
   "metadata": {},
   "outputs": [],
   "source": [
    "MODEL_PATH = ROOT_PATH + \"/Saved_models/\""
   ]
  },
  {
   "cell_type": "code",
   "execution_count": 8,
   "metadata": {},
   "outputs": [],
   "source": [
    "model = keras.models.load_model(MODEL_PATH + 'Original_model/model.h5')\n",
    "model = keras.models.load_model(MODEL_PATH + 'MODELS_OF_PRESENTAITON/Original_model - Copia/model.h5')"
   ]
  },
  {
   "cell_type": "markdown",
   "metadata": {},
   "source": [
    "#  ------------------------------------------------------------------------"
   ]
  },
  {
   "cell_type": "markdown",
   "metadata": {},
   "source": [
    "# TINY OL"
   ]
  },
  {
   "cell_type": "markdown",
   "metadata": {},
   "source": [
    "In this section the main part of the continual learning study is found. Here can be found the functions used for implementing the different algorithms. "
   ]
  },
  {
   "cell_type": "markdown",
   "metadata": {},
   "source": [
    "This function is an implementatio of the softmax operator. It was necessary to implement this and not use the keras one because the function implemented in the STM MCU generates different outcomes with respect to the keras results."
   ]
  },
  {
   "cell_type": "code",
   "execution_count": 9,
   "metadata": {},
   "outputs": [],
   "source": [
    "def myFunc_softmax(array):\n",
    "    \"\"\" Computes softmax of an array\n",
    "    \n",
    "    Parameters\n",
    "    ----------\n",
    "    array : array_like\n",
    "        Is the array of which I want to compute the softmax operation\n",
    "        \n",
    "    Returns\n",
    "    -------\n",
    "    ret_ary : array_like\n",
    "        Softmax output\n",
    "    \"\"\"\n",
    "    \n",
    "    if(len(array.shape)==2):\n",
    "        array = array[0]\n",
    "        \n",
    "    size    = len(array)\n",
    "    ret_ary = np.zeros([len(array)])\n",
    "    m       = array[0]\n",
    "    sum_val = 0\n",
    "\n",
    "    for i in range(0, size):\n",
    "        if(m<array[i]):\n",
    "            m = array[i]\n",
    "\n",
    "    for i in range(0, size):\n",
    "        sum_val += np.exp(array[i] - m)\n",
    "\n",
    "    constant = m + np.log(sum_val)\n",
    "    for i in range(0, size):\n",
    "        ret_ary[i] = np.exp(array[i] - constant)\n",
    "        \n",
    "    return ret_ary\n"
   ]
  },
  {
   "cell_type": "markdown",
   "metadata": {},
   "source": [
    "## TinyOL class"
   ]
  },
  {
   "cell_type": "markdown",
   "metadata": {},
   "source": [
    "This class is just a container for all the informations that are required in order to use correctly a TinyOL sysem. The idea is to create a container in which everything is stored and initialize a new class each time a new algorithm is used."
   ]
  },
  {
   "cell_type": "code",
   "execution_count": 10,
   "metadata": {},
   "outputs": [],
   "source": [
    "class Custom_Layer(object):\n",
    "    def __init__(self, model):\n",
    "\n",
    "        # Related to the layer\n",
    "        self.ML_frozen = keras.models.Sequential(model.layers[:-1])  # extract the last layer from the original model\n",
    "        self.ML_frozen.compile()\n",
    "        \n",
    "        self.W = np.array(model.layers[-1].get_weights()[0])    # extract the weights from the last layer\n",
    "        self.b = np.array(model.layers[-1].get_weights()[1])    # extract the biases from the last layer\n",
    "               \n",
    "        self.W_2 = np.zeros(self.W.shape)\n",
    "        self.b_2 = np.zeros(self.b.shape)\n",
    "        \n",
    "        self.label     = ['A', 'E', 'I', 'O', 'U']              # the original model knows only the vowels\n",
    "        self.std_label = ['A', 'E', 'I', 'O', 'U', 'B', 'R', 'M']\n",
    "        \n",
    "        self.l_rate = 0                                         # learning rate that changes depending on the algorithm        \n",
    "\n",
    "        self.batch_size = 0\n",
    "        \n",
    "        # Related to the results fo the model\n",
    "        self.conf_matr = np.zeros((8,8))    # container for the confusion matrix       \n",
    "        self.macro_avrg_precision = 0       \n",
    "        self.macro_avrg_recall = 0\n",
    "        self.macro_avrg_F1score = 0\n",
    "        \n",
    "        self.title = ''       # title that will be displayed on plots\n",
    "        self.filename = ''    # name of the files to be saved (plots, charts, conf matrix)\n",
    "        \n",
    "        \n",
    "    # Function that is used for the prediction of the model saved in this class\n",
    "    def predict(self, x):\n",
    "        mat_prod = np.array(np.matmul(x, self.W) + self.b)\n",
    "        return  myFunc_softmax(mat_prod) # other method -> use kera and change np.array() with tf.nn.softmax(mat_prod) "
   ]
  },
  {
   "cell_type": "markdown",
   "metadata": {},
   "source": [
    "## TinyOL functions"
   ]
  },
  {
   "cell_type": "markdown",
   "metadata": {},
   "source": [
    "This function is used in all methods before the feed forward of the OL layer. This function is required because it checks if the input letter is already known. If this is not true it will increse the dimension of the last layer (weight matrix and biases array) and also save the new letter in the label array."
   ]
  },
  {
   "cell_type": "code",
   "execution_count": 11,
   "metadata": {},
   "outputs": [],
   "source": [
    "def checkLabelKnown(model, current_label):\n",
    "    \n",
    "    found = 0\n",
    "    \n",
    "    for i in range(0, len(model.label)):\n",
    "        if(current_label == model.label[i]):\n",
    "            found = 1\n",
    "          \n",
    "    # If the label is not known\n",
    "    if(found==0):\n",
    "        print(f'\\n\\n    New letter detected -> letter \\033[1m{current_label}\\033[0m \\n')\n",
    "\n",
    "        model.label.append(current_label)   # Add new letter to label\n",
    "                \n",
    "        # Increase weights and biases dimensions\n",
    "        model.W = np.hstack((model.W, np.zeros([128,1])))# width = 5, height = 128\n",
    "        model.b = np.hstack((model.b, np.zeros([1])))\n",
    "        \n",
    "        model.W_2 = np.hstack((model.W_2, np.zeros([128,1])))\n",
    "        model.b_2 = np.hstack((model.b_2, np.zeros([1])))\n",
    "        \n",
    "        "
   ]
  },
  {
   "cell_type": "markdown",
   "metadata": {},
   "source": [
    "From here the functions that implement the different methods can be found. The explanation of the code of these function is not here but it can be found in the paper \"Continuous learning in single incremental taskscenarios\" and some block diagrams can be found in my presentation."
   ]
  },
  {
   "cell_type": "markdown",
   "metadata": {},
   "source": [
    "### OL"
   ]
  },
  {
   "cell_type": "code",
   "execution_count": 12,
   "metadata": {},
   "outputs": [],
   "source": [
    "if(DEBUG_HISTORY == 1):\n",
    "    numb = data_train.shape[0]\n",
    "\n",
    "    frozenOut_pc  = np.zeros((numb, 128))\n",
    "    weight_pc     = np.zeros((numb, 80))\n",
    "    bias_pc       = np.zeros((numb,8))\n",
    "    preSoftmax_pc = np.zeros((numb,8))\n",
    "    softmax_pc    = np.zeros((numb,8))\n",
    "\n",
    "    weight_letter_b = np.zeros((128, numb))\n",
    "\n",
    "    selected_w = [46,13,107,3,57,65,127,81,89,70,\n",
    "                    143,239,142,158,207,189,172,230,156,208,\n",
    "                    374,359,375,371,303,298,350,257,349,333,\n",
    "                    402,502,485,461,489,479,454,508,485,480,\n",
    "                    527,565,614,517,528,613,625,623,587,521,\n",
    "                    712,742,685,746,759,747,754,702,653,640,\n",
    "                    775,809,798,853,804,840,828,788,890,819,\n",
    "                    906,1019,911,1005,1016,953,1016,987,961,1023]"
   ]
  },
  {
   "cell_type": "code",
   "execution_count": 13,
   "metadata": {},
   "outputs": [],
   "source": [
    "def trainOneEpoch_OL(model, x_train, x_test, y_train, y_test):\n",
    "    \n",
    "    print('**********************************\\nPerforming training with OL METHOD - STOCHASTICH\\n')\n",
    "   \n",
    "    cntr = 1\n",
    "    learn_rate    = model.l_rate\n",
    "    train_samples = x_train.shape[0]\n",
    "    test_samples  = x_test.shape[0]\n",
    "    tot_samples   =  train_samples + test_samples\n",
    "                \n",
    "    # Cycle over all samples\n",
    "    for i in range(0, tot_samples):\n",
    "        \n",
    "        if(i<train_samples):\n",
    "            current_label = y_train[i]\n",
    "        else:\n",
    "            current_label = y_test[i-train_samples]\n",
    "        \n",
    "        checkLabelKnown(model, current_label)\n",
    "        y_true_soft = letterToSoftmax(current_label, model.label)\n",
    "               \n",
    "        # PPREDICTION\n",
    "        if(i<train_samples):\n",
    "            y_ML   = model.ML_frozen.predict(x_train[i,:].reshape(1,x_train.shape[1]))\n",
    "            \n",
    "            if(DEBUG_HISTORY == 1):\n",
    "                temp = np.copy(np.array(np.matmul(y_ML, model.W) + model.b))\n",
    "                temp = temp[0]\n",
    "        else:\n",
    "            y_ML   = model.ML_frozen.predict(x_test[i-train_samples,:].reshape(1,x_test.shape[1]))\n",
    "        y_pred = model.predict(y_ML[0,:])           \n",
    "        \n",
    "        # BACKPROPAGATION\n",
    "        cost = y_pred-y_true_soft\n",
    "        \n",
    "        for j in range(0,model.W.shape[0]):\n",
    "            # Update weights\n",
    "            deltaW = np.multiply(cost, y_ML[0,j])\n",
    "            dW     = np.multiply(deltaW, learn_rate)\n",
    "            model.W[j,:] = model.W[j,:]-dW\n",
    "\n",
    "        # Update biases\n",
    "        db      = np.multiply(cost, learn_rate)\n",
    "        model.b = model.b-db\n",
    "        \n",
    "        \n",
    "        # SAVE THE WEIGHTS IN A MATRIX\n",
    "        if(DEBUG_HISTORY == 1):\n",
    "            if(i<numb):\n",
    "\n",
    "                frozenOut_pc[i,:] = y_ML[0,:]\n",
    "\n",
    "                for q in range(0, 8):\n",
    "                    if(q<model.W.shape[1]):\n",
    "                        bias_pc[i,q]       = np.copy(model.b[q])\n",
    "                        softmax_pc[i,q]    = np.copy(y_pred[q])\n",
    "                        preSoftmax_pc[i,q] = np.copy(temp[q])\n",
    "\n",
    "                for q in range(0, 80):\n",
    "                    if(int(selected_w[q]/128) < model.W.shape[1] ):\n",
    "                        weight_pc[i,q] = np.copy(model.W[selected_w[q]%128, int(selected_w[q]/128)])\n",
    "        # *********************************\n",
    "        \n",
    "        \n",
    "        \n",
    "        # if the train data is finished still train the model but save the results\n",
    "        if(i>=train_samples):\n",
    "            \n",
    "            # Find the max iter for both true label and prediction\n",
    "            if(np.amax(y_true_soft) != 0):\n",
    "                max_i_true = np.argmax(y_true_soft)\n",
    "\n",
    "            if(np.amax(y_pred) != 0):\n",
    "                max_i_pred = np.argmax(y_pred)\n",
    "\n",
    "            # Fill up the confusion matrix\n",
    "            for k in range(0,len(model.label)):\n",
    "                if(model.label[max_i_pred] == model.std_label[k]):\n",
    "                    p = np.copy(k)\n",
    "                if(model.label[max_i_true] == model.std_label[k]):\n",
    "                    t = np.copy(k)\n",
    "\n",
    "            model.conf_matr[t,p] += 1    \n",
    "        \n",
    "        print(f\"\\r    Currently at {np.round(np.round(cntr/tot_samples,4)*100,2)}% of dataset\", end=\"\")\n",
    "        cntr +=1"
   ]
  },
  {
   "cell_type": "markdown",
   "metadata": {},
   "source": [
    "### OL MINI BATCH"
   ]
  },
  {
   "cell_type": "code",
   "execution_count": 14,
   "metadata": {},
   "outputs": [],
   "source": [
    "def trainOneEpoch_OL_miniBatch(model, x_train, x_test, y_train, y_test):\n",
    "    \n",
    "    print('**********************************\\nPerforming training with OL METHOD - MINI BATCH\\n')\n",
    "    \n",
    "    cntr=1\n",
    "    learn_rate = model.l_rate\n",
    "    batch_size = model.batch_size\n",
    "    \n",
    "    train_samples = x_train.shape[0]\n",
    "    test_samples  = x_test.shape[0]\n",
    "    tot_samples   = train_samples + test_samples\n",
    "    \n",
    "    model.W_2 = np.zeros((model.W.shape))\n",
    "    model.b_2 = np.zeros((model.b.shape))\n",
    "\n",
    "            \n",
    "    # Cycle over all samples\n",
    "    for i in range(0, tot_samples):\n",
    "        \n",
    "        if(i<train_samples):\n",
    "            current_label = y_train[i]\n",
    "        else:\n",
    "            current_label = y_test[i-train_samples]\n",
    "\n",
    "        checkLabelKnown(model, current_label)\n",
    "        \n",
    "        y_true_soft = letterToSoftmax(current_label, model.label)        \n",
    "                \n",
    "        h = model.W.shape[0]\n",
    "        w = model.W.shape[1]\n",
    "        \n",
    "        # PREDICTION\n",
    "        if(i<train_samples):\n",
    "            y_ML = model.ML_frozen.predict(x_train[i,:].reshape(1,x_train.shape[1]))\n",
    "        else:\n",
    "            y_ML = model.ML_frozen.predict(x_test[i-train_samples,:].reshape(1,x_test.shape[1]))\n",
    "        y_pred = model.predict(y_ML[0,:])\n",
    "\n",
    "        # BACKPROPAGATION\n",
    "        cost = y_pred-y_true_soft\n",
    "\n",
    "        for j in range(0,h): \n",
    "            # Update weights\n",
    "            deltaW = np.multiply(cost, y_ML[0,j]) \n",
    "            model.W_2[j,:] += deltaW\n",
    "\n",
    "        # Update biases\n",
    "        model.b_2 += cost\n",
    "        \n",
    "        if(i%batch_size==0 and i!=0):\n",
    "            model.W = model.W - np.multiply(model.W_2, 1/batch_size*learn_rate)\n",
    "            model.b = model.b - np.multiply(model.b_2, 1/batch_size*learn_rate)\n",
    "\n",
    "            model.W_2 = np.zeros((model.W.shape))  #reset each batch  \n",
    "            model.b_2 = np.zeros((model.b.shape))  #reset each batch   \n",
    "            \n",
    "        # UPDATE THE CONFUSION MATRIX\n",
    "        # if the train data is finished still train the model but save the results\n",
    "        if(i>=train_samples):\n",
    "            \n",
    "            # Find the max iter for both true label and prediction\n",
    "            if(np.amax(y_true_soft) != 0):\n",
    "                max_i_true = np.argmax(y_true_soft)\n",
    "\n",
    "            if(np.amax(y_pred) != 0):\n",
    "                max_i_pred = np.argmax(y_pred)\n",
    "\n",
    "            # Fill up the confusion matrix\n",
    "            for k in range(0,len(model.label)):\n",
    "                if(model.label[max_i_pred] == model.std_label[k]):\n",
    "                    p = np.copy(k)\n",
    "                if(model.label[max_i_true] == model.std_label[k]):\n",
    "                    t = np.copy(k)\n",
    "\n",
    "            model.conf_matr[t,p] += 1    \n",
    "        \n",
    "        print(f\"\\r    Currently at {np.round(np.round(cntr/tot_samples,4)*100,2)}% of dataset\", end=\"\")\n",
    "        cntr +=1"
   ]
  },
  {
   "cell_type": "markdown",
   "metadata": {},
   "source": [
    "### OL v2"
   ]
  },
  {
   "cell_type": "code",
   "execution_count": 15,
   "metadata": {},
   "outputs": [],
   "source": [
    "  def trainOneEpoch_OL_v2(model, x_train, x_test, y_train, y_test):\n",
    "    \n",
    "    print('**********************************\\nPerforming training with CWR METHOD - STOCASTICH \\n')\n",
    "    \n",
    "    cntr = 1\n",
    "    learn_rate = model.l_rate\n",
    "    \n",
    "    train_samples = x_train.shape[0]\n",
    "    test_samples  = x_test.shape[0]\n",
    "    tot_samples   = train_samples + test_samples\n",
    "                \n",
    "    # Cycle over every sample\n",
    "    for i in range(0, tot_samples):\n",
    "        \n",
    "        if(i<train_samples):\n",
    "            current_label = y_train[i]  \n",
    "        else:\n",
    "            current_label = y_test[i-train_samples]\n",
    "        \n",
    "        checkLabelKnown(model, current_label)\n",
    "        y_true_soft = letterToSoftmax(current_label, model.label)\n",
    "        \n",
    "        h = model.W.shape[0]\n",
    "        w = model.W.shape[1]\n",
    "                \n",
    "        # PREDICTION\n",
    "        if(i<train_samples):\n",
    "            y_ML = model.ML_frozen.predict(x_train[i,:].reshape(1,x_train.shape[1]))   \n",
    "        else:\n",
    "            y_ML = model.ML_frozen.predict(x_test[i-train_samples,:].reshape(1,x_test.shape[1]))\n",
    "        y_pred = model.predict(y_ML[0,:])\n",
    "\n",
    "        # BACKPROPAGATION\n",
    "        cost = y_pred-y_true_soft\n",
    "        cost[0] = 0   # A\n",
    "        cost[1] = 0   # E\n",
    "        cost[2] = 0   # I\n",
    "        cost[3] = 0   # O\n",
    "        cost[4] = 0   # U\n",
    "\n",
    "        # Update weights\n",
    "        for j in range(0,h):\n",
    "\n",
    "            dW = np.multiply(cost, y_ML[0,j]*learn_rate)\n",
    "            model.W[j,:] = model.W[j,:]-dW\n",
    "\n",
    "        # Update biases\n",
    "        db = np.multiply(cost, learn_rate)\n",
    "        model.b = model.b-db\n",
    "        \n",
    "        \n",
    "        # if the train data is finished still train the model but save the results\n",
    "        if(i>=train_samples):\n",
    "            \n",
    "            # Find the max iter for both true label and prediction\n",
    "            if(np.amax(y_true_soft) != 0):\n",
    "                max_i_true = np.argmax(y_true_soft)\n",
    "\n",
    "            if(np.amax(y_pred) != 0):\n",
    "                max_i_pred = np.argmax(y_pred)\n",
    "\n",
    "            # Fill up the confusion matrix\n",
    "            for k in range(0,len(model.label)):\n",
    "                if(model.label[max_i_pred] == model.std_label[k]):\n",
    "                    p = np.copy(k)\n",
    "                if(model.label[max_i_true] == model.std_label[k]):\n",
    "                    t = np.copy(k)\n",
    "\n",
    "            model.conf_matr[t,p] += 1 \n",
    "        \n",
    "        print(f\"\\r    Currently at {np.round(np.round(cntr/tot_samples,4)*100,2)}% of dataset\", end=\"\")\n",
    "        cntr +=1"
   ]
  },
  {
   "cell_type": "markdown",
   "metadata": {},
   "source": [
    "### OL v2 MINI BATCH"
   ]
  },
  {
   "cell_type": "code",
   "execution_count": 16,
   "metadata": {},
   "outputs": [],
   "source": [
    "def trainOneEpoch_OL_v2_miniBatch(model, x_train, x_test, y_train, y_test):\n",
    "    \n",
    "    print('**********************************\\nPerforming training with CWR - MINI BATCH \\n ')  \n",
    "\n",
    "    cntr = 1\n",
    "    learn_rate = model.l_rate\n",
    "    batch_size = model.batch_size\n",
    "    \n",
    "    \n",
    "    train_samples = x_train.shape[0]\n",
    "    test_samples  = x_test.shape[0]\n",
    "    tot_samples   = train_samples + test_samples\n",
    "    \n",
    "    model.W_2 = np.zeros((model.W.shape))\n",
    "    model.b_2 = np.zeros((model.b.shape))\n",
    "           \n",
    "    # Cycle over all input samples\n",
    "    for i in range(0, tot_samples):\n",
    "        \n",
    "        if(i<train_samples):\n",
    "            current_label = y_train[i]  \n",
    "        else:\n",
    "            current_label = y_test[i-train_samples]\n",
    "        \n",
    "        checkLabelKnown(model, current_label)\n",
    "        y_true_soft = letterToSoftmax(current_label, model.label) \n",
    "                \n",
    "        h = model.W.shape[0]\n",
    "        w = model.W.shape[1]\n",
    "            \n",
    "        # PREDICTION\n",
    "        if(i<train_samples):\n",
    "            y_ML = model.ML_frozen.predict(x_train[i,:].reshape(1,x_train.shape[1]))   \n",
    "        else:\n",
    "            y_ML = model.ML_frozen.predict(x_test[i-train_samples,:].reshape(1,x_test.shape[1]))\n",
    "        y_pred = model.predict(y_ML[0,:])\n",
    "\n",
    "        # BACKPROPAGATION\n",
    "        cost = y_pred-y_true_soft\n",
    "        cost[0] = 0   # A\n",
    "        cost[1] = 0   # E\n",
    "        cost[2] = 0   # I\n",
    "        cost[3] = 0   # O\n",
    "        cost[4] = 0   # U\n",
    "\n",
    "        for j in range(0,h):  \n",
    "            # Update weights\n",
    "            deltaW = np.multiply(cost, y_ML[0,j]) \n",
    "            model.W_2[j,:] += deltaW\n",
    "\n",
    "        # Update biases\n",
    "        model.b_2 += cost\n",
    "\n",
    "        \n",
    "        # If beginning of batch\n",
    "        if(i%batch_size==0 and i!=0):\n",
    "            for j in range(0, 5):\n",
    "                for k in range(0, h):\n",
    "                    model.W_2[k,j] = 0\n",
    "                model.b_2[j] = 0\n",
    "                    \n",
    "            model.W   = model.W - np.multiply(model.W_2, 1/batch_size*learn_rate)\n",
    "            model.b   = model.b - np.multiply(model.b_2, 1/batch_size*learn_rate)\n",
    "            model.W_2 = np.zeros((model.W.shape))  # reset\n",
    "            model.b_2 = np.zeros((model.b.shape))  # reset\n",
    "        \n",
    "            \n",
    "        # UPDATE CONFUSION MATRIX\n",
    "        # if the train data is finished still train the model but save the results\n",
    "        if(i>=train_samples):\n",
    "            \n",
    "            # Find the max iter for both true label and prediction\n",
    "            if(np.amax(y_true_soft) != 0):\n",
    "                max_i_true = np.argmax(y_true_soft)\n",
    "\n",
    "            if(np.amax(y_pred) != 0):\n",
    "                max_i_pred = np.argmax(y_pred)\n",
    "\n",
    "            # Fill up the confusion matrix\n",
    "            for k in range(0,len(model.label)):\n",
    "                if(model.label[max_i_pred] == model.std_label[k]):\n",
    "                    p = np.copy(k)\n",
    "                if(model.label[max_i_true] == model.std_label[k]):\n",
    "                    t = np.copy(k)\n",
    "\n",
    "            model.conf_matr[t,p] += 1 \n",
    "        \n",
    "        print(f\"\\r    Currently at {np.round(np.round(cntr/tot_samples,4)*100,2)}% of dataset\", end=\"\")\n",
    "        cntr +=1"
   ]
  },
  {
   "cell_type": "markdown",
   "metadata": {},
   "source": [
    "### LWF"
   ]
  },
  {
   "cell_type": "code",
   "execution_count": 17,
   "metadata": {},
   "outputs": [],
   "source": [
    "def trainOneEpochOL_LWF(model, x_train, x_test, y_train, y_test):\n",
    "    \n",
    "    print('**********************************\\nPerforming training with LWF - STOCHASTIC\\n ') \n",
    "    \n",
    "    lam  = 0\n",
    "    cntr = 1\n",
    "    learn_rate = model.l_rate\n",
    "    \n",
    "    train_samples = x_train.shape[0]\n",
    "    test_samples  = x_test.shape[0]\n",
    "    tot_samples   = train_samples + test_samples\n",
    "    \n",
    "    y_LWF = np.zeros([1, 8])    # Define container for LWF\n",
    "\n",
    "    # DEFINE ORIGINAL WEIGHTS AND BIASES\n",
    "    model.W_2 = np.copy(model.W)\n",
    "    model.b_2 = np.copy(model.b)\n",
    "         \n",
    "    # Cycle over every sample\n",
    "    for i in range(0, tot_samples):\n",
    "        \n",
    "        if(i<train_samples):\n",
    "            current_label = y_train[i]  \n",
    "        else:\n",
    "            current_label = y_test[i-train_samples]\n",
    "        \n",
    "        checkLabelKnown(model, current_label)\n",
    "        y_true_soft = letterToSoftmax(current_label, model.label) \n",
    "                \n",
    "        w = model.W.shape[1]\n",
    "        h = model.W.shape[0]\n",
    "        \n",
    "        # PREDICTION WITH CURRENT WEIGHTS\n",
    "        if(i<train_samples):\n",
    "            y_ML = model.ML_frozen.predict(x_train[i,:].reshape(1,x_train.shape[1]))   \n",
    "        else:\n",
    "            y_ML = model.ML_frozen.predict(x_test[i-train_samples,:].reshape(1,x_test.shape[1]))\n",
    "        y_pred = model.predict(y_ML[0,:])\n",
    "        # PREDICTION WITH LWF WEIGHTS\n",
    "        y_LWF = myFunc_softmax(np.array(np.matmul(y_ML, model.W_2) + model.b_2))\n",
    "        \n",
    "        lam = 100/(100+cntr)   \n",
    "        \n",
    "        # BACKPROPAGATION        \n",
    "        cost_norm = y_pred-y_true_soft\n",
    "        cost_LWF  = y_pred-y_LWF\n",
    "\n",
    "\n",
    "        for j in range(0,h):\n",
    "            # Update weights\n",
    "            deltaW_norm  = np.multiply(cost_norm,1-lam)\n",
    "            deltaW_LWF   = np.multiply(cost_LWF, lam)\n",
    "            dW           = np.multiply(deltaW_norm+deltaW_LWF, y_ML[0,j]*learn_rate)\n",
    "            model.W[j,:] = model.W[j,:]-dW\n",
    "\n",
    "        # Update biases\n",
    "        db_norm = np.multiply(cost_norm, 1-lam)\n",
    "        db_LWF  = np.multiply(cost_LWF, lam)\n",
    "        db      = np.multiply(db_norm+db_LWF, learn_rate)\n",
    "        model.b = model.b-db\n",
    "        \n",
    "        \n",
    "        # if the train data is finished still train the model but save the results\n",
    "        if(i>=train_samples):\n",
    "            \n",
    "            # Find the max iter for both true label and prediction\n",
    "            if(np.amax(y_true_soft) != 0):\n",
    "                max_i_true = np.argmax(y_true_soft)\n",
    "\n",
    "            if(np.amax(y_pred) != 0):\n",
    "                max_i_pred = np.argmax(y_pred)\n",
    "\n",
    "            # Fill up the confusion matrix\n",
    "            for k in range(0,len(model.label)):\n",
    "                if(model.label[max_i_pred] == model.std_label[k]):\n",
    "                    p = np.copy(k)\n",
    "                if(model.label[max_i_true] == model.std_label[k]):\n",
    "                    t = np.copy(k)\n",
    "\n",
    "            model.conf_matr[t,p] += 1 \n",
    "        \n",
    "        print(f\"\\r    Currently at {np.round(np.round(cntr/tot_samples,4)*100,2)}% of dataset\", end=\"\")\n",
    "        cntr +=1"
   ]
  },
  {
   "cell_type": "markdown",
   "metadata": {},
   "source": [
    "### LWF MINI BATCH"
   ]
  },
  {
   "cell_type": "code",
   "execution_count": 18,
   "metadata": {},
   "outputs": [],
   "source": [
    "def trainOneEpochOL_LWF_v2(model, x_train, x_test, y_train, y_test):\n",
    "    \n",
    "    print('**********************************\\nPerforming training with LWF - MINI BATCH\\n')\n",
    "    \n",
    "    lam  = 0\n",
    "    cntr = 1\n",
    "    learn_rate = model.l_rate\n",
    "    batch_size = model.batch_size\n",
    "    \n",
    "    train_samples = x_train.shape[0]\n",
    "    test_samples  = x_test.shape[0]\n",
    "    tot_samples   = train_samples + test_samples\n",
    "                \n",
    "    y_LWF = np.zeros([1, 8])\n",
    "    \n",
    "    model.W_2 = np.copy(model.W)   # copy from TF\n",
    "    model.b_2 = np.copy(model.b)\n",
    "        \n",
    "        \n",
    "    # For every sample in the dataset given\n",
    "    for i in range(0, tot_samples):\n",
    "        \n",
    "        if(i<train_samples):\n",
    "            current_label = y_train[i]  \n",
    "        else:\n",
    "            current_label = y_test[i-train_samples]\n",
    "        \n",
    "        checkLabelKnown(model, current_label)\n",
    "        y_true_soft = letterToSoftmax(current_label, model.label) \n",
    "                        \n",
    "        h = model.W.shape[0]\n",
    "        w = model.W.shape[1]\n",
    "                   \n",
    "        # PREDICTION WITH CURRENT WEIGHTS\n",
    "        if(i<train_samples):\n",
    "            y_ML = model.ML_frozen.predict(x_train[i,:].reshape(1,x_train.shape[1]))   \n",
    "        else:\n",
    "            y_ML = model.ML_frozen.predict(x_test[i-train_samples,:].reshape(1,x_test.shape[1]))\n",
    "        y_pred = model.predict(y_ML[0,:])  \n",
    "        # PREDICTION WITH LWF WEIGHTS\n",
    "        mat_prod = np.array(np.matmul(y_ML, model.W_2) + model.b_2)\n",
    "        y_LWF = myFunc_softmax(mat_prod)        \n",
    "\n",
    "        if(cntr<batch_size):\n",
    "            lam = 1\n",
    "        else:\n",
    "            lam = batch_size/cntr  #(cntr/493)   va da 0 a 1\n",
    "         \n",
    "        # ---- BACKPROPAGATION | MINI BATCH + LWF        \n",
    "        cost_norm = y_pred-y_true_soft\n",
    "        cost_LWF  = y_pred-y_LWF\n",
    "        \n",
    "        lam_cost_norm = np.multiply(cost_norm, 1-lam)\n",
    "        lam_cost_LWF  = np.multiply(cost_LWF,  lam)\n",
    "\n",
    "        for j in range(0,h):\n",
    "\n",
    "            # Update weights\n",
    "            deltaW = np.multiply(lam_cost_norm+lam_cost_LWF, y_ML[0,j])\n",
    "            dW = np.multiply(deltaW, learn_rate)\n",
    "            model.W[j,:] = model.W[j,:]-dW          \n",
    "            \n",
    "        # Update biases \n",
    "        db = np.multiply(lam_cost_norm+lam_cost_LWF, learn_rate)\n",
    "        model.b = model.b-db   \n",
    "        \n",
    "        # END OF BATCH\n",
    "        if(i%batch_size==0 and i!=0):            \n",
    "            model.W_2 = np.copy(model.W)    # update the LWF w matrix\n",
    "            model.b_2 = np.copy(model.b)    # update the LWF b matrix\n",
    "        \n",
    "        \n",
    "        # if the train data is finished still train the model but save the results\n",
    "        if(i>=train_samples):\n",
    "            \n",
    "            # Find the max iter for both true label and prediction\n",
    "            if(np.amax(y_true_soft) != 0):\n",
    "                max_i_true = np.argmax(y_true_soft)\n",
    "\n",
    "            if(np.amax(y_pred) != 0):\n",
    "                max_i_pred = np.argmax(y_pred)\n",
    "\n",
    "            # Fill up the confusion matrix\n",
    "            for k in range(0,len(model.label)):\n",
    "                if(model.label[max_i_pred] == model.std_label[k]):\n",
    "                    p = np.copy(k)\n",
    "                if(model.label[max_i_true] == model.std_label[k]):\n",
    "                    t = np.copy(k)\n",
    "\n",
    "            model.conf_matr[t,p] += 1 \n",
    "                        \n",
    "        print(f\"\\r    Currently at {np.round(np.round(cntr/tot_samples,4)*100,2)}% of dataset\", end=\"\")\n",
    "        cntr +=1"
   ]
  },
  {
   "cell_type": "markdown",
   "metadata": {},
   "source": [
    "### CWR"
   ]
  },
  {
   "cell_type": "code",
   "execution_count": 19,
   "metadata": {},
   "outputs": [],
   "source": [
    "def trainOneEpoch_CWR(model, x_train, x_test, y_train, y_test):\n",
    "        \n",
    "    print('**********************************\\nPerforming training CWR \\n ')  \n",
    "\n",
    "    cntr = 1\n",
    "    learn_rate = model.l_rate\n",
    "    batch_size = model.batch_size\n",
    "\n",
    "    train_samples = x_train.shape[0]\n",
    "    test_samples  = x_test.shape[0]\n",
    "    tot_samples   = train_samples + test_samples\n",
    "    \n",
    "    model.W_2  = np.zeros((model.W.shape))\n",
    "    model.b_2  = np.zeros((model.b.shape))\n",
    "    found_lett = np.zeros(8)\n",
    "                   \n",
    "    # Cycle over all input samples\n",
    "    for i in range(0, tot_samples):\n",
    "        \n",
    "        if(i<train_samples):\n",
    "            current_label = y_train[i]  \n",
    "        else:\n",
    "            current_label = y_test[i-train_samples] \n",
    "            \n",
    "        checkLabelKnown(model, current_label)\n",
    "        y_true_soft = letterToSoftmax(current_label, model.label) \n",
    "        \n",
    "        h = model.W.shape[0]\n",
    "        w = model.W.shape[1]\n",
    "                \n",
    "        found_lett[np.argmax(y_true_soft)] += 1  # update the letter counter\n",
    "            \n",
    "        # PREDICTION\n",
    "        if(i<train_samples):\n",
    "            y_ML = model.ML_frozen.predict(x_train[i,:].reshape(1,x_train.shape[1]))   \n",
    "        else:\n",
    "            y_ML = model.ML_frozen.predict(x_test[i-train_samples,:].reshape(1,x_test.shape[1]))\n",
    "            y_pred_c = myFunc_softmax(np.array(np.matmul(y_ML, model.W) + model.b))      \n",
    "\n",
    "        y_pred_t = myFunc_softmax(np.array(np.matmul(y_ML, model.W_2) + model.b_2))      \n",
    "\n",
    "\n",
    "        # BACKPROPAGATION\n",
    "        cost = y_pred_t-y_true_soft\n",
    "\n",
    "        # Update weights\n",
    "        for j in range(0,h):\n",
    "            deltaW = np.multiply(cost, y_ML[0,j])\n",
    "            dW = np.multiply(deltaW, learn_rate)\n",
    "            model.W_2[j,:] = model.W_2[j,:] - dW\n",
    "\n",
    "        # Update biases\n",
    "        db = np.multiply(cost, learn_rate)\n",
    "        model.b_2 = model.b_2-db\n",
    "        \n",
    "        \n",
    "        # If beginning of batch\n",
    "        if(i%batch_size==0 and i!=0): \n",
    "            for k in range(0, w):\n",
    "                if(found_lett[k]!=0):\n",
    "                    tempW = np.multiply(model.W[:,k], found_lett[k])\n",
    "                    tempB = np.multiply(model.b[k]  , found_lett[k])\n",
    "                    model.W[:,k] = np.multiply(tempW+model.W_2[:,k], 1/(found_lett[k]+1))\n",
    "                    model.b[k]   = np.multiply(tempB+model.b_2[k],   1/(found_lett[k]+1))\n",
    "                    \n",
    "            model.W_2  =  np.copy(model.W) # np.zeros((model.W.shape)) \n",
    "            model.b_2  =  np.copy(model.b) # np.zeros((model.b.shape))       \n",
    "            found_lett = np.zeros(8)  # reset                              \n",
    "                    \n",
    "        # if the train data is finished still train the model but save the results\n",
    "        if(i>=train_samples):\n",
    "            \n",
    "            # Find the max iter for both true label and prediction\n",
    "            if(np.amax(y_true_soft) != 0):\n",
    "                max_i_true = np.argmax(y_true_soft)\n",
    "\n",
    "            if(np.amax(y_pred_c) != 0):\n",
    "                max_i_pred = np.argmax(y_pred_c)\n",
    "\n",
    "            # Fill up the confusion matrix\n",
    "            for k in range(0,len(model.label)):\n",
    "                if(model.label[max_i_pred] == model.std_label[k]):\n",
    "                    p = np.copy(k)\n",
    "                if(model.label[max_i_true] == model.std_label[k]):\n",
    "                    t = np.copy(k)\n",
    "\n",
    "            model.conf_matr[t,p] += 1 \n",
    "                    \n",
    "        print(f\"\\r    Currently at {np.round(np.round(cntr/tot_samples,4)*100,2)}% of dataset\", end=\"\")\n",
    "        cntr +=1\n",
    "        "
   ]
  },
  {
   "cell_type": "markdown",
   "metadata": {},
   "source": [
    "# Trainings"
   ]
  },
  {
   "cell_type": "markdown",
   "metadata": {},
   "source": [
    "Now let's dfine some important values for the training and then actually train each single OL layer witha  different method. The 0 and 1 below are used in order to activate or deactivate the training and the following plots of a specific method."
   ]
  },
  {
   "cell_type": "code",
   "execution_count": 20,
   "metadata": {},
   "outputs": [],
   "source": [
    "batch_size_OL = 16"
   ]
  },
  {
   "cell_type": "code",
   "execution_count": 21,
   "metadata": {},
   "outputs": [],
   "source": [
    "# DEFINE WHICH TRAINING AND PLOTS TO SHOW\n",
    "\n",
    "KERAS      = 0\n",
    "OL_vowels  = 0\n",
    "OL         = 0\n",
    "OL_mini    = 0\n",
    "LWF        = 0\n",
    "LWF_mini   = 0\n",
    "OL_v2      = 0\n",
    "OL_v2_mini = 0\n",
    "CWR        = 0"
   ]
  },
  {
   "cell_type": "markdown",
   "metadata": {},
   "source": [
    "### Define KERAS model (just create the class, actually don't train)"
   ]
  },
  {
   "cell_type": "code",
   "execution_count": 22,
   "metadata": {},
   "outputs": [],
   "source": [
    "if(KERAS==1):\n",
    "    Model_KERAS = Custom_Layer(model)\n",
    "    Model_KERAS.title = 'KERAS'\n",
    "    Model_KERAS.filename = 'KERAS'\n",
    "    Model_KERAS.label = ['A','E','I','O','U','B','R','M']\n",
    "    Model_KERAS.batch_size = batch_size_OL\n",
    "    # DO NOT PERFORM TRAINING, KEEP IT AS IT IS, IT'S THE ORIGINAL MODEL\n",
    "    \n",
    "    myTest.test_OLlayer(Model_KERAS, OL_data_train_vow, OL_label_train_vow)\n",
    "    myBar.plot_barChart(Model_KERAS)   \n",
    "    myMatrix.plot_confMatrix(Model_KERAS)\n",
    "    myTable.table_params(Model_KERAS)"
   ]
  },
  {
   "cell_type": "markdown",
   "metadata": {},
   "source": [
    "### Train with OL only on vowels (just to see if the OL model makes the keras better or worse)"
   ]
  },
  {
   "cell_type": "code",
   "execution_count": 23,
   "metadata": {},
   "outputs": [],
   "source": [
    "if(OL_vowels==1):\n",
    "    Model_OL_vowels = Custom_Layer(model)\n",
    "    Model_OL_vowels.title = 'VOWELS'\n",
    "    Model_OL_vowels.filename = 'OL_vowels'\n",
    "    Model_OL_vowels.l_rate = 0.000005\n",
    "    Model_OL_vowels.batch_size = batch_size_OL\n",
    "    \n",
    "    trainOneEpoch_OL(Model_OL_vowels, OL_data_train_vow, OL_data_test_vow, OL_label_train_vow, OL_label_test_vow)\n",
    "    \n",
    "    myWrite.save_PCconfMatrix(Model_OL_vowels)\n",
    "    myBar.plot_barChart(Model_OL_vowels)\n",
    "    myMatrix.plot_confMatrix(Model_OL_vowels)\n",
    "    myTable.table_params(Model_OL_vowels)"
   ]
  },
  {
   "cell_type": "markdown",
   "metadata": {},
   "source": [
    "### Train with OL method"
   ]
  },
  {
   "cell_type": "code",
   "execution_count": 24,
   "metadata": {
    "scrolled": false
   },
   "outputs": [],
   "source": [
    "if(OL==1):\n",
    "    Model_OL_all_mixed = Custom_Layer(model)\n",
    "    Model_OL_all_mixed.title = 'OL' \n",
    "    Model_OL_all_mixed.filename = 'OL'\n",
    "    Model_OL_all_mixed.l_rate = 0.001 # 0.05\n",
    "    Model_OL_all_mixed.batch_size = batch_size_OL\n",
    "\n",
    "    trainOneEpoch_OL(Model_OL_all_mixed, data_train, data_test, label_train, label_test)\n",
    "    \n",
    "    myWrite.save_PCconfMatrix(Model_OL_all_mixed)\n",
    "    myBar.plot_barChart(Model_OL_all_mixed)\n",
    "    myMatrix.plot_confMatrix(Model_OL_all_mixed)\n",
    "    myTable.table_params(Model_OL_all_mixed)"
   ]
  },
  {
   "cell_type": "markdown",
   "metadata": {},
   "source": [
    "### Train with OL + mini batch"
   ]
  },
  {
   "cell_type": "code",
   "execution_count": 25,
   "metadata": {
    "scrolled": false
   },
   "outputs": [],
   "source": [
    "if(OL_mini==1):\n",
    "    Model_OL_mini = Custom_Layer(model)\n",
    "    Model_OL_mini.title = 'OL + mini batch'\n",
    "    Model_OL_mini.filename = 'OL_batches'\n",
    "    Model_OL_mini.l_rate = 0.0001 #0.0001\n",
    "    Model_OL_mini.batch_size = batch_size_OL\n",
    "\n",
    "    trainOneEpoch_OL_miniBatch(Model_OL_mini, data_train, data_test, label_train, label_test)\n",
    "    \n",
    "    myWrite.save_PCconfMatrix(Model_OL_mini)\n",
    "    myBar.plot_barChart(Model_OL_mini)\n",
    "    myMatrix.plot_confMatrix(Model_OL_mini)\n",
    "    myTable.table_params(Model_OL_mini)"
   ]
  },
  {
   "cell_type": "markdown",
   "metadata": {},
   "source": [
    "### Train with OL v2"
   ]
  },
  {
   "cell_type": "code",
   "execution_count": 26,
   "metadata": {},
   "outputs": [],
   "source": [
    "if(OL_v2==1):\n",
    "    Model_OL_v2 = Custom_Layer(model)\n",
    "    Model_OL_v2.title = 'OL v2' \n",
    "    Model_OL_v2.filename = 'OL_v2'\n",
    "    Model_OL_v2.l_rate = 0.001\n",
    "    Model_OL_v2.batch_size = batch_size_OL\n",
    "\n",
    "    trainOneEpoch_OL_v2(Model_OL_v2, data_train, data_test, label_train, label_test)\n",
    "    \n",
    "    myWrite.save_PCconfMatrix(Model_OL_v2)\n",
    "    myBar.plot_barChart(Model_OL_v2)\n",
    "    myMatrix.plot_confMatrix(Model_OL_v2)\n",
    "    myTable.table_params(Model_OL_v2)"
   ]
  },
  {
   "cell_type": "markdown",
   "metadata": {},
   "source": [
    "### Train with OL V2 + mini batches"
   ]
  },
  {
   "cell_type": "code",
   "execution_count": 27,
   "metadata": {},
   "outputs": [],
   "source": [
    "if(OL_v2_mini==1):\n",
    "    Model_OL_v2_miniBatch = Custom_Layer(model)\n",
    "    Model_OL_v2_miniBatch.title = 'OL v2 + mini batch'\n",
    "    Model_OL_v2_miniBatch.filename = 'OL_v2_batches'\n",
    "    Model_OL_v2_miniBatch.l_rate = 0.001 # 0.001\n",
    "    Model_OL_v2_miniBatch.batch_size = batch_size_OL\n",
    "\n",
    "    trainOneEpoch_OL_v2_miniBatch(Model_OL_v2_miniBatch, data_train, data_test, label_train, label_test)\n",
    "    \n",
    "    myWrite.save_PCconfMatrix(Model_OL_v2_miniBatch)\n",
    "    myBar.plot_barChart(Model_OL_v2_miniBatch)\n",
    "    myMatrix.plot_confMatrix(Model_OL_v2_miniBatch)\n",
    "    myTable.table_params(Model_OL_v2_miniBatch)"
   ]
  },
  {
   "cell_type": "markdown",
   "metadata": {},
   "source": [
    "### Train with LWF"
   ]
  },
  {
   "cell_type": "code",
   "execution_count": 28,
   "metadata": {
    "scrolled": false
   },
   "outputs": [],
   "source": [
    "if(LWF==1):\n",
    "    Model_LWF_1 = Custom_Layer(model)\n",
    "    Model_LWF_1.title = 'LWF'\n",
    "    Model_LWF_1.filename = 'LWF'   \n",
    "    Model_LWF_1.l_rate = 0.001\n",
    "    Model_LWF_1.batch_size = batch_size_OL\n",
    "\n",
    "    trainOneEpochOL_LWF(Model_LWF_1, data_train, data_test, label_train, label_test)   \n",
    "    \n",
    "    myWrite.save_PCconfMatrix(Model_LWF_1)\n",
    "    myBar.plot_barChart(Model_LWF_1)\n",
    "    myMatrix.plot_confMatrix(Model_LWF_1)\n",
    "    myTable.table_params(Model_LWF_1)"
   ]
  },
  {
   "cell_type": "markdown",
   "metadata": {},
   "source": [
    "### Train LWF + mini batches"
   ]
  },
  {
   "cell_type": "code",
   "execution_count": 29,
   "metadata": {
    "scrolled": false
   },
   "outputs": [],
   "source": [
    "if(LWF_mini==1):\n",
    "    Model_LWF_2 = Custom_Layer(model)\n",
    "    Model_LWF_2.title = 'LWF + mini batch'\n",
    "    Model_LWF_2.filename = 'LWF_batches'\n",
    "    Model_LWF_2.l_rate = 0.0007 #0.0007\n",
    "    Model_LWF_2.batch_size = batch_size_OL\n",
    "\n",
    "    trainOneEpochOL_LWF_v2(Model_LWF_2, data_train, data_test, label_train, label_test)\n",
    "    \n",
    "    myWrite.save_PCconfMatrix(Model_LWF_2)\n",
    "    myBar.plot_barChart(Model_LWF_2)\n",
    "    myMatrix.plot_confMatrix(Model_LWF_2)\n",
    "    myTable.table_params(Model_LWF_2)"
   ]
  },
  {
   "cell_type": "markdown",
   "metadata": {},
   "source": [
    "### Train with CWR"
   ]
  },
  {
   "cell_type": "code",
   "execution_count": 30,
   "metadata": {
    "scrolled": false
   },
   "outputs": [],
   "source": [
    "if(CWR==1):\n",
    "    Model_CWR = Custom_Layer(model) \n",
    "    Model_CWR.title = 'CWR'\n",
    "    Model_CWR.filename = 'CWR'\n",
    "    Model_CWR.l_rate = 0.0005\n",
    "\n",
    "    Model_CWR.batch_size = 232 # 215, 207\n",
    "    \n",
    "    trainOneEpoch_CWR(Model_CWR, data_train, data_test, label_train, label_test)\n",
    "    \n",
    "    myWrite.save_PCconfMatrix(Model_CWR)\n",
    "    myBar.plot_barChart(Model_CWR)\n",
    "    myMatrix.plot_confMatrix(Model_CWR)\n",
    "    myTable.table_params(Model_CWR)"
   ]
  },
  {
   "cell_type": "markdown",
   "metadata": {},
   "source": [
    "# RESULTS PLOTS"
   ]
  },
  {
   "cell_type": "markdown",
   "metadata": {},
   "source": [
    "## All bar plots together"
   ]
  },
  {
   "cell_type": "code",
   "execution_count": 31,
   "metadata": {
    "scrolled": false
   },
   "outputs": [
    {
     "data": {
      "image/png": "[encoded data removed]",
      "text/plain": [
       "<Figure size 1224x1944 with 8 Axes>"
      ]
     },
     "metadata": {
      "needs_background": "light"
     },
     "output_type": "display_data"
    }
   ],
   "source": [
    "myBar.plot_barChart_All()"
   ]
  },
  {
   "cell_type": "markdown",
   "metadata": {},
   "source": [
    "The following plot is a recap of all the methods trained. Note that it will be displayed only if all the training have been performed in this runtime. \n",
    "The table contains some additiona information and not only the accuracy."
   ]
  },
  {
   "cell_type": "code",
   "execution_count": 32,
   "metadata": {},
   "outputs": [],
   "source": [
    "if(KERAS and OL_vowels and OL and OL_mini and LWF and LWF_mini and OL_v2 and OL_v2_mini and CWR):\n",
    "    \n",
    "    myTable.table_simulationResult(Model_KERAS, Model_OL_all_mixed, Model_OL_mini, \n",
    "               Model_LWF_1, Model_LWF_2, Model_OL_v2, Model_OL_v2_miniBatch, Model_CWR)  "
   ]
  },
  {
   "cell_type": "markdown",
   "metadata": {},
   "source": [
    "# DEBUG"
   ]
  },
  {
   "cell_type": "markdown",
   "metadata": {},
   "source": [
    "Load weights, biases and the out of frozen layer from txt file"
   ]
  },
  {
   "cell_type": "code",
   "execution_count": 33,
   "metadata": {},
   "outputs": [],
   "source": [
    "if(DEBUG_HISTORY==1):\n",
    "    bias_stm       = myDebug.debug_loadBiasSMT()\n",
    "    weight_stm     = myDebug.debug_loadWeightsSTM()\n",
    "    frozenOut_stm  = myDebug.debug_loadFrozenOutSMT()\n",
    "    softmax_stm    = myDebug.debug_loadSoftmaxSMT()\n",
    "    preSoftmax_stm = myDebug.debug_loadPreSoftmaxSMT()\n",
    "\n",
    "    max_dim = data_train.shape[0]"
   ]
  },
  {
   "cell_type": "markdown",
   "metadata": {},
   "source": [
    "## CHECK ITERATION NUMBER X"
   ]
  },
  {
   "cell_type": "code",
   "execution_count": 34,
   "metadata": {},
   "outputs": [],
   "source": [
    "if(DEBUG_HISTORY==1):\n",
    "    # put the number of the iteration you want to better check\n",
    "    test_n = 103 #max_dim-3\n",
    "\n",
    "    print(f'labels is: {label_train[test_n]}')\n",
    "    myDebug.plot_frozenDifference(test_n, frozenOut_pc, frozenOut_stm)\n",
    "    print(f'bias pc  {bias_pc[test_n,0]:.7f} {bias_pc[test_n,1]:.7f} {bias_pc[test_n,2]:.7f} {bias_pc[test_n,3]:.7f} {bias_pc[test_n,4]:.7f} {bias_pc[test_n,5]:.7f} {bias_pc[test_n,6]:.7f} {bias_pc[test_n,7]:.7f}')\n",
    "    print(f'bias stm {bias_stm[test_n,0]:.7f} {bias_stm[test_n,1]:.7f} {bias_stm[test_n,2]:.7f} {bias_stm[test_n,3]:.7f} {bias_stm[test_n,4]:.7f} {bias_stm[test_n,5]:.7f} {bias_stm[test_n,6]:.7f} {bias_stm[test_n,7]:.7f}')\n",
    "    print()\n",
    "    print(f'weight pc  {weight_pc[test_n,5]:.7f} {weight_pc[test_n,15]:.7f} {weight_pc[test_n,25]:.7f} {weight_pc[test_n,35]:.7f} {weight_pc[test_n,45]:.7f} {weight_pc[test_n,55]:.7f} {weight_pc[test_n,65]:.7f} {weight_pc[test_n,75]:.7f}')\n",
    "    print(f'weight stm {weight_stm[test_n,5]:.7f} {weight_stm[test_n,15]:.7f} {weight_stm[test_n,25]:.7f} {weight_stm[test_n,35]:.7f} {weight_stm[test_n,45]:.7f} {weight_stm[test_n,55]:.7f} {weight_stm[test_n,65]:.7f} {weight_stm[test_n,75]:.7f}')\n",
    "    print()\n",
    "    print(f'pre softmax pc  {preSoftmax_pc[test_n,0]:.7f} {preSoftmax_pc[test_n,1]:.7f} {preSoftmax_pc[test_n,2]:.7f} {preSoftmax_pc[test_n,3]:.7f} {preSoftmax_pc[test_n,4]:.7f} {preSoftmax_pc[test_n,5]:.7f} {preSoftmax_pc[test_n,6]:.7f} {preSoftmax_pc[test_n,7]:.7f}')\n",
    "    print(f'pre softmax stm {preSoftmax_stm[test_n,0]:.7f} {preSoftmax_stm[test_n,1]:.7f} {preSoftmax_stm[test_n,2]:.7f} {preSoftmax_stm[test_n,3]:.7f} {preSoftmax_stm[test_n,4]:.7f} {preSoftmax_stm[test_n,5]:.7f} {preSoftmax_stm[test_n,6]:.7f} {preSoftmax_stm[test_n,7]:.7f}')\n",
    "    print()\n",
    "    print(f'softmax pc  {softmax_pc[test_n,0]:.7f} {softmax_pc[test_n,1]:.7f} {softmax_pc[test_n,2]:.7f} {softmax_pc[test_n,3]:.7f} {softmax_pc[test_n,4]:.7f} {softmax_pc[test_n,5]:.7f} {softmax_pc[test_n,6]:.7f} {softmax_pc[test_n,7]:.7f}')\n",
    "    print(f'softmax stm {softmax_stm[test_n,0]:.7f} {softmax_stm[test_n,1]:.7f} {softmax_stm[test_n,2]:.7f} {softmax_stm[test_n,3]:.7f} {softmax_stm[test_n,4]:.7f} {softmax_stm[test_n,5]:.7f} {softmax_stm[test_n,6]:.7f} {softmax_stm[test_n,7]:.7f}')"
   ]
  },
  {
   "cell_type": "code",
   "execution_count": 35,
   "metadata": {},
   "outputs": [],
   "source": [
    "if(DEBUG_HISTORY==1):\n",
    "    # search where is the first big difference in PRE SOFTMAC\n",
    "    iteratore = np.zeros(8)\n",
    "    for j in range(0,8):\n",
    "        for i in range(0, max_dim):\n",
    "            diff = preSoftmax_pc[i,j] - preSoftmax_stm[i,j]\n",
    "            if(diff>1):\n",
    "                iteratore[j]=i\n",
    "                break\n",
    "\n",
    "    print(f'The biggest difference in the pre softmax is found at iter: {iteratore}')\n",
    "    \n",
    "    # search where is the first big difference in SOFTMAX\n",
    "    iteratore = np.zeros(8)\n",
    "    for j in range(0,8):\n",
    "        for i in range(0, max_dim):\n",
    "            diff = softmax_pc[i,j] - softmax_stm[i,j]\n",
    "            if(diff>0.0001):\n",
    "                iteratore[j]=i\n",
    "                break\n",
    "\n",
    "    print(f'The biggest difference in the softmax is found at iter:     {iteratore}')"
   ]
  },
  {
   "cell_type": "markdown",
   "metadata": {},
   "source": [
    "## CHECK PRE SOFTMAX"
   ]
  },
  {
   "cell_type": "code",
   "execution_count": 36,
   "metadata": {},
   "outputs": [],
   "source": [
    "#print(preSoftmax_pc.shape)\n",
    "#print(preSoftmax_stm.shape)"
   ]
  },
  {
   "cell_type": "code",
   "execution_count": 37,
   "metadata": {
    "scrolled": false
   },
   "outputs": [],
   "source": [
    "if(DEBUG_HISTORY==1):\n",
    "    myDebug.debug_plotHistoryPreSoftmax(0, preSoftmax_pc, preSoftmax_stm, Model_OL_all_mixed.label, max_dim)\n",
    "    myDebug.debug_plotHistoryPreSoftmax(1, preSoftmax_pc, preSoftmax_stm, Model_OL_all_mixed.label, max_dim)\n",
    "    myDebug.debug_plotHistoryPreSoftmax(2, preSoftmax_pc, preSoftmax_stm, Model_OL_all_mixed.label, max_dim)\n",
    "    myDebug.debug_plotHistoryPreSoftmax(3, preSoftmax_pc, preSoftmax_stm, Model_OL_all_mixed.label, max_dim)\n",
    "    myDebug.debug_plotHistoryPreSoftmax(4, preSoftmax_pc, preSoftmax_stm, Model_OL_all_mixed.label, max_dim)\n",
    "    myDebug.debug_plotHistoryPreSoftmax(5, preSoftmax_pc, preSoftmax_stm, Model_OL_all_mixed.label, max_dim)\n",
    "    myDebug.debug_plotHistoryPreSoftmax(6, preSoftmax_pc, preSoftmax_stm, Model_OL_all_mixed.label, max_dim)\n",
    "    myDebug.debug_plotHistoryPreSoftmax(7, preSoftmax_pc, preSoftmax_stm, Model_OL_all_mixed.label, max_dim)"
   ]
  },
  {
   "cell_type": "markdown",
   "metadata": {},
   "source": [
    "## CHECK SOFTMAX"
   ]
  },
  {
   "cell_type": "code",
   "execution_count": 38,
   "metadata": {
    "scrolled": false
   },
   "outputs": [],
   "source": [
    "if(DEBUG_HISTORY==1):\n",
    "    myDebug.debug_plotHistorySoftmax(0, softmax_pc, softmax_stm, Model_OL_all_mixed.label, max_dim)\n",
    "    myDebug.debug_plotHistorySoftmax(1, softmax_pc, softmax_stm, Model_OL_all_mixed.label, max_dim)\n",
    "    myDebug.debug_plotHistorySoftmax(2, softmax_pc, softmax_stm, Model_OL_all_mixed.label, max_dim)\n",
    "    myDebug.debug_plotHistorySoftmax(3, softmax_pc, softmax_stm, Model_OL_all_mixed.label, max_dim)\n",
    "    myDebug.debug_plotHistorySoftmax(4, softmax_pc, softmax_stm, Model_OL_all_mixed.label, max_dim)\n",
    "    myDebug.debug_plotHistorySoftmax(5, softmax_pc, softmax_stm, Model_OL_all_mixed.label, max_dim)\n",
    "    myDebug.debug_plotHistorySoftmax(6, softmax_pc, softmax_stm, Model_OL_all_mixed.label, max_dim)\n",
    "    myDebug.debug_plotHistorySoftmax(7, softmax_pc, softmax_stm, Model_OL_all_mixed.label, max_dim)"
   ]
  },
  {
   "cell_type": "markdown",
   "metadata": {},
   "source": [
    "## CHECK BIAS"
   ]
  },
  {
   "cell_type": "code",
   "execution_count": 39,
   "metadata": {
    "scrolled": false
   },
   "outputs": [],
   "source": [
    "if(DEBUG_HISTORY==1):\n",
    "    n_prova = max_dim-3 # check differences at last iteration\n",
    "    myDebug.debug_confrontBias(n_prova, bias_stm, bias_pc, Model_OL_all_mixed.label) # max 771"
   ]
  },
  {
   "cell_type": "code",
   "execution_count": 40,
   "metadata": {
    "scrolled": false
   },
   "outputs": [],
   "source": [
    "if(DEBUG_HISTORY==1):\n",
    "    myDebug.debug_plotHistoryBias(0, bias_stm, bias_pc, Model_OL_all_mixed.label, max_dim)\n",
    "    myDebug.debug_plotHistoryBias(1, bias_stm, bias_pc, Model_OL_all_mixed.label, max_dim)\n",
    "    myDebug.debug_plotHistoryBias(2, bias_stm, bias_pc, Model_OL_all_mixed.label, max_dim)\n",
    "    myDebug.debug_plotHistoryBias(3, bias_stm, bias_pc, Model_OL_all_mixed.label, max_dim)\n",
    "    myDebug.debug_plotHistoryBias(4, bias_stm, bias_pc, Model_OL_all_mixed.label, max_dim)\n",
    "    myDebug.debug_plotHistoryBias(5, bias_stm, bias_pc, Model_OL_all_mixed.label, max_dim)\n",
    "    myDebug.debug_plotHistoryBias(6, bias_stm, bias_pc, Model_OL_all_mixed.label, max_dim)\n",
    "    myDebug.debug_plotHistoryBias(7, bias_stm, bias_pc, Model_OL_all_mixed.label, max_dim)"
   ]
  },
  {
   "cell_type": "markdown",
   "metadata": {},
   "source": [
    "## CHECK WEIGHTS"
   ]
  },
  {
   "cell_type": "code",
   "execution_count": 41,
   "metadata": {
    "scrolled": false
   },
   "outputs": [],
   "source": [
    "if(DEBUG_HISTORY==1):\n",
    "    n_prova = max_dim-1\n",
    "    \n",
    "    weight_num = [2,5,8,11,14,17,20,23,26,29,32,35,38,41,44,47,50,53,56,59,62,65,68,71,74,77]\n",
    "\n",
    "    myDebug.debug_confrontWeights(n_prova, weight_stm, weight_pc, weight_num, selected_w)"
   ]
  },
  {
   "cell_type": "code",
   "execution_count": 42,
   "metadata": {},
   "outputs": [],
   "source": [
    "#itr = max_dim-3\n",
    "#print(weight_stm[itr,50])\n",
    "#print(weight_pc[itr,51])"
   ]
  },
  {
   "cell_type": "code",
   "execution_count": 43,
   "metadata": {
    "scrolled": false
   },
   "outputs": [],
   "source": [
    "if(DEBUG_HISTORY==1):\n",
    "    i=2\n",
    "    while i < 80:\n",
    "        myDebug.debug_plotHistoryWeight(i, weight_stm, weight_pc, max_dim)\n",
    "        i+=3\n"
   ]
  },
  {
   "cell_type": "markdown",
   "metadata": {},
   "source": [
    "## CHECK FROZEN OUTPUT"
   ]
  },
  {
   "cell_type": "code",
   "execution_count": 44,
   "metadata": {},
   "outputs": [],
   "source": [
    "if(DEBUG_HISTORY==1):\n",
    "    max_val = 0\n",
    "    itr_1   = 0\n",
    "    itr_2   = 0\n",
    "    for i in range(61,max_dim):\n",
    "        diff = frozenOut_pc[i,:] - frozenOut_stm[i,:]\n",
    "        for j in range(0, len(diff)):\n",
    "            diff[j] = np.abs(diff[j])\n",
    "        if(max(diff)> max_val):\n",
    "            max_val = max(diff)\n",
    "            itr_1 = i\n",
    "            itr_2 = np.argmax(diff)\n",
    "\n",
    "    print(f'The max values of frozen ML output difference of all {frozenOut_stm.shape[0]} iteration is: {S_BOLD}{max_val:.11f}{E_BOLD}')\n",
    "    print(f'The max difference is found at the iteration number: {S_BOLD}{itr_1}{E_BOLD}')\n",
    "    print(f'At the position in the frozen output: {S_BOLD}{itr_2}/128{E_BOLD}')"
   ]
  },
  {
   "cell_type": "code",
   "execution_count": 45,
   "metadata": {},
   "outputs": [],
   "source": [
    "if(DEBUG_HISTORY==1):\n",
    "    myDebug.plot_frozenDifference(544, frozenOut_pc, frozenOut_stm)"
   ]
  },
  {
   "cell_type": "code",
   "execution_count": 46,
   "metadata": {},
   "outputs": [],
   "source": [
    "if(DEBUG_HISTORY==1):\n",
    "    new_container = np.zeros(frozenOut_stm.shape)\n",
    "\n",
    "    for j in range(0, frozenOut_stm.shape[0]):\n",
    "        for i in range(0, frozenOut_stm.shape[1]):\n",
    "            max_val = max(frozenOut_pc[j,i], frozenOut_pc[j,i])\n",
    "            if(max_val != 0):\n",
    "                diff = frozenOut_pc[j,i]-frozenOut_stm[j,i]\n",
    "                new_container[j,i] = diff/max_val\n",
    "\n",
    "\n",
    "    max_val =0\n",
    "    for j in range(0, frozenOut_stm.shape[0]):\n",
    "        if(max_val < max(new_container[i,:])):\n",
    "            max_val = max(new_container[i,:])\n",
    "\n",
    "    print(f'The max percentage error committed between stm and laptop is of: {max_val:.11f}')\n",
    "    print(f'Percentage at position, 237, 79 is {new_container[237,79]}')"
   ]
  },
  {
   "cell_type": "markdown",
   "metadata": {},
   "source": [
    "## TEMPORARY CODE SECTION"
   ]
  },
  {
   "cell_type": "code",
   "execution_count": 47,
   "metadata": {},
   "outputs": [],
   "source": [
    "def trainOneEpochOL_AVI(model, x_train, x_test, y_train, y_test):\n",
    "        \n",
    "    print('**********************************\\nPerforming training AVI \\n ')  \n",
    "\n",
    "    cntr = 1\n",
    "    learn_rate = model.l_rate\n",
    "    batch_size = model.batch_size\n",
    "\n",
    "    train_samples = x_train.shape[0]\n",
    "    test_samples  = x_test.shape[0]\n",
    "    tot_samples   = train_samples + test_samples\n",
    "    \n",
    "    # DEFINE ORIGINAL WEIGHTS AND BIASES\n",
    "    model.W_2 = np.copy(model.W)\n",
    "    model.b_2 = np.copy(model.b)\n",
    "                   \n",
    "    # Cycle over all input samples\n",
    "    for i in range(0, tot_samples):\n",
    "        \n",
    "        # separate training from testing\n",
    "        if(i<train_samples):\n",
    "            current_label = y_train[i]  \n",
    "        else:\n",
    "            current_label = y_test[i-train_samples] \n",
    "            \n",
    "        # prepare label\n",
    "        checkLabelKnown(model, current_label)\n",
    "        y_true_soft = letterToSoftmax(current_label, model.label) \n",
    "        \n",
    "        # update shapes\n",
    "        h = model.W.shape[0]\n",
    "        w = model.W.shape[1]\n",
    "                \n",
    "            \n",
    "        # FROZEN MODEL PREDICTION\n",
    "        if(i<train_samples):\n",
    "            y_ML = model.ML_frozen.predict(x_train[i,:].reshape(1,x_train.shape[1]))   \n",
    "        else:\n",
    "            y_ML = model.ML_frozen.predict(x_test[i-train_samples,:].reshape(1,x_test.shape[1]))\n",
    "            y_pred_c = myFunc_softmax(np.array(np.matmul(y_ML, model.W) + model.b))      \n",
    "\n",
    "        # TL LAYER PREDICTION - train\n",
    "        y_pred_tl = myFunc_softmax(np.array(np.matmul(y_ML, model.W) + model.b))  \n",
    "        \n",
    "        # CL LAYER PREDICTION - copy\n",
    "        y_pred_cl = myFunc_softmax(np.array(np.matmul(y_ML, model.W_2) + model.b_2))  \n",
    "\n",
    "\n",
    "        # BACKPROPAGATION\n",
    "        cost    = y_pred_tl  - y_true_soft \n",
    "        damping =  np.ones(w) -(y_pred_cl-y_true_soft)#\n",
    "\n",
    "        \n",
    "\n",
    "        # Update weights layer tl\n",
    "        for j in range(0,h):\n",
    "            deltaW = np.multiply(cost, y_ML[0,j])\n",
    "            dW = np.multiply(deltaW, learn_rate)\n",
    "            model.W[j,:] = model.W[j,:] - np.multiply(dW,damping) \n",
    "        # Update biases layer tl\n",
    "        db = np.multiply(cost, learn_rate)\n",
    "        model.b = model.b - np.multiply(db,damping) \n",
    "        \n",
    "                          \n",
    "                    \n",
    "        print(f\"\\r    Currently at {np.round(np.round(cntr/tot_samples,4)*100,2)}% of dataset\", end=\"\")\n",
    "        cntr +=1        \n",
    "             \n",
    "        ######################################################################\n",
    "        # TESTING PORTION: save the results from the inference\n",
    "        if(i>=train_samples):\n",
    "            \n",
    "            # Find the max iter for both true label and prediction\n",
    "            if(np.amax(y_true_soft) != 0):\n",
    "                max_i_true = np.argmax(y_true_soft)\n",
    "\n",
    "            if(np.amax(y_pred_c) != 0):\n",
    "                max_i_pred = np.argmax(y_pred_c)\n",
    "\n",
    "            # Fill up the confusion matrix\n",
    "            for k in range(0,len(model.label)):\n",
    "                if(model.label[max_i_pred] == model.std_label[k]):\n",
    "                    p = np.copy(k)\n",
    "                if(model.label[max_i_true] == model.std_label[k]):\n",
    "                    t = np.copy(k)\n",
    "\n",
    "            model.conf_matr[t,p] += 1 "
   ]
  },
  {
   "cell_type": "code",
   "execution_count": 48,
   "metadata": {},
   "outputs": [],
   "source": [
    "Model_AVI = Custom_Layer(model)\n",
    "Model_AVI.title = 'AVI' \n",
    "Model_AVI.filename = 'AVI'\n",
    "Model_AVI.l_rate = 0.001\n",
    "Model_AVI.batch_size = batch_size_OL\n",
    "\n",
    "#trainOneEpochOL_AVI(Model_AVI, data_train, data_test, label_train, label_test)"
   ]
  },
  {
   "cell_type": "code",
   "execution_count": 49,
   "metadata": {},
   "outputs": [
    {
     "name": "stderr",
     "output_type": "stream",
     "text": [
      "C:\\Users\\massi\\UNI\\Magistrale\\Anno 5\\Semestre 2\\Tesi\\Code\\Letters_application\\Python/lib\\myLib_barChart.py:44: RuntimeWarning: invalid value encountered in double_scalars\n",
      "  bar_values[i] = round(round(conf_matr[i,i]/sum(conf_matr[i,:]),4)*100, 2)      # Accuracy for each letter\n",
      "C:\\Users\\massi\\UNI\\Magistrale\\Anno 5\\Semestre 2\\Tesi\\Code\\Letters_application\\Python/lib\\myLib_barChart.py:48: RuntimeWarning: invalid value encountered in double_scalars\n",
      "  bar_values[-1] = round(round(correct_pred/tot_pred, 4)*100,2)   # Overall accuracy of the model\n",
      "C:\\Users\\massi\\UNI\\Magistrale\\Anno 5\\Semestre 2\\Tesi\\Code\\Letters_application\\Python/lib\\myLib_confMatrix.py:48: UserWarning: FixedFormatter should only be used together with FixedLocator\n",
      "  axes.set_xticklabels([''] + letter_labels)\n",
      "C:\\Users\\massi\\UNI\\Magistrale\\Anno 5\\Semestre 2\\Tesi\\Code\\Letters_application\\Python/lib\\myLib_confMatrix.py:49: UserWarning: FixedFormatter should only be used together with FixedLocator\n",
      "  axes.set_yticklabels([''] + letter_labels)\n"
     ]
    },
    {
     "data": {
      "image/png": "[encoded data removed]",
      "text/plain": [
       "<Figure size 864x576 with 1 Axes>"
      ]
     },
     "metadata": {
      "needs_background": "light"
     },
     "output_type": "display_data"
    },
    {
     "data": {
      "image/png": "[encoded data removed]",
      "text/plain": [
       "<Figure size 432x288 with 2 Axes>"
      ]
     },
     "metadata": {
      "needs_background": "light"
     },
     "output_type": "display_data"
    },
    {
     "data": {
      "image/png": "[encoded data removed]",
      "text/plain": [
       "<Figure size 432x288 with 1 Axes>"
      ]
     },
     "metadata": {
      "needs_background": "light"
     },
     "output_type": "display_data"
    }
   ],
   "source": [
    "myWrite.save_PCconfMatrix(Model_AVI)\n",
    "myBar.plot_barChart(Model_AVI)\n",
    "myMatrix.plot_confMatrix(Model_AVI)\n",
    "myTable.table_params(Model_AVI)"
   ]
  },
  {
   "cell_type": "code",
   "execution_count": 50,
   "metadata": {},
   "outputs": [],
   "source": [
    "def trainOneEpochOL_MY_ALG(model, x_train, x_test, y_train, y_test):\n",
    "        \n",
    "    print('**********************************\\nPerforming training MY ALGORITHM \\n ')  \n",
    "\n",
    "    cntr = 1\n",
    "    learn_rate = model.l_rate\n",
    "    batch_size = model.batch_size\n",
    "\n",
    "    train_samples = x_train.shape[0]\n",
    "    test_samples  = x_test.shape[0]\n",
    "    tot_samples   = train_samples + test_samples\n",
    "    \n",
    "    # DEFINE CL\n",
    "    model.W_2 = np.copy(model.W)\n",
    "    model.b_2 = np.copy(model.b)\n",
    "                   \n",
    "    # Cycle over all input samples\n",
    "    for i in range(0, tot_samples):\n",
    "        \n",
    "        # separate training from testing\n",
    "        if(i<train_samples):\n",
    "            current_label = y_train[i]  \n",
    "        else:\n",
    "            current_label = y_test[i-train_samples] \n",
    "            \n",
    "        # prepare label\n",
    "        checkLabelKnown(model, current_label)\n",
    "        y_true_soft = letterToSoftmax(current_label, model.label) \n",
    "        \n",
    "        # update shapes\n",
    "        h = model.W.shape[0]\n",
    "        w = model.W.shape[1]\n",
    "                \n",
    "            \n",
    "        # FROZEN MODEL PREDICTION\n",
    "        if(i<train_samples):\n",
    "            y_ML = model.ML_frozen.predict(x_train[i,:].reshape(1,x_train.shape[1]))   \n",
    "        else:\n",
    "            y_ML = model.ML_frozen.predict(x_test[i-train_samples,:].reshape(1,x_test.shape[1]))\n",
    "            y_pred_c = myFunc_softmax(np.array(np.matmul(y_ML, model.W) + model.b))      \n",
    "\n",
    "        # TL LAYER PREDICTION\n",
    "        y_pred_tl = myFunc_softmax(np.array(np.matmul(y_ML, model.W) + model.b))  \n",
    "        \n",
    "        # CL LAYER PREDICTION\n",
    "        y_pred_cl = myFunc_softmax(np.array(np.matmul(y_ML, model.W_2) + model.b_2))  \n",
    "\n",
    "\n",
    "        # COMPUTE COSTS\n",
    "        cost_tl    = y_pred_tl  - y_true_soft \n",
    "        cost_cl    = y_pred_cl  - y_true_soft \n",
    "\n",
    "        # BACKPROPAGATION TL\n",
    "        for j in range(0,h):\n",
    "            deltaW = np.multiply(cost_tl, y_ML[0,j])\n",
    "            dW = np.multiply(deltaW, learn_rate)\n",
    "            model.W[j,:] = model.W[j,:] - dW \n",
    "        # Update biases layer tl\n",
    "        db = np.multiply(cost_tl, learn_rate)\n",
    "        model.b = model.b - db \n",
    "        \n",
    "        # BACKPROPAGATION CL\n",
    "        if(np.argmax(y_true_soft) < 5):\n",
    "            for j in range(0,h):\n",
    "                deltaW = np.multiply(cost_cl, y_ML[0,j])\n",
    "                dW = np.multiply(deltaW, learn_rate)\n",
    "                model.W_2[j,:] = model.W_2[j,:] - dW \n",
    "            # Update biases layer tl\n",
    "            db = np.multiply(cost_cl, learn_rate)\n",
    "            model.b = model.b - db \n",
    "            \n",
    "        # If beginning of batch\n",
    "        if(i%batch_size==0 and i!=0): \n",
    "            # compute average\n",
    "            lam = batch_size / cntr\n",
    "            model.W   = np.multiply(model.W_2, lam) + np.multiply(model.W, 1-lam)\n",
    "            model.b   = np.multiply(model.b_2, lam) + np.multiply(model.b, 1-lam)\n",
    "                    \n",
    "            model.W_2  =  np.copy(model.W)  \n",
    "            model.b_2  =  np.copy(model.b)   \n",
    "        \n",
    "        print(f\"\\r    Currently at {np.round(np.round(cntr/tot_samples,4)*100,2)}% of dataset\", end=\"\")\n",
    "        cntr +=1        \n",
    "             \n",
    "        ######################################################################\n",
    "        # TESTING PORTION: save the results from the inference\n",
    "        if(i>=train_samples):\n",
    "            \n",
    "            # Find the max iter for both true label and prediction\n",
    "            if(np.amax(y_true_soft) != 0):\n",
    "                max_i_true = np.argmax(y_true_soft)\n",
    "\n",
    "            if(np.amax(y_pred_c) != 0):\n",
    "                max_i_pred = np.argmax(y_pred_c)\n",
    "\n",
    "            # Fill up the confusion matrix\n",
    "            for k in range(0,len(model.label)):\n",
    "                if(model.label[max_i_pred] == model.std_label[k]):\n",
    "                    p = np.copy(k)\n",
    "                if(model.label[max_i_true] == model.std_label[k]):\n",
    "                    t = np.copy(k)\n",
    "\n",
    "            model.conf_matr[t,p] += 1 "
   ]
  },
  {
   "cell_type": "code",
   "execution_count": 54,
   "metadata": {},
   "outputs": [
    {
     "name": "stdout",
     "output_type": "stream",
     "text": [
      "**********************************\n",
      "Performing training MY ALGORITHM \n",
      " \n",
      "\n",
      "\n",
      "    New letter detected -> letter \u001b[1mR\u001b[0m \n",
      "\n",
      "    Currently at 0.05% of dataset\n",
      "\n",
      "    New letter detected -> letter \u001b[1mB\u001b[0m \n",
      "\n",
      "    Currently at 0.37% of dataset\n",
      "\n",
      "    New letter detected -> letter \u001b[1mM\u001b[0m \n",
      "\n",
      "    Currently at 100.0% of dataset"
     ]
    },
    {
     "data": {
      "image/png": "[encoded data removed]",
      "text/plain": [
       "<Figure size 864x576 with 1 Axes>"
      ]
     },
     "metadata": {
      "needs_background": "light"
     },
     "output_type": "display_data"
    },
    {
     "data": {
      "image/png": "[encoded data removed]",
      "text/plain": [
       "<Figure size 432x288 with 2 Axes>"
      ]
     },
     "metadata": {
      "needs_background": "light"
     },
     "output_type": "display_data"
    },
    {
     "data": {
      "image/png": "[encoded data removed]",
      "text/plain": [
       "<Figure size 432x288 with 1 Axes>"
      ]
     },
     "metadata": {
      "needs_background": "light"
     },
     "output_type": "display_data"
    }
   ],
   "source": [
    "Model_MY_ALG = Custom_Layer(model)\n",
    "Model_MY_ALG.title = 'MY_ALG_8' \n",
    "Model_MY_ALG.filename = 'MY_ALG_8'\n",
    "Model_MY_ALG.l_rate = 0.00001 #0.00001\n",
    "Model_MY_ALG.batch_size = 8\n",
    "\n",
    "trainOneEpochOL_MY_ALG(Model_MY_ALG, data_train, data_test, label_train, label_test)\n",
    "\n",
    "myWrite.save_PCconfMatrix(Model_MY_ALG)\n",
    "myBar.plot_barChart(Model_MY_ALG)\n",
    "myMatrix.plot_confMatrix(Model_MY_ALG)\n",
    "myTable.table_params(Model_MY_ALG)"
   ]
  },
  {
   "cell_type": "code",
   "execution_count": null,
   "metadata": {},
   "outputs": [],
   "source": [
    "Model_MY_ALG = Custom_Layer(model)\n",
    "Model_MY_ALG.title = 'MY_ALG_16' \n",
    "Model_MY_ALG.filename = 'MY_ALG_16'\n",
    "Model_MY_ALG.l_rate = 0.00001 #0.00001\n",
    "Model_MY_ALG.batch_size = 16\n",
    "\n",
    "trainOneEpochOL_MY_ALG(Model_MY_ALG, data_train, data_test, label_train, label_test)\n",
    "\n",
    "myWrite.save_PCconfMatrix(Model_MY_ALG)\n",
    "myBar.plot_barChart(Model_MY_ALG)\n",
    "myMatrix.plot_confMatrix(Model_MY_ALG)\n",
    "myTable.table_params(Model_MY_ALG)"
   ]
  },
  {
   "cell_type": "code",
   "execution_count": null,
   "metadata": {},
   "outputs": [],
   "source": [
    "Model_MY_ALG = Custom_Layer(model)\n",
    "Model_MY_ALG.title = 'MY_ALG_32' \n",
    "Model_MY_ALG.filename = 'MY_ALG_32'\n",
    "Model_MY_ALG.l_rate = 0.00001 #0.00001\n",
    "Model_MY_ALG.batch_size = 32\n",
    "\n",
    "trainOneEpochOL_MY_ALG(Model_MY_ALG, data_train, data_test, label_train, label_test)\n",
    "\n",
    "myWrite.save_PCconfMatrix(Model_MY_ALG)\n",
    "myBar.plot_barChart(Model_MY_ALG)\n",
    "myMatrix.plot_confMatrix(Model_MY_ALG)\n",
    "myTable.table_params(Model_MY_ALG)"
   ]
  },
  {
   "cell_type": "code",
   "execution_count": null,
   "metadata": {},
   "outputs": [],
   "source": [
    "Model_MY_ALG = Custom_Layer(model)\n",
    "Model_MY_ALG.title = 'MY_ALG_64' \n",
    "Model_MY_ALG.filename = 'MY_ALG_64'\n",
    "Model_MY_ALG.l_rate = 0.00001 #0.00001\n",
    "Model_MY_ALG.batch_size = 64\n",
    "\n",
    "trainOneEpochOL_MY_ALG(Model_MY_ALG, data_train, data_test, label_train, label_test)\n",
    "\n",
    "myWrite.save_PCconfMatrix(Model_MY_ALG)\n",
    "myBar.plot_barChart(Model_MY_ALG)\n",
    "myMatrix.plot_confMatrix(Model_MY_ALG)\n",
    "myTable.table_params(Model_MY_ALG)"
   ]
  },
  {
   "cell_type": "code",
   "execution_count": null,
   "metadata": {},
   "outputs": [],
   "source": [
    "Model_MY_ALG = Custom_Layer(model)\n",
    "Model_MY_ALG.title = 'MY_ALG_128' \n",
    "Model_MY_ALG.filename = 'MY_ALG_128'\n",
    "Model_MY_ALG.l_rate = 0.00001 #0.00001\n",
    "Model_MY_ALG.batch_size = 128\n",
    "\n",
    "trainOneEpochOL_MY_ALG(Model_MY_ALG, data_train, data_test, label_train, label_test)\n",
    "\n",
    "myWrite.save_PCconfMatrix(Model_MY_ALG)\n",
    "myBar.plot_barChart(Model_MY_ALG)\n",
    "myMatrix.plot_confMatrix(Model_MY_ALG)\n",
    "myTable.table_params(Model_MY_ALG)"
   ]
  },
  {
   "cell_type": "code",
   "execution_count": null,
   "metadata": {},
   "outputs": [],
   "source": [
    "Model_MY_ALG = Custom_Layer(model)\n",
    "Model_MY_ALG.title = 'MY_ALG_256' \n",
    "Model_MY_ALG.filename = 'MY_ALG_256'\n",
    "Model_MY_ALG.l_rate = 0.00001 #0.00001\n",
    "Model_MY_ALG.batch_size = 256\n",
    "\n",
    "trainOneEpochOL_MY_ALG(Model_MY_ALG, data_train, data_test, label_train, label_test)\n",
    "\n",
    "myWrite.save_PCconfMatrix(Model_MY_ALG)\n",
    "myBar.plot_barChart(Model_MY_ALG)\n",
    "myMatrix.plot_confMatrix(Model_MY_ALG)\n",
    "myTable.table_params(Model_MY_ALG)"
   ]
  },
  {
   "cell_type": "code",
   "execution_count": null,
   "metadata": {},
   "outputs": [],
   "source": []
  }
 ],
 "metadata": {
  "kernelspec": {
   "display_name": "Python 3 (ipykernel)",
   "language": "python",
   "name": "python3"
  },
  "language_info": {
   "codemirror_mode": {
    "name": "ipython",
    "version": 3
   },
   "file_extension": ".py",
   "mimetype": "text/x-python",
   "name": "python",
   "nbconvert_exporter": "python",
   "pygments_lexer": "ipython3",
   "version": "3.8.11"
  }
 },
 "nbformat": 4,
 "nbformat_minor": 2
}
