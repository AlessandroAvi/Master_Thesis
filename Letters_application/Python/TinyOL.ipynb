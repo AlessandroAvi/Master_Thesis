{
 "cells": [
  {
   "cell_type": "code",
   "execution_count": 1,
   "metadata": {},
   "outputs": [],
   "source": [
    "import os\n",
    "os.environ['TF_CPP_MIN_LOG_LEVEL'] = '2'\n",
    "\n",
    "import pandas as pd\n",
    "import numpy as np\n",
    "import re\n",
    "import random\n",
    "import matplotlib.pyplot as plt\n",
    "import matplotlib.image as mpimg\n",
    "import tensorflow as tf\n",
    "from tensorflow import keras\n",
    "from tensorflow.keras import optimizers\n",
    "from PIL import Image\n",
    "from sklearn.metrics import confusion_matrix\n",
    "import seaborn as sns\n",
    "\n",
    "import myLib_barChart as myBar\n",
    "import myLib_confMatrix as myMatrix\n",
    "import myLib_parseData as myParse\n",
    "import myLib_pieChart as myPie\n",
    "import myLib_table as myTable\n",
    "import myLib_testModel as myTest\n",
    "from myLib_testModel import lettToSoft\n",
    "import myLib_writeFile as myWrite\n",
    "\n",
    "np.set_printoptions(suppress=True)"
   ]
  },
  {
   "cell_type": "markdown",
   "metadata": {},
   "source": [
    "# LOAD DATASET AND PREPARE TRAIN - TEST"
   ]
  },
  {
   "cell_type": "markdown",
   "metadata": {},
   "source": [
    "In this section the functions loadDataFromTxt and parseTrainTest are called. These allow to load the dataset from the txt files into matrices and then separate them in smaller matrices for testing and training. "
   ]
  },
  {
   "cell_type": "code",
   "execution_count": 2,
   "metadata": {
    "scrolled": true
   },
   "outputs": [
    {
     "name": "stdout",
     "output_type": "stream",
     "text": [
      "******* Dataset for letter ['A' 'E' 'I' 'O' 'U']\n",
      "\n",
      "Raw shape        -> (103600, 5)\n",
      "Tot samples      -> 518\n",
      "\n",
      "\n",
      "*** Separate train-valid\n",
      "\n",
      "Train data shape  -> (361, 600)\n",
      "Test data shape   -> (155, 600)\n"
     ]
    }
   ],
   "source": [
    "vowels_data, vowels_label = myParse.loadDataFromTxt('vowels_OL')\n",
    "OL_data_train_vow, OL_label_train_vow, OL_data_test_vow, OL_label_test_vow = myParse.parseTrainTest(vowels_data, vowels_label, 0.7)"
   ]
  },
  {
   "cell_type": "code",
   "execution_count": 3,
   "metadata": {
    "scrolled": true
   },
   "outputs": [
    {
     "name": "stdout",
     "output_type": "stream",
     "text": [
      "******* Dataset for letter ['B']\n",
      "\n",
      "Raw shape        -> (39400, 5)\n",
      "Tot samples      -> 197\n",
      "\n",
      "\n",
      "*** Separate train-valid\n",
      "\n",
      "Train data shape  -> (136, 600)\n",
      "Test data shape   -> (59, 600)\n"
     ]
    }
   ],
   "source": [
    "B_data, B_label = myParse.loadDataFromTxt('B_dataset')\n",
    "B_train_data, B_train_label, B_test_data, B_test_label = myParse.parseTrainTest(B_data, B_label, 0.7)"
   ]
  },
  {
   "cell_type": "code",
   "execution_count": 4,
   "metadata": {
    "scrolled": true
   },
   "outputs": [
    {
     "name": "stdout",
     "output_type": "stream",
     "text": [
      "******* Dataset for letter ['M']\n",
      "\n",
      "Raw shape        -> (39000, 5)\n",
      "Tot samples      -> 195\n",
      "\n",
      "\n",
      "*** Separate train-valid\n",
      "\n",
      "Train data shape  -> (135, 600)\n",
      "Test data shape   -> (58, 600)\n"
     ]
    }
   ],
   "source": [
    "M_data, M_label = myParse.loadDataFromTxt('M_dataset')\n",
    "M_train_data, M_train_label, M_test_data, M_test_label = myParse.parseTrainTest(M_data, M_label, 0.7)"
   ]
  },
  {
   "cell_type": "code",
   "execution_count": 5,
   "metadata": {
    "scrolled": true
   },
   "outputs": [
    {
     "name": "stdout",
     "output_type": "stream",
     "text": [
      "******* Dataset for letter ['R']\n",
      "\n",
      "Raw shape        -> (39000, 5)\n",
      "Tot samples      -> 195\n",
      "\n",
      "\n",
      "*** Separate train-valid\n",
      "\n",
      "Train data shape  -> (135, 600)\n",
      "Test data shape   -> (58, 600)\n"
     ]
    }
   ],
   "source": [
    "R_data, R_label = myParse.loadDataFromTxt('R_dataset')\n",
    "R_train_data, R_train_label, R_test_data, R_test_label = myParse.parseTrainTest(R_data, R_label, 0.7)"
   ]
  },
  {
   "cell_type": "markdown",
   "metadata": {},
   "source": [
    "###  Create a dataset of all letters"
   ]
  },
  {
   "cell_type": "markdown",
   "metadata": {},
   "source": [
    "In this smaller section all the previous matrices are stacked together and then shuffled in order to create two big matrices that contain all the letters for training and testing. The training dataset is also shuffled, in order to shuffle it differently change the seed value inside the function myParse.shuffleDataset"
   ]
  },
  {
   "cell_type": "code",
   "execution_count": 6,
   "metadata": {},
   "outputs": [
    {
     "name": "stdout",
     "output_type": "stream",
     "text": [
      "data_all has shape  (767, 600)\n",
      "label_all has shape (767,)\n"
     ]
    }
   ],
   "source": [
    "# Create a matrix that contains all the train data\n",
    "data_all = OL_data_train_vow\n",
    "data_all = np.vstack(( data_all, B_train_data))\n",
    "data_all = np.vstack(( data_all, R_train_data))\n",
    "data_all = np.vstack(( data_all, M_train_data))\n",
    "# Create an array that contains all the train labels\n",
    "label_all = OL_label_train_vow\n",
    "label_all = np.hstack(( label_all, B_train_label))\n",
    "label_all = np.hstack(( label_all, R_train_label))\n",
    "label_all = np.hstack(( label_all, M_train_label))\n",
    "# Shuffle the matrix and the label\n",
    "data_all, label_all = myParse.shuffleDataset(data_all, label_all)\n",
    "\n",
    "print('data_all has shape  ' + str(data_all.shape))\n",
    "print('label_all has shape ' + str(label_all.shape))"
   ]
  },
  {
   "cell_type": "code",
   "execution_count": 7,
   "metadata": {},
   "outputs": [
    {
     "name": "stdout",
     "output_type": "stream",
     "text": [
      "data_test has shape  (330, 600)\n",
      "label_test has shape (330,)\n"
     ]
    }
   ],
   "source": [
    "# Create a matrix that contains all the train data\n",
    "data_test = OL_data_test_vow\n",
    "data_test = np.vstack(( data_test, B_test_data))\n",
    "data_test = np.vstack(( data_test, R_test_data))\n",
    "data_test = np.vstack(( data_test, M_test_data))\n",
    "# Create an array that contains all the train labels\n",
    "label_test = OL_label_test_vow\n",
    "label_test = np.hstack(( label_test, B_test_label))\n",
    "label_test = np.hstack(( label_test, R_test_label))\n",
    "label_test = np.hstack(( label_test, M_test_label))\n",
    "\n",
    "print('data_test has shape  ' + str(data_test.shape))\n",
    "print('label_test has shape ' + str(label_test.shape))"
   ]
  },
  {
   "cell_type": "markdown",
   "metadata": {},
   "source": [
    "Another method for loading the dataset is to load it from the txt file \"training_file\". This file is an already shuffled dataset. I can use this for both feeding data in this simulation and also to the STM in order to have the closes behaviour possible."
   ]
  },
  {
   "cell_type": "code",
   "execution_count": 8,
   "metadata": {},
   "outputs": [
    {
     "name": "stdout",
     "output_type": "stream",
     "text": [
      "******* Dataset for letter ['A' 'B' 'E' 'I' 'M' 'O' 'R' 'U']\n",
      "\n",
      "Raw shape        -> (221000, 5)\n",
      "Tot samples      -> 1105\n",
      "\n",
      "\n",
      "*** Separate train-valid\n",
      "\n",
      "Train data shape  -> (772, 600)\n",
      "Test data shape   -> (331, 600)\n"
     ]
    }
   ],
   "source": [
    "data, label = myParse.loadDataFromTxt('training_file')\n",
    "data_train, label_train, data_test, label_test = myParse.parseTrainTest(data, label, 0.7)"
   ]
  },
  {
   "cell_type": "markdown",
   "metadata": {},
   "source": [
    "The class Data_Container is just a container that I created in order to have all the dataset in a single object. This is useful for the plotting functions because it allows me to give as input to the function just one object and not the entire list of datasets."
   ]
  },
  {
   "cell_type": "code",
   "execution_count": 9,
   "metadata": {},
   "outputs": [],
   "source": [
    "class Data_Container(object):\n",
    "    def __init__(self):\n",
    "\n",
    "        self.R_test_data       = R_test_data\n",
    "        self.R_test_label      = R_test_label\n",
    "        self.B_test_data       = B_test_data\n",
    "        self.B_test_label      = B_test_label\n",
    "        self.M_test_data       = M_test_data\n",
    "        self.M_test_label      = M_test_label\n",
    "        self.R_test_data       = R_test_data\n",
    "        self.OL_data_test_vow  = OL_data_test_vow\n",
    "        self.OL_label_test_vow = OL_label_test_vow\n",
    "        \n",
    "OL_testing_data = Data_Container()"
   ]
  },
  {
   "cell_type": "markdown",
   "metadata": {},
   "source": [
    "### Check the content of the dataset"
   ]
  },
  {
   "cell_type": "markdown",
   "metadata": {},
   "source": [
    "This block is used only to check the type of letters that are inside the datasets that I imported. It's used in order to see if the datasets are created and saved correctly."
   ]
  },
  {
   "cell_type": "code",
   "execution_count": 10,
   "metadata": {},
   "outputs": [
    {
     "name": "stdout",
     "output_type": "stream",
     "text": [
      "VOWELS DATASET SANITY CHECK\n",
      "    The letters found are:              ['O', 'U', 'A', 'E', 'I']\n",
      "    And for each letter the counter is: [103. 103. 103. 103. 103.   1.   0.   0.   0.]\n",
      "\n",
      "B DATASET SANITY CHECK\n",
      "    The letters found are:              ['B']\n",
      "    And for each letter the counter is: [194.   1.   0.   0.   0.   0.   0.   0.   0.]\n",
      "\n",
      "R DATASET SANITY CHECK\n",
      "    The letters found are:              ['R']\n",
      "    And for each letter the counter is: [192.   1.   0.   0.   0.   0.   0.   0.   0.]\n",
      "\n",
      "M DATASET SANITY CHECK\n",
      "    The letters found are:              ['M']\n",
      "    And for each letter the counter is: [192.   1.   0.   0.   0.   0.   0.   0.   0.]\n",
      "\n",
      "TRAIN DATASET SANITY CHECK\n",
      "    The letters found are:              ['R', 'O', 'M', 'U', 'B', 'A', 'E', 'I']\n",
      "    And for each letter the counter is: [136.  79. 134.  83. 133.  70.  67.  69.   1.]\n",
      "\n",
      "TEST DATASET SANITY CHECK\n",
      "    The letters found are:              ['M', 'A', 'B', 'R', 'I', 'E', 'O', 'U']\n",
      "    And for each letter the counter is: [58. 33. 64. 58. 35. 36. 25. 21.  1.]\n"
     ]
    }
   ],
   "source": [
    "print('VOWELS DATASET SANITY CHECK')\n",
    "myParse.sanityCheckDataset(vowels_label)\n",
    "print('\\nB DATASET SANITY CHECK')\n",
    "myParse.sanityCheckDataset(B_label)\n",
    "print('\\nR DATASET SANITY CHECK')\n",
    "myParse.sanityCheckDataset(R_label)\n",
    "print('\\nM DATASET SANITY CHECK')\n",
    "myParse.sanityCheckDataset(M_label)\n",
    "print('\\nTRAIN DATASET SANITY CHECK')\n",
    "myParse.sanityCheckDataset(label_train)\n",
    "print('\\nTEST DATASET SANITY CHECK')\n",
    "myParse.sanityCheckDataset(label_test)"
   ]
  },
  {
   "cell_type": "markdown",
   "metadata": {},
   "source": [
    "#  ------------------------------------------------------------------------"
   ]
  },
  {
   "cell_type": "markdown",
   "metadata": {},
   "source": [
    "# LOAD TF TRAINED MODEL"
   ]
  },
  {
   "cell_type": "markdown",
   "metadata": {},
   "source": [
    "In this section I load the frozen model. The frozen model is the NN that has been trained with keras on the PC. The script that trains this model is called 'run_trainFroznModel.py'"
   ]
  },
  {
   "cell_type": "code",
   "execution_count": 11,
   "metadata": {},
   "outputs": [],
   "source": [
    "ROOT_PATH = os.path.abspath('')\n",
    "MODEL_PATH = ROOT_PATH + \"/Saved_models/\""
   ]
  },
  {
   "cell_type": "code",
   "execution_count": 12,
   "metadata": {},
   "outputs": [],
   "source": [
    "model = keras.models.load_model(MODEL_PATH + 'Original_model/model.h5')"
   ]
  },
  {
   "cell_type": "markdown",
   "metadata": {},
   "source": [
    "#  ------------------------------------------------------------------------"
   ]
  },
  {
   "cell_type": "markdown",
   "metadata": {},
   "source": [
    "# TINY OL"
   ]
  },
  {
   "cell_type": "markdown",
   "metadata": {},
   "source": [
    "In this section the main part of the continual learning study is found. Here can be found the functions used for implementing the different algorithms. "
   ]
  },
  {
   "cell_type": "markdown",
   "metadata": {},
   "source": [
    "The function below is an implementation of the softmx function. I had to use this because I noticed that the sofmtax function used from keras and other methods for computing the sotmax operation gave different results."
   ]
  },
  {
   "cell_type": "code",
   "execution_count": 13,
   "metadata": {},
   "outputs": [],
   "source": [
    "def my_Softmax(array):\n",
    "    \"\"\" Computes softmax of an array\n",
    "    \n",
    "    Parameters\n",
    "    ----------\n",
    "    array : array_like\n",
    "        Is the array of which I want to compute the softmax operation\n",
    "    \"\"\"\n",
    "    \n",
    "    if(len(array.shape)==2):\n",
    "        array = array[0]\n",
    "        \n",
    "    size    = len(array)\n",
    "    ret_ary = np.zeros([len(array)])\n",
    "    m       = array[0]\n",
    "    sum_val = 0\n",
    "\n",
    "    for i in range(0, size):\n",
    "        if(m<array[i]):\n",
    "            m = array[i]\n",
    "\n",
    "    for i in range(0, size):\n",
    "        sum_val += np.exp(array[i] - m)\n",
    "\n",
    "    constant = m + np.log(sum_val)\n",
    "    for i in range(0, size):\n",
    "        ret_ary[i] = np.exp(array[i] - constant)\n",
    "        \n",
    "    return ret_ary\n"
   ]
  },
  {
   "cell_type": "markdown",
   "metadata": {},
   "source": [
    "## TinyOL class"
   ]
  },
  {
   "cell_type": "markdown",
   "metadata": {},
   "source": [
    "This class is just a container for all the informations that are required in order to use correctly a tinyOL model. The idea is to createa  container in which everything is stored and then simply change the method for the training."
   ]
  },
  {
   "cell_type": "code",
   "execution_count": 14,
   "metadata": {},
   "outputs": [],
   "source": [
    "class Custom_Layer(object):\n",
    "    def __init__(self, model):\n",
    "\n",
    "        # Related to the layer\n",
    "        self.ML_frozen = keras.models.Sequential(model.layers[:-1])  # extract the last layer from the original model\n",
    "        self.ML_frozen.compile()\n",
    "        self.W = np.array(model.layers[-1].get_weights()[0])    # extract the weights from the last layer\n",
    "        self.b = np.array(model.layers[-1].get_weights()[1])    # extract the biases from the last layer\n",
    "        self.label = ['A', 'E', 'I', 'O', 'U']                  # the origina model knows only the vowels\n",
    "        self.l_rate = 0                                         # learning rate that changes depending on the algorithm\n",
    "        \n",
    "        self.width = self.W.shape[0]        # shape of the weights matrix\n",
    "        \n",
    "        \n",
    "        # Related to the results fo the model\n",
    "        self.confusion_matrix = []          # container for the confusion matrix\n",
    "        self.correct_ary = []               # array that contains the number of correct prediction for each letter\n",
    "        self.mistake_ary = []               # array that contains the number of mistaken prediction for each letter\n",
    "        self.totals_ary = []                # array that contains the number of total prediction for each letter\n",
    "        \n",
    "        self.macro_avrg_precision = 0       \n",
    "        self.macro_avrg_recall = 0\n",
    "        self.macro_avrg_F1score = 0\n",
    "        \n",
    "        self.title = ''       # title that will be displayed on plots\n",
    "        self.filename = ''    # name of the files to be saved (plots, charts, conf matrix)\n",
    "        \n",
    "        \n",
    "    # Function that is used for the prediction of the model saved in this class\n",
    "    def predict(self, x):\n",
    "        mat_prod = np.array(np.matmul(x, self.W) + self.b)\n",
    "        return  my_Softmax(mat_prod) # othwerwise do it with keras|also remove np.array()| tf.nn.softmax(mat_prod) "
   ]
  },
  {
   "cell_type": "markdown",
   "metadata": {},
   "source": [
    "## TinyOL functions"
   ]
  },
  {
   "cell_type": "markdown",
   "metadata": {},
   "source": [
    "This function is used in all methods before the feed forward of the OL layer. This function is required because it checks if the input letter is already known. If this is not true it will increse the dimension of the last layre (weight matrix and biases array) and also save the new letter in the 'known classes' array."
   ]
  },
  {
   "cell_type": "code",
   "execution_count": 15,
   "metadata": {},
   "outputs": [],
   "source": [
    "def checkNewClass(model, y_true, y_true_soft, i, gauss):\n",
    "    \"\"\" Function that will check if the current letter is known to the model. If not increase layer dimension.\n",
    "    \n",
    "    This function checks if the letter that the model shoudl train on is an already known label. If this is not \n",
    "    true the function will increase the dimension of th weights matrix and the biases array.\n",
    "    \n",
    "    Parameters\n",
    "    ----------\n",
    "    model : class\n",
    "        Container for the model weights, biases, parameters.\n",
    "    \n",
    "    y_true : array_like\n",
    "        Array of correct labels\n",
    "    \n",
    "    y_true_soft : array_like\n",
    "        Hot one encoded array of true labels\n",
    "    \n",
    "    i : int\n",
    "        Position to check of the array y_true and y_true_soft\n",
    "    \n",
    "    gauss : int\n",
    "        Value true/false that defines if the initialization of the new columns of the matrix should be with \n",
    "        a gaussian distribution.\n",
    "    \"\"\"\n",
    "    \n",
    "    # Check if letter is new\n",
    "    found = 0\n",
    "    for k in range(0, len(model.label)):\n",
    "        if (y_true[i] == model.label[k]):\n",
    "            found = 1\n",
    "\n",
    "    # If first time seeing this letter\n",
    "    if (found == 0):\n",
    "\n",
    "        model.label.append(y_true[i])   # Add new letter to label\n",
    "        print(f'\\n\\n    New letter detected -> letter \\033[1m{y_true[i]}\\033[0m \\n')\n",
    "    \n",
    "        if(gauss==0):\n",
    "            model.W = np.hstack((model.W, np.zeros([model.width,1])))\n",
    "            model.b = np.hstack((model.b, np.zeros([1])))\n",
    "        elif(gauss==1):\n",
    "            gaussW = np.zeros([model.width,1])\n",
    "            for i in range(0,model.width):\n",
    "                gaussW[i,0] = random.gauss(0, 0.01)\n",
    "            gaussB = random.gauss(0, 0.01)\n",
    "            model.W = np.hstack((model.W, gaussW))\n",
    "            model.b = np.hstack((model.b, gaussB))\n",
    "        elif(gauss==2):  # sporcariaper far funzionare LWF\n",
    "            model.W = np.hstack((model.W, np.zeros([model.width,1])))\n",
    "            model.b = np.hstack((model.b, np.zeros([1])))\n",
    "            \n",
    "                   \n",
    "        print(f'    Now W is -> {model.W.shape}              and b is -> {model.b.shape}\\n\\n')\n",
    "\n",
    "        y_true_soft = lettToSoft(y_true, model.label)\n",
    "                \n",
    "    return y_true_soft"
   ]
  },
  {
   "cell_type": "markdown",
   "metadata": {},
   "source": [
    "From here the functions that implement the different methods can be found. The explanation of the code od these function is not here but it can be found in the paper \"Continuous learning in single incremental taskscenarios\" and some schemes can be found in my presentation."
   ]
  },
  {
   "cell_type": "markdown",
   "metadata": {},
   "source": [
    "### OL"
   ]
  },
  {
   "cell_type": "code",
   "execution_count": 16,
   "metadata": {},
   "outputs": [],
   "source": [
    "numb = 772\n",
    "bias_temp = np.zeros([numb,8])\n",
    "costo_temp = np.zeros([numb,8])"
   ]
  },
  {
   "cell_type": "code",
   "execution_count": 17,
   "metadata": {},
   "outputs": [],
   "source": [
    "def trainOneEpoch_OL(model, x, y_true):\n",
    "    \n",
    "    print('**********************************\\nPerforming training with OL METHOD - STOCHASTICH\\n')\n",
    "   \n",
    "    cntr = 1\n",
    "    learn_rate  = model.l_rate\n",
    "    tot_samples = x.shape[0]\n",
    "    \n",
    "    y_true_soft = lettToSoft(y_true, model.label)  # Transform the true label letters in softmax\n",
    "            \n",
    "    # Cycle over all samples\n",
    "    for i in range(0, tot_samples):\n",
    "        \n",
    "        y_true_soft = checkNewClass(model, y_true, y_true_soft, i, 0)   # Check if letter is new\n",
    "        \n",
    "        # PPREDICTION\n",
    "        y_ML   = model.ML_frozen.predict(x[i,:].reshape(1,x.shape[1]))\n",
    "        y_pred = model.predict(y_ML[0,:])     \n",
    "        \n",
    "        if(i==177 or i==0):\n",
    "            gigio = np.array(np.matmul(y_ML, model.W) + model.b)\n",
    "            print(f'**** 177 pre softmax {gigio}')\n",
    "            \n",
    "            print(f'y ml 0 {y_ML[0,0]}')\n",
    "            print(f'y ml 1 {y_ML[0,1]}')\n",
    "            print(f'y ml 2 {y_ML[0,2]}')\n",
    "            print(f'y ml 3 {y_ML[0,3]}')\n",
    "            print(f'y ml 4 {y_ML[0,4]}')\n",
    "            print(f'y ml 5 {y_ML[0,5]}')\n",
    "            print(f'y ml 6 {y_ML[0,6]}')\n",
    "            print(f'y ml 7 {y_ML[0,7]}')\n",
    "            print(f'y ml 8 {y_ML[0,8]}')\n",
    "            print(f'y ml 9 {y_ML[0,9]}')\n",
    "            print(f'y ml 10 {y_ML[0,10]}')\n",
    "            print(f'y ml 15 {y_ML[0,15]}')\n",
    "          \n",
    "        # BACKPROPAGATION\n",
    "        cost = y_pred-y_true_soft[i,:]\n",
    "\n",
    "        for j in range(0,model.W.shape[0]):\n",
    "            # Update weights\n",
    "            deltaW = np.multiply(cost, y_ML[0,j])\n",
    "            dW     = np.multiply(deltaW, learn_rate)\n",
    "            model.W[j,:] = model.W[j,:]-dW\n",
    "\n",
    "        # Update biases\n",
    "        db      = np.multiply(cost, learn_rate)\n",
    "        model.b = model.b-db\n",
    "        \n",
    "        if(i>160 and i<200):\n",
    "            print()\n",
    "            print(' ATTENTION ')\n",
    "            print(f'i       {i}')\n",
    "            print(f'label   {model.label}')\n",
    "            print(f'true    {y_true[i]}')\n",
    "            print(f'cost    {cost}')\n",
    "            print(f'y_pred  {y_pred}')\n",
    "            print(f'y_true  {y_true_soft[i,:]}')\n",
    "            print(f'bias    {model.b}')\n",
    "            print()\n",
    "            \n",
    "\n",
    "        \n",
    "        # SAVE THE WEIGHTS IN A MATRIX\n",
    "        if(i<numb):\n",
    "            bias_temp[i,0] = np.copy(model.b[0])\n",
    "            bias_temp[i,1] = np.copy(model.b[1])\n",
    "            bias_temp[i,2] = np.copy(model.b[2])\n",
    "            bias_temp[i,3] = np.copy(model.b[3])\n",
    "            bias_temp[i,4] = np.copy(model.b[4])\n",
    "            \n",
    "            costo_temp[i,0] = np.copy(cost[0])\n",
    "            costo_temp[i,1] = np.copy(cost[1])\n",
    "            costo_temp[i,2] = np.copy(cost[2])\n",
    "            costo_temp[i,3] = np.copy(cost[3])\n",
    "            costo_temp[i,4] = np.copy(cost[4])\n",
    "            if(len(cost)>5):\n",
    "                bias_temp[i,5] = np.copy(model.b[5])\n",
    "                costo_temp[i,5] = np.copy(cost[5])\n",
    "            if(len(cost)>6):\n",
    "                bias_temp[i,6] = np.copy(model.b[6])\n",
    "                costo_temp[i,6] = np.copy(cost[6])\n",
    "            if(len(cost)>7):\n",
    "                bias_temp[i,7] = np.copy(model.b[7])\n",
    "                costo_temp[i,7] = np.copy(cost[7])\n",
    "        \n",
    "        print(f\"\\r    Currently at {np.round(np.round(cntr/x.shape[0],4)*100,2)}% of dataset\", end=\"\")\n",
    "        cntr +=1"
   ]
  },
  {
   "cell_type": "markdown",
   "metadata": {},
   "source": [
    "### OL MINI BATCH"
   ]
  },
  {
   "cell_type": "code",
   "execution_count": 18,
   "metadata": {},
   "outputs": [],
   "source": [
    "def trainOneEpoch_OL_miniBatch(model, x, y_true, batch_size):\n",
    "    \n",
    "    print('**********************************\\nPerforming training with OL METHOD - MINI BATCH\\n')\n",
    "    \n",
    "    cntr=1\n",
    "    learn_rate = model.l_rate\n",
    "    tot_samples = x.shape[0]\n",
    "    sum_gradW = np.zeros([model.W.shape[0], 8])\n",
    "    sum_gradB = np.zeros([1, 8])\n",
    "    \n",
    "    y_true_soft = lettToSoft(y_true, model.label)     # Transform the true label letters in softmax array\n",
    "        \n",
    "    # Cycle over all samples\n",
    "    for i in range(0, tot_samples):\n",
    "        \n",
    "        y_true_soft = checkNewClass(model, y_true, y_true_soft, i, 0)   # Check if letter is new\n",
    "        \n",
    "        h = model.W.shape[0]\n",
    "        w = model.W.shape[1]\n",
    "        \n",
    "        if(i%batch_size==0):\n",
    "                model.W = model.W - np.multiply(sum_gradW, 1/batch_size*learn_rate)[:h,:w]\n",
    "                model.b = model.b - np.multiply(sum_gradB, 1/batch_size*learn_rate)[0,:w]\n",
    "\n",
    "                sum_gradW = np.zeros([h, 8])  #reset each batch  \n",
    "                sum_gradB = np.zeros([1, 8])  #reset each batch   \n",
    "        \n",
    "        # PREDICTION\n",
    "        y_ML = model.ML_frozen.predict(x[i,:].reshape(1,x.shape[1]))\n",
    "        y_pred = model.predict(y_ML[0,:])\n",
    "\n",
    "        # BACKPROPAGATION\n",
    "        cost = y_pred-y_true_soft[i,:]\n",
    "\n",
    "        for j in range(0,h): \n",
    "            # Update weights\n",
    "            tmp = np.multiply(cost, y_ML[0,j]) \n",
    "            deltaW = np.zeros([1,8])\n",
    "            deltaW[0,:w] = tmp  \n",
    "            sum_gradW[j,:] += deltaW[0,:]\n",
    "\n",
    "        # Update biases\n",
    "        deltaB = np.zeros([1,8])\n",
    "        deltaB[0,:w] = cost\n",
    "        sum_gradB += deltaB\n",
    "\n",
    "        # If last iteration\n",
    "        if(i==tot_samples-1):\n",
    "            model.W = model.W - np.multiply(sum_gradW, 1/batch_size*learn_rate)[:h,:w]\n",
    "            model.b = model.b - np.multiply(sum_gradB, 1/batch_size*learn_rate)[0,:w]\n",
    "        \n",
    "        print(f\"\\r    Currently at {np.round(np.round(cntr/x.shape[0],4)*100,2)}% of dataset\", end=\"\")\n",
    "        cntr +=1"
   ]
  },
  {
   "cell_type": "markdown",
   "metadata": {},
   "source": [
    "### OL v2"
   ]
  },
  {
   "cell_type": "code",
   "execution_count": 19,
   "metadata": {},
   "outputs": [],
   "source": [
    "  def trainOneEpoch_OL_v2(model, x, y_true):\n",
    "    \n",
    "    print('**********************************\\nPerforming training with CWR METHOD - STOCASTICH \\n')\n",
    "    \n",
    "    cntr=1\n",
    "    learn_rate = model.l_rate\n",
    "    tot_samples = x.shape[0]\n",
    "    \n",
    "    y_true_soft = lettToSoft(y_true, model.label)    # Transform the true label letters in softmax\n",
    "            \n",
    "    # Cycle over every sample\n",
    "    for i in range(0, tot_samples):\n",
    "        y_true_soft = checkNewClass(model, y_true, y_true_soft, i, 1)    # Check if letter is new\n",
    "        \n",
    "        # PREDICTION\n",
    "        y_ML = model.ML_frozen.predict(x[i,:].reshape(1,x.shape[1]))\n",
    "        y_pred = model.predict(y_ML[0,:])\n",
    "\n",
    "        # BACKPROPAGATION\n",
    "        cost = y_pred-y_true_soft[i,:]\n",
    "        cost[0] = 0\n",
    "        cost[1] = 0\n",
    "        cost[2] = 0\n",
    "        cost[3] = 0\n",
    "\n",
    "        for j in range(0,model.W.shape[0]):\n",
    "            # Update weights\n",
    "            deltaW = np.multiply(cost, y_ML[0,j])\n",
    "            dW = np.multiply(deltaW, learn_rate)\n",
    "            model.W[j,:] = model.W[j,:]-dW[:]\n",
    "\n",
    "        # Update biases\n",
    "        db = np.multiply(cost, learn_rate)\n",
    "        model.b[5:] = model.b[5:]-db[5:]\n",
    "        \n",
    "        print(f\"\\r    Currently at {np.round(np.round(cntr/x.shape[0],4)*100,2)}% of dataset\", end=\"\")\n",
    "        cntr +=1"
   ]
  },
  {
   "cell_type": "markdown",
   "metadata": {},
   "source": [
    "### OL v2 MINI BATCH"
   ]
  },
  {
   "cell_type": "code",
   "execution_count": 20,
   "metadata": {},
   "outputs": [],
   "source": [
    "def trainOneEpoch_OL_v2_miniBatch(model, x, y_true, batch_size):\n",
    "    \n",
    "    print('**********************************\\nPerforming training with CWR - MINI BATCH \\n ')  \n",
    "\n",
    "    cntr=1\n",
    "    learn_rate = model.l_rate\n",
    "    tot_samples = x.shape[0]\n",
    "    sum_gradW = np.zeros([model.W.shape[0], 8])\n",
    "    sum_gradB = np.zeros([1, 8])\n",
    "    \n",
    "    # Transform the true label letters in softmax array\n",
    "    y_true_soft = lettToSoft(y_true, model.label)\n",
    "           \n",
    "    # Cycle over all input samples\n",
    "    for i in range(0, tot_samples):\n",
    "        \n",
    "        y_true_soft = checkNewClass(model, y_true, y_true_soft, i, 0) # Check if letter is new\n",
    "        \n",
    "        h = model.W.shape[0]\n",
    "        w = model.W.shape[1]\n",
    "        \n",
    "        # If beginning of batch\n",
    "        if(i%batch_size==0):\n",
    "                model.W[:,5:] = model.W[:,5:] - np.multiply(sum_gradW, 1/batch_size*learn_rate)[:h,5:w]\n",
    "                model.b[5:]   = model.b[5:]   - np.multiply(sum_gradB, 1/batch_size*learn_rate)[0,5:w]\n",
    "                sum_gradW = np.zeros([h, 8])  # reset\n",
    "                sum_gradB = np.zeros([1, 8])  # reset\n",
    "            \n",
    "        # PREDICTION\n",
    "        y_ML = model.ML_frozen.predict(x[i,:].reshape(1,x.shape[1]))\n",
    "        y_pred = model.predict(y_ML[0,:])\n",
    "\n",
    "        # BACKPROPAGATION\n",
    "        cost = y_pred-y_true_soft[i,:]\n",
    "\n",
    "        for j in range(0,h):  \n",
    "            # Update weights\n",
    "            tmp = np.multiply(cost, y_ML[0,j]) \n",
    "            deltaW = np.zeros([1,8])\n",
    "            deltaW[0,:tmp.shape[0]] = tmp  \n",
    "            sum_gradW[j,:] += deltaW[0,:]\n",
    "\n",
    "        # Update biases\n",
    "        deltaB = np.zeros([1,8])\n",
    "        deltaB[0,:cost.shape[0]] = cost\n",
    "        sum_gradB += deltaB\n",
    "\n",
    "        # If last iteration\n",
    "        if(i==tot_samples-1):\n",
    "            model.W[:,5:] = model.W[:,5:] - np.multiply(sum_gradW, 1/batch_size*learn_rate)[:h,5:w]\n",
    "            model.b[5:]   = model.b[5:]   - np.multiply(sum_gradB, 1/batch_size*learn_rate)[0,5:w]\n",
    "        \n",
    "        print(f\"\\r    Currently at {np.round(np.round(cntr/x.shape[0],4)*100,2)}% of dataset\", end=\"\")\n",
    "        cntr +=1"
   ]
  },
  {
   "cell_type": "markdown",
   "metadata": {},
   "source": [
    "### LWF"
   ]
  },
  {
   "cell_type": "code",
   "execution_count": 21,
   "metadata": {},
   "outputs": [],
   "source": [
    "def trainOneEpochOL_LWF(model, x, y_true):\n",
    "    \n",
    "    print('**********************************\\nPerforming training with LWF - STOCHASTIC\\n ') \n",
    "    \n",
    "    lam  = 0\n",
    "    cntr = 1\n",
    "    learn_rate = model.l_rate\n",
    "    tot_samples = x.shape[0]\n",
    "    y_LWF = np.zeros([1, 8])    # Define container for LWF\n",
    "\n",
    "    # DEFINE ORIGINAL WEIGHTS AND BIASES\n",
    "    LWF_w = model.W\n",
    "    LWF_b = model.b\n",
    "    \n",
    "    y_true_soft = lettToSoft(y_true, model.label)    # Transform the true label letters in softmax\n",
    "         \n",
    "    # Cycle over every sample\n",
    "    for i in range(0, tot_samples):\n",
    "        \n",
    "        y_true_soft = checkNewClass(model, y_true, y_true_soft, i, 2)   # Check if letter is new\n",
    "        \n",
    "        w = model.W.shape[1]\n",
    "        h = model.W.shape[0]\n",
    "        \n",
    "        # va da 1 a 0\n",
    "        lam = 100/(100+cntr)    #1-i/493    #  1/(20+cntr)        #\n",
    "             \n",
    "        # PREDICTIONS\n",
    "        y_ML = model.ML_frozen.predict(x[i,:].reshape(1,x.shape[1]))\n",
    "        y_pred = model.predict(y_ML[0,:])\n",
    "        \n",
    "        mat_prod = np.array(np.matmul(y_ML, LWF_w) + LWF_b)\n",
    "        y_LWF[0,:5] = my_Softmax(mat_prod)   \n",
    "          \n",
    "        \n",
    "        # BACKPROPAGATION        \n",
    "        cost_norm = y_pred-y_true_soft[i,:]\n",
    "        cost_LWF  = y_pred-y_LWF[0,:w]\n",
    "\n",
    "        for j in range(0,h):\n",
    "            # Update weights\n",
    "            deltaW_norm = np.multiply(cost_norm,1-lam)\n",
    "            deltaW_LWF  = np.multiply(cost_LWF, lam)\n",
    "            deltaW      = np.multiply(deltaW_norm+deltaW_LWF, y_ML[0,j])\n",
    "            dW          = np.multiply(deltaW, learn_rate)\n",
    "            model.W[j,:] = model.W[j,:]-dW\n",
    "\n",
    "        # Update biases\n",
    "        db_norm = np.multiply(cost_norm, 1-lam)\n",
    "        db_LWF  = np.multiply(cost_LWF, lam)\n",
    "        db      = np.multiply(db_norm+db_LWF, learn_rate)\n",
    "        model.b = model.b-db\n",
    "        \n",
    "        print(f\"\\r    Currently at {np.round(np.round(cntr/x.shape[0],4)*100,2)}% of dataset\", end=\"\")\n",
    "        cntr +=1"
   ]
  },
  {
   "cell_type": "markdown",
   "metadata": {},
   "source": [
    "### LWF MINI BATCH"
   ]
  },
  {
   "cell_type": "code",
   "execution_count": 22,
   "metadata": {},
   "outputs": [],
   "source": [
    "def trainOneEpochOL_LWF_v2(model, x, y_true, batch_size):\n",
    "    \n",
    "    print('**********************************\\nPerforming training with LWF - MINI BATCH\\n')\n",
    "    \n",
    "    lam  = 0\n",
    "    cntr = 1\n",
    "    learn_rate = model.l_rate\n",
    "    tot_samples = x.shape[0]\n",
    "    \n",
    "    y_true_soft = lettToSoft(y_true, model.label)  # Transform the true label letters in softmax array\n",
    "        \n",
    "    w = model.W.shape[1]\n",
    "        \n",
    "    LWF_w = np.zeros([model.W.shape[0], 8]) # alocate\n",
    "    LWF_b = np.zeros([1, 8]) \n",
    "    y_LWF = np.zeros([1, 8])\n",
    "    \n",
    "    LWF_w[:,:w] = model.W   # copy from TF\n",
    "    LWF_b[0,:w] = model.b\n",
    "    \n",
    "    # For every sample in the dataset given\n",
    "    for i in range(0, tot_samples):\n",
    "        \n",
    "        y_true_soft = checkNewClass(model, y_true, y_true_soft, i, 0)   # Check if letter is new\n",
    "        \n",
    "        h = model.W.shape[0]\n",
    "        w = model.W.shape[1]\n",
    "        \n",
    "        # END OF BATCH\n",
    "        if(i%batch_size==0 and i!=0):            \n",
    "            LWF_w[:,:w] = np.copy(model.W)    # update the LWF w matrix\n",
    "            LWF_b[0,:w] = np.copy(model.b)    # update the LWF b matrix\n",
    "                \n",
    "        #lam = 1/(2+cntr)\n",
    "        if(cntr<batch_size):\n",
    "            lam = 1\n",
    "        else:\n",
    "            lam = batch_size/cntr  #(cntr/493)   va da 0 a 1\n",
    "    \n",
    "        # PREDICTION - Frozen + OL\n",
    "        y_ML = model.ML_frozen.predict(x[i,:].reshape(1,x.shape[1]))\n",
    "        y_pred = model.predict(y_ML[0,:])  \n",
    "        \n",
    "        mat_prod = np.array(np.matmul(y_ML, LWF_w[:,:w]) + LWF_b[0,:w])\n",
    "        y_LWF[0,:w] = my_Softmax(mat_prod)        \n",
    "\n",
    "\n",
    "         \n",
    "        # ---- BACKPROPAGATION | MINI BATCH + LWF        \n",
    "        cost_norm = y_pred-y_true_soft[i,:]\n",
    "        cost_LWF  = y_pred-y_LWF[0,:w]\n",
    "        \n",
    "        lam_cost_norm = np.multiply(cost_norm, 1-lam)\n",
    "        lam_cost_LWF  = np.multiply(cost_LWF,  lam)\n",
    "\n",
    "        for j in range(0,h):\n",
    "\n",
    "            # Update weights\n",
    "            deltaW = np.multiply(lam_cost_norm+lam_cost_LWF, y_ML[0,j])\n",
    "            dW = np.multiply(deltaW, learn_rate)\n",
    "            model.W[j,:] = model.W[j,:]-dW          \n",
    "            \n",
    "        # Update biases \n",
    "        db = np.multiply(lam_cost_norm+lam_cost_LWF, learn_rate)\n",
    "        model.b = model.b-db   \n",
    "                        \n",
    "        print(f\"\\r    Currently at {np.round(np.round(cntr/x.shape[0],4)*100,2)}% of dataset\", end=\"\")\n",
    "        cntr +=1"
   ]
  },
  {
   "cell_type": "markdown",
   "metadata": {},
   "source": [
    "### CWR"
   ]
  },
  {
   "cell_type": "code",
   "execution_count": 23,
   "metadata": {},
   "outputs": [],
   "source": [
    "def trainOneEpoch_CWR(model, x, y_true, batch_size):\n",
    "        \n",
    "    print('**********************************\\nPerforming training CWR \\n ')  \n",
    "\n",
    "    cntr=1\n",
    "    learn_rate = model.l_rate\n",
    "    tot_samples = x.shape[0]\n",
    "    TW = np.zeros([model.W.shape[0], 8])\n",
    "    TB = np.zeros([1, 8])\n",
    "    found_lett = np.zeros([1,8])\n",
    "    \n",
    "    y_true_soft = lettToSoft(y_true, model.label)    # Transform the true label letters in softmax array\n",
    "           \n",
    "    # Cycle over all input samples\n",
    "    for i in range(0, tot_samples):\n",
    "        \n",
    "        y_true_soft = checkNewClass(model, y_true, y_true_soft, i, 0) # Check if letter is new\n",
    "        \n",
    "        h = model.W.shape[0]\n",
    "        w = model.W.shape[1]\n",
    "                \n",
    "        # If beginning of batch\n",
    "        if(i%batch_size==0 and i!=0): \n",
    "            for k in range(0, w):\n",
    "                if(found_lett[0,k]!=0):\n",
    "                    tempW = np.multiply(model.W[:,k], found_lett[0,k])\n",
    "                    tempB = np.multiply(model.b[k]  , found_lett[0,k])\n",
    "                    model.W[:,k] = np.multiply(tempW+TW[:,k], 1/(found_lett[0,k]+1))\n",
    "                    model.b[k]   = np.multiply(tempB+TB[0,k], 1/(found_lett[0,k]+1))\n",
    "                    \n",
    "            TW[:h,:w]  = np.copy(model.W)\n",
    "            TB[0,:w]   = np.copy(model.b)\n",
    "            found_lett = np.zeros([1,8])  # reset\n",
    "        elif(i==0):\n",
    "            TW = np.zeros([h, 8])         # reset  \n",
    "            TB = np.zeros([1, 8])         # reset  \n",
    "            found_lett = np.zeros([1,8])  # reset\n",
    "                \n",
    "        found_lett[0,np.argmax(y_true_soft[i,:])] += 1  # update the letter counter\n",
    "            \n",
    "        # PREDICTION\n",
    "        y_ML = model.ML_frozen.predict(x[i,:].reshape(1,x.shape[1]))\n",
    "        mat_prod = np.array(np.matmul(y_ML, TW) + TB)\n",
    "        y_pred = my_Softmax(mat_prod)        \n",
    "\n",
    "\n",
    "        # BACKPROPAGATION\n",
    "        cost = y_pred[:w]-y_true_soft[i,:]\n",
    "\n",
    "        # Update weights\n",
    "        for j in range(0,h):\n",
    "            deltaW = np.multiply(cost, y_ML[0,j])\n",
    "            dW = np.multiply(deltaW, learn_rate)\n",
    "            TW[j,:w] = TW[j,:w] - dW\n",
    "\n",
    "        # Update biases\n",
    "        db = np.multiply(cost, learn_rate)\n",
    "        TB[0,:w] = TB[0,:w]-db\n",
    "\n",
    "        # If last iteration\n",
    "        if(i==tot_samples-1):\n",
    "            for k in range(5, w):\n",
    "                if(found_lett[0,k]!=0):\n",
    "                    tempW = np.multiply(model.W[:,k], found_lett[0,k])\n",
    "                    tempB = np.multiply(model.b[k]  , found_lett[0,k])\n",
    "                    model.W[:,k] = np.multiply(tempW+TW[:,k], 1/(found_lett[0,k]+1))\n",
    "                    model.b[k]   = np.multiply(tempB+TB[0,k], 1/(found_lett[0,k]+1))\n",
    "        \n",
    "        print(f\"\\r    Currently at {np.round(np.round(cntr/x.shape[0],4)*100,2)}% of dataset\", end=\"\")\n",
    "        cntr +=1\n",
    "        "
   ]
  },
  {
   "cell_type": "markdown",
   "metadata": {},
   "source": [
    "# Trainings"
   ]
  },
  {
   "cell_type": "markdown",
   "metadata": {},
   "source": [
    "Now let's dfine some important values for the training and then actually train each single OL layer witha  different method. The 0 and 1 below are used in order to activate or deactivate the training and the following plots of a specific method."
   ]
  },
  {
   "cell_type": "code",
   "execution_count": 24,
   "metadata": {},
   "outputs": [],
   "source": [
    "batch_size_OL = 8"
   ]
  },
  {
   "cell_type": "code",
   "execution_count": 25,
   "metadata": {},
   "outputs": [],
   "source": [
    "# DEFINE WHICH TRAINING AND PLOTS TO SHOW\n",
    "\n",
    "KERAS      = 1\n",
    "OL_vowels  = 0\n",
    "OL         = 1\n",
    "OL_mini    = 0\n",
    "LWF        = 0\n",
    "LWF_mini   = 0\n",
    "OL_v2      = 0\n",
    "OL_v2_mini = 0\n",
    "CWR        = 0"
   ]
  },
  {
   "cell_type": "markdown",
   "metadata": {},
   "source": [
    "### Define KERAS model (just create the class, actually don't train)"
   ]
  },
  {
   "cell_type": "code",
   "execution_count": 26,
   "metadata": {},
   "outputs": [],
   "source": [
    "if(KERAS==1):\n",
    "    Model_KERAS = Custom_Layer(model)\n",
    "    Model_KERAS.title = 'KERAS'\n",
    "    Model_KERAS.filename = 'KERAS'\n",
    "    Model_KERAS.label = ['A','E','I','O','U','B','R','M']\n",
    "    # DO NOT PERFORM TRAINING, KEEP IT AS IT IS, IT'S THE ORIGINAL MODEL"
   ]
  },
  {
   "cell_type": "markdown",
   "metadata": {},
   "source": [
    "### Train with OL only on vowels (just to see if the OL model makes the keras better or worse)"
   ]
  },
  {
   "cell_type": "code",
   "execution_count": 27,
   "metadata": {},
   "outputs": [],
   "source": [
    "if(OL_vowels==1):\n",
    "    Model_OL_vowels = Custom_Layer(model)\n",
    "    Model_OL_vowels.title = 'VOWELS'\n",
    "    Model_OL_vowels.filename = 'OL_vowels'\n",
    "    Model_OL_vowels.l_rate = 0.000005\n",
    "    \n",
    "    trainOneEpoch_OL(Model_OL_vowels, OL_data_train_vow, OL_label_train_vow)"
   ]
  },
  {
   "cell_type": "markdown",
   "metadata": {},
   "source": [
    "### Train with OL method"
   ]
  },
  {
   "cell_type": "code",
   "execution_count": 28,
   "metadata": {
    "scrolled": true
   },
   "outputs": [
    {
     "name": "stdout",
     "output_type": "stream",
     "text": [
      "**********************************\n",
      "Performing training with OL METHOD - STOCHASTICH\n",
      "\n",
      "\n",
      "\n",
      "    New letter detected -> letter \u001b[1mR\u001b[0m \n",
      "\n",
      "    Now W is -> (128, 6)              and b is -> (6,)\n",
      "\n",
      "\n",
      "**** 177 pre softmax [[ 413.64537648  272.01131299 -522.22562185 -108.32375106 -512.29236097\n",
      "     0.        ]]\n",
      "y ml 0 24.867206573486328\n",
      "y ml 1 0.0\n",
      "y ml 2 77.8696517944336\n",
      "y ml 3 0.0\n",
      "y ml 4 40.13840103149414\n",
      "y ml 5 0.0\n",
      "y ml 6 0.0\n",
      "y ml 7 0.0\n",
      "y ml 8 245.3782958984375\n",
      "y ml 9 0.0\n",
      "y ml 10 0.0\n",
      "y ml 15 0.0\n",
      "    Currently at 0.26% of dataset\n",
      "\n",
      "    New letter detected -> letter \u001b[1mM\u001b[0m \n",
      "\n",
      "    Now W is -> (128, 7)              and b is -> (7,)\n",
      "\n",
      "\n",
      "    Currently at 1.04% of dataset\n",
      "\n",
      "    New letter detected -> letter \u001b[1mB\u001b[0m \n",
      "\n",
      "    Now W is -> (128, 8)              and b is -> (8,)\n",
      "\n",
      "\n",
      "    Currently at 20.85% of dataset\n",
      " ATTENTION \n",
      "i       161\n",
      "label   ['A', 'E', 'I', 'O', 'U', 'R', 'M', 'B']\n",
      "true    O\n",
      "cost    [0. 0. 0. 0. 0. 0. 0. 0.]\n",
      "y_pred  [0. 0. 0. 1. 0. 0. 0. 0.]\n",
      "y_true  [0. 0. 0. 1. 0. 0. 0. 0.]\n",
      "bias    [-0.00397868  0.00219521  0.00477084  0.00044315 -0.00256861 -0.00005017\n",
      " -0.00004984  0.00004995]\n",
      "\n",
      "    Currently at 20.98% of dataset\n",
      " ATTENTION \n",
      "i       162\n",
      "label   ['A', 'E', 'I', 'O', 'U', 'R', 'M', 'B']\n",
      "true    B\n",
      "cost    [ 0.  0.  0.  0.  0.  1.  0. -1.]\n",
      "y_pred  [0. 0. 0. 0. 0. 1. 0. 0.]\n",
      "y_true  [0. 0. 0. 0. 0. 0. 0. 1.]\n",
      "bias    [-0.00397868  0.00219521  0.00477084  0.00044315 -0.00256861 -0.00010017\n",
      " -0.00004984  0.00009995]\n",
      "\n",
      "    Currently at 21.11% of dataset\n",
      " ATTENTION \n",
      "i       163\n",
      "label   ['A', 'E', 'I', 'O', 'U', 'R', 'M', 'B']\n",
      "true    R\n",
      "cost    [ 0.  0.  0.  0.  0. -1.  0.  1.]\n",
      "y_pred  [0. 0. 0. 0. 0. 0. 0. 1.]\n",
      "y_true  [0. 0. 0. 0. 0. 1. 0. 0.]\n",
      "bias    [-0.00397868  0.00219521  0.00477084  0.00044315 -0.00256861 -0.00005017\n",
      " -0.00004984  0.00004995]\n",
      "\n",
      "    Currently at 21.24% of dataset\n",
      " ATTENTION \n",
      "i       164\n",
      "label   ['A', 'E', 'I', 'O', 'U', 'R', 'M', 'B']\n",
      "true    O\n",
      "cost    [ 0.  0.  0. -1.  1.  0.  0.  0.]\n",
      "y_pred  [0. 0. 0. 0. 1. 0. 0. 0.]\n",
      "y_true  [0. 0. 0. 1. 0. 0. 0. 0.]\n",
      "bias    [-0.00397868  0.00219521  0.00477084  0.00049315 -0.00261861 -0.00005017\n",
      " -0.00004984  0.00004995]\n",
      "\n",
      "    Currently at 21.37% of dataset\n",
      " ATTENTION \n",
      "i       165\n",
      "label   ['A', 'E', 'I', 'O', 'U', 'R', 'M', 'B']\n",
      "true    B\n",
      "cost    [ 0.  0.  0.  0.  0.  1.  0. -1.]\n",
      "y_pred  [0. 0. 0. 0. 0. 1. 0. 0.]\n",
      "y_true  [0. 0. 0. 0. 0. 0. 0. 1.]\n",
      "bias    [-0.00397868  0.00219521  0.00477084  0.00049315 -0.00261861 -0.00010017\n",
      " -0.00004984  0.00009995]\n",
      "\n",
      "    Currently at 21.5% of dataset\n",
      " ATTENTION \n",
      "i       166\n",
      "label   ['A', 'E', 'I', 'O', 'U', 'R', 'M', 'B']\n",
      "true    U\n",
      "cost    [0. 0. 0. 0. 0. 0. 0. 0.]\n",
      "y_pred  [0. 0. 0. 0. 1. 0. 0. 0.]\n",
      "y_true  [0. 0. 0. 0. 1. 0. 0. 0.]\n",
      "bias    [-0.00397868  0.00219521  0.00477084  0.00049315 -0.00261861 -0.00010017\n",
      " -0.00004984  0.00009995]\n",
      "\n",
      "    Currently at 21.63% of dataset\n",
      " ATTENTION \n",
      "i       167\n",
      "label   ['A', 'E', 'I', 'O', 'U', 'R', 'M', 'B']\n",
      "true    R\n",
      "cost    [ 0.  0.  0.  0.  0. -1.  0.  1.]\n",
      "y_pred  [0. 0. 0. 0. 0. 0. 0. 1.]\n",
      "y_true  [0. 0. 0. 0. 0. 1. 0. 0.]\n",
      "bias    [-0.00397868  0.00219521  0.00477084  0.00049315 -0.00261861 -0.00005017\n",
      " -0.00004984  0.00004995]\n",
      "\n",
      "    Currently at 21.76% of dataset\n",
      " ATTENTION \n",
      "i       168\n",
      "label   ['A', 'E', 'I', 'O', 'U', 'R', 'M', 'B']\n",
      "true    M\n",
      "cost    [0. 0. 0. 0. 0. 0. 0. 0.]\n",
      "y_pred  [0. 0. 0. 0. 0. 0. 1. 0.]\n",
      "y_true  [0. 0. 0. 0. 0. 0. 1. 0.]\n",
      "bias    [-0.00397868  0.00219521  0.00477084  0.00049315 -0.00261861 -0.00005017\n",
      " -0.00004984  0.00004995]\n",
      "\n",
      "    Currently at 21.89% of dataset\n",
      " ATTENTION \n",
      "i       169\n",
      "label   ['A', 'E', 'I', 'O', 'U', 'R', 'M', 'B']\n",
      "true    A\n",
      "cost    [0. 0. 0. 0. 0. 0. 0. 0.]\n",
      "y_pred  [1. 0. 0. 0. 0. 0. 0. 0.]\n",
      "y_true  [1. 0. 0. 0. 0. 0. 0. 0.]\n",
      "bias    [-0.00397868  0.00219521  0.00477084  0.00049315 -0.00261861 -0.00005017\n",
      " -0.00004984  0.00004995]\n",
      "\n",
      "    Currently at 22.02% of dataset\n",
      " ATTENTION \n",
      "i       170\n",
      "label   ['A', 'E', 'I', 'O', 'U', 'R', 'M', 'B']\n",
      "true    A\n",
      "cost    [0. 0. 0. 0. 0. 0. 0. 0.]\n",
      "y_pred  [1. 0. 0. 0. 0. 0. 0. 0.]\n",
      "y_true  [1. 0. 0. 0. 0. 0. 0. 0.]\n",
      "bias    [-0.00397868  0.00219521  0.00477084  0.00049315 -0.00261861 -0.00005017\n",
      " -0.00004984  0.00004995]\n",
      "\n",
      "    Currently at 22.15% of dataset\n",
      " ATTENTION \n",
      "i       171\n",
      "label   ['A', 'E', 'I', 'O', 'U', 'R', 'M', 'B']\n",
      "true    R\n",
      "cost    [0. 0. 0. 0. 0. 0. 0. 0.]\n",
      "y_pred  [0. 0. 0. 0. 0. 1. 0. 0.]\n",
      "y_true  [0. 0. 0. 0. 0. 1. 0. 0.]\n",
      "bias    [-0.00397868  0.00219521  0.00477084  0.00049315 -0.00261861 -0.00005017\n",
      " -0.00004984  0.00004995]\n",
      "\n",
      "    Currently at 22.28% of dataset\n",
      " ATTENTION \n",
      "i       172\n",
      "label   ['A', 'E', 'I', 'O', 'U', 'R', 'M', 'B']\n",
      "true    E\n",
      "cost    [0. 0. 0. 0. 0. 0. 0. 0.]\n",
      "y_pred  [0. 1. 0. 0. 0. 0. 0. 0.]\n",
      "y_true  [0. 1. 0. 0. 0. 0. 0. 0.]\n",
      "bias    [-0.00397868  0.00219521  0.00477084  0.00049315 -0.00261861 -0.00005017\n",
      " -0.00004984  0.00004995]\n",
      "\n",
      "    Currently at 22.41% of dataset\n",
      " ATTENTION \n",
      "i       173\n",
      "label   ['A', 'E', 'I', 'O', 'U', 'R', 'M', 'B']\n",
      "true    M\n",
      "cost    [ 0.  0.  0.  0.  0.  0. -0.  0.]\n",
      "y_pred  [0. 0. 0. 0. 0. 0. 1. 0.]\n",
      "y_true  [0. 0. 0. 0. 0. 0. 1. 0.]\n",
      "bias    [-0.00397868  0.00219521  0.00477084  0.00049315 -0.00261861 -0.00005017\n",
      " -0.00004984  0.00004995]\n",
      "\n",
      "    Currently at 22.54% of dataset\n",
      " ATTENTION \n",
      "i       174\n",
      "label   ['A', 'E', 'I', 'O', 'U', 'R', 'M', 'B']\n",
      "true    O\n",
      "cost    [0. 0. 0. 0. 0. 0. 0. 0.]\n",
      "y_pred  [0. 0. 0. 1. 0. 0. 0. 0.]\n",
      "y_true  [0. 0. 0. 1. 0. 0. 0. 0.]\n",
      "bias    [-0.00397868  0.00219521  0.00477084  0.00049315 -0.00261861 -0.00005017\n",
      " -0.00004984  0.00004995]\n",
      "\n",
      "    Currently at 22.67% of dataset\n",
      " ATTENTION \n",
      "i       175\n",
      "label   ['A', 'E', 'I', 'O', 'U', 'R', 'M', 'B']\n",
      "true    M\n",
      "cost    [0. 0. 0. 0. 0. 0. 0. 0.]\n",
      "y_pred  [0. 0. 0. 0. 0. 0. 1. 0.]\n",
      "y_true  [0. 0. 0. 0. 0. 0. 1. 0.]\n",
      "bias    [-0.00397868  0.00219521  0.00477084  0.00049315 -0.00261861 -0.00005017\n",
      " -0.00004984  0.00004995]\n",
      "\n",
      "    Currently at 22.8% of dataset\n",
      " ATTENTION \n",
      "i       176\n",
      "label   ['A', 'E', 'I', 'O', 'U', 'R', 'M', 'B']\n",
      "true    R\n",
      "cost    [0. 0. 0. 0. 0. 0. 0. 0.]\n",
      "y_pred  [0. 0. 0. 0. 0. 1. 0. 0.]\n",
      "y_true  [0. 0. 0. 0. 0. 1. 0. 0.]\n",
      "bias    [-0.00397868  0.00219521  0.00477084  0.00049315 -0.00261861 -0.00005017\n",
      " -0.00004984  0.00004995]\n",
      "\n",
      "    Currently at 22.93% of dataset**** 177 pre softmax [[-225.40048151 -226.32966343   25.38330893  279.45681821 -679.60889571\n",
      "   490.71230257 -136.29190969  -79.15677281]]\n",
      "y ml 0 17.59616470336914\n",
      "y ml 1 0.0\n",
      "y ml 2 216.2587890625\n",
      "y ml 3 56.11199951171875\n",
      "y ml 4 0.0\n",
      "y ml 5 0.0\n",
      "y ml 6 120.97571563720703\n",
      "y ml 7 0.0\n",
      "y ml 8 226.59193420410156\n",
      "y ml 9 28.32998275756836\n",
      "y ml 10 299.68328857421875\n",
      "y ml 15 0.0\n",
      "\n",
      " ATTENTION \n",
      "i       177\n",
      "label   ['A', 'E', 'I', 'O', 'U', 'R', 'M', 'B']\n",
      "true    R\n",
      "cost    [0. 0. 0. 0. 0. 0. 0. 0.]\n",
      "y_pred  [0. 0. 0. 0. 0. 1. 0. 0.]\n",
      "y_true  [0. 0. 0. 0. 0. 1. 0. 0.]\n",
      "bias    [-0.00397868  0.00219521  0.00477084  0.00049315 -0.00261861 -0.00005017\n",
      " -0.00004984  0.00004995]\n",
      "\n",
      "    Currently at 23.06% of dataset\n",
      " ATTENTION \n",
      "i       178\n",
      "label   ['A', 'E', 'I', 'O', 'U', 'R', 'M', 'B']\n",
      "true    A\n",
      "cost    [-1.  0.  0.  0.  0.  1.  0.  0.]\n",
      "y_pred  [0. 0. 0. 0. 0. 1. 0. 0.]\n",
      "y_true  [1. 0. 0. 0. 0. 0. 0. 0.]\n",
      "bias    [-0.00392868  0.00219521  0.00477084  0.00049315 -0.00261861 -0.00010017\n",
      " -0.00004984  0.00004995]\n",
      "\n",
      "    Currently at 23.19% of dataset\n",
      " ATTENTION \n",
      "i       179\n",
      "label   ['A', 'E', 'I', 'O', 'U', 'R', 'M', 'B']\n",
      "true    I\n",
      "cost    [0. 0. 0. 0. 0. 0. 0. 0.]\n",
      "y_pred  [0. 0. 1. 0. 0. 0. 0. 0.]\n",
      "y_true  [0. 0. 1. 0. 0. 0. 0. 0.]\n",
      "bias    [-0.00392868  0.00219521  0.00477084  0.00049315 -0.00261861 -0.00010017\n",
      " -0.00004984  0.00004995]\n",
      "\n",
      "    Currently at 23.32% of dataset\n",
      " ATTENTION \n",
      "i       180\n",
      "label   ['A', 'E', 'I', 'O', 'U', 'R', 'M', 'B']\n",
      "true    R\n",
      "cost    [ 1.  0.  0.  0.  0. -1.  0.  0.]\n",
      "y_pred  [1. 0. 0. 0. 0. 0. 0. 0.]\n",
      "y_true  [0. 0. 0. 0. 0. 1. 0. 0.]\n",
      "bias    [-0.00397868  0.00219521  0.00477084  0.00049315 -0.00261861 -0.00005017\n",
      " -0.00004984  0.00004995]\n",
      "\n",
      "    Currently at 23.45% of dataset\n",
      " ATTENTION \n",
      "i       181\n",
      "label   ['A', 'E', 'I', 'O', 'U', 'R', 'M', 'B']\n",
      "true    B\n",
      "cost    [ 0.  0.  0.  0.  0.  1.  0. -1.]\n",
      "y_pred  [0. 0. 0. 0. 0. 1. 0. 0.]\n",
      "y_true  [0. 0. 0. 0. 0. 0. 0. 1.]\n",
      "bias    [-0.00397868  0.00219521  0.00477084  0.00049315 -0.00261861 -0.00010017\n",
      " -0.00004984  0.00009995]\n",
      "\n",
      "    Currently at 23.58% of dataset\n",
      " ATTENTION \n",
      "i       182\n",
      "label   ['A', 'E', 'I', 'O', 'U', 'R', 'M', 'B']\n",
      "true    U\n",
      "cost    [0. 0. 0. 0. 0. 0. 0. 0.]\n",
      "y_pred  [0. 0. 0. 0. 1. 0. 0. 0.]\n",
      "y_true  [0. 0. 0. 0. 1. 0. 0. 0.]\n",
      "bias    [-0.00397868  0.00219521  0.00477084  0.00049315 -0.00261861 -0.00010017\n",
      " -0.00004984  0.00009995]\n",
      "\n",
      "    Currently at 23.7% of dataset\n",
      " ATTENTION \n",
      "i       183\n",
      "label   ['A', 'E', 'I', 'O', 'U', 'R', 'M', 'B']\n",
      "true    U\n",
      "cost    [0. 0. 0. 0. 0. 0. 0. 0.]\n",
      "y_pred  [0. 0. 0. 0. 1. 0. 0. 0.]\n",
      "y_true  [0. 0. 0. 0. 1. 0. 0. 0.]\n",
      "bias    [-0.00397868  0.00219521  0.00477084  0.00049315 -0.00261861 -0.00010017\n",
      " -0.00004984  0.00009995]\n",
      "\n",
      "    Currently at 23.83% of dataset\n",
      " ATTENTION \n",
      "i       184\n",
      "label   ['A', 'E', 'I', 'O', 'U', 'R', 'M', 'B']\n",
      "true    O\n",
      "cost    [0. 0. 0. 0. 0. 0. 0. 0.]\n",
      "y_pred  [0. 0. 0. 1. 0. 0. 0. 0.]\n",
      "y_true  [0. 0. 0. 1. 0. 0. 0. 0.]\n",
      "bias    [-0.00397868  0.00219521  0.00477084  0.00049315 -0.00261861 -0.00010017\n",
      " -0.00004984  0.00009995]\n",
      "\n",
      "    Currently at 23.96% of dataset\n",
      " ATTENTION \n",
      "i       185\n",
      "label   ['A', 'E', 'I', 'O', 'U', 'R', 'M', 'B']\n",
      "true    A\n",
      "cost    [-1.  0.  0.  0.  0.  0.  0.  1.]\n",
      "y_pred  [0. 0. 0. 0. 0. 0. 0. 1.]\n",
      "y_true  [1. 0. 0. 0. 0. 0. 0. 0.]\n",
      "bias    [-0.00392868  0.00219521  0.00477084  0.00049315 -0.00261861 -0.00010017\n",
      " -0.00004984  0.00004995]\n",
      "\n",
      "    Currently at 24.09% of dataset\n",
      " ATTENTION \n",
      "i       186\n",
      "label   ['A', 'E', 'I', 'O', 'U', 'R', 'M', 'B']\n",
      "true    B\n",
      "cost    [0. 0. 0. 0. 0. 0. 0. 0.]\n",
      "y_pred  [0. 0. 0. 0. 0. 0. 0. 1.]\n",
      "y_true  [0. 0. 0. 0. 0. 0. 0. 1.]\n",
      "bias    [-0.00392868  0.00219521  0.00477084  0.00049315 -0.00261861 -0.00010017\n",
      " -0.00004984  0.00004995]\n",
      "\n"
     ]
    },
    {
     "name": "stdout",
     "output_type": "stream",
     "text": [
      "    Currently at 24.22% of dataset\n",
      " ATTENTION \n",
      "i       187\n",
      "label   ['A', 'E', 'I', 'O', 'U', 'R', 'M', 'B']\n",
      "true    M\n",
      "cost    [0. 0. 0. 0. 0. 0. 0. 0.]\n",
      "y_pred  [0. 0. 0. 0. 0. 0. 1. 0.]\n",
      "y_true  [0. 0. 0. 0. 0. 0. 1. 0.]\n",
      "bias    [-0.00392868  0.00219521  0.00477084  0.00049315 -0.00261861 -0.00010017\n",
      " -0.00004984  0.00004995]\n",
      "\n",
      "    Currently at 24.35% of dataset\n",
      " ATTENTION \n",
      "i       188\n",
      "label   ['A', 'E', 'I', 'O', 'U', 'R', 'M', 'B']\n",
      "true    U\n",
      "cost    [0. 0. 0. 0. 0. 0. 0. 0.]\n",
      "y_pred  [0. 0. 0. 0. 1. 0. 0. 0.]\n",
      "y_true  [0. 0. 0. 0. 1. 0. 0. 0.]\n",
      "bias    [-0.00392868  0.00219521  0.00477084  0.00049315 -0.00261861 -0.00010017\n",
      " -0.00004984  0.00004995]\n",
      "\n",
      "    Currently at 24.48% of dataset\n",
      " ATTENTION \n",
      "i       189\n",
      "label   ['A', 'E', 'I', 'O', 'U', 'R', 'M', 'B']\n",
      "true    R\n",
      "cost    [ 0.  0.  0.  0.  0. -1.  0.  1.]\n",
      "y_pred  [0. 0. 0. 0. 0. 0. 0. 1.]\n",
      "y_true  [0. 0. 0. 0. 0. 1. 0. 0.]\n",
      "bias    [-0.00392868  0.00219521  0.00477084  0.00049315 -0.00261861 -0.00005017\n",
      " -0.00004984 -0.00000005]\n",
      "\n",
      "    Currently at 24.61% of dataset\n",
      " ATTENTION \n",
      "i       190\n",
      "label   ['A', 'E', 'I', 'O', 'U', 'R', 'M', 'B']\n",
      "true    A\n",
      "cost    [-0.  0.  0.  0.  0.  0.  0.  0.]\n",
      "y_pred  [1. 0. 0. 0. 0. 0. 0. 0.]\n",
      "y_true  [1. 0. 0. 0. 0. 0. 0. 0.]\n",
      "bias    [-0.00392868  0.00219521  0.00477084  0.00049315 -0.00261861 -0.00005017\n",
      " -0.00004984 -0.00000005]\n",
      "\n",
      "    Currently at 24.74% of dataset\n",
      " ATTENTION \n",
      "i       191\n",
      "label   ['A', 'E', 'I', 'O', 'U', 'R', 'M', 'B']\n",
      "true    A\n",
      "cost    [0. 0. 0. 0. 0. 0. 0. 0.]\n",
      "y_pred  [1. 0. 0. 0. 0. 0. 0. 0.]\n",
      "y_true  [1. 0. 0. 0. 0. 0. 0. 0.]\n",
      "bias    [-0.00392868  0.00219521  0.00477084  0.00049315 -0.00261861 -0.00005017\n",
      " -0.00004984 -0.00000005]\n",
      "\n",
      "    Currently at 24.87% of dataset\n",
      " ATTENTION \n",
      "i       192\n",
      "label   ['A', 'E', 'I', 'O', 'U', 'R', 'M', 'B']\n",
      "true    U\n",
      "cost    [0. 0. 0. 0. 0. 0. 0. 0.]\n",
      "y_pred  [0. 0. 0. 0. 1. 0. 0. 0.]\n",
      "y_true  [0. 0. 0. 0. 1. 0. 0. 0.]\n",
      "bias    [-0.00392868  0.00219521  0.00477084  0.00049315 -0.00261861 -0.00005017\n",
      " -0.00004984 -0.00000005]\n",
      "\n",
      "    Currently at 25.0% of dataset\n",
      " ATTENTION \n",
      "i       193\n",
      "label   ['A', 'E', 'I', 'O', 'U', 'R', 'M', 'B']\n",
      "true    O\n",
      "cost    [0. 0. 0. 0. 0. 0. 0. 0.]\n",
      "y_pred  [0. 0. 0. 1. 0. 0. 0. 0.]\n",
      "y_true  [0. 0. 0. 1. 0. 0. 0. 0.]\n",
      "bias    [-0.00392868  0.00219521  0.00477084  0.00049315 -0.00261861 -0.00005017\n",
      " -0.00004984 -0.00000005]\n",
      "\n",
      "    Currently at 25.13% of dataset\n",
      " ATTENTION \n",
      "i       194\n",
      "label   ['A', 'E', 'I', 'O', 'U', 'R', 'M', 'B']\n",
      "true    R\n",
      "cost    [0. 0. 0. 0. 0. 0. 0. 0.]\n",
      "y_pred  [0. 0. 0. 0. 0. 1. 0. 0.]\n",
      "y_true  [0. 0. 0. 0. 0. 1. 0. 0.]\n",
      "bias    [-0.00392868  0.00219521  0.00477084  0.00049315 -0.00261861 -0.00005017\n",
      " -0.00004984 -0.00000005]\n",
      "\n",
      "    Currently at 25.26% of dataset\n",
      " ATTENTION \n",
      "i       195\n",
      "label   ['A', 'E', 'I', 'O', 'U', 'R', 'M', 'B']\n",
      "true    I\n",
      "cost    [0. 0. 0. 0. 0. 0. 0. 0.]\n",
      "y_pred  [0. 0. 1. 0. 0. 0. 0. 0.]\n",
      "y_true  [0. 0. 1. 0. 0. 0. 0. 0.]\n",
      "bias    [-0.00392868  0.00219521  0.00477084  0.00049315 -0.00261861 -0.00005017\n",
      " -0.00004984 -0.00000005]\n",
      "\n",
      "    Currently at 25.39% of dataset\n",
      " ATTENTION \n",
      "i       196\n",
      "label   ['A', 'E', 'I', 'O', 'U', 'R', 'M', 'B']\n",
      "true    I\n",
      "cost    [0. 0. 0. 0. 0. 0. 0. 0.]\n",
      "y_pred  [0. 0. 1. 0. 0. 0. 0. 0.]\n",
      "y_true  [0. 0. 1. 0. 0. 0. 0. 0.]\n",
      "bias    [-0.00392868  0.00219521  0.00477084  0.00049315 -0.00261861 -0.00005017\n",
      " -0.00004984 -0.00000005]\n",
      "\n",
      "    Currently at 25.52% of dataset\n",
      " ATTENTION \n",
      "i       197\n",
      "label   ['A', 'E', 'I', 'O', 'U', 'R', 'M', 'B']\n",
      "true    R\n",
      "cost    [0. 0. 0. 0. 0. 0. 0. 0.]\n",
      "y_pred  [0. 0. 0. 0. 0. 1. 0. 0.]\n",
      "y_true  [0. 0. 0. 0. 0. 1. 0. 0.]\n",
      "bias    [-0.00392868  0.00219521  0.00477084  0.00049315 -0.00261861 -0.00005017\n",
      " -0.00004984 -0.00000005]\n",
      "\n",
      "    Currently at 25.65% of dataset\n",
      " ATTENTION \n",
      "i       198\n",
      "label   ['A', 'E', 'I', 'O', 'U', 'R', 'M', 'B']\n",
      "true    O\n",
      "cost    [0. 0. 0. 0. 0. 0. 0. 0.]\n",
      "y_pred  [0. 0. 0. 1. 0. 0. 0. 0.]\n",
      "y_true  [0. 0. 0. 1. 0. 0. 0. 0.]\n",
      "bias    [-0.00392868  0.00219521  0.00477084  0.00049315 -0.00261861 -0.00005017\n",
      " -0.00004984 -0.00000005]\n",
      "\n",
      "    Currently at 25.78% of dataset\n",
      " ATTENTION \n",
      "i       199\n",
      "label   ['A', 'E', 'I', 'O', 'U', 'R', 'M', 'B']\n",
      "true    I\n",
      "cost    [0. 0. 0. 0. 0. 0. 0. 0.]\n",
      "y_pred  [0. 0. 1. 0. 0. 0. 0. 0.]\n",
      "y_true  [0. 0. 1. 0. 0. 0. 0. 0.]\n",
      "bias    [-0.00392868  0.00219521  0.00477084  0.00049315 -0.00261861 -0.00005017\n",
      " -0.00004984 -0.00000005]\n",
      "\n",
      "    Currently at 100.0% of dataset"
     ]
    }
   ],
   "source": [
    "if(OL==1):\n",
    "    Model_OL_all_mixed = Custom_Layer(model)\n",
    "    Model_OL_all_mixed.title = 'OL' \n",
    "    Model_OL_all_mixed.filename = 'OL'\n",
    "    Model_OL_all_mixed.l_rate = 0.00005 # 0.000005 true value jupyter\n",
    "\n",
    "    trainOneEpoch_OL(Model_OL_all_mixed, data_train, label_train)"
   ]
  },
  {
   "cell_type": "code",
   "execution_count": 29,
   "metadata": {},
   "outputs": [],
   "source": [
    "# open and load the file of stm weights\n",
    "\n",
    "\n",
    "STM_BIAS_PATH = ROOT_PATH + '\\\\bias_stm.txt'\n",
    "\n",
    "columnNames = ['acquisition','b0','b1','b2','b3','b4','b5','b6','b7']\n",
    "\n",
    "dataset = pd.read_csv(STM_BIAS_PATH,header = None, names=columnNames,na_values=',') \n",
    "\n",
    "bias_stm = np.empty([772,8])\n",
    "\n",
    "bias_stm[:,0] = dataset.b0\n",
    "bias_stm[:,1] = dataset.b1\n",
    "bias_stm[:,2] = dataset.b2\n",
    "bias_stm[:,3] = dataset.b3\n",
    "bias_stm[:,4] = dataset.b4\n",
    "bias_stm[:,5] = dataset.b5\n",
    "bias_stm[:,6] = dataset.b6\n",
    "bias_stm[:,7] = dataset.b7"
   ]
  },
  {
   "cell_type": "code",
   "execution_count": 30,
   "metadata": {},
   "outputs": [
    {
     "name": "stdout",
     "output_type": "stream",
     "text": [
      "Iteration number 699\n",
      "n bias     vowel\n",
      "  0          A             -0.00385767527       PC\n",
      "                           -0.00387665600       STM\n",
      "                           -0.00001898073       difference\n",
      "\n",
      "  1          E              0.00224520547       PC\n",
      "                            0.00219620300       STM\n",
      "                           -0.00004900247       difference\n",
      "\n",
      "  2          I              0.00477140107       PC\n",
      "                            0.00482068800       STM\n",
      "                            0.00004928693       difference\n",
      "\n",
      "  3          O              0.00049069154       PC\n",
      "                            0.00049069100       STM\n",
      "                           -0.00000000054       difference\n",
      "\n",
      "  4          U             -0.00261614405       PC\n",
      "                           -0.00261614600       STM\n",
      "                           -0.00000000195       difference\n",
      "\n",
      "  5          R             -0.00012742615       PC\n",
      "                           -0.00014563400       STM\n",
      "                           -0.00001820785       difference\n",
      "\n",
      "  6          M             -0.00009250876       PC\n",
      "                           -0.00007324500       STM\n",
      "                            0.00001926376       difference\n",
      "\n",
      "  7          B             -0.00000169014       PC\n",
      "                            0.00001595500       STM\n",
      "                            0.00001764514       difference\n",
      "\n"
     ]
    }
   ],
   "source": [
    "numero = 699\n",
    "\n",
    "vec_weig_stm = bias_stm[numero,:]\n",
    "vec_weig_pc  = bias_temp[numero,:]\n",
    "\n",
    "print(f'Iteration number {numero}')\n",
    "print('n bias     vowel')\n",
    "for i in range(0,bias_stm.shape[1]):\n",
    "    if(vec_weig_pc[i]>0):\n",
    "        print(f'  {i}          {Model_OL_all_mixed.label[i]}              {vec_weig_pc[i]:.11f}       PC')\n",
    "    else:\n",
    "        print(f'  {i}          {Model_OL_all_mixed.label[i]}             {vec_weig_pc[i]:.11f}       PC')\n",
    "        \n",
    "    if(vec_weig_stm[i]>0):\n",
    "        print(f'                            {vec_weig_stm[i]:.11f}       STM')\n",
    "    else:\n",
    "        print(f'                           {vec_weig_stm[i]:.11f}       STM')\n",
    "        \n",
    "    if(vec_weig_stm[i]-vec_weig_pc[i]>0):\n",
    "        print(f'                            {(vec_weig_stm[i]-vec_weig_pc[i]):.11f}       difference')\n",
    "    else:\n",
    "        print(f'                           {(vec_weig_stm[i]-vec_weig_pc[i]):.11f}       difference')\n",
    "    print()\n"
   ]
  },
  {
   "cell_type": "code",
   "execution_count": 31,
   "metadata": {},
   "outputs": [
    {
     "data": {
      "text/plain": [
       "array([0., 1., 0., 0., 0.])"
      ]
     },
     "execution_count": 31,
     "metadata": {},
     "output_type": "execute_result"
    }
   ],
   "source": [
    "temp_ary = np.array([246.70656582,  366.57874568, -580.50452199, -279.85051558, -776.37128232])\n",
    "my_Softmax(temp_ary)"
   ]
  },
  {
   "cell_type": "code",
   "execution_count": 34,
   "metadata": {},
   "outputs": [],
   "source": [
    "def plot_bias(bias_num):\n",
    "\n",
    "    # Using Numpy to create an array X\n",
    "    x = list(range(0,772))\n",
    "\n",
    "    # Assign variables to the y axis part of the curve\n",
    "    y1 = bias_stm[:,bias_num]\n",
    "    y2 = bias_temp[:,bias_num]\n",
    "\n",
    "    # Plotting both the curves simultaneously\n",
    "    plt.plot(x, y1, color='r', label='stm')\n",
    "    plt.plot(x, y2, color='g', label='pc')\n",
    "    \n",
    "\n",
    "    # Naming the x-axis, y-axis and the whole graph\n",
    "    plt.xlabel(\"Iteration\")\n",
    "    plt.ylabel(\"Bias value\")\n",
    "    plt.title(f\"Comparison of bias number {bias_num}\")\n",
    "\n",
    "    # Adding legend, which helps us recognize the curve according to it's color\n",
    "    plt.legend()\n",
    "\n",
    "    # To load the display window\n",
    "    plt.show()"
   ]
  },
  {
   "cell_type": "code",
   "execution_count": 35,
   "metadata": {
    "scrolled": false
   },
   "outputs": [
    {
     "data": {
      "image/png": "[encoded data removed]",
      "text/plain": [
       "<Figure size 432x288 with 1 Axes>"
      ]
     },
     "metadata": {
      "needs_background": "light"
     },
     "output_type": "display_data"
    },
    {
     "data": {
      "image/png": "[encoded data removed]",
      "text/plain": [
       "<Figure size 432x288 with 1 Axes>"
      ]
     },
     "metadata": {
      "needs_background": "light"
     },
     "output_type": "display_data"
    },
    {
     "data": {
      "image/png": "[encoded data removed]",
      "text/plain": [
       "<Figure size 432x288 with 1 Axes>"
      ]
     },
     "metadata": {
      "needs_background": "light"
     },
     "output_type": "display_data"
    },
    {
     "data": {
      "image/png": "[encoded data removed]",
      "text/plain": [
       "<Figure size 432x288 with 1 Axes>"
      ]
     },
     "metadata": {
      "needs_background": "light"
     },
     "output_type": "display_data"
    },
    {
     "data": {
      "image/png": "[encoded data removed]",
      "text/plain": [
       "<Figure size 432x288 with 1 Axes>"
      ]
     },
     "metadata": {
      "needs_background": "light"
     },
     "output_type": "display_data"
    },
    {
     "data": {
      "image/png": "[encoded data removed]",
      "text/plain": [
       "<Figure size 432x288 with 1 Axes>"
      ]
     },
     "metadata": {
      "needs_background": "light"
     },
     "output_type": "display_data"
    },
    {
     "data": {
      "image/png": "[encoded data removed]",
      "text/plain": [
       "<Figure size 432x288 with 1 Axes>"
      ]
     },
     "metadata": {
      "needs_background": "light"
     },
     "output_type": "display_data"
    },
    {
     "data": {
      "image/png": "[encoded data removed]",
      "text/plain": [
       "<Figure size 432x288 with 1 Axes>"
      ]
     },
     "metadata": {
      "needs_background": "light"
     },
     "output_type": "display_data"
    }
   ],
   "source": [
    "plot_bias(0)\n",
    "plot_bias(1)\n",
    "plot_bias(2)\n",
    "plot_bias(3)\n",
    "plot_bias(4)\n",
    "plot_bias(5)\n",
    "plot_bias(6)\n",
    "plot_bias(7)"
   ]
  },
  {
   "cell_type": "markdown",
   "metadata": {},
   "source": [
    "### Train with OL + mini batch"
   ]
  },
  {
   "cell_type": "code",
   "execution_count": null,
   "metadata": {
    "scrolled": true
   },
   "outputs": [],
   "source": [
    "if(OL_mini==1):\n",
    "    Model_OL_mini = Custom_Layer(model)\n",
    "    Model_OL_mini.title = 'OL + mini batch'\n",
    "    Model_OL_mini.filename = 'OL_batches'\n",
    "    Model_OL_mini.l_rate = 0.0001\n",
    "\n",
    "    trainOneEpoch_OL_miniBatch(Model_OL_mini, data_train, label_train, batch_size_OL)"
   ]
  },
  {
   "cell_type": "markdown",
   "metadata": {},
   "source": [
    "### Train with LWF"
   ]
  },
  {
   "cell_type": "code",
   "execution_count": null,
   "metadata": {
    "scrolled": true
   },
   "outputs": [],
   "source": [
    "if(LWF==1):\n",
    "    Model_LWF_1 = Custom_Layer(model)\n",
    "    Model_LWF_1.title = 'LWF'\n",
    "    Model_LWF_1.filename = 'LWF'   \n",
    "    Model_LWF_1.l_rate = 0.0017 #0.001\n",
    "\n",
    "    trainOneEpochOL_LWF(Model_LWF_1, data_train, label_train)   "
   ]
  },
  {
   "cell_type": "markdown",
   "metadata": {},
   "source": [
    "### Train LWF + mini batches"
   ]
  },
  {
   "cell_type": "code",
   "execution_count": null,
   "metadata": {
    "scrolled": true
   },
   "outputs": [],
   "source": [
    "if(LWF_mini==1):\n",
    "    Model_LWF_2 = Custom_Layer(model)\n",
    "    Model_LWF_2.title = 'LWF + mini batch'\n",
    "    Model_LWF_2.filename = 'LWF_batches'\n",
    "    Model_LWF_2.l_rate = 0.000001\n",
    "\n",
    "    trainOneEpochOL_LWF_v2(Model_LWF_2, data_train, label_train, batch_size_OL)"
   ]
  },
  {
   "cell_type": "markdown",
   "metadata": {},
   "source": [
    "### Train with OL v2 "
   ]
  },
  {
   "cell_type": "code",
   "execution_count": null,
   "metadata": {
    "scrolled": true
   },
   "outputs": [],
   "source": [
    "if(OL_v2==1):\n",
    "    Model_OL_v2 = Custom_Layer(model)\n",
    "    Model_OL_v2.title = 'OL v2' \n",
    "    Model_OL_v2.filename = 'OL_v2'\n",
    "    Model_OL_v2.l_rate = 0.00005\n",
    "\n",
    "    trainOneEpoch_OL_v2(Model_OL_v2, data_train, label_train)"
   ]
  },
  {
   "cell_type": "markdown",
   "metadata": {},
   "source": [
    "### Train with OL v2 + mini batch"
   ]
  },
  {
   "cell_type": "code",
   "execution_count": null,
   "metadata": {
    "scrolled": true
   },
   "outputs": [],
   "source": [
    "if(OL_v2_mini==1):\n",
    "    Model_OL_v2_miniBatch = Custom_Layer(model)\n",
    "    Model_OL_v2_miniBatch.title = 'OL v2 + mini batch'\n",
    "    Model_OL_v2_miniBatch.filename = 'OL_v2_batches'\n",
    "    Model_OL_v2_miniBatch.l_rate = 0.001\n",
    "\n",
    "    trainOneEpoch_OL_v2_miniBatch(Model_OL_v2_miniBatch, data_train, label_train, batch_size_OL)"
   ]
  },
  {
   "cell_type": "markdown",
   "metadata": {},
   "source": [
    "### Train with CWR"
   ]
  },
  {
   "cell_type": "code",
   "execution_count": null,
   "metadata": {
    "scrolled": true
   },
   "outputs": [],
   "source": [
    "if(CWR==1):\n",
    "    Model_CWR = Custom_Layer(model) \n",
    "    Model_CWR.title = 'CWR'\n",
    "    Model_CWR.filename = 'CWR'\n",
    "    Model_CWR.l_rate = 0.00005\n",
    "\n",
    "    trainOneEpoch_CWR(Model_CWR, data_train, label_train, batch_size_OL)"
   ]
  },
  {
   "cell_type": "markdown",
   "metadata": {},
   "source": [
    "# SIMULATION PLOTS"
   ]
  },
  {
   "cell_type": "markdown",
   "metadata": {},
   "source": [
    "### Original model"
   ]
  },
  {
   "cell_type": "code",
   "execution_count": null,
   "metadata": {
    "scrolled": false
   },
   "outputs": [],
   "source": [
    "if(KERAS==1):\n",
    "    myTest.test_OLlayer(Model_KERAS, data_test, label_test)\n",
    "    myBar.plot_barChart(Model_KERAS)   \n",
    "    myMatrix.plot_confMatrix(Model_KERAS)\n",
    "    myTable.table_params(Model_KERAS)"
   ]
  },
  {
   "cell_type": "markdown",
   "metadata": {},
   "source": [
    "### Only vowels"
   ]
  },
  {
   "cell_type": "code",
   "execution_count": null,
   "metadata": {
    "scrolled": false
   },
   "outputs": [],
   "source": [
    "if(OL_vowels==1):\n",
    "    myTest.test_OLlayer(Model_OL_vowels, data_test, label_test)\n",
    "    myBar.plot_barChart(Model_OL_vowels)\n",
    "    myMatrix.plot_confMatrix(Model_OL_vowels)\n",
    "    myTable.table_params(Model_OL_vowels)"
   ]
  },
  {
   "cell_type": "markdown",
   "metadata": {},
   "source": [
    "### OL"
   ]
  },
  {
   "cell_type": "code",
   "execution_count": null,
   "metadata": {
    "scrolled": false
   },
   "outputs": [],
   "source": [
    "if(OL==1):\n",
    "    myTest.test_OLlayer(Model_OL_all_mixed, data_test, label_test)\n",
    "    myBar.plot_barChart(Model_OL_all_mixed)\n",
    "    myMatrix.plot_confMatrix(Model_OL_all_mixed)\n",
    "    myTable.table_params(Model_OL_all_mixed)"
   ]
  },
  {
   "cell_type": "markdown",
   "metadata": {},
   "source": [
    "### OL + mini batch"
   ]
  },
  {
   "cell_type": "code",
   "execution_count": null,
   "metadata": {},
   "outputs": [],
   "source": [
    "if(OL_mini==1):\n",
    "    myTest.test_OLlayer(Model_OL_mini, data_test, label_test)\n",
    "    myBar.plot_barChart(Model_OL_mini)\n",
    "    myMatrix.plot_confMatrix(Model_OL_mini)\n",
    "    myTable.table_params(Model_OL_mini)"
   ]
  },
  {
   "cell_type": "markdown",
   "metadata": {},
   "source": [
    "### LWF"
   ]
  },
  {
   "cell_type": "code",
   "execution_count": null,
   "metadata": {
    "scrolled": false
   },
   "outputs": [],
   "source": [
    "if(LWF==1):\n",
    "    myTest.test_OLlayer(Model_LWF_1, data_test, label_test)\n",
    "    myBar.plot_barChart(Model_LWF_1)\n",
    "    myMatrix.plot_confMatrix(Model_LWF_1)\n",
    "    myTable.table_params(Model_LWF_1)"
   ]
  },
  {
   "cell_type": "markdown",
   "metadata": {},
   "source": [
    "### LWF + mini batch"
   ]
  },
  {
   "cell_type": "code",
   "execution_count": null,
   "metadata": {},
   "outputs": [],
   "source": [
    "if(LWF_mini==1):\n",
    "    myTest.test_OLlayer(Model_LWF_2, data_test, label_test)\n",
    "    myBar.plot_barChart(Model_LWF_2)\n",
    "    myMatrix.plot_confMatrix(Model_LWF_2)\n",
    "    myTable.table_params(Model_LWF_2)"
   ]
  },
  {
   "cell_type": "markdown",
   "metadata": {},
   "source": [
    "### OL v2"
   ]
  },
  {
   "cell_type": "code",
   "execution_count": null,
   "metadata": {},
   "outputs": [],
   "source": [
    "if(OL_v2==1):\n",
    "    myTest.test_OLlayer(Model_OL_v2, data_test, label_test)\n",
    "    myBar.plot_barChart(Model_OL_v2)\n",
    "    myMatrix.plot_confMatrix(Model_OL_v2)\n",
    "    myTable.table_params(Model_OL_v2)"
   ]
  },
  {
   "cell_type": "markdown",
   "metadata": {},
   "source": [
    "### OL v2 + mini batch"
   ]
  },
  {
   "cell_type": "code",
   "execution_count": null,
   "metadata": {
    "scrolled": false
   },
   "outputs": [],
   "source": [
    "if(OL_v2_mini==1):\n",
    "    myTest.test_OLlayer(Model_OL_v2_miniBatch, data_test, label_test)\n",
    "    myBar.plot_barChart(Model_OL_v2_miniBatch)\n",
    "    myMatrix.plot_confMatrix(Model_OL_v2_miniBatch)\n",
    "    myTable.table_params(Model_OL_v2_miniBatch)"
   ]
  },
  {
   "cell_type": "markdown",
   "metadata": {},
   "source": [
    "### CWR"
   ]
  },
  {
   "cell_type": "code",
   "execution_count": null,
   "metadata": {},
   "outputs": [],
   "source": [
    "if(CWR==1):\n",
    "    myTest.test_OLlayer(Model_CWR, data_test, label_test)\n",
    "    myBar.plot_barChart(Model_CWR)\n",
    "    myMatrix.plot_confMatrix(Model_CWR)\n",
    "    myTable.table_params(Model_CWR)"
   ]
  },
  {
   "cell_type": "markdown",
   "metadata": {},
   "source": [
    "## All bar plots together"
   ]
  },
  {
   "cell_type": "code",
   "execution_count": null,
   "metadata": {
    "scrolled": false
   },
   "outputs": [],
   "source": [
    "myBar.plot_barChart_All()"
   ]
  },
  {
   "cell_type": "markdown",
   "metadata": {},
   "source": [
    "The following plot is a recap of all the methods trained. Note that it will be displayed only if all the training have been performed in this runtime. \n",
    "The table contains some additiona information and not only the accuracy."
   ]
  },
  {
   "cell_type": "code",
   "execution_count": null,
   "metadata": {},
   "outputs": [],
   "source": [
    "if(KERAS and OL_vowels and OL and OL_mini and LWF and LWF_mini and OL_v2 and OL_v2_mini and CWR):\n",
    "    \n",
    "    myTable.table_simulationResult(Model_KERAS, Model_OL_vowels, Model_OL_all_mixed, Model_OL_mini, \n",
    "               Model_LWF_1, Model_LWF_2, Model_OL_v2, Model_OL_v2_miniBatch, Model_CWR)  "
   ]
  },
  {
   "cell_type": "markdown",
   "metadata": {},
   "source": [
    "# GENERAL PLOTS"
   ]
  },
  {
   "cell_type": "markdown",
   "metadata": {},
   "source": [
    "The block below is used for storing the result of the simulation formermed in this runtime. This is used for another plotting function that will display the average accuracy of each method across multiple runtimes."
   ]
  },
  {
   "cell_type": "code",
   "execution_count": null,
   "metadata": {},
   "outputs": [],
   "source": [
    "# Write down in txt files all the results across 10 or so simulations          \n",
    "WRITE_SIMU_RES = 0\n",
    "                \n",
    "if(WRITE_SIMU_RES==1):\n",
    "    myWrite.save_simulationResult('Keras',     Model_KERAS)\n",
    "    myWrite.save_simulationResult('OL_vowels', Model_OL_vowels)\n",
    "    myWrite.save_simulationResult('OL',        Model_OL_all_mixed)\n",
    "    myWrite.save_simulationResult('OL_mini',   Model_OL_mini)\n",
    "    myWrite.save_simulationResult('LWF',       Model_LWF_1)\n",
    "    myWrite.save_simulationResult('LWF_mini',  Model_LWF_2)\n",
    "    myWrite.save_simulationResult('OL_v2',     Model_OL_v2)\n",
    "    myWrite.save_simulationResult('OL_v2_min', Model_OL_v2_miniBatch)\n",
    "    myWrite.save_simulationResult('CWR',       Model_CWR)"
   ]
  },
  {
   "cell_type": "code",
   "execution_count": null,
   "metadata": {
    "scrolled": false
   },
   "outputs": [],
   "source": [
    "# Plot the average accuracy over several runtimes\n",
    "\n",
    "#myBar.plot_barChart_SimuRes(1)"
   ]
  },
  {
   "cell_type": "markdown",
   "metadata": {},
   "source": [
    "The block below plots some pie charts that shows how the dataset are composed."
   ]
  },
  {
   "cell_type": "code",
   "execution_count": null,
   "metadata": {},
   "outputs": [],
   "source": [
    "ENABLE_PLOTS = 0\n",
    "if(ENABLE_PLOTS==1):\n",
    "    \n",
    "    \n",
    "    vowels_data_tf, vowels_label_tf = myParse.loadDataFromTxt('vowels_TF')\n",
    "    TF_data_train, _, TF_data_test, _ = myParse.parseTrainTest(vowels_data_tf, vowels_label_tf, 0.7)\n",
    "\n",
    "\n",
    "    # Plot of the pie chart of the dataset TF e OL\n",
    "    dataset_shapes = np.zeros(8)\n",
    "    label_vow = ['A','E','I','O','U']\n",
    "\n",
    "    for i in range(0,vowels_data.shape[0]):\n",
    "        for j in range(0,len(label_vow)):\n",
    "            if(label_vow[j] == vowels_label[i]):\n",
    "                dataset_shapes[j] += 1\n",
    "                break\n",
    "    for i in range(0,vowels_data_tf.shape[0]):\n",
    "        for j in range(0,len(label_vow)):\n",
    "            if(label_vow[j] == vowels_label_tf[i]):\n",
    "                dataset_shapes[j] += 1\n",
    "                break\n",
    "\n",
    "    dataset_shapes[5] = B_data.shape[0]\n",
    "    dataset_shapes[6] = R_data.shape[0]\n",
    "    dataset_shapes[7] = M_data.shape[0]\n",
    "    myPie.plot_pieChart_datasetAll(dataset_shapes)\n",
    "\n",
    "    \n",
    "    \n",
    "    \n",
    "    \n",
    "\n",
    "    dataset_shapes = np.zeros([8])\n",
    "    dataset_shapes[0] = OL_data_train_vow.shape[0]\n",
    "    dataset_shapes[1] = OL_data_test_vow.shape[0]\n",
    "    dataset_shapes[2] = B_train_data.shape[0]\n",
    "    dataset_shapes[3] = B_test_data.shape[0]\n",
    "    dataset_shapes[4] = R_train_data.shape[0]\n",
    "    dataset_shapes[5] = R_test_data.shape[0]\n",
    "    dataset_shapes[6] = M_train_data.shape[0]\n",
    "    dataset_shapes[7] = M_test_data.shape[0]\n",
    "    # Plot of the pie chart of the dataset OL\n",
    "    myPie.plot_pieChart_DatasetOL(dataset_shapes)\n",
    "\n",
    "    # Plot of the pie chart of the dataset TF\n",
    "    myPie.plot_pieChart_DatasetTF(TF_data_train.shape[0],TF_data_test.shape[0])"
   ]
  },
  {
   "cell_type": "code",
   "execution_count": null,
   "metadata": {},
   "outputs": [],
   "source": []
  }
 ],
 "metadata": {
  "kernelspec": {
   "display_name": "Python 3 (ipykernel)",
   "language": "python",
   "name": "python3"
  },
  "language_info": {
   "codemirror_mode": {
    "name": "ipython",
    "version": 3
   },
   "file_extension": ".py",
   "mimetype": "text/x-python",
   "name": "python",
   "nbconvert_exporter": "python",
   "pygments_lexer": "ipython3",
   "version": "3.8.11"
  }
 },
 "nbformat": 4,
 "nbformat_minor": 2
}
